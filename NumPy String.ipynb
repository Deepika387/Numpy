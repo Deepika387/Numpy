{
 "cells": [
  {
   "cell_type": "markdown",
   "id": "3b9d3bdf",
   "metadata": {},
   "source": [
    "# 1. Write a NumPy program to concatenate element-wise two arrays of string.\n",
    "Expected Output:\n",
    "Array1:\n",
    "['Python' 'PHP']\n",
    "Array2:\n",
    "[' Java' ' C++']\n",
    "new array:\n",
    "['Python Java' 'PHP C++']"
   ]
  },
  {
   "cell_type": "code",
   "execution_count": 1,
   "id": "eaaf7026",
   "metadata": {},
   "outputs": [
    {
     "name": "stdout",
     "output_type": "stream",
     "text": [
      "Array1:\n",
      "['Python' 'PHP']\n",
      "Array2:\n",
      "[' Java' ' C++']\n",
      "new array:\n",
      "['Python Java' 'PHP C++']\n"
     ]
    },
    {
     "name": "stderr",
     "output_type": "stream",
     "text": [
      "C:\\Users\\Akshit Koche\\AppData\\Local\\Temp\\ipykernel_7572\\2521736421.py:2: DeprecationWarning: `np.str` is a deprecated alias for the builtin `str`. To silence this warning, use `str` by itself. Doing this will not modify any behavior and is safe. If you specifically wanted the numpy scalar type, use `np.str_` here.\n",
      "Deprecated in NumPy 1.20; for more details and guidance: https://numpy.org/devdocs/release/1.20.0-notes.html#deprecations\n",
      "  x1 = np.array(['Python', 'PHP'], dtype=np.str)\n",
      "C:\\Users\\Akshit Koche\\AppData\\Local\\Temp\\ipykernel_7572\\2521736421.py:3: DeprecationWarning: `np.str` is a deprecated alias for the builtin `str`. To silence this warning, use `str` by itself. Doing this will not modify any behavior and is safe. If you specifically wanted the numpy scalar type, use `np.str_` here.\n",
      "Deprecated in NumPy 1.20; for more details and guidance: https://numpy.org/devdocs/release/1.20.0-notes.html#deprecations\n",
      "  x2 = np.array([' Java', ' C++'], dtype=np.str)\n"
     ]
    }
   ],
   "source": [
    "import numpy as np\n",
    "x1 = np.array(['Python', 'PHP'], dtype=np.str)\n",
    "x2 = np.array([' Java', ' C++'], dtype=np.str)\n",
    "print(\"Array1:\")\n",
    "print(x1)\n",
    "print(\"Array2:\")\n",
    "print(x2)\n",
    "new_array = np.char.add(x1, x2)\n",
    "print(\"new array:\")\n",
    "print(new_array)\n"
   ]
  },
  {
   "cell_type": "markdown",
   "id": "e687cfa6",
   "metadata": {},
   "source": [
    "# 2. Write a NumPy program to repeat all the elements three times of a given array of string\n",
    "Expected Output:\n",
    "Original Array:\n",
    "['Python' 'PHP' 'Java' 'C++']\n",
    "New array:\n",
    "['PythonPythonPython' 'PHPPHPPHP' 'JavaJavaJava' 'C++C++C++']"
   ]
  },
  {
   "cell_type": "code",
   "execution_count": 2,
   "id": "8647e28b",
   "metadata": {},
   "outputs": [
    {
     "name": "stdout",
     "output_type": "stream",
     "text": [
      "Original Array:\n",
      "['Python' 'PHP' 'Java' 'C++']\n",
      "New array:\n",
      "['PythonPythonPython' 'PHPPHPPHP' 'JavaJavaJava' 'C++C++C++']\n"
     ]
    },
    {
     "name": "stderr",
     "output_type": "stream",
     "text": [
      "C:\\Users\\Akshit Koche\\AppData\\Local\\Temp\\ipykernel_7572\\2381090376.py:2: DeprecationWarning: `np.str` is a deprecated alias for the builtin `str`. To silence this warning, use `str` by itself. Doing this will not modify any behavior and is safe. If you specifically wanted the numpy scalar type, use `np.str_` here.\n",
      "Deprecated in NumPy 1.20; for more details and guidance: https://numpy.org/devdocs/release/1.20.0-notes.html#deprecations\n",
      "  x1 = np.array(['Python', 'PHP', 'Java', 'C++'], dtype=np.str)\n"
     ]
    }
   ],
   "source": [
    "import numpy as np\n",
    "x1 = np.array(['Python', 'PHP', 'Java', 'C++'], dtype=np.str)\n",
    "print(\"Original Array:\")\n",
    "print(x1)\n",
    "new_array = np.char.multiply(x1, 3)\n",
    "print(\"New array:\")\n",
    "print(new_array)\n"
   ]
  },
  {
   "cell_type": "markdown",
   "id": "a36c83d4",
   "metadata": {},
   "source": [
    "# 3. Write a NumPy program to capitalize the first letter, lowercase, uppercase, swapcase, title-case of all the elements of a given array.\n",
    "Expected Output:\n",
    "Original Array:\n",
    "['python' 'PHP' 'java' 'C++']\n",
    "Capitalized: ['Python' 'Php' 'Java' 'C++']\n",
    "Lowered: ['python' 'php' 'java' 'c++']\n",
    "Uppered: ['PYTHON' 'PHP' 'JAVA' 'C++']\n",
    "Swapcased: ['PYTHON' 'php' 'JAVA' 'c++']\n",
    "Titlecased: ['Python' 'Php' 'Java' 'C++']"
   ]
  },
  {
   "cell_type": "code",
   "execution_count": 3,
   "id": "d9d1a80f",
   "metadata": {},
   "outputs": [
    {
     "name": "stdout",
     "output_type": "stream",
     "text": [
      "Original Array:\n",
      "['python' 'PHP' 'java' 'C++']\n",
      "\n",
      "Capitalized:  ['Python' 'Php' 'Java' 'C++']\n",
      "Lowered:  ['python' 'php' 'java' 'c++']\n",
      "Uppered:  ['PYTHON' 'PHP' 'JAVA' 'C++']\n",
      "Swapcased:  ['PYTHON' 'php' 'JAVA' 'c++']\n",
      "Titlecased:  ['Python' 'Php' 'Java' 'C++']\n"
     ]
    },
    {
     "name": "stderr",
     "output_type": "stream",
     "text": [
      "C:\\Users\\Akshit Koche\\AppData\\Local\\Temp\\ipykernel_7572\\2768503590.py:2: DeprecationWarning: `np.str` is a deprecated alias for the builtin `str`. To silence this warning, use `str` by itself. Doing this will not modify any behavior and is safe. If you specifically wanted the numpy scalar type, use `np.str_` here.\n",
      "Deprecated in NumPy 1.20; for more details and guidance: https://numpy.org/devdocs/release/1.20.0-notes.html#deprecations\n",
      "  x = np.array(['python', 'PHP', 'java', 'C++'], dtype=np.str)\n"
     ]
    }
   ],
   "source": [
    "import numpy as np\n",
    "x = np.array(['python', 'PHP', 'java', 'C++'], dtype=np.str)\n",
    "print(\"Original Array:\")\n",
    "print(x)\n",
    "capitalized_case = np.char.capitalize(x)\n",
    "lowered_case = np.char.lower(x)\n",
    "uppered_case = np.char.upper(x)\n",
    "swapcased_case = np.char.swapcase(x)\n",
    "titlecased_case = np.char.title(x)\n",
    "print(\"\\nCapitalized: \", capitalized_case)\n",
    "print(\"Lowered: \", lowered_case)\n",
    "print(\"Uppered: \", uppered_case)\n",
    "print(\"Swapcased: \", swapcased_case)\n",
    "print(\"Titlecased: \", titlecased_case)\n"
   ]
  },
  {
   "cell_type": "markdown",
   "id": "2a9afcb5",
   "metadata": {},
   "source": [
    "# 4. Write a NumPy program to make the length of each element 15 of a given array and the string centered / left-justified / right-justified with paddings of _.\n",
    "Original Array:\n",
    "['python exercises' 'PHP' 'java' 'C++']\n",
    "Centered = ['python exercise' '______PHP______' '______java_____' '______C++______'] Left = ['python exercise' 'PHP____________' 'java___________' 'C++____________'] Right = ['python exercise' '____________PHP' '___________java' '____________C++']"
   ]
  },
  {
   "cell_type": "code",
   "execution_count": 4,
   "id": "1cb8415d",
   "metadata": {},
   "outputs": [
    {
     "name": "stdout",
     "output_type": "stream",
     "text": [
      "Original Array:\n",
      "['python exercises' 'PHP' 'java' 'C++']\n",
      "\n",
      "Centered = ['python exercise' '______PHP______' '______java_____' '______C++______']\n",
      "Left = ['python exercise' 'PHP____________' 'java___________' 'C++____________']\n",
      "Right = ['python exercise' '____________PHP' '___________java' '____________C++']\n"
     ]
    },
    {
     "name": "stderr",
     "output_type": "stream",
     "text": [
      "C:\\Users\\Akshit Koche\\AppData\\Local\\Temp\\ipykernel_7572\\577194420.py:2: DeprecationWarning: `np.str` is a deprecated alias for the builtin `str`. To silence this warning, use `str` by itself. Doing this will not modify any behavior and is safe. If you specifically wanted the numpy scalar type, use `np.str_` here.\n",
      "Deprecated in NumPy 1.20; for more details and guidance: https://numpy.org/devdocs/release/1.20.0-notes.html#deprecations\n",
      "  x = np.array(['python exercises', 'PHP', 'java', 'C++'], dtype=np.str)\n"
     ]
    }
   ],
   "source": [
    "import numpy as np\n",
    "x = np.array(['python exercises', 'PHP', 'java', 'C++'], dtype=np.str)\n",
    "print(\"Original Array:\")\n",
    "print(x)\n",
    "centered = np.char.center(x, 15, fillchar='_')\n",
    "left = np.char.ljust(x, 15, fillchar='_')\n",
    "right = np.char.rjust(x, 15, fillchar='_')\n",
    "print(\"\\nCentered =\", centered)\n",
    "print(\"Left =\", left)\n",
    "print(\"Right =\", right)\n"
   ]
  },
  {
   "cell_type": "markdown",
   "id": "4fade42e",
   "metadata": {},
   "source": [
    "# 5. Write a NumPy program to insert a space between characters of all the elements of a given array.\n",
    "Note: First array elements raised to powers from second array\n",
    "Expected Output:\n",
    "Original Array:\n",
    "['python exercises' 'PHP' 'java' 'C++']\n",
    "['p y t h o n e x e r c i s e s' 'P H P' 'j a v a' 'C + +']"
   ]
  },
  {
   "cell_type": "code",
   "execution_count": 5,
   "id": "c8bfa785",
   "metadata": {},
   "outputs": [
    {
     "name": "stdout",
     "output_type": "stream",
     "text": [
      "Original Array:\n",
      "['python exercises' 'PHP' 'java' 'C++']\n",
      "['p y t h o n   e x e r c i s e s' 'P H P' 'j a v a' 'C + +']\n"
     ]
    },
    {
     "name": "stderr",
     "output_type": "stream",
     "text": [
      "C:\\Users\\Akshit Koche\\AppData\\Local\\Temp\\ipykernel_7572\\1351989923.py:2: DeprecationWarning: `np.str` is a deprecated alias for the builtin `str`. To silence this warning, use `str` by itself. Doing this will not modify any behavior and is safe. If you specifically wanted the numpy scalar type, use `np.str_` here.\n",
      "Deprecated in NumPy 1.20; for more details and guidance: https://numpy.org/devdocs/release/1.20.0-notes.html#deprecations\n",
      "  x = np.array(['python exercises', 'PHP', 'java', 'C++'], dtype=np.str)\n"
     ]
    }
   ],
   "source": [
    "import numpy as np\n",
    "x = np.array(['python exercises', 'PHP', 'java', 'C++'], dtype=np.str)\n",
    "print(\"Original Array:\")\n",
    "print(x)\n",
    "r = np.char.join(\" \", x)\n",
    "print(r)\n"
   ]
  },
  {
   "cell_type": "markdown",
   "id": "07235da8",
   "metadata": {},
   "source": [
    "# 6. Write a NumPy program to encode all the elements of a given array in cp500 and decode it again.\n",
    "Sample Output:\n",
    "encoded = [b'\\x97\\xa8\\xa3\\x88\\x96\\x95@\\x85\\xa7\\x85\\x99\\x83\\x89\\xa2\\x85\\xa2'\n",
    "b'\\xd7\\xc8\\xd7' b'\\x91\\x81\\xa5\\x81' b'\\xc3NN']\n",
    "decoded = ['python exercises' 'PHP' 'java' 'C++']"
   ]
  },
  {
   "cell_type": "code",
   "execution_count": 6,
   "id": "fe976c74",
   "metadata": {},
   "outputs": [
    {
     "name": "stdout",
     "output_type": "stream",
     "text": [
      "Original Array:\n",
      "['python exercises' 'PHP' 'java' 'C++']\n",
      "\n",
      "encoded = [b'\\x97\\xa8\\xa3\\x88\\x96\\x95@\\x85\\xa7\\x85\\x99\\x83\\x89\\xa2\\x85\\xa2'\n",
      " b'\\xd7\\xc8\\xd7' b'\\x91\\x81\\xa5\\x81' b'\\xc3NN']\n",
      "decoded = ['python exercises' 'PHP' 'java' 'C++']\n"
     ]
    },
    {
     "name": "stderr",
     "output_type": "stream",
     "text": [
      "C:\\Users\\Akshit Koche\\AppData\\Local\\Temp\\ipykernel_7572\\1736441947.py:2: DeprecationWarning: `np.str` is a deprecated alias for the builtin `str`. To silence this warning, use `str` by itself. Doing this will not modify any behavior and is safe. If you specifically wanted the numpy scalar type, use `np.str_` here.\n",
      "Deprecated in NumPy 1.20; for more details and guidance: https://numpy.org/devdocs/release/1.20.0-notes.html#deprecations\n",
      "  x = np.array(['python exercises', 'PHP', 'java', 'C++'], dtype=np.str)\n"
     ]
    }
   ],
   "source": [
    "import numpy as np\n",
    "x = np.array(['python exercises', 'PHP', 'java', 'C++'], dtype=np.str)\n",
    "print(\"Original Array:\")\n",
    "print(x)\n",
    "encoded_char = np.char.encode(x, 'cp500')\n",
    "decoded_char = np.char.decode(encoded_char,'cp500')\n",
    "print(\"\\nencoded =\", encoded_char)\n",
    "print(\"decoded =\", decoded_char)\n"
   ]
  },
  {
   "cell_type": "markdown",
   "id": "54b036ac",
   "metadata": {},
   "source": [
    "# 7. Write a NumPy program to remove the leading and trailing whitespaces of all the elements of a given array.\n",
    "Sample output:\n",
    "Original array:\n",
    "[ -10.2 122.2 0.2]\n",
    "Element-wise absolute value:\n",
    "[ 10.2 122.2 0.2]"
   ]
  },
  {
   "cell_type": "code",
   "execution_count": 7,
   "id": "914c6b85",
   "metadata": {},
   "outputs": [
    {
     "name": "stdout",
     "output_type": "stream",
     "text": [
      "Original Array:\n",
      "[' python exercises ' ' PHP  ' ' java  ' '  C++']\n",
      "\n",
      "Remove the leading and trailing whitespaces:  ['python exercises' 'PHP' 'java' 'C++']\n"
     ]
    },
    {
     "name": "stderr",
     "output_type": "stream",
     "text": [
      "C:\\Users\\Akshit Koche\\AppData\\Local\\Temp\\ipykernel_7572\\252743676.py:2: DeprecationWarning: `np.str` is a deprecated alias for the builtin `str`. To silence this warning, use `str` by itself. Doing this will not modify any behavior and is safe. If you specifically wanted the numpy scalar type, use `np.str_` here.\n",
      "Deprecated in NumPy 1.20; for more details and guidance: https://numpy.org/devdocs/release/1.20.0-notes.html#deprecations\n",
      "  x = np.array([' python exercises ', ' PHP  ', ' java  ', '  C++'], dtype=np.str)\n"
     ]
    }
   ],
   "source": [
    "import numpy as np\n",
    "x = np.array([' python exercises ', ' PHP  ', ' java  ', '  C++'], dtype=np.str)\n",
    "print(\"Original Array:\")\n",
    "print(x)\n",
    "stripped = np.char.strip(x)\n",
    "print(\"\\nRemove the leading and trailing whitespaces: \", stripped)\n"
   ]
  },
  {
   "cell_type": "markdown",
   "id": "0545d4c3",
   "metadata": {},
   "source": [
    "# 8. Write a NumPy program to remove the leading whitespaces of all the elements of a given array.\n",
    "Sample Output:\n",
    "Original Array:\n",
    "[' python exercises ' ' PHP ' ' java ' ' C++']\n",
    "Remove the leading whitespaces : ['python exercises ' 'PHP ' 'java ' 'C++']"
   ]
  },
  {
   "cell_type": "code",
   "execution_count": 8,
   "id": "db35b98f",
   "metadata": {},
   "outputs": [
    {
     "name": "stdout",
     "output_type": "stream",
     "text": [
      "Original Array:\n",
      "[' python exercises ' ' PHP  ' ' java  ' '  C++']\n",
      "\n",
      "Remove the leading whitespaces :  ['python exercises ' 'PHP  ' 'java  ' 'C++']\n"
     ]
    },
    {
     "name": "stderr",
     "output_type": "stream",
     "text": [
      "C:\\Users\\Akshit Koche\\AppData\\Local\\Temp\\ipykernel_7572\\1419218765.py:2: DeprecationWarning: `np.str` is a deprecated alias for the builtin `str`. To silence this warning, use `str` by itself. Doing this will not modify any behavior and is safe. If you specifically wanted the numpy scalar type, use `np.str_` here.\n",
      "Deprecated in NumPy 1.20; for more details and guidance: https://numpy.org/devdocs/release/1.20.0-notes.html#deprecations\n",
      "  x = np.array([' python exercises ', ' PHP  ', ' java  ', '  C++'], dtype=np.str)\n"
     ]
    }
   ],
   "source": [
    "import numpy as np\n",
    "x = np.array([' python exercises ', ' PHP  ', ' java  ', '  C++'], dtype=np.str)\n",
    "print(\"Original Array:\")\n",
    "print(x)\n",
    "lstripped_char = np.char.lstrip(x)\n",
    "print(\"\\nRemove the leading whitespaces : \", lstripped_char)\n"
   ]
  },
  {
   "cell_type": "markdown",
   "id": "61cbb669",
   "metadata": {},
   "source": [
    "# 9. Write a NumPy program to remove the trailing whitespaces of all the elements of a given array.\n",
    "Sample Output:\n",
    "Original Array:\n",
    "[' python exercises ' ' PHP ' ' java ' ' C++']\n",
    "Remove the trailing whitespaces : [' python exercises' ' PHP' ' java' ' C++']"
   ]
  },
  {
   "cell_type": "code",
   "execution_count": 9,
   "id": "be8f180d",
   "metadata": {},
   "outputs": [
    {
     "name": "stdout",
     "output_type": "stream",
     "text": [
      "Original Array:\n",
      "[' python exercises ' ' PHP  ' ' java  ' '  C++']\n",
      "\n",
      "Remove the trailing whitespaces :  [' python exercises' ' PHP' ' java' '  C++']\n"
     ]
    },
    {
     "name": "stderr",
     "output_type": "stream",
     "text": [
      "C:\\Users\\Akshit Koche\\AppData\\Local\\Temp\\ipykernel_7572\\203463179.py:2: DeprecationWarning: `np.str` is a deprecated alias for the builtin `str`. To silence this warning, use `str` by itself. Doing this will not modify any behavior and is safe. If you specifically wanted the numpy scalar type, use `np.str_` here.\n",
      "Deprecated in NumPy 1.20; for more details and guidance: https://numpy.org/devdocs/release/1.20.0-notes.html#deprecations\n",
      "  x = np.array([' python exercises ', ' PHP  ', ' java  ', '  C++'], dtype=np.str)\n"
     ]
    }
   ],
   "source": [
    "import numpy as np\n",
    "x = np.array([' python exercises ', ' PHP  ', ' java  ', '  C++'], dtype=np.str)\n",
    "print(\"Original Array:\")\n",
    "print(x)\n",
    "rstripped_char = np.char.rstrip(x)\n",
    "print(\"\\nRemove the trailing whitespaces : \", rstripped_char)\n"
   ]
  },
  {
   "cell_type": "markdown",
   "id": "755001c4",
   "metadata": {},
   "source": [
    "# 10. Write a NumPy program to split the element of a given array with spaces.\n",
    "Sample Output:\n",
    "Original Array:\n",
    "['Python PHP Java C++']\n",
    "Split the element of the said array with spaces:\n",
    "[list(['Python', 'PHP', 'Java', 'C++'])]"
   ]
  },
  {
   "cell_type": "code",
   "execution_count": 10,
   "id": "dcef5f4b",
   "metadata": {},
   "outputs": [
    {
     "name": "stdout",
     "output_type": "stream",
     "text": [
      "Original Array:\n",
      "['Python PHP Java C++']\n",
      "\n",
      "Split the element of the said array with spaces: \n",
      "[list(['Python', 'PHP', 'Java', 'C++'])]\n"
     ]
    },
    {
     "name": "stderr",
     "output_type": "stream",
     "text": [
      "C:\\Users\\Akshit Koche\\AppData\\Local\\Temp\\ipykernel_7572\\1132468095.py:2: DeprecationWarning: `np.str` is a deprecated alias for the builtin `str`. To silence this warning, use `str` by itself. Doing this will not modify any behavior and is safe. If you specifically wanted the numpy scalar type, use `np.str_` here.\n",
      "Deprecated in NumPy 1.20; for more details and guidance: https://numpy.org/devdocs/release/1.20.0-notes.html#deprecations\n",
      "  x = np.array(['Python PHP Java C++'], dtype=np.str)\n"
     ]
    }
   ],
   "source": [
    "import numpy as np\n",
    "x = np.array(['Python PHP Java C++'], dtype=np.str)\n",
    "print(\"Original Array:\")\n",
    "print(x)\n",
    "r = np.char.split(x)\n",
    "print(\"\\nSplit the element of the said array with spaces: \")\n",
    "print(r)\n"
   ]
  },
  {
   "cell_type": "markdown",
   "id": "2dc48ddf",
   "metadata": {},
   "source": [
    "# 11. Write a NumPy program to split the element of a given array to multiple lines.\n",
    "Sample output:\n",
    "Original Array:\n",
    "['Python\\\\Exercises, Practice, Solution']\n",
    "[list(['Python\\\\Exercises, Practice, Solution'])]"
   ]
  },
  {
   "cell_type": "code",
   "execution_count": 11,
   "id": "097ae2ae",
   "metadata": {},
   "outputs": [
    {
     "name": "stdout",
     "output_type": "stream",
     "text": [
      "Original Array:\n",
      "['Python\\\\Exercises, Practice, Solution']\n",
      "[list(['Python\\\\Exercises, Practice, Solution'])]\n"
     ]
    },
    {
     "name": "stderr",
     "output_type": "stream",
     "text": [
      "C:\\Users\\Akshit Koche\\AppData\\Local\\Temp\\ipykernel_7572\\4071907813.py:2: DeprecationWarning: `np.str` is a deprecated alias for the builtin `str`. To silence this warning, use `str` by itself. Doing this will not modify any behavior and is safe. If you specifically wanted the numpy scalar type, use `np.str_` here.\n",
      "Deprecated in NumPy 1.20; for more details and guidance: https://numpy.org/devdocs/release/1.20.0-notes.html#deprecations\n",
      "  x = np.array(['Python\\Exercises, Practice, Solution'], dtype=np.str)\n"
     ]
    }
   ],
   "source": [
    "import numpy as np\n",
    "x = np.array(['Python\\Exercises, Practice, Solution'], dtype=np.str)\n",
    "print(\"Original Array:\")\n",
    "print(x)\n",
    "r = np.char.splitlines(x)\n",
    "print(r)\n"
   ]
  },
  {
   "cell_type": "markdown",
   "id": "6592f208",
   "metadata": {},
   "source": [
    "# 12. Write a NumPy program to make all the elements of a given string to a numeric string of 5 digits with zeros on its left.\n",
    "Sample output:\n",
    "Original Array:\n",
    "['2' '11' '234' '1234' '12345']\n",
    "Numeric string of 5 digits with zeros:\n",
    "['00002' '00011' '00234' '01234' '12345']"
   ]
  },
  {
   "cell_type": "code",
   "execution_count": 12,
   "id": "85e89914",
   "metadata": {},
   "outputs": [
    {
     "name": "stdout",
     "output_type": "stream",
     "text": [
      "\n",
      "Original Array:\n",
      "['2' '11' '234' '1234' '12345']\n",
      "\n",
      "Numeric string of 5 digits with zeros:\n",
      "['00002' '00011' '00234' '01234' '12345']\n"
     ]
    },
    {
     "name": "stderr",
     "output_type": "stream",
     "text": [
      "C:\\Users\\Akshit Koche\\AppData\\Local\\Temp\\ipykernel_7572\\3690109583.py:2: DeprecationWarning: `np.str` is a deprecated alias for the builtin `str`. To silence this warning, use `str` by itself. Doing this will not modify any behavior and is safe. If you specifically wanted the numpy scalar type, use `np.str_` here.\n",
      "Deprecated in NumPy 1.20; for more details and guidance: https://numpy.org/devdocs/release/1.20.0-notes.html#deprecations\n",
      "  x = np.array(['2', '11', '234', '1234', '12345'], dtype=np.str)\n"
     ]
    }
   ],
   "source": [
    "import numpy as np\n",
    "x = np.array(['2', '11', '234', '1234', '12345'], dtype=np.str)\n",
    "print(\"\\nOriginal Array:\")\n",
    "print(x)\n",
    "r = np.char.zfill(x, 5)\n",
    "print(\"\\nNumeric string of 5 digits with zeros:\")\n",
    "print(r) \n"
   ]
  },
  {
   "cell_type": "markdown",
   "id": "145e727c",
   "metadata": {},
   "source": [
    "# 13. Write a NumPy program to replace \"PHP\" with \"Python\" in the element of a given array.\n",
    "Sample Output:\n",
    "Original Array:\n",
    "['PHP Exercises, Practice, Solution']\n",
    "New array:\n",
    "['Python Exercises, Practice, Solution']"
   ]
  },
  {
   "cell_type": "code",
   "execution_count": 13,
   "id": "ef14403a",
   "metadata": {},
   "outputs": [
    {
     "name": "stdout",
     "output_type": "stream",
     "text": [
      "\n",
      "Original Array:\n",
      "['PHP Exercises, Practice, Solution']\n",
      "\n",
      "New array:\n",
      "['Python Exercises, Practice, Solution']\n"
     ]
    },
    {
     "name": "stderr",
     "output_type": "stream",
     "text": [
      "C:\\Users\\Akshit Koche\\AppData\\Local\\Temp\\ipykernel_7572\\1654307832.py:2: DeprecationWarning: `np.str` is a deprecated alias for the builtin `str`. To silence this warning, use `str` by itself. Doing this will not modify any behavior and is safe. If you specifically wanted the numpy scalar type, use `np.str_` here.\n",
      "Deprecated in NumPy 1.20; for more details and guidance: https://numpy.org/devdocs/release/1.20.0-notes.html#deprecations\n",
      "  x = np.array(['PHP Exercises, Practice, Solution'], dtype=np.str)\n"
     ]
    }
   ],
   "source": [
    "import numpy as np\n",
    "x = np.array(['PHP Exercises, Practice, Solution'], dtype=np.str)\n",
    "print(\"\\nOriginal Array:\")\n",
    "print(x)\n",
    "r = np.char.replace(x, \"PHP\", \"Python\")\n",
    "print(\"\\nNew array:\")\n",
    "print(r)\n"
   ]
  },
  {
   "cell_type": "markdown",
   "id": "35e95076",
   "metadata": {},
   "source": [
    "# 14. Write a NumPy program to test equal, not equal, greater equal, greater and less test of all the elements of two given arrays.\n",
    "Expected Output:\n",
    "Array1:\n",
    "['Hello' 'PHP' 'JS' 'examples' 'html']\n",
    "Array2:\n",
    "['Hello' 'php' 'Java' 'examples' 'html']\n",
    "Equal test:\n",
    "[ True False False True True]\n",
    "Not equal test:\n",
    "[False True True False False]\n",
    "Less equal test:\n",
    "[ True True True True True]\n",
    "Greater equal test:\n",
    "[ True False False True True]\n",
    "Less test:\n",
    "[False True True False False]"
   ]
  },
  {
   "cell_type": "code",
   "execution_count": 14,
   "id": "630721f4",
   "metadata": {},
   "outputs": [
    {
     "name": "stdout",
     "output_type": "stream",
     "text": [
      "\n",
      "Array1:\n",
      "['Hello' 'PHP' 'JS' 'examples' 'html']\n",
      "Array2:\n",
      "['Hello' 'php' 'Java' 'examples' 'html']\n",
      "\n",
      "Equal test:\n",
      "[ True False False  True  True]\n",
      "\n",
      "Not equal test:\n",
      "[False  True  True False False]\n",
      "\n",
      "Less equal test:\n",
      "[ True  True  True  True  True]\n",
      "\n",
      "Greater equal test:\n",
      "[ True False False  True  True]\n",
      "\n",
      "Less test:\n",
      "[False  True  True False False]\n"
     ]
    },
    {
     "name": "stderr",
     "output_type": "stream",
     "text": [
      "C:\\Users\\Akshit Koche\\AppData\\Local\\Temp\\ipykernel_7572\\637713255.py:2: DeprecationWarning: `np.str` is a deprecated alias for the builtin `str`. To silence this warning, use `str` by itself. Doing this will not modify any behavior and is safe. If you specifically wanted the numpy scalar type, use `np.str_` here.\n",
      "Deprecated in NumPy 1.20; for more details and guidance: https://numpy.org/devdocs/release/1.20.0-notes.html#deprecations\n",
      "  x1 = np.array(['Hello', 'PHP', 'JS', 'examples', 'html'], dtype=np.str)\n",
      "C:\\Users\\Akshit Koche\\AppData\\Local\\Temp\\ipykernel_7572\\637713255.py:3: DeprecationWarning: `np.str` is a deprecated alias for the builtin `str`. To silence this warning, use `str` by itself. Doing this will not modify any behavior and is safe. If you specifically wanted the numpy scalar type, use `np.str_` here.\n",
      "Deprecated in NumPy 1.20; for more details and guidance: https://numpy.org/devdocs/release/1.20.0-notes.html#deprecations\n",
      "  x2 = np.array(['Hello', 'php', 'Java', 'examples', 'html'], dtype=np.str)\n"
     ]
    }
   ],
   "source": [
    "import numpy as np\n",
    "x1 = np.array(['Hello', 'PHP', 'JS', 'examples', 'html'], dtype=np.str)\n",
    "x2 = np.array(['Hello', 'php', 'Java', 'examples', 'html'], dtype=np.str)\n",
    "print(\"\\nArray1:\")\n",
    "print(x1)\n",
    "print(\"Array2:\")\n",
    "print(x2)\n",
    "print(\"\\nEqual test:\")\n",
    "r = np.char.equal(x1, x2)\n",
    "print(r)\n",
    "print(\"\\nNot equal test:\")\n",
    "r = np.char.not_equal(x1, x2)\n",
    "print(r)\n",
    "print(\"\\nLess equal test:\")\n",
    "r = np.char.less_equal(x1, x2)\n",
    "print(r)\n",
    "print(\"\\nGreater equal test:\")\n",
    "r = np.char.greater_equal(x1, x2)\n",
    "print(r)\n",
    "print(\"\\nLess test:\")\n",
    "r = np.char.less(x1, x2)\n",
    "print(r)\n"
   ]
  },
  {
   "cell_type": "markdown",
   "id": "b24550be",
   "metadata": {},
   "source": [
    "# 15. Write a NumPy program to count the number of \"P\" in a given array, element-wise.\n",
    "Sample Output:\n",
    "Original Array:\n",
    "['Python' 'PHP' 'JS' 'examples' 'html']\n",
    "Number of 'P':\n",
    "[1 2 0 0 0]"
   ]
  },
  {
   "cell_type": "code",
   "execution_count": 15,
   "id": "e5f1a31b",
   "metadata": {},
   "outputs": [
    {
     "name": "stdout",
     "output_type": "stream",
     "text": [
      "\n",
      "Original Array:\n",
      "['Python' 'PHP' 'JS' 'examples' 'html']\n",
      "Number of ‘P’:\n",
      "[1 2 0 0 0]\n"
     ]
    },
    {
     "name": "stderr",
     "output_type": "stream",
     "text": [
      "C:\\Users\\Akshit Koche\\AppData\\Local\\Temp\\ipykernel_7572\\99907529.py:2: DeprecationWarning: `np.str` is a deprecated alias for the builtin `str`. To silence this warning, use `str` by itself. Doing this will not modify any behavior and is safe. If you specifically wanted the numpy scalar type, use `np.str_` here.\n",
      "Deprecated in NumPy 1.20; for more details and guidance: https://numpy.org/devdocs/release/1.20.0-notes.html#deprecations\n",
      "  x1 = np.array(['Python', 'PHP', 'JS', 'examples', 'html'], dtype=np.str)\n"
     ]
    }
   ],
   "source": [
    "import numpy as np\n",
    "x1 = np.array(['Python', 'PHP', 'JS', 'examples', 'html'], dtype=np.str)\n",
    "print(\"\\nOriginal Array:\")\n",
    "print(x1)\n",
    "print(\"Number of ‘P’:\")\n",
    "r = np.char.count(x1, \"P\")\n",
    "print(r)\n"
   ]
  },
  {
   "cell_type": "markdown",
   "id": "3dc06704",
   "metadata": {},
   "source": [
    "# 16. Write a NumPy program to count the lowest index of \"P\" in a given array, element-wise.\n",
    "Original Array:\n",
    "['Python' 'PHP' 'JS' 'EXAMPLES' 'HTML']\n",
    "count the lowest index of 'P':\n",
    "[ 0 0 -1 4 -1]"
   ]
  },
  {
   "cell_type": "code",
   "execution_count": 16,
   "id": "feba8e7a",
   "metadata": {},
   "outputs": [
    {
     "name": "stdout",
     "output_type": "stream",
     "text": [
      "\n",
      "Original Array:\n",
      "['Python' 'PHP' 'JS' 'EXAMPLES' 'HTML']\n",
      "count the lowest index of ‘P’:\n",
      "[ 0  0 -1  4 -1]\n"
     ]
    },
    {
     "name": "stderr",
     "output_type": "stream",
     "text": [
      "C:\\Users\\Akshit Koche\\AppData\\Local\\Temp\\ipykernel_7572\\1733496685.py:2: DeprecationWarning: `np.str` is a deprecated alias for the builtin `str`. To silence this warning, use `str` by itself. Doing this will not modify any behavior and is safe. If you specifically wanted the numpy scalar type, use `np.str_` here.\n",
      "Deprecated in NumPy 1.20; for more details and guidance: https://numpy.org/devdocs/release/1.20.0-notes.html#deprecations\n",
      "  x1 = np.array(['Python', 'PHP', 'JS', 'EXAMPLES', 'HTML'], dtype=np.str)\n"
     ]
    }
   ],
   "source": [
    "import numpy as np\n",
    "x1 = np.array(['Python', 'PHP', 'JS', 'EXAMPLES', 'HTML'], dtype=np.str)\n",
    "print(\"\\nOriginal Array:\")\n",
    "print(x1)\n",
    "print(\"count the lowest index of ‘P’:\")\n",
    "r = np.char.find(x1, \"P\")\n",
    "print(r)\n"
   ]
  },
  {
   "cell_type": "markdown",
   "id": "d497a263",
   "metadata": {},
   "source": [
    "# 17. Write a NumPy program to check whether each element of a given array is composed of digits only, lower case letters only and upper case letters only.\n",
    "Sample output:\n",
    "Original Array:\n",
    "['Python' 'PHP' 'JS' 'Examples' 'html5' '5']\n",
    "Digits only = [False False False False False True]\n",
    "Lower cases only = [False False False False True False]\n",
    "Upper cases only = [False True True False False False]"
   ]
  },
  {
   "cell_type": "code",
   "execution_count": 17,
   "id": "1f1acfbf",
   "metadata": {},
   "outputs": [
    {
     "name": "stdout",
     "output_type": "stream",
     "text": [
      "\n",
      "Original Array:\n",
      "['Python' 'PHP' 'JS' 'Examples' 'html5' '5']\n",
      "Digits only = [False False False False False  True]\n",
      "Lower cases only = [False False False False  True False]\n",
      "Upper cases only = [False  True  True False False False]\n"
     ]
    },
    {
     "name": "stderr",
     "output_type": "stream",
     "text": [
      "C:\\Users\\Akshit Koche\\AppData\\Local\\Temp\\ipykernel_7572\\3360482820.py:2: DeprecationWarning: `np.str` is a deprecated alias for the builtin `str`. To silence this warning, use `str` by itself. Doing this will not modify any behavior and is safe. If you specifically wanted the numpy scalar type, use `np.str_` here.\n",
      "Deprecated in NumPy 1.20; for more details and guidance: https://numpy.org/devdocs/release/1.20.0-notes.html#deprecations\n",
      "  x = np.array(['Python', 'PHP', 'JS', 'Examples', 'html5', '5'], dtype=np.str)\n"
     ]
    }
   ],
   "source": [
    "import numpy as np\n",
    "x = np.array(['Python', 'PHP', 'JS', 'Examples', 'html5', '5'], dtype=np.str)\n",
    "print(\"\\nOriginal Array:\")\n",
    "print(x)\n",
    "r1 = np.char.isdigit(x)\n",
    "r2 = np.char.islower(x)\n",
    "r3 = np.char.isupper(x)\n",
    "print(\"Digits only =\", r1)\n",
    "print(\"Lower cases only =\", r2)\n",
    "print(\"Upper cases only =\", r3)\n"
   ]
  },
  {
   "cell_type": "markdown",
   "id": "2b04622f",
   "metadata": {},
   "source": [
    "# 18. Write a NumPy program to check whether each element of a given array starts with \"P\".\n",
    "Sample output:\n",
    "Original Array:\n",
    "['Python' 'PHP' 'JS' 'examples' 'html']\n",
    "Test if each element of the said array starts with 'P':\n",
    "[ True True False False False]"
   ]
  },
  {
   "cell_type": "code",
   "execution_count": 18,
   "id": "033abb3c",
   "metadata": {},
   "outputs": [
    {
     "name": "stdout",
     "output_type": "stream",
     "text": [
      "\n",
      "Original Array:\n",
      "['Python' 'PHP' 'JS' 'examples' 'html']\n",
      "Test if each element of the said array starts with 'P':\n",
      "[ True  True False False False]\n"
     ]
    },
    {
     "name": "stderr",
     "output_type": "stream",
     "text": [
      "C:\\Users\\Akshit Koche\\AppData\\Local\\Temp\\ipykernel_7572\\3651875122.py:2: DeprecationWarning: `np.str` is a deprecated alias for the builtin `str`. To silence this warning, use `str` by itself. Doing this will not modify any behavior and is safe. If you specifically wanted the numpy scalar type, use `np.str_` here.\n",
      "Deprecated in NumPy 1.20; for more details and guidance: https://numpy.org/devdocs/release/1.20.0-notes.html#deprecations\n",
      "  x1 = np.array(['Python', 'PHP', 'JS', 'examples', 'html'], dtype=np.str)\n"
     ]
    }
   ],
   "source": [
    "import numpy as np\n",
    "x1 = np.array(['Python', 'PHP', 'JS', 'examples', 'html'], dtype=np.str)\n",
    "print(\"\\nOriginal Array:\")\n",
    "print(x1)\n",
    "print(\"Test if each element of the said array starts with 'P':\")\n",
    "r = np.char.startswith(x1, \"P\")\n",
    "print(r)\n"
   ]
  },
  {
   "cell_type": "markdown",
   "id": "e4b3a53e",
   "metadata": {},
   "source": [
    "# 19. Write a NumPy program to add two zeros to the beginning of each element of a given array of string values.\n",
    "Sample output:\n",
    "Original array:\n",
    "['1.12' '2.23' '3.71' '4.23' '5.11']\n",
    "Add two zeros to the beginning of each element of the said array:\n",
    "['001.12' '002.23' '003.71' '004.23' '005.11']\n",
    "Alternate method:\n",
    "['001.12' '002.23' '003.71' '004.23' '005.11']"
   ]
  },
  {
   "cell_type": "code",
   "execution_count": 19,
   "id": "a60da6ee",
   "metadata": {},
   "outputs": [
    {
     "name": "stdout",
     "output_type": "stream",
     "text": [
      "Original array:\n",
      "['1.12' '2.23' '3.71' '4.23' '5.11']\n",
      "\n",
      "Add two zeros to the beginning of each element of the said array:\n",
      "['001.12' '002.23' '003.71' '004.23' '005.11']\n",
      "\n",
      "Alternate method:\n",
      "['001.12' '002.23' '003.71' '004.23' '005.11']\n"
     ]
    },
    {
     "name": "stderr",
     "output_type": "stream",
     "text": [
      "C:\\Users\\Akshit Koche\\AppData\\Local\\Temp\\ipykernel_7572\\1570248876.py:3: DeprecationWarning: `np.str` is a deprecated alias for the builtin `str`. To silence this warning, use `str` by itself. Doing this will not modify any behavior and is safe. If you specifically wanted the numpy scalar type, use `np.str_` here.\n",
      "Deprecated in NumPy 1.20; for more details and guidance: https://numpy.org/devdocs/release/1.20.0-notes.html#deprecations\n",
      "  nums = np.array(['1.12', '2.23', '3.71', '4.23', '5.11'], dtype=np.str)\n"
     ]
    }
   ],
   "source": [
    "import numpy as np \n",
    "\n",
    "nums = np.array(['1.12', '2.23', '3.71', '4.23', '5.11'], dtype=np.str)\n",
    "print(\"Original array:\")\n",
    "print(nums)\n",
    "print(\"\\nAdd two zeros to the beginning of each element of the said array:\")\n",
    "print(np.char.add('00', nums))\n",
    "print(\"\\nAlternate method:\")\n",
    "print(np.char.rjust(nums, 6, fillchar='0'))\n"
   ]
  },
  {
   "cell_type": "markdown",
   "id": "094515ec",
   "metadata": {},
   "source": [
    "# 20. Write a NumPy program to replace a specific character with another in a given array of string values.\n",
    "Sample output:\n",
    "Original array of string values:\n",
    "[['Python-NumPy-Exercises']\n",
    "['-Python-']]\n",
    "Replace '-' with '=' character in the said array of string values:\n",
    "[['Python==NumPy==Exercises']\n",
    "['==Python==']]\n",
    "Replace '-' with ' ' character in the said array of string values:\n",
    "[['Python NumPy Exercises']\n",
    "['Python']]"
   ]
  },
  {
   "cell_type": "code",
   "execution_count": 20,
   "id": "f9db2bc3",
   "metadata": {},
   "outputs": [
    {
     "name": "stdout",
     "output_type": "stream",
     "text": [
      "Original array of string values:\n",
      "[['Python-NumPy-Exercises']\n",
      " ['-Python-']]\n",
      "\n",
      "Replace '-' with '=' character in the said array of string values:\n",
      "[['Python==NumPy==Exercises']\n",
      " ['==Python==']]\n",
      "\n",
      "Replace '-' with ' ' character in the said array of string values:\n",
      "[['Python NumPy Exercises']\n",
      " ['Python']]\n"
     ]
    }
   ],
   "source": [
    "import numpy as np \n",
    "\n",
    "str1 = np.array([['Python-NumPy-Exercises'],\n",
    "              ['-Python-']])\n",
    "print(\"Original array of string values:\") \n",
    "print(str1)\n",
    "print(\"\\nReplace '-' with '=' character in the said array of string values:\")\n",
    "print(np.char.strip(np.char.replace(str1, '-', '==')))\n",
    "print(\"\\nReplace '-' with ' ' character in the said array of string values:\")\n",
    "print(np.char.strip(np.char.replace(str1, '-', ' ')))\n"
   ]
  },
  {
   "cell_type": "markdown",
   "id": "8c957301",
   "metadata": {},
   "source": [
    "# 21. Write a NumPy program to count a given word in each row of a given array of string values.\n",
    "Sample output:\n",
    "Original array of string values:\n",
    "[['Python' 'NumPy' 'Exercises']\n",
    "['Python' 'Pandas' 'Exercises']\n",
    "['Python' 'Machine learning' 'Python']]\n",
    "Count 'Python' row wise in the above array of string values:\n",
    "[[1 0 0]\n",
    "[1 0 0]\n",
    "[1 0 1]]"
   ]
  },
  {
   "cell_type": "code",
   "execution_count": 21,
   "id": "b0c22727",
   "metadata": {},
   "outputs": [
    {
     "name": "stdout",
     "output_type": "stream",
     "text": [
      "Original array of string values:\n",
      "[['Python' 'NumPy' 'Exercises']\n",
      " ['Python' 'Pandas' 'Exercises']\n",
      " ['Python' 'Machine learning' 'Python']]\n",
      "\n",
      "Count 'Python' row wise in the above array of string values:\n",
      "[[1 0 0]\n",
      " [1 0 0]\n",
      " [1 0 1]]\n"
     ]
    }
   ],
   "source": [
    "import numpy as np \n",
    "\n",
    "str1 = np.array([['Python','NumPy','Exercises'],\n",
    "                 ['Python','Pandas','Exercises'],\n",
    "                 ['Python','Machine learning','Python']])\n",
    "print(\"Original array of string values:\") \n",
    "print(str1)\n",
    "print(\"\\nCount 'Python' row wise in the above array of string values:\")\n",
    "print(np.char.count(str1, 'Python'))\n"
   ]
  },
  {
   "cell_type": "markdown",
   "id": "c7d64369",
   "metadata": {},
   "source": [
    "# 22. Write a NumPy program to split a given text into lines and split the single line into array values.\n",
    "Sample output:\n",
    "Original text:\n",
    "01 V Debby Pramod\n",
    "02 V Artemiy Ellie\n",
    "03 V Baptist Kamal\n",
    "04 V Lavanya Davide\n",
    "05 V Fulton Antwan\n",
    "06 V Euanthe Sandeep\n",
    "07 V Endzela Sanda\n",
    "08 V Victoire Waman\n",
    "09 V Briar Nur\n",
    "10 V Rose Lykos\n",
    "Array from the said text:\n",
    "[['01' 'V' 'Debby Pramod']\n",
    "['02' 'V' 'Artemiy Ellie']\n",
    "['03' 'V' 'Baptist Kamal']\n",
    "['04' 'V' 'Lavanya Davide']\n",
    "['05' 'V' 'Fulton Antwan']\n",
    "['06' 'V' 'Euanthe Sandeep']\n",
    "['07' 'V' 'Endzela Sanda']\n",
    "['08' 'V' 'Victoire Waman']\n",
    "['09' 'V' 'Briar Nur']\n",
    "['10' 'V' 'Rose Lykos']]\n",
    "\n"
   ]
  },
  {
   "cell_type": "code",
   "execution_count": 22,
   "id": "fcac0c05",
   "metadata": {},
   "outputs": [
    {
     "name": "stdout",
     "output_type": "stream",
     "text": [
      "Original text:\n",
      "01\tV\tDebby Pramod\n",
      "02\tV\tArtemiy Ellie\n",
      "03\tV\tBaptist Kamal\n",
      "04\tV\tLavanya Davide\n",
      "05\tV\tFulton Antwan\n",
      "06\tV\tEuanthe Sandeep\n",
      "07\tV\tEndzela Sanda\n",
      "08\tV\tVictoire Waman\n",
      "09\tV\tBriar Nur\n",
      "10\tV\tRose Lykos\n",
      "\n",
      "Array from the said text:\n",
      "[['01' 'V' 'Debby Pramod']\n",
      " ['02' 'V' 'Artemiy Ellie']\n",
      " ['03' 'V' 'Baptist Kamal']\n",
      " ['04' 'V' 'Lavanya Davide']\n",
      " ['05' 'V' 'Fulton Antwan']\n",
      " ['06' 'V' 'Euanthe Sandeep']\n",
      " ['07' 'V' 'Endzela Sanda']\n",
      " ['08' 'V' 'Victoire Waman']\n",
      " ['09' 'V' 'Briar Nur']\n",
      " ['10' 'V' 'Rose Lykos']]\n"
     ]
    },
    {
     "name": "stderr",
     "output_type": "stream",
     "text": [
      "C:\\Users\\Akshit Koche\\AppData\\Local\\Temp\\ipykernel_7572\\3964312263.py:17: DeprecationWarning: `np.str` is a deprecated alias for the builtin `str`. To silence this warning, use `str` by itself. Doing this will not modify any behavior and is safe. If you specifically wanted the numpy scalar type, use `np.str_` here.\n",
      "Deprecated in NumPy 1.20; for more details and guidance: https://numpy.org/devdocs/release/1.20.0-notes.html#deprecations\n",
      "  result = np.array(text_lines, dtype=np.str)\n"
     ]
    }
   ],
   "source": [
    "import numpy as np \n",
    "student = \"\"\"01\tV\tDebby Pramod\n",
    "02\tV\tArtemiy Ellie\n",
    "03\tV\tBaptist Kamal\n",
    "04\tV\tLavanya Davide\n",
    "05\tV\tFulton Antwan\n",
    "06\tV\tEuanthe Sandeep\n",
    "07\tV\tEndzela Sanda\n",
    "08\tV\tVictoire Waman\n",
    "09\tV\tBriar Nur\n",
    "10\tV\tRose Lykos\"\"\"\n",
    "\n",
    "print(\"Original text:\") \n",
    "print(student)\n",
    "text_lines = student.splitlines()\n",
    "text_lines = [r.split('\\t') for r in text_lines]\n",
    "result = np.array(text_lines, dtype=np.str)\n",
    "print(\"\\nArray from the said text:\")\n",
    "print(result)\n"
   ]
  },
  {
   "cell_type": "markdown",
   "id": "05bdc243",
   "metadata": {},
   "source": [
    "# NumPy: String Exercises is Completed."
   ]
  },
  {
   "cell_type": "code",
   "execution_count": null,
   "id": "c7019f5f",
   "metadata": {},
   "outputs": [],
   "source": []
  }
 ],
 "metadata": {
  "kernelspec": {
   "display_name": "Python 3 (ipykernel)",
   "language": "python",
   "name": "python3"
  },
  "language_info": {
   "codemirror_mode": {
    "name": "ipython",
    "version": 3
   },
   "file_extension": ".py",
   "mimetype": "text/x-python",
   "name": "python",
   "nbconvert_exporter": "python",
   "pygments_lexer": "ipython3",
   "version": "3.10.9"
  }
 },
 "nbformat": 4,
 "nbformat_minor": 5
}
