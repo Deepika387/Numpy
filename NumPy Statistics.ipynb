{
 "cells": [
  {
   "cell_type": "markdown",
   "id": "86123554",
   "metadata": {},
   "source": [
    "# 1. Write a Python program to find the maximum and minimum value of a given flattened array.\n",
    "Expected Output:\n",
    "Original flattened array:\n",
    "[[0 1]\n",
    "[2 3]]\n",
    "Maximum value of the above flattened array:\n",
    "3\n",
    "Minimum value of the above flattened array:\n",
    "0"
   ]
  },
  {
   "cell_type": "code",
   "execution_count": null,
   "id": "9975d154",
   "metadata": {},
   "outputs": [],
   "source": [
    "import numpy as np\n",
    "a = np.arange(4).reshape((2,2))\n",
    "print(\"Original flattened array:\")\n",
    "print(a)\n",
    "print(\"Maximum value of the above flattened array:\")\n",
    "print(np.amax(a))\n",
    "print(\"Minimum value of the above flattened array:\")\n",
    "print(np.amin(a))\n"
   ]
  },
  {
   "cell_type": "markdown",
   "id": "8ec4b181",
   "metadata": {},
   "source": [
    "# 2. Write a NumPy program to get the minimum and maximum value of a given array along the second axis.\n",
    "Expected Output:\n",
    "Original array:\n",
    "[[0 1]\n",
    "[2 3]]\n",
    "Maximum value along the second axis:\n",
    "[1 3]\n",
    "Minimum value along the second axis:\n",
    "[0 2]"
   ]
  },
  {
   "cell_type": "code",
   "execution_count": null,
   "id": "0b619050",
   "metadata": {},
   "outputs": [],
   "source": [
    "import numpy as np\n",
    "x = np.arange(4).reshape((2, 2))\n",
    "print(\"\\nOriginal array:\")\n",
    "print(x)\n",
    "print(\"\\nMaximum value along the second axis:\")\n",
    "print(np.amax(x, 1))\n",
    "print(\"Minimum value along the second axis:\")\n",
    "print(np.amin(x, 1))\n"
   ]
  },
  {
   "cell_type": "code",
   "execution_count": null,
   "id": "8f5cfe85",
   "metadata": {},
   "outputs": [],
   "source": []
  },
  {
   "cell_type": "markdown",
   "id": "54189a34",
   "metadata": {},
   "source": [
    "# 3. Write a NumPy program to calculate the difference between the maximum and the minimum values of a given array along the second axis.\n",
    "Expected Output:\n",
    "Original array:\n",
    "[[ 0 1 2 3 4 5]\n",
    "[ 6 7 8 9 10 11]]\n",
    "Difference between the maximum and the minimum values of the said array:\n",
    "[5 5]"
   ]
  },
  {
   "cell_type": "code",
   "execution_count": null,
   "id": "990eca38",
   "metadata": {},
   "outputs": [],
   "source": [
    "import numpy as np\n",
    "x = np.arange(12).reshape((2, 6))\n",
    "print(\"\\nOriginal array:\")\n",
    "print(x)\n",
    "r1 = np.ptp(x, 1)\n",
    "r2 = np.amax(x, 1) - np.amin(x, 1)\n",
    "assert np.allclose(r1, r2)\n",
    "print(\"\\nDifference between the maximum and the minimum values of the said array:\")\n",
    "print(r1)\n"
   ]
  },
  {
   "cell_type": "markdown",
   "id": "abecafeb",
   "metadata": {},
   "source": [
    "# 4. Write a NumPy program to compute the 80th percentile for all elements in a given array along the second axis.\n",
    "Expected Output:\n",
    "Original array:\n",
    "[1.0, 2.0, 3.0, 4.0]\n",
    "Largest integer smaller or equal to the division of the inputs:\n",
    "[ 0. 1. 2. 2.]"
   ]
  },
  {
   "cell_type": "code",
   "execution_count": null,
   "id": "6b0d5def",
   "metadata": {},
   "outputs": [],
   "source": [
    "import numpy as np\n",
    "x = np.arange(12).reshape((2, 6))\n",
    "print(\"\\nOriginal array:\")\n",
    "print(x)\n",
    "r1 = np.percentile(x, 80, 1)\n",
    "print(\"\\n80th percentile for all elements of the said array along the second axis:\")\n",
    "print(r1)\n"
   ]
  },
  {
   "cell_type": "markdown",
   "id": "e7a455aa",
   "metadata": {},
   "source": [
    "# 5. Write a NumPy program to compute the median of flattened given array.\n",
    "Note: First array elements raised to powers from second array\n",
    "Expected Output:\n",
    "Original array:\n",
    "[[ 0 1 2 3 4 5]\n",
    "[ 6 7 8 9 10 11]]\n",
    "Median of said array:\n",
    "5.5"
   ]
  },
  {
   "cell_type": "code",
   "execution_count": null,
   "id": "7185db39",
   "metadata": {},
   "outputs": [],
   "source": [
    "import numpy as np\n",
    "x = np.arange(12).reshape((2, 6))\n",
    "print(\"\\nOriginal array:\")\n",
    "print(x)\n",
    "r1 =  np.median(x)\n",
    "print(\"\\nMedian of said array:\")\n",
    "print(r1)\n"
   ]
  },
  {
   "cell_type": "markdown",
   "id": "ca334aa2",
   "metadata": {},
   "source": [
    "# 6. Write a NumPy program to compute the weighted of a given array.\n",
    "Sample Output:\n",
    "Original array:\n",
    "[0 1 2 3 4]\n",
    "Weighted average of the said array:\n",
    "2.6666666666666665"
   ]
  },
  {
   "cell_type": "code",
   "execution_count": null,
   "id": "2b98c1c0",
   "metadata": {},
   "outputs": [],
   "source": [
    "import numpy as np\n",
    "x = np.arange(5)\n",
    "print(\"\\nOriginal array:\")\n",
    "print(x)\n",
    "weights = np.arange(1, 6)\n",
    "r1 = np.average(x, weights=weights)\n",
    "r2 = (x*(weights/weights.sum())).sum()\n",
    "assert np.allclose(r1, r2)\n",
    "print(\"\\nWeighted average of the said array:\")\n",
    "print(r1)\n"
   ]
  },
  {
   "cell_type": "markdown",
   "id": "2315b0c1",
   "metadata": {},
   "source": [
    "# 7. Write a NumPy program to compute the mean, standard deviation, and variance of a given array along the second axis.\n",
    "Sample output:\n",
    "Original array:\n",
    "[0 1 2 3 4 5]\n",
    "Mean: 2.5\n",
    "std: 1\n",
    "variance: 2.9166666666666665"
   ]
  },
  {
   "cell_type": "code",
   "execution_count": null,
   "id": "8935c4bb",
   "metadata": {},
   "outputs": [],
   "source": [
    "import numpy as np\n",
    "x = np.arange(6)\n",
    "print(\"\\nOriginal array:\")\n",
    "print(x)\n",
    "r1 = np.mean(x)\n",
    "r2 = np.average(x)\n",
    "assert np.allclose(r1, r2)\n",
    "print(\"\\nMean: \", r1)\n",
    "r1 = np.std(x)\n",
    "r2 = np.sqrt(np.mean((x - np.mean(x)) ** 2 ))\n",
    "assert np.allclose(r1, r2)\n",
    "print(\"\\nstd: \", 1)\n",
    "r1= np.var(x)\n",
    "r2 = np.mean((x - np.mean(x)) ** 2 )\n",
    "assert np.allclose(r1, r2)\n",
    "print(\"\\nvariance: \", r1)\n"
   ]
  },
  {
   "cell_type": "markdown",
   "id": "598d0713",
   "metadata": {},
   "source": [
    "# 8. Write a NumPy program to compute the covariance matrix of two given arrays.\n",
    "Sample Output:\n",
    "Original array1:\n",
    "[0 1 2]\n",
    "Original array1:\n",
    "[2 1 0]\n",
    "Covariance matrix of the said arrays:\n",
    "[[ 1. -1.]\n",
    "[-1. 1.]]"
   ]
  },
  {
   "cell_type": "code",
   "execution_count": null,
   "id": "c451c3f5",
   "metadata": {},
   "outputs": [],
   "source": [
    "import numpy as np\n",
    "x = np.array([0, 1, 2])\n",
    "y = np.array([2, 1, 0])\n",
    "print(\"\\nOriginal array1:\")\n",
    "print(x)\n",
    "print(\"\\nOriginal array1:\")\n",
    "print(y)\n",
    "print(\"\\nCovariance matrix of the said arrays:\\n\",np.cov(x, y))\n"
   ]
  },
  {
   "cell_type": "markdown",
   "id": "96f7199f",
   "metadata": {},
   "source": [
    "# 9. Write a NumPy program to compute cross-correlation of two given arrays.\n",
    "Sample Output:\n",
    "Original array1:\n",
    "[0 1 3]\n",
    "Original array1:\n",
    "[2 4 5]\n",
    "Cross-correlation of the said arrays:\n",
    "[19]"
   ]
  },
  {
   "cell_type": "code",
   "execution_count": null,
   "id": "6bc4570e",
   "metadata": {},
   "outputs": [],
   "source": [
    "import numpy as np\n",
    "x = np.array([0, 1, 3])\n",
    "y = np.array([2, 4, 5])\n",
    "print(\"\\nOriginal array1:\")\n",
    "print(x)\n",
    "print(\"\\nOriginal array1:\")\n",
    "print(y)\n",
    "print(\"\\nCross-correlation of the said arrays:\\n\",np.correlate(x, y))\n"
   ]
  },
  {
   "cell_type": "markdown",
   "id": "716493b9",
   "metadata": {},
   "source": [
    "# 10. Write a NumPy program to compute pearson product-moment correlation coefficients of two given arrays.\n",
    "Sample Output:\n",
    "Original array1:\n",
    "[0 1 3]\n",
    "Original array1:\n",
    "[2 4 5]\n",
    "Pearson product-moment correlation coefficients of the said arrays:\n",
    "[[1. 0.92857143]\n",
    "[0.92857143 1. ]]"
   ]
  },
  {
   "cell_type": "code",
   "execution_count": null,
   "id": "d94318d0",
   "metadata": {},
   "outputs": [],
   "source": [
    "import numpy as np\n",
    "x = np.array([0, 1, 3])\n",
    "y = np.array([2, 4, 5])\n",
    "print(\"\\nOriginal array1:\")\n",
    "print(x)\n",
    "print(\"\\nOriginal array1:\")\n",
    "print(y)\n",
    "print(\"\\nPearson product-moment correlation coefficients of the said arrays:\\n\",np.corrcoef(x, y))\n"
   ]
  },
  {
   "cell_type": "markdown",
   "id": "ebb559ad",
   "metadata": {},
   "source": [
    "# 11. Write a NumPy program to test element-wise of a given array for finiteness (not infinity or not Not a Number), positive or negative infinity, for NaN, for NaT (not a time), for negative infinity, for positive infinity.\n",
    "Sample output:\n",
    "Test element-wise for finiteness (not infinity or not Not a Number):\n",
    "True\n",
    "True\n",
    "False\n",
    "Test element-wise for positive or negative infinity:\n",
    "True\n",
    "False\n",
    "True\n",
    "Test element-wise for NaN:\n",
    "[ True False False]\n",
    "Test element-wise for NaT (not a time):\n",
    "[ True False]\n",
    "Test element-wise for negative infinity:\n",
    "[1 0 0]\n",
    "Test element-wise for positive infinity:\n",
    "[0 0 1]"
   ]
  },
  {
   "cell_type": "code",
   "execution_count": null,
   "id": "d63355f6",
   "metadata": {},
   "outputs": [],
   "source": [
    "import numpy as np\n",
    "print(\"\\nTest element-wise for finiteness (not infinity or not Not a Number):\")\n",
    "print(np.isfinite(1))\n",
    "print(np.isfinite(0))\n",
    "print(np.isfinite(np.nan))\n",
    "print(\"\\nTest element-wise for positive or negative infinity:\")\n",
    "print(np.isinf(np.inf))\n",
    "print(np.isinf(np.nan))\n",
    "print(np.isinf(np.NINF))\n",
    "print(\"Test element-wise for NaN:\")\n",
    "print(np.isnan([np.log(-1.),1.,np.log(0)]))\n",
    "print(\"Test element-wise for NaT (not a time):\")\n",
    "print(np.isnat(np.array([\"NaT\", \"2016-01-01\"], dtype=\"datetime64[ns]\")))\n",
    "print(\"Test element-wise for negative infinity:\")\n",
    "x = np.array([-np.inf, 0., np.inf])\n",
    "y = np.array([2, 2, 2])\n",
    "print(np.isneginf(x, y))\n",
    "print(\"Test element-wise for positive infinity:\")\n",
    "x = np.array([-np.inf, 0., np.inf])\n",
    "y = np.array([2, 2, 2])\n",
    "print(np.isposinf(x, y))\n"
   ]
  },
  {
   "cell_type": "markdown",
   "id": "851c5af5",
   "metadata": {},
   "source": [
    "# 12. Write a Python NumPy program to compute the weighted average along the specified axis of a given flattened array.\n",
    "From Wikipedia: The weighted arithmetic mean is similar to an ordinary arithmetic mean (the most common type of average), except that instead of each of the data points contributing equally to the final average, some data points contribute more than others. The notion of weighted mean plays a role in descriptive statistics and also occurs in a more general form in several other areas of mathematics.\n",
    "Sample output:\n",
    "Original flattened array:\n",
    "[[0 1 2]\n",
    "[3 4 5]\n",
    "[6 7 8]]\n",
    "Weighted average along the specified axis of the above flattened array:\n",
    "[1.2 4.2 7.2]"
   ]
  },
  {
   "cell_type": "code",
   "execution_count": null,
   "id": "2331f139",
   "metadata": {},
   "outputs": [],
   "source": [
    "import numpy as np\n",
    "a = np.arange(9).reshape((3,3))\n",
    "print(\"Original flattened array:\")\n",
    "print(a)\n",
    "print(\"Weighted average along the specified axis of the above flattened array:\")\n",
    "print(np.average(a, axis=1, weights=[1./4, 2./4, 2./4]))\n"
   ]
  },
  {
   "cell_type": "markdown",
   "id": "2a64d37d",
   "metadata": {},
   "source": [
    "# 13. Write a Python program to count number of occurrences of each value in a given array of non-negative integers.\n",
    "Note: bincount() function count number of occurrences of each value in an array of non-negative integers in the range of the array between the minimum and maximum values including the values that did not occur.\n",
    "Sample Output:\n",
    "Original array:\n",
    "[0, 1, 6, 1, 4, 1, 2, 2, 7]\n",
    "Number of occurrences of each value in array:\n",
    "[1 3 2 0 1 0 1 1]"
   ]
  },
  {
   "cell_type": "code",
   "execution_count": null,
   "id": "594ea097",
   "metadata": {},
   "outputs": [],
   "source": [
    "import numpy as np\n",
    "array1 = [0, 1, 6, 1, 4, 1, 2, 2, 7] \n",
    "print(\"Original array:\")\n",
    "print(array1)\n",
    "print(\"Number of occurrences of each value in array: \")\n",
    "print(np.bincount(array1))\n"
   ]
  },
  {
   "cell_type": "markdown",
   "id": "3d462776",
   "metadata": {},
   "source": [
    "# 14. Write a NumPy program to compute the histogram of nums against the bins.\n",
    "Sample Output:\n",
    "nums: [0.5 0.7 1. 1.2 1.3 2.1]\n",
    "bins: [0 1 2 3]\n",
    "Result: (array([2, 3, 1], dtype=int64), array([0, 1, 2, 3]))"
   ]
  },
  {
   "cell_type": "code",
   "execution_count": null,
   "id": "28c1ec34",
   "metadata": {},
   "outputs": [],
   "source": [
    "import numpy as np\n",
    "import matplotlib.pyplot as plt\n",
    "nums = np.array([0.5, 0.7, 1.0, 1.2, 1.3, 2.1])\n",
    "bins = np.array([0, 1, 2, 3])\n",
    "print(\"nums: \",nums)\n",
    "print(\"bins: \",bins)\n",
    "print(\"Result:\", np.histogram(nums, bins))\n",
    "plt.hist(nums, bins=bins)\n",
    "plt.show()\n"
   ]
  },
  {
   "cell_type": "markdown",
   "id": "67fb81ec",
   "metadata": {},
   "source": [
    "# NumPy: Statistics Exercises is Completed."
   ]
  },
  {
   "cell_type": "code",
   "execution_count": null,
   "id": "33ed4697",
   "metadata": {},
   "outputs": [],
   "source": []
  }
 ],
 "metadata": {
  "kernelspec": {
   "display_name": "Python 3 (ipykernel)",
   "language": "python",
   "name": "python3"
  },
  "language_info": {
   "codemirror_mode": {
    "name": "ipython",
    "version": 3
   },
   "file_extension": ".py",
   "mimetype": "text/x-python",
   "name": "python",
   "nbconvert_exporter": "python",
   "pygments_lexer": "ipython3",
   "version": "3.10.9"
  }
 },
 "nbformat": 4,
 "nbformat_minor": 5
}
