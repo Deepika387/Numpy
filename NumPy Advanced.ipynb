{
 "cells": [
  {
   "cell_type": "markdown",
   "id": "f48d0567",
   "metadata": {},
   "source": [
    "# 1. Write a NumPy program to find the dot product of two arrays of different dimensions."
   ]
  },
  {
   "cell_type": "code",
   "execution_count": 1,
   "id": "7f4f52aa",
   "metadata": {},
   "outputs": [
    {
     "name": "stdout",
     "output_type": "stream",
     "text": [
      "Original arrays:\n",
      "[[1 2]\n",
      " [3 4]\n",
      " [5 6]]\n",
      "[7 8]\n",
      "Dot product of the said two arrays:\n",
      "[23 53 83]\n"
     ]
    }
   ],
   "source": [
    "import numpy as np\n",
    "# Define the two arrays\n",
    "nums1 = np.array([[1, 2], [3, 4], [5, 6]])\n",
    "nums2 = np.array([7, 8])\n",
    "print(\"Original arrays:\")\n",
    "print(nums1)\n",
    "print(nums2)\n",
    "# Find the dot product\n",
    "result = np.dot(nums1, nums2)\n",
    "# Print the result\n",
    "print(\"Dot product of the said two arrays:\")\n",
    "print(result)\n"
   ]
  },
  {
   "cell_type": "markdown",
   "id": "a479c926",
   "metadata": {},
   "source": [
    "# 2. Write a NumPy program to create a 3x3 identity matrix and stack it vertically and horizontally."
   ]
  },
  {
   "cell_type": "code",
   "execution_count": 2,
   "id": "ddfeaa81",
   "metadata": {},
   "outputs": [
    {
     "name": "stdout",
     "output_type": "stream",
     "text": [
      "3x3 identity matrix:\n",
      "[[1. 0. 0.]\n",
      " [0. 1. 0.]\n",
      " [0. 0. 1.]]\n",
      "Vertical Stack:\n",
      " [[1. 0. 0.]\n",
      " [0. 1. 0.]\n",
      " [0. 0. 1.]\n",
      " [1. 0. 0.]\n",
      " [0. 1. 0.]\n",
      " [0. 0. 1.]\n",
      " [1. 0. 0.]\n",
      " [0. 1. 0.]\n",
      " [0. 0. 1.]]\n",
      "Horizontal Stack:\n",
      " [[1. 0. 0. 1. 0. 0. 1. 0. 0.]\n",
      " [0. 1. 0. 0. 1. 0. 0. 1. 0.]\n",
      " [0. 0. 1. 0. 0. 1. 0. 0. 1.]]\n"
     ]
    }
   ],
   "source": [
    "import numpy as np\n",
    "# creating a 3x3 identity matrix\n",
    "matrix = np.identity(3)\n",
    "print(\"3x3 identity matrix:\")\n",
    "print(matrix)\n",
    "# stacking the matrix vertically\n",
    "vert_stack = np.vstack((matrix, matrix, matrix))\n",
    "# stacking the matrix horizontally\n",
    "horz_stack = np.hstack((matrix, matrix, matrix))\n",
    "print(\"Vertical Stack:\\n\", vert_stack)\n",
    "print(\"Horizontal Stack:\\n\", horz_stack)\n"
   ]
  },
  {
   "cell_type": "markdown",
   "id": "38edd1a1",
   "metadata": {},
   "source": [
    "# 3. Write a NumPy program to create a 4x4 array with random values and find the sum of each row."
   ]
  },
  {
   "cell_type": "code",
   "execution_count": 3,
   "id": "c6a6052a",
   "metadata": {},
   "outputs": [
    {
     "name": "stdout",
     "output_type": "stream",
     "text": [
      "Original array:\n",
      "[[0.57227048 0.47868409 0.12918839 0.71413717]\n",
      " [0.13561937 0.87597357 0.0505703  0.84571822]\n",
      " [0.69674063 0.03248769 0.26523163 0.51324124]\n",
      " [0.72645892 0.17359647 0.8157524  0.45964059]]\n",
      "\n",
      "Sum of each row:\n",
      "[1.89428014 1.90788145 1.50770118 2.17544838]\n"
     ]
    }
   ],
   "source": [
    "import numpy as np\n",
    "# create a 4x4 array with random values\n",
    "arr = np.random.rand(4, 4)\n",
    "# find the sum of each row\n",
    "row_sum = np.sum(arr, axis=1)\n",
    "print(\"Original array:\")\n",
    "print(arr)\n",
    "print(\"\\nSum of each row:\")\n",
    "print(row_sum)\n"
   ]
  },
  {
   "cell_type": "markdown",
   "id": "dc12b70b",
   "metadata": {},
   "source": [
    "# 4. Write a NumPy program to create a 3x3 array with random values and subtract the mean of each row from each element."
   ]
  },
  {
   "cell_type": "code",
   "execution_count": 4,
   "id": "01efdedb",
   "metadata": {},
   "outputs": [
    {
     "name": "stdout",
     "output_type": "stream",
     "text": [
      "Original array elements:\n",
      "[[0.54792234 0.99516244 0.41118433]\n",
      " [0.44453278 0.38801061 0.31812652]\n",
      " [0.45456587 0.9392624  0.74453835]]\n",
      "\n",
      "Mean of each row:\n",
      "[[0.65142304]\n",
      " [0.38355664]\n",
      " [0.71278887]]\n",
      "\n",
      "Subtract the mean of each row from each element:\n",
      "[[-0.1035007   0.3437394  -0.2402387 ]\n",
      " [ 0.06097614  0.00445397 -0.06543012]\n",
      " [-0.258223    0.22647353  0.03174947]]\n"
     ]
    }
   ],
   "source": [
    "import numpy as np\n",
    "# create a 3x3 array with random values\n",
    "arr = np.random.rand(3, 3)\n",
    "print(\"Original array elements:\")\n",
    "print(arr)\n",
    "# subtract the mean of each row from each element\n",
    "row_means = np.mean(arr, axis=1, keepdims=True)\n",
    "print(\"\\nMean of each row:\")\n",
    "print(row_means)\n",
    "arr_subtracted = arr - row_means\n",
    "print(\"\\nSubtract the mean of each row from each element:\")\n",
    "print(arr_subtracted)\n"
   ]
  },
  {
   "cell_type": "markdown",
   "id": "796e74c0",
   "metadata": {},
   "source": [
    "# 5. Write a NumPy program to create a 3x3 array with random values and subtract the mean of each column from each element.\n"
   ]
  },
  {
   "cell_type": "code",
   "execution_count": 5,
   "id": "ff64426e",
   "metadata": {},
   "outputs": [
    {
     "name": "stdout",
     "output_type": "stream",
     "text": [
      "Original array elements:\n",
      "[[0.98112504 0.9280902  0.4561258 ]\n",
      " [0.23048298 0.87340014 0.0744325 ]\n",
      " [0.46387807 0.00834419 0.55516174]]\n",
      "\n",
      "Mean of each row:\n",
      "[0.55849536 0.60327818 0.36190668]\n",
      "\n",
      "Subtract the mean of each row from each element:\n",
      "[[ 0.42262968  0.32481202  0.09421912]\n",
      " [-0.32801238  0.27012196 -0.28747418]\n",
      " [-0.0946173  -0.59493399  0.19325506]]\n"
     ]
    }
   ],
   "source": [
    "import numpy as np\n",
    "# Generate a 3x3 array with random values\n",
    "nums = np.random.rand(3, 3)\n",
    "print(\"Original array elements:\")\n",
    "print(nums)\n",
    "# Compute the mean of each column\n",
    "col_means = np.mean(nums, axis=0)\n",
    "print(\"\\nMean of each row:\")\n",
    "print(col_means)\n",
    "# Subtract the mean of each column from each element\n",
    "print(\"\\nSubtract the mean of each row from each element:\")\n",
    "result = nums - col_means\n",
    "print(result)\n"
   ]
  },
  {
   "cell_type": "markdown",
   "id": "f5a9850e",
   "metadata": {},
   "source": [
    "# 6. Write a NumPy program to create a 5x5 array with random values and normalize it row-wise."
   ]
  },
  {
   "cell_type": "code",
   "execution_count": 6,
   "id": "2d19c2c1",
   "metadata": {},
   "outputs": [
    {
     "name": "stdout",
     "output_type": "stream",
     "text": [
      "Original array elements:\n",
      "[[0.60890063 0.02397488 0.33613844 0.20594337 0.31237262]\n",
      " [0.21407151 0.07015954 0.38914237 0.49179808 0.87991309]\n",
      " [0.6439426  0.19422175 0.81319646 0.73988569 0.59187344]\n",
      " [0.69386816 0.98259713 0.33185964 0.02795749 0.16763217]\n",
      " [0.95332822 0.95576153 0.92036324 0.38878831 0.30788332]]\n",
      "\n",
      "Normalize Array row-wise:\n",
      "[[0.7706287  0.03034277 0.42541906 0.26064331 0.39534088]\n",
      " [0.19394696 0.06356394 0.35255966 0.44556485 0.79719373]\n",
      " [0.454042   0.13694517 0.57338239 0.52169118 0.4173282 ]\n",
      " [0.55097312 0.78024132 0.26351655 0.02219993 0.13311005]\n",
      " [0.55833963 0.55976476 0.5390329  0.22770324 0.18031928]]\n"
     ]
    }
   ],
   "source": [
    "import numpy as np\n",
    "# create 5x5 array with random values\n",
    "nums = np.random.rand(5, 5)\n",
    "print(\"Original array elements:\")\n",
    "print(nums)\n",
    "# normalize row-wise\n",
    "norm_arr = nums / np.linalg.norm(nums, axis=1, keepdims=True)\n",
    "print(\"\\nNormalize Array row-wise:\")\n",
    "print(norm_arr)\n"
   ]
  },
  {
   "cell_type": "markdown",
   "id": "57e23c46",
   "metadata": {},
   "source": [
    "# 7. Write a NumPy program to create a 5x5 array with random values and normalize it column-wise."
   ]
  },
  {
   "cell_type": "code",
   "execution_count": 7,
   "id": "ee691efb",
   "metadata": {},
   "outputs": [
    {
     "name": "stdout",
     "output_type": "stream",
     "text": [
      "Original array elements:\n",
      "[[0.20717974 0.31083774 0.92037686 0.45918772 0.51276593]\n",
      " [0.32820589 0.90760035 0.84106279 0.95657744 0.41470095]\n",
      " [0.51315323 0.35680825 0.90312162 0.64455118 0.9734274 ]\n",
      " [0.98211064 0.70510559 0.42674074 0.47482676 0.27801187]\n",
      " [0.03120904 0.21686173 0.12149491 0.64362612 0.04751738]]\n",
      "Original Array:\n",
      "[[0.20717974 0.31083774 0.92037686 0.45918772 0.51276593]\n",
      " [0.32820589 0.90760035 0.84106279 0.95657744 0.41470095]\n",
      " [0.51315323 0.35680825 0.90312162 0.64455118 0.9734274 ]\n",
      " [0.98211064 0.70510559 0.42674074 0.47482676 0.27801187]\n",
      " [0.03120904 0.21686173 0.12149491 0.64362612 0.04751738]]\n",
      "\n",
      "Normalized Array (column-wise):\n",
      "[[-0.63069926 -0.71836277  0.87629143 -0.98660229  0.21995378]\n",
      " [-0.25870077  1.55459953  0.62611913  1.79267279 -0.09968719]\n",
      " [ 0.30977251 -0.54326928  0.821865    0.04915709  1.72147128]\n",
      " [ 1.75120853  0.78333311 -0.68073483 -0.89921568 -0.54522269]\n",
      " [-1.171581   -1.07630059 -1.64354074  0.0439881  -1.29651519]]\n"
     ]
    }
   ],
   "source": [
    "import numpy as np\n",
    "# create a 5x5 array with random values\n",
    "nums = np.random.rand(5, 5)\n",
    "print(\"Original array elements:\")\n",
    "print(nums)\n",
    "# compute the mean of each column\n",
    "col_means = np.mean(nums, axis=0)\n",
    "\n",
    "# normalize each column by subtracting its mean and dividing by its standard deviation\n",
    "arr_normalized = (nums - col_means) / np.std(nums, axis=0)\n",
    "\n",
    "print(\"Original Array:\")\n",
    "print(nums)\n",
    "print(\"\\nNormalized Array (column-wise):\")\n",
    "print(arr_normalized)\n"
   ]
  },
  {
   "cell_type": "markdown",
   "id": "fc2a4b6e",
   "metadata": {},
   "source": [
    "# 8. Write a NumPy program to create a 3x3x3 array with random values and find the sum along the last axis."
   ]
  },
  {
   "cell_type": "code",
   "execution_count": 8,
   "id": "5a9e1382",
   "metadata": {},
   "outputs": [
    {
     "name": "stdout",
     "output_type": "stream",
     "text": [
      "Original array elements:\n",
      "[[[0.95283005 0.04955241 0.7836595 ]\n",
      "  [0.30937864 0.07428143 0.98327484]\n",
      "  [0.92082057 0.58597861 0.2621557 ]]\n",
      "\n",
      " [[0.75738979 0.55647454 0.34731738]\n",
      "  [0.88486715 0.1405425  0.74260409]\n",
      "  [0.80107172 0.75456547 0.23068748]]\n",
      "\n",
      " [[0.20769479 0.13335187 0.47828824]\n",
      "  [0.0342953  0.82682006 0.44407393]\n",
      "  [0.36128348 0.64279483 0.56678688]]]\n",
      "\n",
      "Sum along the last axis:\n",
      "[[1.78604196 1.36693491 1.76895489]\n",
      " [1.66118171 1.76801374 1.78632468]\n",
      " [0.81933489 1.30518929 1.57086519]]\n"
     ]
    }
   ],
   "source": [
    "import numpy as np\n",
    "nums = np.random.rand(3, 3, 3)\n",
    "print(\"Original array elements:\")\n",
    "print(nums)\n",
    "sum_along_last_axis = np.sum(nums, axis=2)\n",
    "print(\"\\nSum along the last axis:\")\n",
    "print(sum_along_last_axis)\n"
   ]
  },
  {
   "cell_type": "markdown",
   "id": "b0160178",
   "metadata": {},
   "source": [
    "# 9. Write a NumPy program to create a 5x5 array with random values and sort each row."
   ]
  },
  {
   "cell_type": "code",
   "execution_count": 9,
   "id": "f5b6a647",
   "metadata": {},
   "outputs": [
    {
     "name": "stdout",
     "output_type": "stream",
     "text": [
      "Original array elements:\n",
      "[[0.26238345 0.75881033 0.15700121 0.35359174 0.15780135]\n",
      " [0.7079059  0.57773629 0.83020025 0.18876914 0.20593678]\n",
      " [0.58612782 0.24355176 0.30109946 0.70490139 0.13219213]\n",
      " [0.44279609 0.71818862 0.36457123 0.68900288 0.54053052]\n",
      " [0.00669318 0.40749457 0.52547109 0.57704708 0.04572941]]\n",
      "\n",
      "Sort each row of the said array:\n",
      "[[0.15700121 0.15780135 0.26238345 0.35359174 0.75881033]\n",
      " [0.18876914 0.20593678 0.57773629 0.7079059  0.83020025]\n",
      " [0.13219213 0.24355176 0.30109946 0.58612782 0.70490139]\n",
      " [0.36457123 0.44279609 0.54053052 0.68900288 0.71818862]\n",
      " [0.00669318 0.04572941 0.40749457 0.52547109 0.57704708]]\n"
     ]
    }
   ],
   "source": [
    "import numpy as np\n",
    "# create a 5x5 array with random values\n",
    "nums = np.random.rand(5, 5)\n",
    "print(\"Original array elements:\")\n",
    "print(nums)\n",
    "# sort each row\n",
    "sorted_arr = np.sort(nums, axis=1)\n",
    "print(\"\\nSort each row of the said array:\")\n",
    "print(sorted_arr)\n"
   ]
  },
  {
   "cell_type": "markdown",
   "id": "bbf9fa55",
   "metadata": {},
   "source": [
    "# 10. Write a NumPy program to create a 5x5 array with random values and sort each column."
   ]
  },
  {
   "cell_type": "code",
   "execution_count": 10,
   "id": "f3415118",
   "metadata": {},
   "outputs": [
    {
     "name": "stdout",
     "output_type": "stream",
     "text": [
      "Original array elements:\n",
      "[[0.4337807  0.38888243 0.16788402 0.40970441 0.05396337]\n",
      " [0.5612265  0.64920327 0.07147919 0.48657981 0.56350602]\n",
      " [0.61517034 0.28976195 0.2614459  0.19024545 0.52945489]\n",
      " [0.81726725 0.73441184 0.87535953 0.3633898  0.40930659]\n",
      " [0.1975469  0.54474558 0.21316215 0.57665973 0.57562275]]\n",
      "\n",
      "Sort each column of the said array:\n",
      "[[0.1975469  0.28976195 0.07147919 0.19024545 0.05396337]\n",
      " [0.4337807  0.38888243 0.16788402 0.3633898  0.40930659]\n",
      " [0.5612265  0.54474558 0.21316215 0.40970441 0.52945489]\n",
      " [0.61517034 0.64920327 0.2614459  0.48657981 0.56350602]\n",
      " [0.81726725 0.73441184 0.87535953 0.57665973 0.57562275]]\n"
     ]
    }
   ],
   "source": [
    "import numpy as np\n",
    "# create a 5x5 array with random values\n",
    "nums = np.random.rand(5, 5)\n",
    "print(\"Original array elements:\")\n",
    "print(nums)\n",
    "# sort each column\n",
    "arr_sorted = np.sort(nums, axis=0)\n",
    "# print the sorted array\n",
    "print(\"\\nSort each column of the said array:\")\n",
    "print(arr_sorted)\n"
   ]
  },
  {
   "cell_type": "markdown",
   "id": "ee411ff4",
   "metadata": {},
   "source": [
    "# 11. Write a NumPy program to create a 5x5 array with random values and find the second-largest value in each row."
   ]
  },
  {
   "cell_type": "code",
   "execution_count": 11,
   "id": "5c7dd6ae",
   "metadata": {},
   "outputs": [
    {
     "name": "stdout",
     "output_type": "stream",
     "text": [
      "Original array elements:\n",
      "[[0.54525728 0.1573066  0.79666092 0.98373108 0.33188061]\n",
      " [0.49243768 0.49972551 0.97742797 0.40146745 0.71112427]\n",
      " [0.73846396 0.16122823 0.09863815 0.91897662 0.30047359]\n",
      " [0.29288219 0.08180685 0.56446474 0.41420359 0.77308773]\n",
      " [0.64236073 0.95482104 0.77249781 0.08562443 0.50300102]]\n",
      "\n",
      "Second-largest value in each row:\n",
      "[0.79666092 0.71112427 0.73846396 0.56446474 0.77249781]\n"
     ]
    }
   ],
   "source": [
    "import numpy as np\n",
    "# create a 5x5 array with random values\n",
    "nums = np.random.rand(5, 5)\n",
    "print(\"Original array elements:\")\n",
    "print(nums)\n",
    "# find the second-largest value in each row\n",
    "second_largest = np.partition(nums, -2, axis=1)[:, -2]\n",
    "print(\"\\nSecond-largest value in each row:\")\n",
    "print(second_largest)\n"
   ]
  },
  {
   "cell_type": "markdown",
   "id": "5e18cd70",
   "metadata": {},
   "source": [
    "# 12. Write a NumPy program to create a 5x5 array with random values and find the second-largest value in each column."
   ]
  },
  {
   "cell_type": "code",
   "execution_count": 12,
   "id": "c4f71bd7",
   "metadata": {},
   "outputs": [
    {
     "name": "stdout",
     "output_type": "stream",
     "text": [
      "Original array elements:\n",
      "[[0.86217941 0.89346558 0.86229927 0.0922991  0.36971005]\n",
      " [0.6386859  0.98656647 0.06643242 0.12270325 0.0878116 ]\n",
      " [0.38517542 0.25628521 0.30643383 0.82468723 0.91637751]\n",
      " [0.11861636 0.11415444 0.48774704 0.82348061 0.65103237]\n",
      " [0.83246873 0.70059005 0.91393007 0.2275189  0.69511122]]\n",
      "\n",
      "Second-largest value in each column:\n",
      "[0.83246873 0.89346558 0.86229927 0.82348061 0.69511122]\n"
     ]
    }
   ],
   "source": [
    "import numpy as np\n",
    "# create a 5x5 array with random values\n",
    "nums = np.random.rand(5, 5)\n",
    "print(\"Original array elements:\")\n",
    "print(nums)\n",
    "# find the indices of the second-largest value in each column\n",
    "indices = np.argsort(nums, axis=0)[-2, :]\n",
    "# get the second-largest value in each column using the indices\n",
    "second_largest_values = nums[indices, np.arange(nums.shape[1])]\n",
    "print(\"\\nSecond-largest value in each column:\")\n",
    "print(second_largest_values)\n"
   ]
  },
  {
   "cell_type": "markdown",
   "id": "7e2b3871",
   "metadata": {},
   "source": [
    "# 13. Write a NumPy program to create a 5x5 array with random values and replace the maximum value with 0."
   ]
  },
  {
   "cell_type": "code",
   "execution_count": 13,
   "id": "39b2aec2",
   "metadata": {},
   "outputs": [
    {
     "name": "stdout",
     "output_type": "stream",
     "text": [
      "Original array elements:\n",
      "[[0.29923481 0.76207372 0.41867681 0.83563488 0.22281252]\n",
      " [0.46652794 0.40250222 0.25733508 0.07271291 0.63972907]\n",
      " [0.29740919 0.54201703 0.28886218 0.42797893 0.6422026 ]\n",
      " [0.15769808 0.56047195 0.22899428 0.75360624 0.45792872]\n",
      " [0.91447775 0.97906225 0.98474326 0.60086906 0.47504474]]\n",
      "\n",
      "Said array after replacing the maximum value with 0:\n",
      "[[0.29923481 0.76207372 0.41867681 0.83563488 0.22281252]\n",
      " [0.46652794 0.40250222 0.25733508 0.07271291 0.63972907]\n",
      " [0.29740919 0.54201703 0.28886218 0.42797893 0.6422026 ]\n",
      " [0.15769808 0.56047195 0.22899428 0.75360624 0.45792872]\n",
      " [0.91447775 0.97906225 0.         0.60086906 0.47504474]]\n"
     ]
    }
   ],
   "source": [
    "import numpy as np\n",
    "nums = np.random.rand(5, 5)\n",
    "print(\"Original array elements:\")\n",
    "print(nums)\n",
    "max_value = np.max(nums)\n",
    "nums[nums == max_value] = 0\n",
    "print(\"\\nSaid array after replacing the maximum value with 0:\")\n",
    "print(nums)\n"
   ]
  },
  {
   "cell_type": "markdown",
   "id": "2f011590",
   "metadata": {},
   "source": [
    "# 14. Write a NumPy program to create a 5x5 array with random values and replace the minimum value with 0."
   ]
  },
  {
   "cell_type": "code",
   "execution_count": 14,
   "id": "c25bdcce",
   "metadata": {},
   "outputs": [
    {
     "name": "stdout",
     "output_type": "stream",
     "text": [
      "Original array elements:\n",
      "[[0.60465257 0.19212837 0.59935223 0.94025967 0.89896513]\n",
      " [0.80346808 0.44829793 0.91692804 0.17736588 0.90020644]\n",
      " [0.65209815 0.19112137 0.59341666 0.49510467 0.83633524]\n",
      " [0.74896576 0.11017847 0.475337   0.38238192 0.9499203 ]\n",
      " [0.86755893 0.14619528 0.72313979 0.08128489 0.97397941]]\n",
      "\n",
      "Said array after replacing the minimum value with 0:\n",
      "[[0.60465257 0.19212837 0.59935223 0.94025967 0.89896513]\n",
      " [0.80346808 0.44829793 0.91692804 0.17736588 0.90020644]\n",
      " [0.65209815 0.19112137 0.59341666 0.49510467 0.83633524]\n",
      " [0.74896576 0.11017847 0.475337   0.38238192 0.9499203 ]\n",
      " [0.86755893 0.14619528 0.72313979 0.         0.97397941]]\n"
     ]
    }
   ],
   "source": [
    "import numpy as np\n",
    "# Create a 5x5 array with random values\n",
    "nums = np.random.rand(5, 5)\n",
    "print(\"Original array elements:\")\n",
    "print(nums)\n",
    "# Find the minimum value in the array\n",
    "min_val = nums.min()\n",
    "# Replace the minimum value with 0\n",
    "nums[nums == min_val] = 0\n",
    "# Print the updated array\n",
    "print(\"\\nSaid array after replacing the minimum value with 0:\")\n",
    "print(nums)\n"
   ]
  },
  {
   "cell_type": "markdown",
   "id": "7fa3dcfc",
   "metadata": {},
   "source": [
    "# 15. Write a NumPy program to create a 5x5 array with random values and calculate the exponential of each element."
   ]
  },
  {
   "cell_type": "code",
   "execution_count": 15,
   "id": "008f6fef",
   "metadata": {},
   "outputs": [
    {
     "name": "stdout",
     "output_type": "stream",
     "text": [
      "Original array elements:\n",
      "[[0.71697549 0.03089944 0.40190484 0.57555026 0.0644768 ]\n",
      " [0.66653278 0.13652013 0.51986404 0.07080839 0.13284185]\n",
      " [0.64008385 0.53173932 0.44172422 0.42410082 0.19809962]\n",
      " [0.26199391 0.3303792  0.51707868 0.08316576 0.52952929]\n",
      " [0.1986937  0.1095897  0.42576756 0.41704225 0.05376008]]\n",
      "\n",
      "Exponential of each element of the said array:\n",
      "[[2.04822894 1.03138178 1.49466909 1.77810868 1.06660084]\n",
      " [1.94747327 1.14627795 1.68179897 1.07337553 1.14206936]\n",
      " [1.89663991 1.70188987 1.55538673 1.52821567 1.21908384]\n",
      " [1.29951863 1.39149568 1.67712109 1.08672193 1.69813279]\n",
      " [1.21980829 1.11582016 1.53076492 1.51746663 1.0552314 ]]\n"
     ]
    }
   ],
   "source": [
    "import numpy as np\n",
    "nums = np.random.rand(5, 5)\n",
    "print(\"Original array elements:\")\n",
    "print(nums)\n",
    "exp_arr = np.exp(nums)\n",
    "print(\"\\nExponential of each element of the said array:\")\n",
    "print(exp_arr)\n"
   ]
  },
  {
   "cell_type": "code",
   "execution_count": null,
   "id": "b5c24689",
   "metadata": {},
   "outputs": [],
   "source": []
  },
  {
   "cell_type": "markdown",
   "id": "bec33af2",
   "metadata": {},
   "source": [
    "# NumPy: Advanced Exercises is Completed."
   ]
  },
  {
   "cell_type": "code",
   "execution_count": null,
   "id": "c1c158bc",
   "metadata": {},
   "outputs": [],
   "source": []
  },
  {
   "cell_type": "code",
   "execution_count": null,
   "id": "9a67faec",
   "metadata": {},
   "outputs": [],
   "source": []
  }
 ],
 "metadata": {
  "kernelspec": {
   "display_name": "Python 3 (ipykernel)",
   "language": "python",
   "name": "python3"
  },
  "language_info": {
   "codemirror_mode": {
    "name": "ipython",
    "version": 3
   },
   "file_extension": ".py",
   "mimetype": "text/x-python",
   "name": "python",
   "nbconvert_exporter": "python",
   "pygments_lexer": "ipython3",
   "version": "3.10.9"
  }
 },
 "nbformat": 4,
 "nbformat_minor": 5
}
