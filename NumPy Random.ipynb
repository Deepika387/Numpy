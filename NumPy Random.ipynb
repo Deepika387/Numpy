{
 "cells": [
  {
   "cell_type": "markdown",
   "id": "f2cdca2f",
   "metadata": {},
   "source": [
    "# 1. Write a NumPy program to generate five random numbers from the normal distribution.\n",
    "Expected Output:\n",
    "[-0.43262625 -1.10836787 1.80791413 0.69287463 -0.53742101]"
   ]
  },
  {
   "cell_type": "code",
   "execution_count": null,
   "id": "55168177",
   "metadata": {},
   "outputs": [],
   "source": [
    "import numpy as np\n",
    "x = np.random.normal(size=5)\n",
    "print(x)\n"
   ]
  },
  {
   "cell_type": "markdown",
   "id": "8fb107f9",
   "metadata": {},
   "source": [
    "# 2. Write a NumPy program to generate six random integers between 10 and 30.\n",
    "Expected Output:\n",
    "[20 28 27 17 28 29]"
   ]
  },
  {
   "cell_type": "code",
   "execution_count": null,
   "id": "19abe53f",
   "metadata": {},
   "outputs": [],
   "source": [
    "import numpy as np\n",
    "x = np.random.randint(low=10, high=30, size=6)\n",
    "print(x)\n"
   ]
  },
  {
   "cell_type": "markdown",
   "id": "fa3c28e1",
   "metadata": {},
   "source": [
    "# 3. Write a NumPy program to create a 3x3x3 array with random values.\n",
    "Expected Output:\n",
    "[[[ 0.48941799 0.58722213 0.43453926]\n",
    "[ 0.94497547 0.81081709 0.1510409 ]\n",
    "[ 0.66657127 0.29494755 0.48047144]]\n",
    "[[ 0.02287253 0.95232614 0.32264936]\n",
    "[ 0.67009741 0.25458304 0.16290913]\n",
    "[ 0.15520198 0.86826529 0.9679322 ]]\n",
    "[[ 0.13503103 0.02042211 0.24683897]\n",
    "[ 0.97852158 0.22374748 0.10798856]\n",
    "[ 0.62032646 0.5893892 0.16958144]]]"
   ]
  },
  {
   "cell_type": "code",
   "execution_count": null,
   "id": "0700531e",
   "metadata": {},
   "outputs": [],
   "source": [
    "import numpy as np\n",
    "x = np.random.random((3,3,3))\n",
    "print(x)\n"
   ]
  },
  {
   "cell_type": "markdown",
   "id": "713a0b42",
   "metadata": {},
   "source": [
    "# 4. Write a NumPy program to create a 5x5 array with random values and find the minimum and maximum values.\n",
    "Expected Output:\n",
    "Original Array:\n",
    "[[ 0.96336355 0.12339131 0.20295196 0.37243578 0.88105252]\n",
    "[ 0.93228246 0.67470158 0.38103235 0.32242645 0.40610231]\n",
    "[ 0.3113495 0.31688 0.79189089 0.08676434 0.60829874]\n",
    "[ 0.30360149 0.94316317 0.98142491 0.77222542 0.51532195]\n",
    "[ 0.97392305 0.16669609 0.81377917 0.2165645 0.00121611]]\n",
    "Minimum and Maximum Values:\n",
    "0.00121610921757 0.981424910368"
   ]
  },
  {
   "cell_type": "code",
   "execution_count": null,
   "id": "c6fbe497",
   "metadata": {},
   "outputs": [],
   "source": [
    "import numpy as np\n",
    "x = np.random.random((5,5))\n",
    "print(\"Original Array:\")\n",
    "print(x) \n",
    "xmin, xmax = x.min(), x.max()\n",
    "print(\"Minimum and Maximum Values:\")\n",
    "print(xmin, xmax)\n"
   ]
  },
  {
   "cell_type": "markdown",
   "id": "b6e22b0d",
   "metadata": {},
   "source": [
    "# 5. Write a NumPy program to create a random 10x4 array and extract the first five rows of the array and store them into a variable.\n",
    "Sample Output:\n",
    "Original array:\n",
    "[[ 0.38593391 0.52823544 0.8994567 0.22097238]\n",
    "[ 0.16639229 0.74964167 0.58102198 0.2811601 ]\n",
    "[ 0.56447627 0.42575759 0.71297527 0.91099347]\n",
    "[ 0.00261548 0.0064798 0.66096109 0.54514293]\n",
    "[ 0.7216008 0.95815426 0.53370551 0.28116107]\n",
    "[ 0.16252081 0.26191659 0.40883164 0.60653848]\n",
    "[ 0.55934457 0.37814126 0.63287808 0.01856616]\n",
    "[ 0.03788236 0.22705078 0.82024426 0.83019741]\n",
    "[ 0.31140166 0.43926341 0.38685152 0.92402934]\n",
    "[ 0.00581032 0.83925377 0.95246879 0.28570894]]\n",
    "First 5 rows of the above array:\n",
    "[[ 0.38593391 0.52823544 0.8994567 0.22097238]\n",
    "[ 0.16639229 0.74964167 0.58102198 0.2811601 ]\n",
    "[ 0.56447627 0.42575759 0.71297527 0.91099347]\n",
    "[ 0.00261548 0.0064798 0.66096109 0.54514293]\n",
    "[ 0.7216008 0.95815426 0.53370551 0.28116107]]"
   ]
  },
  {
   "cell_type": "code",
   "execution_count": null,
   "id": "16eff73a",
   "metadata": {},
   "outputs": [],
   "source": [
    "import numpy as np\n",
    "x = np.random.rand(10, 4)\n",
    "print(\"Original array: \")\n",
    "print(x)\n",
    "y= x[:5, :]\n",
    "print(\"First 5 rows of the above array:\")\n",
    "print(y)\n"
   ]
  },
  {
   "cell_type": "markdown",
   "id": "ae44592e",
   "metadata": {},
   "source": [
    "# 6. Write a NumPy program to shuffle numbers between 0 and 10 (inclusive).\n",
    "Sample Output:\n",
    "[5 7 9 0 2 3 1 6 8 4]\n",
    "Same result using permutation():\n",
    "[6 7 4 5 8 2 3 9 0 1]"
   ]
  },
  {
   "cell_type": "code",
   "execution_count": null,
   "id": "229644ab",
   "metadata": {},
   "outputs": [],
   "source": [
    "import numpy as np\n",
    "x = np.arange(10)\n",
    "np.random.shuffle(x)\n",
    "print(x)\n",
    "print(\"Same result using permutation():\")\n",
    "print(np.random.permutation(10))\n"
   ]
  },
  {
   "cell_type": "markdown",
   "id": "ae0e05c2",
   "metadata": {},
   "source": [
    "# 7. Write a NumPy program to normalize a 3x3 random matrix.\n",
    "Sample output:\n",
    "Original Array:\n",
    "[[ 0.87311805 0.96651849 0.98078621]\n",
    "[ 0.26407141 0.46784012 0.69947627]\n",
    "[ 0.20013296 0.75510414 0.26290783]]\n",
    "After normalization:\n",
    "[[ 0.86207941 0.98172337 1. ]\n",
    "[ 0.08190378 0.34292711 0.63964803]\n",
    "[ 0. 0.71090613 0.08041325]]"
   ]
  },
  {
   "cell_type": "code",
   "execution_count": null,
   "id": "ccc6335e",
   "metadata": {},
   "outputs": [],
   "source": [
    "import numpy as np\n",
    "x= np.random.random((3,3))\n",
    "print(\"Original Array:\")\n",
    "print(x)\n",
    "xmax, xmin = x.max(), x.min()\n",
    "x = (x - xmin)/(xmax - xmin)\n",
    "print(\"After normalization:\")\n",
    "print(x)\n"
   ]
  },
  {
   "cell_type": "markdown",
   "id": "c2a101b2",
   "metadata": {},
   "source": [
    "# 8. Write a NumPy program to create a random vector of size 10 and sort it.\n",
    "Expected Output:\n",
    "Original array:\n",
    "[ 0.73123073 0.67714015 0.95615347 0.4759837 0.88789818 0.6910404 2\n",
    "0.59996415 0.26144489 0.51618644 0.89943882]\n",
    "Sorted array:\n",
    "[ 0.26144489 0.4759837 0.51618644 0.59996415 0.67714015 0.6910404 2\n",
    "0.73123073 0.88789818 0.89943882 0.95615347]"
   ]
  },
  {
   "cell_type": "code",
   "execution_count": null,
   "id": "8b85970a",
   "metadata": {},
   "outputs": [],
   "source": [
    "import numpy as np\n",
    "x = np.random.random(10)\n",
    "print(\"Original array:\")\n",
    "print(x)\n",
    "x.sort()\n",
    "print(\"Sorted array:\")\n",
    "print(x)\n"
   ]
  },
  {
   "cell_type": "markdown",
   "id": "6fae13f1",
   "metadata": {},
   "source": [
    "# 9. Write a NumPy program to find the nearest value from a given value in an array.\n",
    "Expected Output:\n",
    "4.96138509939"
   ]
  },
  {
   "cell_type": "code",
   "execution_count": null,
   "id": "1ffa3b38",
   "metadata": {},
   "outputs": [],
   "source": [
    "import numpy as np\n",
    "x = np.random.uniform(1, 12, 5)\n",
    "v = 4\n",
    "n = x.flat[np.abs(x - v).argmin()]\n",
    "print(n)\n"
   ]
  },
  {
   "cell_type": "markdown",
   "id": "f3bc0749",
   "metadata": {},
   "source": [
    "# 10. Write a NumPy program to check two random arrays are equal or not.\n",
    "Sample Output:\n",
    "First array:\n",
    "[1 0 1 0 1 1]\n",
    "Second array:\n",
    "[0 0 1 1 1 0]\n",
    "Test above two arrays are equal or not!\n",
    "False"
   ]
  },
  {
   "cell_type": "code",
   "execution_count": null,
   "id": "69c25e96",
   "metadata": {},
   "outputs": [],
   "source": [
    "import numpy as np\n",
    "x = np.random.randint(0,2,6)\n",
    "print(\"First array:\")\n",
    "print(x)\n",
    "y = np.random.randint(0,2,6)\n",
    "print(\"Second array:\")\n",
    "print(y)\n",
    "print(\"Test above two arrays are equal or not!\")\n",
    "array_equal = np.allclose(x, y)\n",
    "print(array_equal)\n"
   ]
  },
  {
   "cell_type": "markdown",
   "id": "23d42147",
   "metadata": {},
   "source": [
    "# 11. Write a NumPy program to create random vector of size 15 and replace the maximum value by -1.\n",
    "Sample output:\n",
    "Original array:\n",
    "[ 0.34807512 0.76714463 0.40242311 0.5634299 0.84972926 0.92247789\n",
    "0.93791571 0.5127047 0.50796265 0.50074454 0.26067194 0.07207825\n",
    "0.04927934 0.95309433 0.14043974]\n",
    "Maximum value replaced by -1:\n",
    "[ 0.34807512 0.76714463 0.40242311 0.5634299 0.84972926 0.92247789\n",
    "0.93791571 0.5127047 0.50796265 0.50074454 0.26067194 0.07207825\n",
    "0.04927934 -1. 0.14043974]"
   ]
  },
  {
   "cell_type": "code",
   "execution_count": null,
   "id": "4387de31",
   "metadata": {},
   "outputs": [],
   "source": [
    "import numpy as np\n",
    "x = np.random.random(15)\n",
    "print(\"Original array:\")\n",
    "print(x)\n",
    "x[x.argmax()] = -1\n",
    "print(\"Maximum value replaced by -1:\")\n",
    "print(x)\n"
   ]
  },
  {
   "cell_type": "markdown",
   "id": "68eedd64",
   "metadata": {},
   "source": [
    "# 12. Write a NumPy program to find point by point distances of a random vector with shape (10,2) representing coordinates.\n",
    "Sample output:\n",
    "[[ 0. 0.09871078 0.42100075 0.75597269 0.52281832 0.13721998\n",
    "0.1761711 0.28689498 0.42061575 0.61315509]\n",
    "[ 0.09871078 0. 0.43978557 0.71086596 0.59696144 0.14701023\n",
    "0.26602812 0.19254215 0.36762701 0.68776127]\n",
    ".....\n",
    "[ 0.42061575 0.36762701 0.30691429 0.34395028 0.63326713 0.29974614\n",
    "0.47787697 0.39922329 0. 0.70954707]\n",
    "[ 0.61315509 0.68776127 0.4097455 0.85714768 0.09080178 0.55976699"
   ]
  },
  {
   "cell_type": "code",
   "execution_count": null,
   "id": "dcbd6feb",
   "metadata": {},
   "outputs": [],
   "source": [
    "import numpy as np\n",
    "a= np.random.random((10,2))\n",
    "x,y = np.atleast_2d(a[:,0], a[:,1])\n",
    "d = np.sqrt( (x-x.T)**2 + (y-y.T)**2)\n",
    "print(d)\n"
   ]
  },
  {
   "cell_type": "markdown",
   "id": "07603bb0",
   "metadata": {},
   "source": [
    "# 13. Write a NumPy program to find the most frequent value in an array.\n",
    "Sample Output:\n",
    "Original array:\n",
    "[6 9 5 1 7 5 1 0 1 5 5 0 8 9 0 7 0 7 6 5 1 1 9 5 3 8 7 9 6 3 4 5 9 7 2 7 0\n",
    "2 2 6]\n",
    "Most frequent value in the above array:\n",
    "5"
   ]
  },
  {
   "cell_type": "code",
   "execution_count": null,
   "id": "a6131cd7",
   "metadata": {},
   "outputs": [],
   "source": [
    "import numpy as np\n",
    "x = np.random.randint(0, 10, 40)\n",
    "print(\"Original array:\")\n",
    "print(x)\n",
    "print(\"Most frequent value in the above array:\")\n",
    "print(np.bincount(x).argmax())\n"
   ]
  },
  {
   "cell_type": "markdown",
   "id": "bcd61fab",
   "metadata": {},
   "source": [
    "# 14. Write a NumPy program to convert cartesian coordinates to polar coordinates of a random 10x2 matrix representing cartesian coordinates.\n",
    "Expected Output:\n",
    "[ 0.89225122 0.68774813 0.20392039 1.22093243 1.24435921 1.00358852\n",
    "0.37378547 0.8534585 0.31999648 0.567451 ]\n",
    "[ 1.02751197 1.26964967 0.02567519 0.85386412 0.73152767 0.45822494\n",
    "1.50634505 1.47389983 0.80818521 0.33001182]"
   ]
  },
  {
   "cell_type": "code",
   "execution_count": null,
   "id": "d3eec8e9",
   "metadata": {},
   "outputs": [],
   "source": [
    "import numpy as np\n",
    "z= np.random.random((10,2))\n",
    "x,y = z[:,0], z[:,1]\n",
    "r = np.sqrt(x**2+y**2)\n",
    "t = np.arctan2(y,x)\n",
    "print(r)\n",
    "print(t)\n"
   ]
  },
  {
   "cell_type": "markdown",
   "id": "62bd55de",
   "metadata": {},
   "source": [
    "# 15. Write a NumPy program to find the closest value (to a given scalar) in an array.\n",
    "Original array:\n",
    "[ 0 1 2 3 4 5 6 7 8 9 10 11 12 13 14 15 16 17 18 19 20 21 22 23 24\n",
    "25 26 27 28 29 30 31 32 33 34 35 36 37 38 39 40 41 42 43 44 45 46 47 48 49\n",
    "50 51 52 53 54 55 56 57 58 59 60 61 62 63 64 65 66 67 68 69 70 71 72 73 74\n",
    "75 76 77 78 79 80 81 82 83 84 85 86 87 88 89 90 91 92 93 94 95 96 97 98 99]\n",
    "Value to compare:\n",
    "34.99062268928913\n",
    "35"
   ]
  },
  {
   "cell_type": "code",
   "execution_count": null,
   "id": "dc4961de",
   "metadata": {},
   "outputs": [],
   "source": [
    "import numpy as np\n",
    "x = np.arange(100)\n",
    "print(\"Original array:\")\n",
    "print(x)\n",
    "a = np.random.uniform(0,100)\n",
    "print(\"Value to compare:\")\n",
    "print(a)\n",
    "index = (np.abs(x-a)).argmin()\n",
    "print(x[index])\n"
   ]
  },
  {
   "cell_type": "markdown",
   "id": "10a503e0",
   "metadata": {},
   "source": [
    "# 16. Write a NumPy program to get the n largest values of an array.\n",
    "Sample output:\n",
    "Original array:\n",
    "[0 1 2 3 4 5 6 7 8 9]\n",
    "[9]"
   ]
  },
  {
   "cell_type": "code",
   "execution_count": null,
   "id": "09ff663c",
   "metadata": {},
   "outputs": [],
   "source": [
    "import numpy as np\n",
    "x = np.arange(10)\n",
    "print(\"Original array:\")\n",
    "print(x)\n",
    "np.random.shuffle(x)\n",
    "n = 1\n",
    "print (x[np.argsort(x)[-n:]])\n"
   ]
  },
  {
   "cell_type": "markdown",
   "id": "bed6fce4",
   "metadata": {},
   "source": [
    "# 17. Write a NumPy program to create a three-dimension array with shape (300,400,5) and set to a variable. Fill the array elements with values using unsigned integer (0 to 255).\n",
    "Sample output:\n",
    "[[[215 42 224 219 43]\n",
    "[166 69 15 133 255]\n",
    "[105 95 54 37 201]\n",
    "...\n",
    "[240 22 66 232 132]\n",
    "[ 13 85 53 220 170]\n",
    "[249 62 221 146 69]]\n",
    "[[ 73 79 148 132 164]\n",
    "[ 3 93 98 138 200]\n",
    "[174 34 31 208 130]\n",
    "...\n",
    "[143 20 219 154 85]\n",
    "[219 190 170 227 246]\n",
    "[ 39 14 127 230 158]]]"
   ]
  },
  {
   "cell_type": "code",
   "execution_count": null,
   "id": "d7b54df2",
   "metadata": {},
   "outputs": [],
   "source": [
    "import numpy as np   \n",
    "np.random.seed(32) \n",
    "nums = np.random.randint(low=0, high=256, size=(300, 400, 5), dtype=np.uint8)\n",
    "print(nums)\n"
   ]
  },
  {
   "cell_type": "code",
   "execution_count": null,
   "id": "bae8d747",
   "metadata": {},
   "outputs": [],
   "source": []
  },
  {
   "cell_type": "code",
   "execution_count": null,
   "id": "b167b9bb",
   "metadata": {},
   "outputs": [],
   "source": []
  }
 ],
 "metadata": {
  "kernelspec": {
   "display_name": "Python 3 (ipykernel)",
   "language": "python",
   "name": "python3"
  },
  "language_info": {
   "codemirror_mode": {
    "name": "ipython",
    "version": 3
   },
   "file_extension": ".py",
   "mimetype": "text/x-python",
   "name": "python",
   "nbconvert_exporter": "python",
   "pygments_lexer": "ipython3",
   "version": "3.10.9"
  }
 },
 "nbformat": 4,
 "nbformat_minor": 5
}
