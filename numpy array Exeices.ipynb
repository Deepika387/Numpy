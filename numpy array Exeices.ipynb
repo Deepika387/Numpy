{
 "cells": [
  {
   "cell_type": "markdown",
   "id": "a4c3dc53",
   "metadata": {},
   "source": [
    "# 1. Write a NumPy program to print the NumPy version on your system."
   ]
  },
  {
   "cell_type": "code",
   "execution_count": 1,
   "id": "5c5fd82c",
   "metadata": {},
   "outputs": [
    {
     "name": "stdout",
     "output_type": "stream",
     "text": [
      "1.23.5\n"
     ]
    }
   ],
   "source": [
    "import numpy as np\n",
    "print(np.__version__)\n"
   ]
  },
  {
   "cell_type": "markdown",
   "id": "8548c94d",
   "metadata": {},
   "source": [
    "# 2. Write a NumPy program to convert a list of numeric values into a one-dimensional NumPy array.\n",
    "Expected Output:\n",
    "Original List: [12.23, 13.32, 100, 36.32]\n",
    "One-dimensional NumPy array: [ 12.23 13.32 100. 36.32]"
   ]
  },
  {
   "cell_type": "code",
   "execution_count": 2,
   "id": "11c28114",
   "metadata": {},
   "outputs": [
    {
     "name": "stdout",
     "output_type": "stream",
     "text": [
      "Original List: [12.23, 13.32, 100, 36.32]\n",
      "One-dimensional NumPy array:  [ 12.23  13.32 100.    36.32]\n"
     ]
    }
   ],
   "source": [
    "import numpy as np\n",
    "l = [12.23, 13.32, 100, 36.32]\n",
    "print(\"Original List:\",l)\n",
    "a = np.array(l)\n",
    "print(\"One-dimensional NumPy array: \",a)\n"
   ]
  },
  {
   "cell_type": "markdown",
   "id": "5bc245e8",
   "metadata": {},
   "source": [
    "# 3.Write a NumPy program to create a 3x3 matrix with values ranging from 2 to 10.\n",
    "Expected Output:\n",
    "[[ 2 3 4]\n",
    "[ 5 6 7]\n",
    "[ 8 9 10]]"
   ]
  },
  {
   "cell_type": "code",
   "execution_count": 3,
   "id": "8f2f6b68",
   "metadata": {},
   "outputs": [
    {
     "name": "stdout",
     "output_type": "stream",
     "text": [
      "[[ 2  3  4]\n",
      " [ 5  6  7]\n",
      " [ 8  9 10]]\n"
     ]
    }
   ],
   "source": [
    "import numpy as np\n",
    "x =  np.arange(2, 11).reshape(3,3)\n",
    "print(x)\n"
   ]
  },
  {
   "cell_type": "markdown",
   "id": "0d7b5080",
   "metadata": {},
   "source": [
    "# 4. Write a NumPy program to create a null vector of size 10 and update the sixth value to 11.\n",
    "[ 0. 0. 0. 0. 0. 0. 0. 0. 0. 0.]\n",
    "Update sixth value to 11\n",
    "[ 0. 0. 0. 0. 0. 0. 11. 0. 0. 0.]"
   ]
  },
  {
   "cell_type": "code",
   "execution_count": 4,
   "id": "48abb840",
   "metadata": {},
   "outputs": [
    {
     "name": "stdout",
     "output_type": "stream",
     "text": [
      "[0. 0. 0. 0. 0. 0. 0. 0. 0. 0.]\n",
      "Update sixth value to 11\n",
      "[ 0.  0.  0.  0.  0.  0. 11.  0.  0.  0.]\n"
     ]
    }
   ],
   "source": [
    "import numpy as np\n",
    "x = np.zeros(10)\n",
    "print(x)\n",
    "print(\"Update sixth value to 11\")\n",
    "x[6] = 11\n",
    "print(x)\n"
   ]
  },
  {
   "cell_type": "markdown",
   "id": "5234f9d1",
   "metadata": {},
   "source": [
    "# 5. Write a NumPy program to create an array with values ranging from 12 to 38.\n",
    "Expected Output:\n",
    "[12 13 14 15 16 17 18 19 20 21 22 23 24 25 26 27 28 29 30 31 32 33 34 35 36 37]"
   ]
  },
  {
   "cell_type": "code",
   "execution_count": 5,
   "id": "ff4340f9",
   "metadata": {},
   "outputs": [
    {
     "name": "stdout",
     "output_type": "stream",
     "text": [
      "[12 13 14 15 16 17 18 19 20 21 22 23 24 25 26 27 28 29 30 31 32 33 34 35\n",
      " 36 37]\n"
     ]
    }
   ],
   "source": [
    "import numpy as np\n",
    "x = np.arange(12, 38)\n",
    "print(x)\n"
   ]
  },
  {
   "cell_type": "markdown",
   "id": "27ae0748",
   "metadata": {},
   "source": [
    "# 6. Write a NumPy program to reverse an array (the first element becomes the last).\n",
    "Original array:\n",
    "[12 13 14 15 16 17 18 19 20 21 22 23 24 25 26 27 28 29 30 31 32 33 34 35 36 37]\n",
    "Reverse array:\n",
    "[37 36 35 34 33 32 31 30 29 28 27 26 25 24 23 22 21 20 19 18 17 16 15 14 13 12]"
   ]
  },
  {
   "cell_type": "code",
   "execution_count": 6,
   "id": "723a3099",
   "metadata": {},
   "outputs": [
    {
     "name": "stdout",
     "output_type": "stream",
     "text": [
      "Original array:\n",
      "[12 13 14 15 16 17 18 19 20 21 22 23 24 25 26 27 28 29 30 31 32 33 34 35\n",
      " 36 37]\n",
      "Reverse array:\n",
      "[37 36 35 34 33 32 31 30 29 28 27 26 25 24 23 22 21 20 19 18 17 16 15 14\n",
      " 13 12]\n"
     ]
    }
   ],
   "source": [
    "import numpy as np\n",
    "import numpy as np\n",
    "x = np.arange(12, 38)\n",
    "print(\"Original array:\")\n",
    "print(x)\n",
    "print(\"Reverse array:\")\n",
    "x = x[::-1]\n",
    "print(x)\n"
   ]
  },
  {
   "cell_type": "markdown",
   "id": "9915b5b0",
   "metadata": {},
   "source": [
    "# 7. Write a NumPy program to convert an array to a floating type.\n",
    "Sample output:\n",
    "Original array\n",
    "[1, 2, 3, 4]\n",
    "Array converted to a float type:\n",
    "[ 1. 2. 3. 4.]"
   ]
  },
  {
   "cell_type": "code",
   "execution_count": 7,
   "id": "5b80639e",
   "metadata": {},
   "outputs": [
    {
     "name": "stdout",
     "output_type": "stream",
     "text": [
      "Original array\n",
      "[1, 2, 3, 4]\n",
      "Array converted to a float type:\n",
      "[1. 2. 3. 4.]\n"
     ]
    }
   ],
   "source": [
    "import numpy as np\n",
    "import numpy as np\n",
    "a = [1, 2, 3, 4]\n",
    "print(\"Original array\")\n",
    "print(a)\n",
    "x = np.asfarray(a)\n",
    "print(\"Array converted to a float type:\")\n",
    "print(x)\n"
   ]
  },
  {
   "cell_type": "markdown",
   "id": "42b21158",
   "metadata": {},
   "source": [
    "# 8. Write a NumPy program to create a 2D array with 1 on the border and 0 inside.\n",
    "Expected Output:\n",
    "Original array:\n",
    "[[ 1. 1. 1. 1. 1.]\n",
    "...................\n",
    "[ 1. 1. 1. 1. 1.]]\n",
    "1 on the border and 0 inside in the array\n",
    "[[ 1. 1. 1. 1. 1.]\n",
    "...................\n",
    "[ 1. 1. 1. 1. 1.]]"
   ]
  },
  {
   "cell_type": "code",
   "execution_count": 8,
   "id": "c3d501e7",
   "metadata": {},
   "outputs": [
    {
     "name": "stdout",
     "output_type": "stream",
     "text": [
      "Original array:\n",
      "[[1. 1. 1. 1. 1.]\n",
      " [1. 1. 1. 1. 1.]\n",
      " [1. 1. 1. 1. 1.]\n",
      " [1. 1. 1. 1. 1.]\n",
      " [1. 1. 1. 1. 1.]]\n",
      "1 on the border and 0 inside in the array\n",
      "[[1. 1. 1. 1. 1.]\n",
      " [1. 0. 0. 0. 1.]\n",
      " [1. 0. 0. 0. 1.]\n",
      " [1. 0. 0. 0. 1.]\n",
      " [1. 1. 1. 1. 1.]]\n"
     ]
    }
   ],
   "source": [
    "import numpy as np\n",
    "x = np.ones((5,5))\n",
    "print(\"Original array:\")\n",
    "print(x)\n",
    "print(\"1 on the border and 0 inside in the array\")\n",
    "x[1:-1,1:-1] = 0\n",
    "print(x)\n"
   ]
  },
  {
   "cell_type": "markdown",
   "id": "91e894ca",
   "metadata": {},
   "source": [
    "# 9. Write a NumPy program to add a border (filled with 0's) around an existing array.\n",
    "Expected Output:\n",
    "Original array:\n",
    "[[ 1. 1. 1.]\n",
    "[ 1. 1. 1.]\n",
    "[ 1. 1. 1.]]\n",
    "1 on the border and 0 inside in the array\n",
    "[[ 0. 0. 0. 0. 0.]\n",
    "...........\n",
    "[ 0. 0. 0. 0. 0.]]"
   ]
  },
  {
   "cell_type": "code",
   "execution_count": 9,
   "id": "8435b8c8",
   "metadata": {},
   "outputs": [
    {
     "name": "stdout",
     "output_type": "stream",
     "text": [
      "Original array:\n",
      "[[1. 1. 1.]\n",
      " [1. 1. 1.]\n",
      " [1. 1. 1.]]\n",
      "0 on the border and 1 inside in the array\n",
      "[[0. 0. 0. 0. 0.]\n",
      " [0. 1. 1. 1. 0.]\n",
      " [0. 1. 1. 1. 0.]\n",
      " [0. 1. 1. 1. 0.]\n",
      " [0. 0. 0. 0. 0.]]\n"
     ]
    }
   ],
   "source": [
    "import numpy as np\n",
    "x = np.ones((3,3))\n",
    "print(\"Original array:\")\n",
    "print(x)\n",
    "print(\"0 on the border and 1 inside in the array\")\n",
    "x = np.pad(x, pad_width=1, mode='constant', constant_values=0)\n",
    "print(x)\n"
   ]
  },
  {
   "cell_type": "markdown",
   "id": "647f3f73",
   "metadata": {},
   "source": [
    "# 10. Write a NumPy program to create an 8x8 matrix and fill it with a checkerboard pattern.\n",
    "Checkerboard pattern:\n",
    "[[0 1 0 1 0 1 0 1]\n",
    "..........\n",
    "[0 1 0 1 0 1 0 1]\n",
    "[1 0 1 0 1 0 1 0]]"
   ]
  },
  {
   "cell_type": "code",
   "execution_count": 10,
   "id": "b4ae7504",
   "metadata": {},
   "outputs": [
    {
     "name": "stdout",
     "output_type": "stream",
     "text": [
      "Original array:\n",
      "[[1. 1. 1.]\n",
      " [1. 1. 1.]\n",
      " [1. 1. 1.]]\n",
      "0 on the border and 1 inside in the array\n",
      "[[0. 0. 0. 0. 0.]\n",
      " [0. 1. 1. 1. 0.]\n",
      " [0. 1. 1. 1. 0.]\n",
      " [0. 1. 1. 1. 0.]\n",
      " [0. 0. 0. 0. 0.]]\n"
     ]
    }
   ],
   "source": [
    "import numpy as np\n",
    "x = np.ones((3,3))\n",
    "print(\"Original array:\")\n",
    "print(x)\n",
    "print(\"0 on the border and 1 inside in the array\")\n",
    "x = np.pad(x, pad_width=1, mode='constant', constant_values=0)\n",
    "print(x)\n"
   ]
  },
  {
   "cell_type": "markdown",
   "id": "8d38e61b",
   "metadata": {},
   "source": [
    "# 11. Write a NumPy program to convert a list and tuple into arrays.\n",
    "List to array:\n",
    "[1 2 3 4 5 6 7 8]\n",
    "Tuple to array:\n",
    "[[8 4 6]\n",
    "[1 2 3]]"
   ]
  },
  {
   "cell_type": "code",
   "execution_count": 11,
   "id": "f0af2dd5",
   "metadata": {},
   "outputs": [
    {
     "name": "stdout",
     "output_type": "stream",
     "text": [
      "List to array: \n",
      "[1 2 3 4 5 6 7 8]\n",
      "Tuple to array: \n",
      "[[8 4 6]\n",
      " [1 2 3]]\n"
     ]
    }
   ],
   "source": [
    "import numpy as np\n",
    "my_list = [1, 2, 3, 4, 5, 6, 7, 8]\n",
    "print(\"List to array: \")\n",
    "print(np.asarray(my_list))\n",
    "my_tuple = ([8, 4, 6], [1, 2, 3])\n",
    "print(\"Tuple to array: \")\n",
    "print(np.asarray(my_tuple))\n"
   ]
  },
  {
   "cell_type": "markdown",
   "id": "c29f9aa7",
   "metadata": {},
   "source": [
    "# 12. Write a NumPy program to append values to the end of an array.\n",
    "Expected Output:\n",
    "Original array:\n",
    "[10, 20, 30]\n",
    "After append values to the end of the array:\n",
    "[10 20 30 40 50 60 70 80 90]"
   ]
  },
  {
   "cell_type": "code",
   "execution_count": 12,
   "id": "505963aa",
   "metadata": {},
   "outputs": [
    {
     "name": "stdout",
     "output_type": "stream",
     "text": [
      "Original array:\n",
      "[10, 20, 30]\n",
      "After append values to the end of the array:\n",
      "[10 20 30 40 50 60 70 80 90]\n"
     ]
    }
   ],
   "source": [
    "import numpy as np\n",
    "x = [10, 20, 30]\n",
    "print(\"Original array:\")\n",
    "print(x)\n",
    "x = np.append(x, [[40, 50, 60], [70, 80, 90]])\n",
    "print(\"After append values to the end of the array:\")\n",
    "print(x)\n"
   ]
  },
  {
   "cell_type": "markdown",
   "id": "b7c82976",
   "metadata": {},
   "source": [
    "# 13. Write a NumPy program to create an empty and full array.\n",
    "Expected Output:\n",
    "[ 6.93270651e-310 1.59262180e-316 6.93270559e-310 6.93270665e-310]\n",
    "[ 6.93270667e-310 6.93270671e-310 6.93270668e-310 6.93270483e-310]\n",
    "[ 6.93270668e-310 6.93270671e-310 6.93270370e-310 6.93270488e-310]]\n",
    "[[6 6 6]\n",
    "[6 6 6]\n",
    "[6 6 6]]"
   ]
  },
  {
   "cell_type": "code",
   "execution_count": 13,
   "id": "86f1ef89",
   "metadata": {},
   "outputs": [
    {
     "name": "stdout",
     "output_type": "stream",
     "text": [
      "[[1.32358467e-311 2.47032823e-322 0.00000000e+000 0.00000000e+000]\n",
      " [1.11260619e-306 6.82116729e-043 5.59007784e-091 4.74989401e-037]\n",
      " [5.44963237e-067 1.03034776e-071 3.99910963e+252 7.12602833e-067]]\n",
      "[[6 6 6]\n",
      " [6 6 6]\n",
      " [6 6 6]]\n"
     ]
    }
   ],
   "source": [
    "import numpy as np\n",
    "# Create an empty array\n",
    "x = np.empty((3,4))\n",
    "print(x)\n",
    "# Create a full array\n",
    "y = np.full((3,3),6)\n",
    "print(y)\n"
   ]
  },
  {
   "cell_type": "markdown",
   "id": "0a063015",
   "metadata": {},
   "source": [
    "# 14. Write a NumPy program to convert Centigrade degrees into Fahrenheit degrees. Centigrade values are stored in a NumPy array.\n",
    "Sample Array [0, 12, 45.21, 34, 99.91]\n",
    "[-17.78, -11.11, 7.34, 1.11, 37.73, 0. ]\n",
    "Expected Output:\n",
    "Values in Fahrenheit degrees:\n",
    "[ 0. 12. 45.21 34. 99.91 32. ]\n",
    "Values in Centigrade degrees:\n",
    "[-17.78 -11.11 7.34 1.11 37.73 0. ]\n",
    "\n",
    "Values in Centigrade degrees:\n",
    "[-17.78 -11.11 7.34 1.11 37.73 0. ]\n",
    "Values in Fahrenheit degrees:\n",
    "[-0. 12. 45.21 34. 99.91 32. ]"
   ]
  },
  {
   "cell_type": "code",
   "execution_count": 14,
   "id": "4a7c7939",
   "metadata": {},
   "outputs": [
    {
     "name": "stdout",
     "output_type": "stream",
     "text": [
      "Values in Fahrenheit degrees:\n",
      "[ 0.   12.   45.21 34.   99.91 32.  ]\n",
      "Values in  Centigrade degrees:\n",
      "[-17.78 -11.11   7.34   1.11  37.73   0.  ]\n"
     ]
    }
   ],
   "source": [
    "import numpy as np\n",
    "fvalues = [0, 12, 45.21, 34, 99.91, 32]\n",
    "F = np.array(fvalues)\n",
    "print(\"Values in Fahrenheit degrees:\")\n",
    "print(F)\n",
    "print(\"Values in  Centigrade degrees:\")\n",
    "print(np.round((5*F/9 - 5*32/9),2))\n"
   ]
  },
  {
   "cell_type": "markdown",
   "id": "86186f11",
   "metadata": {},
   "source": [
    "# 15. Write a NumPy program to find the real and imaginary parts of an array of complex numbers.\n",
    "Expected Output:\n",
    "Original array [ 1.00000000+0.j 0.70710678+0.70710678j]\n",
    "Real part of the array:\n",
    "[ 1. 0.70710678]\n",
    "Imaginary part of the array:\n",
    "[ 0. 0.70710678]"
   ]
  },
  {
   "cell_type": "code",
   "execution_count": 15,
   "id": "2797b665",
   "metadata": {},
   "outputs": [
    {
     "name": "stdout",
     "output_type": "stream",
     "text": [
      "Original array:x  [1.+0.j]\n",
      "Original array:y  [0.70710678+0.70710678j]\n",
      "Real part of the array:\n",
      "[1.]\n",
      "[0.70710678]\n",
      "Imaginary part of the array:\n",
      "[0.]\n",
      "[0.70710678]\n"
     ]
    }
   ],
   "source": [
    "import numpy as np\n",
    "x = np.sqrt([1+0j])\n",
    "y = np.sqrt([0+1j])\n",
    "print(\"Original array:x \",x)\n",
    "print(\"Original array:y \",y)\n",
    "print(\"Real part of the array:\")\n",
    "print(x.real)\n",
    "print(y.real)\n",
    "print(\"Imaginary part of the array:\")\n",
    "print(x.imag)\n",
    "print(y.imag)\n"
   ]
  },
  {
   "cell_type": "markdown",
   "id": "362e5b0e",
   "metadata": {},
   "source": [
    "# 16. Write a NumPy program to find the number of elements in an array. It also finds the length of one array element in bytes and the total bytes consumed by the elements.\n",
    "Expected Output:\n",
    "Size of the array: 3\n",
    "Length of one array element in bytes: 8\n",
    "Total bytes consumed by the elements of the array: 24"
   ]
  },
  {
   "cell_type": "code",
   "execution_count": 16,
   "id": "4d7bc13c",
   "metadata": {},
   "outputs": [
    {
     "name": "stdout",
     "output_type": "stream",
     "text": [
      "Size of the array:  3\n",
      "Length of one array element in bytes:  8\n",
      "Total bytes consumed by the elements of the array:  24\n"
     ]
    }
   ],
   "source": [
    "import numpy as np\n",
    "x = np.array([1,2,3], dtype=np.float64)\n",
    "print(\"Size of the array: \", x.size)\n",
    "print(\"Length of one array element in bytes: \", x.itemsize)\n",
    "print(\"Total bytes consumed by the elements of the array: \", x.nbytes)\n"
   ]
  },
  {
   "cell_type": "markdown",
   "id": "aab98b76",
   "metadata": {},
   "source": [
    "# 17. Write a NumPy program to test whether each element of a 1-D array is also present in a second array.\n",
    "Expected Output:\n",
    "Array1: [ 0 10 20 40 60]\n",
    "Array2: [0, 40]\n",
    "Compare each element of array1 and array2\n",
    "[ True False False True False]"
   ]
  },
  {
   "cell_type": "code",
   "execution_count": 17,
   "id": "81418a34",
   "metadata": {},
   "outputs": [
    {
     "name": "stdout",
     "output_type": "stream",
     "text": [
      "Array1:  [ 0 10 20 40 60]\n",
      "Array2:  [0, 40]\n",
      "Compare each element of array1 and array2\n",
      "[ True False False  True False]\n"
     ]
    }
   ],
   "source": [
    "import numpy as np\n",
    "array1 = np.array([0, 10, 20, 40, 60])\n",
    "print(\"Array1: \",array1)\n",
    "array2 = [0, 40]\n",
    "print(\"Array2: \",array2)\n",
    "print(\"Compare each element of array1 and array2\")\n",
    "print(np.in1d(array1, array2))\n"
   ]
  },
  {
   "cell_type": "markdown",
   "id": "4e6681a7",
   "metadata": {},
   "source": [
    "# 18. Write a NumPy program to find common values between two arrays.\n",
    "Expected Output:\n",
    "Array1: [ 0 10 20 40 60]\n",
    "Array2: [10, 30, 40]\n",
    "Common values between two arrays:\n",
    "[10 40]"
   ]
  },
  {
   "cell_type": "code",
   "execution_count": 18,
   "id": "6dbd2844",
   "metadata": {},
   "outputs": [
    {
     "name": "stdout",
     "output_type": "stream",
     "text": [
      "Array1:  [ 0 10 20 40 60]\n",
      "Array2:  [10, 30, 40]\n",
      "Common values between two arrays:\n",
      "[10 40]\n"
     ]
    }
   ],
   "source": [
    "import numpy as np\n",
    "array1 = np.array([0, 10, 20, 40, 60])\n",
    "print(\"Array1: \",array1)\n",
    "array2 = [10, 30, 40]\n",
    "print(\"Array2: \",array2)\n",
    "print(\"Common values between two arrays:\")\n",
    "print(np.intersect1d(array1, array2))\n"
   ]
  },
  {
   "cell_type": "markdown",
   "id": "e1023f93",
   "metadata": {},
   "source": [
    "# 19. Write a NumPy program to get the unique elements of an array.\n",
    "Expected Output:\n",
    "Original array:\n",
    "[10 10 20 20 30 30]\n",
    "Unique elements of the above array:\n",
    "[10 20 30]\n",
    "Original array:\n",
    "[[1 1]\n",
    "[2 3]]\n",
    "Unique elements of the above array:\n",
    "[1 2 3]"
   ]
  },
  {
   "cell_type": "code",
   "execution_count": 19,
   "id": "b6e9c1a5",
   "metadata": {},
   "outputs": [
    {
     "name": "stdout",
     "output_type": "stream",
     "text": [
      "Original array:\n",
      "[10 10 20 20 30 30]\n",
      "Unique elements of the above array:\n",
      "[10 20 30]\n",
      "Original array:\n",
      "[[1 1]\n",
      " [2 3]]\n",
      "Unique elements of the above array:\n",
      "[1 2 3]\n"
     ]
    }
   ],
   "source": [
    "import numpy as np\n",
    "x = np.array([10, 10, 20, 20, 30, 30])\n",
    "print(\"Original array:\")\n",
    "print(x)\n",
    "print(\"Unique elements of the above array:\")\n",
    "print(np.unique(x))\n",
    "x = np.array([[1, 1], [2, 3]])\n",
    "print(\"Original array:\")\n",
    "print(x)\n",
    "print(\"Unique elements of the above array:\")\n",
    "print(np.unique(x))\n"
   ]
  },
  {
   "cell_type": "markdown",
   "id": "b57a3993",
   "metadata": {},
   "source": [
    "# 20. Write a NumPy program to find the set difference between two arrays. The set difference will return sorted, distinct values in array1 that are not in array2.\n",
    "Expected Output:\n",
    "Array1: [ 0 10 20 40 60 80]\n",
    "Array2: [10, 30, 40, 50, 70, 90]\n",
    "Set difference between two arrays:\n",
    "[ 0 20 60 80]"
   ]
  },
  {
   "cell_type": "code",
   "execution_count": 20,
   "id": "66066601",
   "metadata": {},
   "outputs": [
    {
     "name": "stdout",
     "output_type": "stream",
     "text": [
      "Array1:  [ 0 10 20 40 60 80]\n",
      "Array2:  [10, 30, 40, 50, 70]\n",
      "Unique values in array1 that are not in array2:\n",
      "[ 0 20 60 80]\n"
     ]
    }
   ],
   "source": [
    "import numpy as np\n",
    "array1 = np.array([0, 10, 20, 40, 60, 80])\n",
    "print(\"Array1: \",array1)\n",
    "array2 = [10, 30, 40, 50, 70]\n",
    "print(\"Array2: \",array2)\n",
    "print(\"Unique values in array1 that are not in array2:\")\n",
    "print(np.setdiff1d(array1, array2))\n"
   ]
  },
  {
   "cell_type": "markdown",
   "id": "7dbf7e9e",
   "metadata": {},
   "source": [
    "# 21. Write a NumPy program to find the set exclusive-or of two arrays. Set exclusive-or will return sorted, distinct values in only one (not both) of the input arrays.\n",
    "Array1: [ 0 10 20 40 60 80]\n",
    "Array2: [10, 30, 40, 50, 70]\n",
    "Unique values that are in only one (not both) of the input arrays:\n",
    "[ 0 20 30 50 60 70 80]"
   ]
  },
  {
   "cell_type": "code",
   "execution_count": 21,
   "id": "1f926de8",
   "metadata": {},
   "outputs": [
    {
     "name": "stdout",
     "output_type": "stream",
     "text": [
      "Array1:  [ 0 10 20 40 60 80]\n",
      "Array2:  [10, 30, 40, 50, 70]\n",
      "Unique values that are in only one (not both) of the input arrays:\n",
      "[ 0 20 30 50 60 70 80]\n"
     ]
    }
   ],
   "source": [
    "import numpy as np\n",
    "array1 = np.array([0, 10, 20, 40, 60, 80])\n",
    "print(\"Array1: \",array1)\n",
    "array2 = [10, 30, 40, 50, 70]\n",
    "print(\"Array2: \",array2)\n",
    "print(\"Unique values that are in only one (not both) of the input arrays:\")\n",
    "print(np.setxor1d(array1, array2))\n"
   ]
  },
  {
   "cell_type": "markdown",
   "id": "4e081034",
   "metadata": {},
   "source": [
    "# 22. Write a NumPy program to find the union of two arrays. Union will return a unique, sorted array of values in each of the two input arrays.\n",
    "Array1: [ 0 10 20 40 60 80]\n",
    "Array2: [10, 30, 40, 50, 70]\n",
    "Unique sorted array of values that are in either of the two input arrays:\n",
    "[ 0 10 20 30 40 50 60 70 80]"
   ]
  },
  {
   "cell_type": "code",
   "execution_count": 22,
   "id": "2c6e370d",
   "metadata": {},
   "outputs": [
    {
     "name": "stdout",
     "output_type": "stream",
     "text": [
      "Array1:  [ 0 10 20 40 60 80]\n",
      "Array2:  [10, 30, 40, 50, 70]\n",
      "Unique sorted array of values that are in either of the two input arrays:\n",
      "[ 0 10 20 30 40 50 60 70 80]\n"
     ]
    }
   ],
   "source": [
    "import numpy as np\n",
    "array1 = np.array([0, 10, 20, 40, 60, 80])\n",
    "print(\"Array1: \",array1)\n",
    "array2 = [10, 30, 40, 50, 70]\n",
    "print(\"Array2: \",array2)\n",
    "print(\"Unique sorted array of values that are in either of the two input arrays:\")\n",
    "print(np.union1d(array1, array2))\n"
   ]
  },
  {
   "cell_type": "markdown",
   "id": "0703d89c",
   "metadata": {},
   "source": [
    "# 23. Write a NumPy program to test whether all elements in an array evaluate to True.\n",
    "Note: 0 evaluates to False in NumPy."
   ]
  },
  {
   "cell_type": "code",
   "execution_count": 23,
   "id": "fb1b9f18",
   "metadata": {},
   "outputs": [
    {
     "name": "stdout",
     "output_type": "stream",
     "text": [
      "False\n",
      "True\n",
      "False\n",
      "True\n"
     ]
    }
   ],
   "source": [
    "import numpy as np\n",
    "print(np.all([[True,False],[True,True]]))\n",
    "print(np.all([[True,True],[True,True]]))\n",
    "print(np.all([10, 20, 0, -50]))\n",
    "print(np.all([10, 20, -50]))\n"
   ]
  },
  {
   "cell_type": "markdown",
   "id": "cecd112b",
   "metadata": {},
   "source": [
    "# 24. Write a NumPy program to test whether any array element along a given axis evaluates to True.\n",
    "Note: 0 evaluates to False in NumPy."
   ]
  },
  {
   "cell_type": "code",
   "execution_count": 24,
   "id": "15ba0fc0",
   "metadata": {},
   "outputs": [
    {
     "name": "stdout",
     "output_type": "stream",
     "text": [
      "False\n",
      "True\n",
      "True\n",
      "True\n"
     ]
    }
   ],
   "source": [
    "import numpy as np\n",
    "print(np.any([[False,False],[False,False]]))\n",
    "print(np.any([[True,True],[True,True]]))\n",
    "print(np.any([10, 20, 0, -50]))\n",
    "print(np.any([10, 20, -50]))\n"
   ]
  },
  {
   "cell_type": "markdown",
   "id": "9a791464",
   "metadata": {},
   "source": [
    "# 25. Write a NumPy program to construct an array by repeating.\n",
    "\n",
    "Sample array: [1, 2, 3, 4]\n",
    "Expected Output:\n",
    "Original array\n",
    "[1, 2, 3, 4]\n",
    "Repeating 2 times\n",
    "[1 2 3 4 1 2 3 4]\n",
    "Repeating 3 times\n",
    "[1 2 3 4 1 2 3 4 1 2 3 4]"
   ]
  },
  {
   "cell_type": "code",
   "execution_count": 25,
   "id": "bbd7bf9b",
   "metadata": {},
   "outputs": [
    {
     "name": "stdout",
     "output_type": "stream",
     "text": [
      "Original array\n",
      "[1, 2, 3, 4]\n",
      "Repeating 2 times\n",
      "[1 2 3 4 1 2 3 4]\n",
      "Repeating 3 times\n",
      "[1 2 3 4 1 2 3 4 1 2 3 4]\n"
     ]
    }
   ],
   "source": [
    "import numpy as np\n",
    "a = [1, 2, 3, 4]\n",
    "print(\"Original array\")\n",
    "print(a)\n",
    "print(\"Repeating 2 times\")\n",
    "x = np.tile(a, 2)\n",
    "print(x)\n",
    "print(\"Repeating 3 times\")\n",
    "x = np.tile(a, 3)\n",
    "print(x)\n"
   ]
  },
  {
   "cell_type": "markdown",
   "id": "31045c0f",
   "metadata": {},
   "source": [
    "# 26.Write a NumPy program to repeat array elements.\n",
    "Expected Output:\n",
    "[3 3 3 3]\n",
    "[1 1 2 2 3 3 4 4]"
   ]
  },
  {
   "cell_type": "code",
   "execution_count": 26,
   "id": "f94a7f57",
   "metadata": {},
   "outputs": [
    {
     "name": "stdout",
     "output_type": "stream",
     "text": [
      "[3 3 3 3]\n",
      "[1 1 2 2 3 3 4 4]\n"
     ]
    }
   ],
   "source": [
    "import numpy as np\n",
    "x = np.repeat(3, 4)\n",
    "print(x)\n",
    "x = np.array([[1,2],[3,4]])\n",
    "print(np.repeat(x, 2))\n"
   ]
  },
  {
   "cell_type": "markdown",
   "id": "d28a8530",
   "metadata": {},
   "source": [
    "# 27. Write a NumPy program to find the indices of the maximum and minimum values along the given axis of an array.\n",
    "Original array: [1 2 3 4 5 6]\n",
    "Maximum Values: 5\n",
    "Minimum Values: 0"
   ]
  },
  {
   "cell_type": "code",
   "execution_count": 27,
   "id": "5153bf27",
   "metadata": {},
   "outputs": [
    {
     "name": "stdout",
     "output_type": "stream",
     "text": [
      "Original array:  [1 2 3 4 5 6]\n",
      "Maximum Values:  5\n",
      "Minimum Values:  0\n"
     ]
    }
   ],
   "source": [
    "import numpy as np\n",
    "x = np.array([1, 2, 3, 4, 5, 6])\n",
    "print(\"Original array: \",x)\n",
    "print(\"Maximum Values: \",np.argmax(x))\n",
    "print(\"Minimum Values: \",np.argmin(x))\n"
   ]
  },
  {
   "cell_type": "markdown",
   "id": "6b68f49c",
   "metadata": {},
   "source": [
    "# 28. Write a NumPy program to compare two arrays using NumPy.\n",
    "Array a: [1 2]\n",
    "Array b: [4 5]\n",
    "a > b\n",
    "[False False]\n",
    "a >= b\n",
    "[False False]\n",
    "a < b\n",
    "[ True True]\n",
    "a <= b\n",
    "[ True True]"
   ]
  },
  {
   "cell_type": "code",
   "execution_count": 28,
   "id": "4adcdd8b",
   "metadata": {},
   "outputs": [
    {
     "name": "stdout",
     "output_type": "stream",
     "text": [
      "Array a:  [1 2]\n",
      "Array b:  [4 5]\n",
      "a > b\n",
      "[False False]\n",
      "a >= b\n",
      "[False False]\n",
      "a < b\n",
      "[ True  True]\n",
      "a <= b\n",
      "[ True  True]\n"
     ]
    }
   ],
   "source": [
    "import numpy as np\n",
    "a = np.array([1, 2])\n",
    "b = np.array([4, 5])\n",
    "print(\"Array a: \",a)\n",
    "print(\"Array b: \",b)\n",
    "print(\"a > b\")\n",
    "print(np.greater(a, b))\n",
    "print(\"a >= b\")\n",
    "print(np.greater_equal(a, b))\n",
    "print(\"a < b\")\n",
    "print(np.less(a, b))\n",
    "print(\"a <= b\")\n",
    "print(np.less_equal(a, b))\n"
   ]
  },
  {
   "cell_type": "markdown",
   "id": "d30c9802",
   "metadata": {},
   "source": [
    "# 29. Write a NumPy program to sort along the first and last axes of an array.\n",
    "Sample array: [[2,5],[4,4]]\n",
    "Expected Output:\n",
    "Original array:\n",
    "[[4 6]\n",
    "[2 1]]\n",
    "Sort along the first axis:\n",
    "[[2 1]\n",
    "[4 6]]\n",
    "Sort along the last axis:\n",
    "[[1 2]\n",
    "[4 6]]"
   ]
  },
  {
   "cell_type": "code",
   "execution_count": 29,
   "id": "706e0adc",
   "metadata": {},
   "outputs": [
    {
     "name": "stdout",
     "output_type": "stream",
     "text": [
      "Original array: \n",
      "[[4 6]\n",
      " [2 1]]\n",
      "Sort along the first axis: \n",
      "[[2 1]\n",
      " [4 6]]\n",
      "Sort along the last axis: \n",
      "[[1 2]\n",
      " [4 6]]\n"
     ]
    }
   ],
   "source": [
    "import numpy as np\n",
    "a = np.array([[4, 6],[2, 1]])\n",
    "print(\"Original array: \")\n",
    "print(a)\n",
    "print(\"Sort along the first axis: \")\n",
    "x = np.sort(a, axis=0)\n",
    "print(x)\n",
    "print(\"Sort along the last axis: \")\n",
    "y = np.sort(x, axis=1)\n",
    "print(y)\n"
   ]
  },
  {
   "cell_type": "markdown",
   "id": "bd62dcc4",
   "metadata": {},
   "source": [
    "# 30. Write a NumPy program to sort pairs of a first name and a last name and return their indices (first by last name, then by first name).\n",
    "first_names = (Betsey, Shelley, Lanell, Genesis, Margery)\n",
    "last_names = (Battle, Brien, Plotner, Stahl, Woolum)\n",
    "Expected Output:\n",
    "[1 3 2 4 0]"
   ]
  },
  {
   "cell_type": "code",
   "execution_count": 30,
   "id": "7985e043",
   "metadata": {},
   "outputs": [
    {
     "name": "stdout",
     "output_type": "stream",
     "text": [
      "[1 3 2 4 0]\n"
     ]
    }
   ],
   "source": [
    "import numpy as np\n",
    "first_names =    ('Margery', 'Betsey', 'Shelley', 'Lanell', 'Genesis')\n",
    "last_names = ('Woolum', 'Battle', 'Plotner', 'Brien', 'Stahl')\n",
    "x = np.lexsort((first_names, last_names))\n",
    "print(x)\n"
   ]
  },
  {
   "cell_type": "markdown",
   "id": "50145f4a",
   "metadata": {},
   "source": [
    "# 31. Write a NumPy program to get the values and indices of the elements that are bigger than 10 in a given array.\n",
    "Original array:\n",
    "[[ 0 10 20]\n",
    "[20 30 40]]\n",
    "Values bigger than 10 = [20 20 30 40]\n",
    "Their indices are (array([0, 1, 1, 1]), array([2, 0, 1, 2]))"
   ]
  },
  {
   "cell_type": "code",
   "execution_count": 31,
   "id": "e2c6a84c",
   "metadata": {},
   "outputs": [
    {
     "name": "stdout",
     "output_type": "stream",
     "text": [
      "Original array: \n",
      "[[ 0 10 20]\n",
      " [20 30 40]]\n",
      "Values bigger than 10 = [20 20 30 40]\n",
      "Their indices are  (array([0, 1, 1, 1], dtype=int64), array([2, 0, 1, 2], dtype=int64))\n"
     ]
    }
   ],
   "source": [
    "import numpy as np\n",
    "x = np.array([[0, 10, 20], [20, 30, 40]])\n",
    "print(\"Original array: \")\n",
    "print(x)\n",
    "print(\"Values bigger than 10 =\", x[x>10])\n",
    "print(\"Their indices are \", np.nonzero(x > 10))\n"
   ]
  },
  {
   "cell_type": "markdown",
   "id": "52ac1cdc",
   "metadata": {},
   "source": [
    "# 32. Write a NumPy program to save a NumPy array to a text file."
   ]
  },
  {
   "cell_type": "code",
   "execution_count": 32,
   "id": "e8dcb431",
   "metadata": {},
   "outputs": [],
   "source": [
    "import numpy as np\n",
    "a = np.arange(1.0, 2.0, 36.2)\n",
    "np.savetxt('file.out', a, delimiter=',')\n"
   ]
  },
  {
   "cell_type": "markdown",
   "id": "f18a8c65",
   "metadata": {},
   "source": [
    "# 33. Write a NumPy program to find the memory size of a NumPy array.\n",
    "Expected Output:\n",
    "128 bytes"
   ]
  },
  {
   "cell_type": "code",
   "execution_count": 33,
   "id": "56d63f01",
   "metadata": {},
   "outputs": [
    {
     "name": "stdout",
     "output_type": "stream",
     "text": [
      "128 bytes\n"
     ]
    }
   ],
   "source": [
    "import numpy as np\n",
    "n = np.zeros((4,4))\n",
    "print(\"%d bytes\" % (n.size * n.itemsize))\n"
   ]
  },
  {
   "cell_type": "markdown",
   "id": "0bb096de",
   "metadata": {},
   "source": [
    "# 34. Write a NumPy program to create an array of ones and zeros.\n",
    "Expected Output:\n",
    "Create an array of zeros\n",
    "Default type is float\n",
    "[[ 0. 0.]]\n",
    "Type changes to int\n",
    "[[0 0]]\n",
    "Create an array of ones\n",
    "Default type is float\n",
    "[[ 1. 1.]]\n",
    "Type changes to int\n",
    "[[1 1]]"
   ]
  },
  {
   "cell_type": "code",
   "execution_count": 34,
   "id": "107d5eda",
   "metadata": {},
   "outputs": [
    {
     "name": "stdout",
     "output_type": "stream",
     "text": [
      "Create an array of zeros\n",
      "Default type is float\n",
      "[[0. 0.]]\n",
      "Type changes to int\n",
      "[[0 0]]\n",
      "Create an array of ones\n",
      "Default type is float\n",
      "[[1. 1.]]\n",
      "Type changes to int\n",
      "[[1 1]]\n"
     ]
    },
    {
     "name": "stderr",
     "output_type": "stream",
     "text": [
      "C:\\Users\\Akshit Koche\\AppData\\Local\\Temp\\ipykernel_10708\\3930206755.py:7: DeprecationWarning: `np.int` is a deprecated alias for the builtin `int`. To silence this warning, use `int` by itself. Doing this will not modify any behavior and is safe. When replacing `np.int`, you may wish to use e.g. `np.int64` or `np.int32` to specify the precision. If you wish to review your current use, check the release note link for additional information.\n",
      "Deprecated in NumPy 1.20; for more details and guidance: https://numpy.org/devdocs/release/1.20.0-notes.html#deprecations\n",
      "  x = np.zeros((1,2), dtype = np.int)\n",
      "C:\\Users\\Akshit Koche\\AppData\\Local\\Temp\\ipykernel_10708\\3930206755.py:14: DeprecationWarning: `np.int` is a deprecated alias for the builtin `int`. To silence this warning, use `int` by itself. Doing this will not modify any behavior and is safe. When replacing `np.int`, you may wish to use e.g. `np.int64` or `np.int32` to specify the precision. If you wish to review your current use, check the release note link for additional information.\n",
      "Deprecated in NumPy 1.20; for more details and guidance: https://numpy.org/devdocs/release/1.20.0-notes.html#deprecations\n",
      "  y = np.ones((1,2), dtype = np.int)\n"
     ]
    }
   ],
   "source": [
    "import numpy as np\n",
    "print(\"Create an array of zeros\")\n",
    "x = np.zeros((1,2))\n",
    "print(\"Default type is float\")\n",
    "print(x)\n",
    "print(\"Type changes to int\")\n",
    "x = np.zeros((1,2), dtype = np.int)\n",
    "print(x)\n",
    "print(\"Create an array of ones\")\n",
    "y= np.ones((1,2)) \n",
    "print(\"Default type is float\")\n",
    "print(y)\n",
    "print(\"Type changes to int\")\n",
    "y = np.ones((1,2), dtype = np.int)\n",
    "print(y)\n"
   ]
  },
  {
   "cell_type": "markdown",
   "id": "c54451da",
   "metadata": {},
   "source": [
    "# 35. Write a NumPy program to change an array's dimension.\n",
    "Expected Output:\n",
    "6 rows and 0 columns\n",
    "(6,)\n",
    "(3, 3) -> 3 rows and 3 columns\n",
    "[[1 2 3]\n",
    "[4 5 6]\n",
    "[7 8 9]]\n",
    "Change array shape to (3, 3) -> 3 rows and 3 columns\n",
    "[[1 2 3]\n",
    "[4 5 6]\n",
    "[7 8 9]]"
   ]
  },
  {
   "cell_type": "code",
   "execution_count": 35,
   "id": "0bdca568",
   "metadata": {},
   "outputs": [
    {
     "name": "stdout",
     "output_type": "stream",
     "text": [
      "6 rows and 0 columns\n",
      "(6,)\n",
      "(3, 3) -> 3 rows and 3 columns \n",
      "[[1 2 3]\n",
      " [4 5 6]\n",
      " [7 8 9]]\n",
      "Change array shape to (3, 3) -> 3 rows and 3 columns \n",
      "[[1 2 3]\n",
      " [4 5 6]\n",
      " [7 8 9]]\n"
     ]
    }
   ],
   "source": [
    "import numpy as np\n",
    "x = np.array([1, 2, 3, 4, 5, 6])\n",
    "print(\"6 rows and 0 columns\")\n",
    "print(x.shape)\n",
    "\n",
    "y = np.array([[1, 2, 3],[4, 5, 6],[7,8,9]])\n",
    "print(\"(3, 3) -> 3 rows and 3 columns \")\n",
    "print(y)\n",
    "\n",
    "x = np.array([1,2,3,4,5,6,7,8,9])\n",
    "print(\"Change array shape to (3, 3) -> 3 rows and 3 columns \")\n",
    "x.shape = (3, 3)\n",
    "print(x)\n"
   ]
  },
  {
   "cell_type": "markdown",
   "id": "bfae4638",
   "metadata": {},
   "source": [
    "# 36. Write a NumPy program to create a contiguous flattened array.\n",
    "Original array:\n",
    "[[10 20 30]\n",
    "[20 40 50]]\n",
    "New flattened array:\n",
    "[10 20 30 20 40 50]"
   ]
  },
  {
   "cell_type": "code",
   "execution_count": 36,
   "id": "b52ffc06",
   "metadata": {},
   "outputs": [
    {
     "name": "stdout",
     "output_type": "stream",
     "text": [
      "Original array:\n",
      "[[10 20 30]\n",
      " [20 40 50]]\n",
      "New flattened array:\n",
      "[10 20 30 20 40 50]\n"
     ]
    }
   ],
   "source": [
    "import numpy as np\n",
    "x = np.array([[10, 20, 30], [20, 40, 50]])\n",
    "print(\"Original array:\")\n",
    "print(x)\n",
    "y = np.ravel(x)\n",
    "print(\"New flattened array:\")\n",
    "print(y)\n"
   ]
  },
  {
   "cell_type": "markdown",
   "id": "b6ea9512",
   "metadata": {},
   "source": [
    "# 37. Write a NumPy program to create a 2-dimensional array of size 2 x 3 (composed of 4-byte integer elements), also print the shape, type and data type of the array.\n",
    "Expected Output:\n",
    "\n",
    "(2, 3)\n",
    "int32"
   ]
  },
  {
   "cell_type": "code",
   "execution_count": 37,
   "id": "0a5331f1",
   "metadata": {},
   "outputs": [
    {
     "name": "stdout",
     "output_type": "stream",
     "text": [
      "<class 'numpy.ndarray'>\n",
      "(2, 3)\n",
      "int32\n"
     ]
    }
   ],
   "source": [
    "import numpy as np\n",
    "x = np.array([[2, 4, 6], [6, 8, 10]], np.int32)\n",
    "print(type(x))\t\n",
    "print(x.shape)\n",
    "print(x.dtype)\n"
   ]
  },
  {
   "cell_type": "markdown",
   "id": "67d1518d",
   "metadata": {},
   "source": [
    "# 38. Write a NumPy program to create another shape from an array without changing its data.\n",
    "Reshape 3x2:\n",
    "[[1 2]\n",
    "[3 4]\n",
    "[5 6]]\n",
    "Reshape 2x3:\n",
    "[[1 2 3]\n",
    "[4 5 6]]"
   ]
  },
  {
   "cell_type": "code",
   "execution_count": 38,
   "id": "0d2edb6b",
   "metadata": {},
   "outputs": [
    {
     "name": "stdout",
     "output_type": "stream",
     "text": [
      "Reshape 3x2:\n",
      "[[1 2]\n",
      " [3 4]\n",
      " [5 6]]\n",
      "Reshape 2x3:\n",
      "[[1 2 3]\n",
      " [4 5 6]]\n"
     ]
    }
   ],
   "source": [
    "import numpy as np\n",
    "x = np.array([1, 2, 3, 4, 5, 6])\n",
    "y = np.reshape(x,(3,2))\n",
    "print(\"Reshape 3x2:\")\n",
    "print(y)\n",
    "z = np.reshape(x,(2,3))\n",
    "print(\"Reshape 2x3:\")\n",
    "print(z)\n"
   ]
  },
  {
   "cell_type": "markdown",
   "id": "cbaff9c4",
   "metadata": {},
   "source": [
    "# 39. Write a NumPy program to change an array's data type.\n",
    "Expected Output:\n",
    "[[ 2 4 6]\n",
    "[ 6 8 10]]\n",
    "Data type of the array x is: int32\n",
    "New Type: float64\n",
    "[[ 2. 4. 6.]\n",
    "[ 6. 8. 10.]]"
   ]
  },
  {
   "cell_type": "code",
   "execution_count": 39,
   "id": "51c97247",
   "metadata": {},
   "outputs": [
    {
     "name": "stdout",
     "output_type": "stream",
     "text": [
      "[[ 2  4  6]\n",
      " [ 6  8 10]]\n",
      "Data type of the array x is: int32\n",
      "New Type:  float64\n",
      "[[ 2.  4.  6.]\n",
      " [ 6.  8. 10.]]\n"
     ]
    }
   ],
   "source": [
    "import numpy as np\n",
    "x = np.array([[2, 4, 6], [6, 8, 10]], np.int32)\n",
    "print(x)\n",
    "print(\"Data type of the array x is:\",x.dtype)\n",
    "# Change the data type of x\n",
    "y = x.astype(float)\n",
    "print(\"New Type: \",y.dtype)\n",
    "print(y)\n"
   ]
  },
  {
   "cell_type": "markdown",
   "id": "b7d020c4",
   "metadata": {},
   "source": [
    "# 40. Write a NumPy program to create a new array of 3*5, filled with 2.\n",
    "Expected Output:\n",
    "[[2 2 2 2 2]\n",
    "[2 2 2 2 2]\n",
    "[2 2 2 2 2]]\n",
    "[[2 2 2 2 2]\n",
    "[2 2 2 2 2]\n",
    "[2 2 2 2 2]]\n"
   ]
  },
  {
   "cell_type": "code",
   "execution_count": 40,
   "id": "70d8924f",
   "metadata": {},
   "outputs": [
    {
     "name": "stdout",
     "output_type": "stream",
     "text": [
      "[[2 2 2 2 2]\n",
      " [2 2 2 2 2]\n",
      " [2 2 2 2 2]]\n",
      "[[2 2 2 2 2]\n",
      " [2 2 2 2 2]\n",
      " [2 2 2 2 2]]\n"
     ]
    }
   ],
   "source": [
    "import numpy as np\n",
    "#using no.full\n",
    "x = np.full((3, 5), 2, dtype=np.uint)\n",
    "print(x)\n",
    "#using no.ones\n",
    "y = np.ones([3, 5], dtype=np.uint) *2\n",
    "print(y)\n"
   ]
  },
  {
   "cell_type": "markdown",
   "id": "59084979",
   "metadata": {},
   "source": [
    "# 41. Write a NumPy program to create an array of 10's with the same shape and type as the given array.\n",
    "Sample array: x = np.arange(4, dtype=np.int64)\n",
    "Expected Output:\n",
    "[10 10 10 10]"
   ]
  },
  {
   "cell_type": "code",
   "execution_count": 41,
   "id": "db81d452",
   "metadata": {},
   "outputs": [
    {
     "name": "stdout",
     "output_type": "stream",
     "text": [
      "[10 10 10 10]\n"
     ]
    }
   ],
   "source": [
    "import numpy as np\n",
    "x = np.arange(4, dtype=np.int64)\n",
    "y = np.full_like(x, 10)\n",
    "print(y)\n"
   ]
  },
  {
   "cell_type": "markdown",
   "id": "f86e0ebb",
   "metadata": {},
   "source": [
    "# 42. Write a NumPy program to create a 3-D array with ones on a diagonal and zeros elsewhere.\n",
    "Expected Output:\n",
    "[[ 1. 0. 0.]\n",
    "[ 0. 1. 0.]\n",
    "[ 0. 0. 1.]]"
   ]
  },
  {
   "cell_type": "code",
   "execution_count": 42,
   "id": "1a7c274e",
   "metadata": {},
   "outputs": [
    {
     "name": "stdout",
     "output_type": "stream",
     "text": [
      "[[1. 0. 0.]\n",
      " [0. 1. 0.]\n",
      " [0. 0. 1.]]\n"
     ]
    }
   ],
   "source": [
    "import numpy as np\n",
    "x = np.eye(3)\n",
    "print(x)\n"
   ]
  },
  {
   "cell_type": "markdown",
   "id": "e52caf1a",
   "metadata": {},
   "source": [
    "# 43. Write a NumPy program to create a 2-D array whose diagonal equals [4, 5, 6, 8] and 0's elsewhere.\n",
    "Expected Output:\n",
    "[[4 0 0 0]\n",
    "[0 5 0 0]\n",
    "[0 0 6 0]\n",
    "[0 0 0 8]]"
   ]
  },
  {
   "cell_type": "code",
   "execution_count": 43,
   "id": "feb36c08",
   "metadata": {},
   "outputs": [
    {
     "name": "stdout",
     "output_type": "stream",
     "text": [
      "[[4 0 0 0]\n",
      " [0 5 0 0]\n",
      " [0 0 6 0]\n",
      " [0 0 0 8]]\n"
     ]
    }
   ],
   "source": [
    "import numpy as np\n",
    "x =  np.diagflat([4, 5, 6, 8])\n",
    "print(x)\n"
   ]
  },
  {
   "cell_type": "markdown",
   "id": "33ae56f3",
   "metadata": {},
   "source": [
    "# 44. Write a NumPy program to create a 1-D array with values from 0 to 50 and an array from 10 to 50.\n",
    "Expected Output:\n",
    "Array from 0 to 50:\n",
    "[ 0 1 2 3 4 5 6 7 8 9 10 11 12 13 14 15 16 17 18 19 20 21 22 23 24\n",
    "25 26 27 28 29 30 31 32 33 34 35 36 37 38 39 40 41 42 43 44 45 46 47 48 49]\n",
    "Array from 10 to 50:\n",
    "[10 11 12 13 14 15 16 17 18 19 20 21 22 23 24 25 26 27 28 29 30 31 32 33 34\n",
    "35 36 37 38 39 40 41 42 43 44 45 46 47 48 49]"
   ]
  },
  {
   "cell_type": "code",
   "execution_count": 44,
   "id": "31f5f279",
   "metadata": {},
   "outputs": [
    {
     "name": "stdout",
     "output_type": "stream",
     "text": [
      "Array from 0 to 50:\n",
      "[ 0  1  2  3  4  5  6  7  8  9 10 11 12 13 14 15 16 17 18 19 20 21 22 23\n",
      " 24 25 26 27 28 29 30 31 32 33 34 35 36 37 38 39 40 41 42 43 44 45 46 47\n",
      " 48 49]\n",
      "Array from 10 to 50:\n",
      "[10 11 12 13 14 15 16 17 18 19 20 21 22 23 24 25 26 27 28 29 30 31 32 33\n",
      " 34 35 36 37 38 39 40 41 42 43 44 45 46 47 48 49]\n"
     ]
    }
   ],
   "source": [
    "import numpy as np\n",
    "x = np.arange(50)\n",
    "print(\"Array from 0 to 50:\")\n",
    "print(x)\n",
    "x = np.arange(10, 50)\n",
    "print(\"Array from 10 to 50:\")\n",
    "print(x)\n"
   ]
  },
  {
   "cell_type": "markdown",
   "id": "c9397447",
   "metadata": {},
   "source": [
    "# 45. Write a NumPy program to create a 1-D array of 30 evenly spaced elements between 2.5 and 6.5, inclusive.\n",
    "Expected Output:\n",
    "[ 2.5 2.63793103 2.77586207 2.9137931 3.05172414 3.18965517\n",
    ".................\n",
    "5.81034483 5.94827586 6.0862069 6.22413793 6.36206897 6.5 ]"
   ]
  },
  {
   "cell_type": "code",
   "execution_count": 45,
   "id": "c57ce198",
   "metadata": {},
   "outputs": [
    {
     "name": "stdout",
     "output_type": "stream",
     "text": [
      "[2.5        2.63793103 2.77586207 2.9137931  3.05172414 3.18965517\n",
      " 3.32758621 3.46551724 3.60344828 3.74137931 3.87931034 4.01724138\n",
      " 4.15517241 4.29310345 4.43103448 4.56896552 4.70689655 4.84482759\n",
      " 4.98275862 5.12068966 5.25862069 5.39655172 5.53448276 5.67241379\n",
      " 5.81034483 5.94827586 6.0862069  6.22413793 6.36206897 6.5       ]\n"
     ]
    }
   ],
   "source": [
    "import numpy as np\n",
    "x = np.linspace(2.5, 6.5, 30)\n",
    "print(x)\n"
   ]
  },
  {
   "cell_type": "markdown",
   "id": "6098f7d5",
   "metadata": {},
   "source": [
    "# 46. Write a NumPy program to create a 1-D array of 20 elements spaced evenly on a log scale between 2. and 5., exclusive.\n",
    "Expected Output:\n",
    "[ 100. 141.25375446 199.5262315 281.83829313\n",
    "......................\n",
    "25118.8643151 35481.33892336 50118.72336273 70794.57843841]"
   ]
  },
  {
   "cell_type": "code",
   "execution_count": 46,
   "id": "8b6acb65",
   "metadata": {},
   "outputs": [
    {
     "name": "stdout",
     "output_type": "stream",
     "text": [
      "[  100.           141.25375446   199.5262315    281.83829313\n",
      "   398.10717055   562.34132519   794.32823472  1122.0184543\n",
      "  1584.89319246  2238.72113857  3162.27766017  4466.83592151\n",
      "  6309.5734448   8912.50938134 12589.25411794 17782.79410039\n",
      " 25118.8643151  35481.33892336 50118.72336273 70794.57843841]\n"
     ]
    }
   ],
   "source": [
    "import numpy as np\n",
    "x =  np.logspace(2., 5., 20, endpoint=False)\n",
    "print(x)\n"
   ]
  },
  {
   "cell_type": "markdown",
   "id": "193b80a8",
   "metadata": {},
   "source": [
    "# 47. Write a NumPy program to create an array like the one below.\n",
    "Expected Output:\n",
    "[[ 0. 0. 0.]\n",
    "...........\n",
    "[ 1. 1. 1.]]"
   ]
  },
  {
   "cell_type": "code",
   "execution_count": 47,
   "id": "c5b7993c",
   "metadata": {},
   "outputs": [
    {
     "name": "stdout",
     "output_type": "stream",
     "text": [
      "[[0. 0. 0.]\n",
      " [1. 0. 0.]\n",
      " [1. 1. 0.]\n",
      " [1. 1. 1.]]\n"
     ]
    }
   ],
   "source": [
    "import numpy as np\n",
    "x = np.tri(4, 3, -1)\n",
    "print(x)\n"
   ]
  },
  {
   "cell_type": "markdown",
   "id": "dc0ec968",
   "metadata": {},
   "source": [
    "# 48. Write a NumPy program to create an array like the one below.\n",
    "Expected Output:\n",
    "[[ 2 3 4]\n",
    "[ 5 6 7]\n",
    "[ 0 9 10]\n",
    "[ 0 0 13]]"
   ]
  },
  {
   "cell_type": "code",
   "execution_count": 48,
   "id": "0a7a70b1",
   "metadata": {},
   "outputs": [
    {
     "name": "stdout",
     "output_type": "stream",
     "text": [
      "[[ 2  3  4]\n",
      " [ 5  6  7]\n",
      " [ 0  9 10]\n",
      " [ 0  0 13]]\n"
     ]
    }
   ],
   "source": [
    "import numpy as np\n",
    "x = np.triu(np.arange(2, 14).reshape(4, 3), -1)\n",
    "print(x)\n"
   ]
  },
  {
   "cell_type": "markdown",
   "id": "24aeff33",
   "metadata": {},
   "source": [
    "# 49. Write a NumPy program to collapse a 3-D array into a one-dimensional array.\n",
    "Expected Output:\n",
    "3-D array:\n",
    "[[ 1. 0. 0.]\n",
    "[ 0. 1. 0.]\n",
    "[ 0. 0. 1.]]\n",
    "One dimension array:\n",
    "[ 1. 0. 0. 0. 1. 0. 0. 0. 1.]"
   ]
  },
  {
   "cell_type": "code",
   "execution_count": 49,
   "id": "0eda7cc2",
   "metadata": {},
   "outputs": [
    {
     "name": "stdout",
     "output_type": "stream",
     "text": [
      "3-D array:\n",
      "[[1. 0. 0.]\n",
      " [0. 1. 0.]\n",
      " [0. 0. 1.]]\n",
      "One dimension array:\n",
      "[1. 0. 0. 0. 1. 0. 0. 0. 1.]\n"
     ]
    }
   ],
   "source": [
    "import numpy as np\n",
    "x = np.eye(3)\n",
    "print(\"3-D array:\")\n",
    "print(x)\n",
    "f = np.ravel(x, order='F')\n",
    "print(\"One dimension array:\")\n",
    "print(f)\n"
   ]
  },
  {
   "cell_type": "markdown",
   "id": "83c6e783",
   "metadata": {},
   "source": [
    "# 50. Write a NumPy program to find the 4th element of a specified array.\n",
    "Expected Output:\n",
    "[[ 2 4 6]\n",
    "[ 6 8 10]]\n",
    "Forth e1ement of the array:\n",
    "6"
   ]
  },
  {
   "cell_type": "code",
   "execution_count": 50,
   "id": "af7a8e80",
   "metadata": {},
   "outputs": [
    {
     "name": "stdout",
     "output_type": "stream",
     "text": [
      "[[ 2  4  6]\n",
      " [ 6  8 10]]\n",
      "Forth e1ement of the array:\n",
      "6\n"
     ]
    }
   ],
   "source": [
    "import numpy as np\n",
    "x = np.array([[2, 4, 6], [6, 8, 10]], np.int32)\n",
    "print(x)\n",
    "e1 = x.flat[3]\n",
    "print(\"Forth e1ement of the array:\")\n",
    "print(e1)\n"
   ]
  },
  {
   "cell_type": "markdown",
   "id": "c2787c07",
   "metadata": {},
   "source": [
    "# 51. Write a NumPy program to change two array axes.\n",
    "Sample array: [[1 2 3]]\n",
    "Expected Output:\n",
    "[[1]\n",
    "[2]\n",
    "[3]]"
   ]
  },
  {
   "cell_type": "code",
   "execution_count": 51,
   "id": "3013f57d",
   "metadata": {},
   "outputs": [
    {
     "name": "stdout",
     "output_type": "stream",
     "text": [
      "[[1 2 3]]\n",
      "[[1]\n",
      " [2]\n",
      " [3]]\n"
     ]
    }
   ],
   "source": [
    "import numpy as np\n",
    "x = np.array([[1,2,3]])\n",
    "print(x)\n",
    "y =  np.swapaxes(x,0,1)\n",
    "print(y)\n"
   ]
  },
  {
   "cell_type": "markdown",
   "id": "1f2206b3",
   "metadata": {},
   "source": [
    "# 52. Write a NumPy program to move array axes to alternate positions. Other axes remain in their original order.\n",
    "Expected Output:\n",
    "(3, 4, 2)\n",
    "(4, 2, 3)"
   ]
  },
  {
   "cell_type": "code",
   "execution_count": 52,
   "id": "34bf5ded",
   "metadata": {},
   "outputs": [
    {
     "name": "stdout",
     "output_type": "stream",
     "text": [
      "(3, 4, 2)\n",
      "(4, 2, 3)\n"
     ]
    }
   ],
   "source": [
    "import numpy as np\n",
    "x = np.zeros((2, 3, 4))\n",
    "print(np.moveaxis(x, 0, -1).shape)\n",
    "print(np.moveaxis(x, -1, 0).shape)\n"
   ]
  },
  {
   "cell_type": "markdown",
   "id": "4d1ff75c",
   "metadata": {},
   "source": [
    "# 53. Write a NumPy program to move the specified axis backwards, until it lies in a given position.\n",
    "Move the following 3rd array axes to first position.\n",
    "(2,3,4,5)\n",
    "Sample Expected Output:\n",
    "(2, 5, 3, 4)"
   ]
  },
  {
   "cell_type": "code",
   "execution_count": 53,
   "id": "e13bda39",
   "metadata": {},
   "outputs": [
    {
     "name": "stdout",
     "output_type": "stream",
     "text": [
      "(2, 5, 3, 4)\n"
     ]
    }
   ],
   "source": [
    "import numpy as np\n",
    "x = np.ones((2,3,4,5))\n",
    "print(np.rollaxis(x, 3, 1).shape)\n"
   ]
  },
  {
   "cell_type": "markdown",
   "id": "fb6abeaa",
   "metadata": {},
   "source": [
    "# 54. Write a NumPy program to convert specified inputs into arrays with at least one dimension.\n",
    "Expected Output:\n",
    "[ 12.]\n",
    "[[ 0. 1. 2.]\n",
    "[ 3. 4. 5.]]\n",
    "[array([1]), array([3, 4])]"
   ]
  },
  {
   "cell_type": "code",
   "execution_count": 54,
   "id": "e58e1ab0",
   "metadata": {},
   "outputs": [
    {
     "name": "stdout",
     "output_type": "stream",
     "text": [
      "[12.]\n",
      "[[0. 1. 2.]\n",
      " [3. 4. 5.]]\n",
      "[array([1]), array([3, 4])]\n"
     ]
    }
   ],
   "source": [
    "import numpy as np\n",
    "x= 12.0\n",
    "print(np.atleast_1d(x))\n",
    "x = np.arange(6.0).reshape(2, 3)\n",
    "print(np.atleast_1d(x))\n",
    "print(np.atleast_1d(1, [3, 4]))\n"
   ]
  },
  {
   "cell_type": "markdown",
   "id": "a3e0274f",
   "metadata": {},
   "source": [
    "# 55. Write a NumPy program to view inputs as arrays with at least two dimensions, three dimensions.\n",
    "Expected Output:\n",
    "View inputs as arrays with at least two dimensions:\n",
    "[10]\n",
    "[[ 0. 1.]\n",
    "[ 2. 3.]]\n",
    "View inputs as arrays with at least three dimensions:\n",
    "[[[15]]]\n",
    "[[[ 0.]\n",
    "[ 1.]\n",
    "[ 2.]]]"
   ]
  },
  {
   "cell_type": "code",
   "execution_count": 55,
   "id": "3d99e41e",
   "metadata": {},
   "outputs": [
    {
     "name": "stdout",
     "output_type": "stream",
     "text": [
      "View inputs as arrays with at least two dimensions:\n",
      "[10]\n",
      "[[0. 1.]\n",
      " [2. 3.]]\n",
      "View inputs as arrays with at least three dimensions:\n",
      "[[[15]]]\n",
      "[[[0.]\n",
      "  [1.]\n",
      "  [2.]]]\n"
     ]
    }
   ],
   "source": [
    "import numpy as np\n",
    "x = 10\n",
    "print(\"View inputs as arrays with at least two dimensions:\")\n",
    "print(np.atleast_1d(x))\n",
    "x = np.arange(4.0).reshape(2, 2)\n",
    "print(np.atleast_1d(x))\n",
    "print(\"View inputs as arrays with at least three dimensions:\")\n",
    "x =15\n",
    "print(np.atleast_3d(x))\n",
    "x = np.arange(3.0)\n",
    "print(np.atleast_3d(x))\n"
   ]
  },
  {
   "cell_type": "markdown",
   "id": "1a142faf",
   "metadata": {},
   "source": [
    "# 56. Write a NumPy program to insert a new axis within a 2-D array.\n",
    "2-D array of shape (3, 4).\n",
    "Expected Output:\n",
    "New shape will be will be (3, 1, 4)."
   ]
  },
  {
   "cell_type": "code",
   "execution_count": 56,
   "id": "f7937554",
   "metadata": {},
   "outputs": [
    {
     "name": "stdout",
     "output_type": "stream",
     "text": [
      "(3, 1, 4)\n"
     ]
    }
   ],
   "source": [
    "import numpy as np\n",
    "x = np.zeros((3, 4))\n",
    "y = np.expand_dims(x, axis=1).shape\n",
    "print(y)\n"
   ]
  },
  {
   "cell_type": "markdown",
   "id": "508dac54",
   "metadata": {},
   "source": [
    "# 57. Write a NumPy program to remove single-dimensional entries from a specified shape.\n",
    "Specified shape: (3, 1, 4)\n",
    "Expected Output: (3, 4)"
   ]
  },
  {
   "cell_type": "code",
   "execution_count": 57,
   "id": "c74dc2d3",
   "metadata": {},
   "outputs": [
    {
     "name": "stdout",
     "output_type": "stream",
     "text": [
      "(3, 4)\n"
     ]
    }
   ],
   "source": [
    "import numpy as np\n",
    "x = np.zeros((3, 1, 4))\n",
    "print(np.squeeze(x).shape)\n"
   ]
  },
  {
   "cell_type": "markdown",
   "id": "d2b8568f",
   "metadata": {},
   "source": [
    "# 58. Write a NumPy program to concatenate two 2-dimensional arrays.\n",
    "Expected Output:\n",
    "Sample arrays: ([[0, 1, 3], [5, 7, 9]], [[0, 2, 4], [6, 8, 10]]\n",
    "Expected Output:\n",
    "[[ 0 1 3 0 2 4]\n",
    "[ 5 7 9 6 8 10]]"
   ]
  },
  {
   "cell_type": "code",
   "execution_count": null,
   "id": "ae781a8f",
   "metadata": {},
   "outputs": [],
   "source": []
  },
  {
   "cell_type": "markdown",
   "id": "3e53544b",
   "metadata": {},
   "source": [
    "# 59. Write a NumPy program to convert 1-D arrays as columns into a 2-D array.\n",
    "Sample array: (10,20,30), (40,50,60)\n",
    "Expected Output:\n",
    "[[10 40]\n",
    "[20 50]\n",
    "[30 60]]"
   ]
  },
  {
   "cell_type": "code",
   "execution_count": 58,
   "id": "aab7c70e",
   "metadata": {},
   "outputs": [
    {
     "name": "stdout",
     "output_type": "stream",
     "text": [
      "[[10 40]\n",
      " [20 50]\n",
      " [30 60]]\n"
     ]
    }
   ],
   "source": [
    "import numpy as np\n",
    "a = np.array((10,20,30))\n",
    "b = np.array((40,50,60))\n",
    "c = np.column_stack((a, b))\n",
    "print(c)\n"
   ]
  },
  {
   "cell_type": "markdown",
   "id": "0f26cd7b",
   "metadata": {},
   "source": [
    "# 60. Write a NumPy program to convert (in sequence depth wise (along the third axis)) two 1-D arrays into a 2-D array.\n",
    "Sample array: (10,20,30), (40,50,60)\n",
    "Expected Output:\n",
    "[[[10 40]]\n",
    "[[20 50]]\n",
    "[[30 60]]]"
   ]
  },
  {
   "cell_type": "code",
   "execution_count": 59,
   "id": "cf697796",
   "metadata": {},
   "outputs": [
    {
     "name": "stdout",
     "output_type": "stream",
     "text": [
      "[[[10 40]]\n",
      "\n",
      " [[20 50]]\n",
      "\n",
      " [[30 60]]]\n"
     ]
    }
   ],
   "source": [
    "import numpy as np\n",
    "a = np.array([[10],[20],[30]])\n",
    "b = np.array([[40],[50],[60]])\n",
    "c = np.dstack((a, b))\n",
    "print(c)\n"
   ]
  },
  {
   "cell_type": "markdown",
   "id": "2c2011f0",
   "metadata": {},
   "source": [
    "# 61.Write a NumPy program to split an array of 14 elements into 3 arrays, each with 2, 4, and 8 elements in the original order.\n",
    "Expected Output:\n",
    "Original array: [ 1 2 3 4 5 6 7 8 9 10 11 12 13 14]\n",
    "After splitting:\n",
    "[array([1, 2]), array([3, 4, 5, 6]), array([ 7, 8, 9, 10, 11, 12, 13, 14])]"
   ]
  },
  {
   "cell_type": "code",
   "execution_count": 60,
   "id": "21db52e1",
   "metadata": {},
   "outputs": [
    {
     "name": "stdout",
     "output_type": "stream",
     "text": [
      "Original array: [ 1  2  3  4  5  6  7  8  9 10 11 12 13 14]\n",
      "After splitting:\n",
      "[array([1, 2]), array([3, 4, 5, 6]), array([ 7,  8,  9, 10, 11, 12, 13, 14])]\n"
     ]
    }
   ],
   "source": [
    "import numpy as np\n",
    "x = np.arange(1, 15)\n",
    "print(\"Original array:\",x)\n",
    "print(\"After splitting:\")\n",
    "print(np.split(x, [2, 6]))\n"
   ]
  },
  {
   "cell_type": "markdown",
   "id": "bd4cdf07",
   "metadata": {},
   "source": [
    "# 62. Write  a NumPy program that splits an array of shape 4x4 into two arrays along the second axis.\n",
    "Sample array :\n",
    "[[ 0 1 2 3]\n",
    "........\n",
    "[12 13 14 15]]\n",
    "Expected Output:\n",
    "[array([[ 0, 1],\n",
    "[ 4, 5],\n",
    "[ 8, 9],\n",
    "[12, 13]]), array([[ 2, 3],\n",
    "[ 6, 7],\n",
    "[10, 11],\n",
    "[14, 15]]), array([], shape=(4, 0), dtype=int64)]"
   ]
  },
  {
   "cell_type": "code",
   "execution_count": 61,
   "id": "88358a7b",
   "metadata": {},
   "outputs": [
    {
     "name": "stdout",
     "output_type": "stream",
     "text": [
      "Original array: [[ 0  1  2  3]\n",
      " [ 4  5  6  7]\n",
      " [ 8  9 10 11]\n",
      " [12 13 14 15]]\n",
      "After splitting horizontally:\n",
      "[array([[ 0,  1],\n",
      "       [ 4,  5],\n",
      "       [ 8,  9],\n",
      "       [12, 13]]), array([[ 2,  3],\n",
      "       [ 6,  7],\n",
      "       [10, 11],\n",
      "       [14, 15]]), array([], shape=(4, 0), dtype=int32)]\n"
     ]
    }
   ],
   "source": [
    "import numpy as np\n",
    "x = np.arange(16).reshape((4, 4))\n",
    "print(\"Original array:\",x)\n",
    "print(\"After splitting horizontally:\")\n",
    "print(np.hsplit(x, [2, 6]))\n"
   ]
  },
  {
   "cell_type": "markdown",
   "id": "de54ba02",
   "metadata": {},
   "source": [
    "# 63. Write a NumPy program to get the number of non-zero elements in an array.\n",
    "Expected Output:\n",
    "Original array:\n",
    "[[ 0 10 20]\n",
    "[20 30 40]]\n",
    "Number of non zero elements in the above array:\n",
    "5"
   ]
  },
  {
   "cell_type": "code",
   "execution_count": 62,
   "id": "f262133d",
   "metadata": {},
   "outputs": [
    {
     "name": "stdout",
     "output_type": "stream",
     "text": [
      "Original array:\n",
      "[[ 0 10 20]\n",
      " [20 30 40]]\n",
      "Number of non zero elements in the above array:\n",
      "5\n"
     ]
    }
   ],
   "source": [
    "import numpy as np\n",
    "x = np.array([[0, 10, 20], [20, 30, 40]])\n",
    "print(\"Original array:\")\n",
    "print(x)\n",
    "print(\"Number of non zero elements in the above array:\")\n",
    "print(np.count_nonzero(x))\n"
   ]
  },
  {
   "cell_type": "markdown",
   "id": "b860b919",
   "metadata": {},
   "source": [
    "# 64. Write a NumPy program to create a 5x5 matrix with row values ranging from 0 to 4.\n",
    "Original array:\n",
    "[[ 0. 0. 0. 0. 0.]\n",
    ".........\n",
    "[ 0. 0. 0. 0. 0.]]\n",
    "Row values ranging from 0 to 4.\n",
    "[[ 0. 1. 2. 3. 4.]\n",
    "..........\n",
    "[ 0. 1. 2. 3. 4.]]"
   ]
  },
  {
   "cell_type": "code",
   "execution_count": 63,
   "id": "7bb933a0",
   "metadata": {},
   "outputs": [
    {
     "name": "stdout",
     "output_type": "stream",
     "text": [
      "Original array:\n",
      "[[0. 0. 0. 0. 0.]\n",
      " [0. 0. 0. 0. 0.]\n",
      " [0. 0. 0. 0. 0.]\n",
      " [0. 0. 0. 0. 0.]\n",
      " [0. 0. 0. 0. 0.]]\n",
      "Row values ranging from 0 to 4.\n",
      "[[0. 1. 2. 3. 4.]\n",
      " [0. 1. 2. 3. 4.]\n",
      " [0. 1. 2. 3. 4.]\n",
      " [0. 1. 2. 3. 4.]\n",
      " [0. 1. 2. 3. 4.]]\n"
     ]
    }
   ],
   "source": [
    "import numpy as np\n",
    "x = np.zeros((5,5))\n",
    "print(\"Original array:\")\n",
    "print(x)\n",
    "print(\"Row values ranging from 0 to 4.\")\n",
    "x += np.arange(5)\n",
    "print(x)\n"
   ]
  },
  {
   "cell_type": "markdown",
   "id": "7fe3f911",
   "metadata": {},
   "source": [
    "# 65. Write a NumPy program to test whether specified values are present in an array.\n",
    "Expected Output:\n",
    "Original array:\n",
    "[[ 1.12 2. 3.45]\n",
    "[ 2.33 5.12 6. ]]\n",
    "True\n",
    "False\n",
    "True\n",
    "False\n",
    "True"
   ]
  },
  {
   "cell_type": "code",
   "execution_count": 64,
   "id": "ddc39c18",
   "metadata": {},
   "outputs": [
    {
     "name": "stdout",
     "output_type": "stream",
     "text": [
      "Original array:\n",
      "[[1.12 2.   3.45]\n",
      " [2.33 5.12 6.  ]]\n",
      "True\n",
      "False\n",
      "True\n",
      "False\n",
      "True\n"
     ]
    }
   ],
   "source": [
    "import numpy as np\n",
    "x = np.array([[1.12, 2.0, 3.45], [2.33, 5.12, 6.0]], float) \n",
    "print(\"Original array:\")\n",
    "print(x)\n",
    "print(2 in x)\n",
    "print(0 in x)\n",
    "print(6 in x)\n",
    "print(2.3 in x)\n",
    "print(5.12 in x)\n"
   ]
  },
  {
   "cell_type": "markdown",
   "id": "b463b6f3",
   "metadata": {},
   "source": [
    "# 66. Write a NumPy program to create a vector of size 10 with values ranging from 0 to 1, both excluded.\n",
    "Expected Output:\n",
    "[ 0.09090909 0.18181818 0.27272727 0.36363636 0.45454545 0.54545455\n",
    "0.63636364 0.72727273 0.81818182 0.90909091]"
   ]
  },
  {
   "cell_type": "code",
   "execution_count": 65,
   "id": "eccba3b7",
   "metadata": {},
   "outputs": [
    {
     "name": "stdout",
     "output_type": "stream",
     "text": [
      "[0.09090909 0.18181818 0.27272727 0.36363636 0.45454545 0.54545455\n",
      " 0.63636364 0.72727273 0.81818182 0.90909091]\n"
     ]
    }
   ],
   "source": [
    "import numpy as np\n",
    "x = np.linspace(0,1,12,endpoint=True)[1:-1]\n",
    "print(x)\n"
   ]
  },
  {
   "cell_type": "markdown",
   "id": "91e7b51c",
   "metadata": {},
   "source": [
    "# 67. Write a NumPy program to make an array immutable (read-only).\n",
    "Expected Output:\n",
    "Test the array is read-only or not:\n",
    "Try to change the value of the first element:\n",
    "Traceback (most recent call last):\n",
    "File \"19236bd0-0bd9-11e7-a232-c706d0968eb6.py\", line 6, in\n",
    "x[0] = 1\n",
    "ValueError: assignment destination is read-only"
   ]
  },
  {
   "cell_type": "code",
   "execution_count": 66,
   "id": "8f17ddec",
   "metadata": {},
   "outputs": [
    {
     "name": "stdout",
     "output_type": "stream",
     "text": [
      "Test the array is read-only or not:\n",
      "Try to change the value of the first element:\n"
     ]
    },
    {
     "ename": "ValueError",
     "evalue": "assignment destination is read-only",
     "output_type": "error",
     "traceback": [
      "\u001b[1;31m---------------------------------------------------------------------------\u001b[0m",
      "\u001b[1;31mValueError\u001b[0m                                Traceback (most recent call last)",
      "Cell \u001b[1;32mIn[66], line 6\u001b[0m\n\u001b[0;32m      4\u001b[0m \u001b[38;5;28mprint\u001b[39m(\u001b[38;5;124m\"\u001b[39m\u001b[38;5;124mTest the array is read-only or not:\u001b[39m\u001b[38;5;124m\"\u001b[39m)\n\u001b[0;32m      5\u001b[0m \u001b[38;5;28mprint\u001b[39m(\u001b[38;5;124m\"\u001b[39m\u001b[38;5;124mTry to change the value of the first element:\u001b[39m\u001b[38;5;124m\"\u001b[39m)\n\u001b[1;32m----> 6\u001b[0m x[\u001b[38;5;241m0\u001b[39m] \u001b[38;5;241m=\u001b[39m \u001b[38;5;241m1\u001b[39m\n",
      "\u001b[1;31mValueError\u001b[0m: assignment destination is read-only"
     ]
    }
   ],
   "source": [
    "import numpy as np\n",
    "x = np.zeros(10)\n",
    "x.flags.writeable = False\n",
    "print(\"Test the array is read-only or not:\")\n",
    "print(\"Try to change the value of the first element:\")\n",
    "x[0] = 1\n"
   ]
  },
  {
   "cell_type": "markdown",
   "id": "28ab4080",
   "metadata": {},
   "source": [
    "# 68. Write a NumPy program (using numpy) to sum all the multiples of 3 or 5 below 100.\n",
    "Expected Output:\n",
    "[ 3 5 6 9 10 12 15 18 20 21 24 25 27 30 33 35 36 39 40 42 45 48 50 51 54\n",
    "55 57 60 63 65 66 69 70 72 75 78 80 81 84 85 87 90 93 95 96 99]\n",
    "2318"
   ]
  },
  {
   "cell_type": "code",
   "execution_count": null,
   "id": "9d6d0904",
   "metadata": {},
   "outputs": [],
   "source": [
    "import numpy as np\n",
    "x = np.arange(1, 100)\n",
    "# find  multiple of 3 or 5\n",
    "n= x[(x % 3 == 0) | (x % 5 == 0)]\n",
    "print(n[:1000])\n",
    "# print sum the numbers\n",
    "print(n.sum())\n"
   ]
  },
  {
   "cell_type": "markdown",
   "id": "8686f278",
   "metadata": {},
   "source": [
    "# 69. Write a NumPy program to create an array with 10^3 elements.\n",
    "Expected Output:\n",
    "[ 0. 1. 2. 3. 4. 5. 6. 7. 8. 9. 10. 11.\n",
    "12. 13. 14. 15. 16. 17. 18. 19. 20. 21. 22. 23.\n",
    "24. 25. 26. 27. 28. 29. 30. 31. 32. 33. 34. 35.\n",
    "- - - - - - - - - - - - - - - - -\n",
    "972. 973. 974. 975. 976. 977. 978. 979. 980. 981. 982. 983.\n",
    "984. 985. 986. 987. 988. 989. 990. 991. 992. 993. 994. 995.\n",
    "996. 997. 998. 999.]"
   ]
  },
  {
   "cell_type": "code",
   "execution_count": null,
   "id": "e367e093",
   "metadata": {},
   "outputs": [],
   "source": [
    "import numpy as np\n",
    "x = np.arange(1e3)\n",
    "print(x)\n"
   ]
  },
  {
   "cell_type": "markdown",
   "id": "bbaf27e1",
   "metadata": {},
   "source": [
    "# 70. Write a NumPy program to create and display every element of a NumPy array.\n",
    "Expected Output:\n",
    "0 1 2 3 4 5 6 7 8 9 10 11"
   ]
  },
  {
   "cell_type": "code",
   "execution_count": null,
   "id": "eea6f816",
   "metadata": {},
   "outputs": [],
   "source": [
    "import numpy as np\n",
    "x = np.arange(12).reshape(3, 4)\n",
    "for x in np.nditer(x):\n",
    "    print(x,end=' ')\n",
    "print()\n"
   ]
  },
  {
   "cell_type": "markdown",
   "id": "ae9a08c8",
   "metadata": {},
   "source": [
    "# 71. Write a NumPy program to create and display every element of a NumPy array in Fortran order.\n",
    "Expected Output:\n",
    "Elements of the array in Fortan array:\n",
    "0 4 8 1 5 9 2 6 10 3 7 11"
   ]
  },
  {
   "cell_type": "code",
   "execution_count": null,
   "id": "3308c8f3",
   "metadata": {},
   "outputs": [],
   "source": [
    "import numpy as np\n",
    "x = np.arange(12).reshape(3, 4)\n",
    "print(\"Elements of the array in Fortan array:\")\n",
    "for x in np.nditer(x, order=\"F\"):\n",
    "    print(x,end=' ')\n",
    "print(\"\\n\")\n"
   ]
  },
  {
   "cell_type": "markdown",
   "id": "860261cb",
   "metadata": {},
   "source": [
    "# 72. Write a NumPy program to create a 5x5x5 cube of 1's.\n",
    "Expected Output:\n",
    "[[[1 1 1 1 1]\n",
    "[1 1 1 1 1]\n",
    "[1 1 1 1 1]\n",
    "[1 1 1 1 1]\n",
    "[1 1 1 1 1]]\n",
    "............\n",
    "[[1 1 1 1 1]\n",
    "[1 1 1 1 1]\n",
    "[1 1 1 1 1]\n",
    "[1 1 1 1 1]\n",
    "[1 1 1 1 1]]]"
   ]
  },
  {
   "cell_type": "code",
   "execution_count": null,
   "id": "032ca860",
   "metadata": {},
   "outputs": [],
   "source": [
    "import numpy as np\n",
    "x = np.zeros((5, 5, 5)).astype(int) + 1\n",
    "print(x)\n"
   ]
  },
  {
   "cell_type": "markdown",
   "id": "63285975",
   "metadata": {},
   "source": [
    "# 73. Write a NumPy program to create an array of (3, 4) shapes, multiply every element value by 3 and display the result array.\n",
    "Expected Output:\n",
    "Original array elements:\n",
    "[[ 0 1 2 3]\n",
    "[ 4 5 6 7]\n",
    "[ 8 9 10 11]]\n",
    "New array elements:\n",
    "[[ 0 3 6 9]\n",
    "[12 15 18 21]\n",
    "[24 27 30 33]]"
   ]
  },
  {
   "cell_type": "code",
   "execution_count": null,
   "id": "167f0d3c",
   "metadata": {},
   "outputs": [],
   "source": [
    "import numpy as np\n",
    "x= np.arange(12).reshape(3, 4)\n",
    "print(\"Original array elements:\")\n",
    "print(x)\n",
    "for a in np.nditer(x, op_flags=['readwrite']):\n",
    "    a[...] = 3 * a\n",
    "print(\"New array elements:\")\n",
    "print(x)\n"
   ]
  },
  {
   "cell_type": "markdown",
   "id": "9b10f535",
   "metadata": {},
   "source": [
    "# 74. Write a NumPy program to combine a one and two dimensional array together and display their elements.\n",
    "Expected Output:\n",
    "One dimensional array:\n",
    "[0 1 2 3]\n",
    "Two dimensional array:\n",
    "[[0 1 2 3]\n",
    "[4 5 6 7]]\n",
    "0:0\n",
    "1:1\n",
    "2:2\n",
    "3:3\n",
    "0:4\n",
    "1:5\n",
    "2:6\n",
    "3:7"
   ]
  },
  {
   "cell_type": "code",
   "execution_count": null,
   "id": "38cfc8e7",
   "metadata": {},
   "outputs": [],
   "source": [
    "import numpy as np\n",
    "x = np.arange(4)\n",
    "print(\"One dimensional array:\")\n",
    "print(x)\n",
    "y = np.arange(8).reshape(2,4)\n",
    "print(\"Two dimensional array:\")\n",
    "print(y)\n",
    "for a, b in np.nditer([x,y]):\n",
    "    print(\"%d:%d\" % (a,b),)\n"
   ]
  },
  {
   "cell_type": "markdown",
   "id": "dcb852a1",
   "metadata": {},
   "source": [
    "# 75. Write a NumPy program to create an array of zeros and three column types (integer, floating, and character).\n",
    "Expected Output:\n",
    "[(1, 2., b'Albert Einstein') (2, 2., b'Edmond Halley')\n",
    "(3, 3., b'Gertrude B. Elion')]"
   ]
  },
  {
   "cell_type": "code",
   "execution_count": null,
   "id": "103b5e78",
   "metadata": {},
   "outputs": [],
   "source": [
    "import numpy as np\n",
    "x = np.zeros((3,), dtype=('i4,f4,a40'))\n",
    "new_data = [(1, 2., \"Albert Einstein\"), (2, 2., \"Edmond Halley\"), (3, 3., \"Gertrude B. Elion\")]\n",
    "x[:] = new_data\n",
    "print(x)\n"
   ]
  },
  {
   "cell_type": "markdown",
   "id": "7807a24d",
   "metadata": {},
   "source": [
    "# 76. Write a NumPy program to create a function cube for all array elements.\n",
    "Expected Output:\n",
    "[ 1 8 27]"
   ]
  },
  {
   "cell_type": "code",
   "execution_count": null,
   "id": "2a60d0dd",
   "metadata": {},
   "outputs": [],
   "source": [
    "import numpy as np\n",
    "def cube(e):\n",
    "    it = np.nditer([e, None])\n",
    "    for a, b in it:\n",
    "        b[...] = a*a*a\n",
    "    return it.operands[1]\n",
    "print(cube([1,2,3]))\n"
   ]
  },
  {
   "cell_type": "markdown",
   "id": "1cbb05d1",
   "metadata": {},
   "source": [
    "# 77. Write a NumPy program to create an array of (3, 4) shapes and convert the array elements into smaller chunks.\n",
    "Expected Output:\n",
    "Original array elements:\n",
    "[[ 0 1 2 3]\n",
    "[ 4 5 6 7]\n",
    "[ 8 9 10 11]]\n",
    "[0 4 8]\n",
    "[1 5 9]\n",
    "[ 2 6 10]\n",
    "[ 3 7 11]"
   ]
  },
  {
   "cell_type": "code",
   "execution_count": null,
   "id": "804ff4fb",
   "metadata": {},
   "outputs": [],
   "source": [
    "import numpy as np\n",
    "x= np.arange(12).reshape(3, 4)\n",
    "print(\"Original array elements:\")\n",
    "print(x)\n",
    "print(\"Above array in small chuncks:\")\n",
    "for a in np.nditer(x, flags=['external_loop'], order='F'):\n",
    "    print(a)\n"
   ]
  },
  {
   "cell_type": "markdown",
   "id": "e8ec0e83",
   "metadata": {},
   "source": [
    "# 78. Write a NumPy program to create a record array from a (flat) list of arrays.\n",
    "Sample arrays: [1,2,3,4], ['Red', 'Green', 'White', 'Orange'], [12.20,15,20,40]\n",
    "Expected Output:\n",
    "(1, 'Red', 12.2)\n",
    "(2, 'Green', 15.0)\n",
    "(3, 'White', 20.0)"
   ]
  },
  {
   "cell_type": "code",
   "execution_count": null,
   "id": "db88eb62",
   "metadata": {},
   "outputs": [],
   "source": [
    "import numpy as np\n",
    "a1=np.array([1,2,3,4])\n",
    "a2=np.array(['Red','Green','White','Orange'])\n",
    "a3=np.array([12.20,15,20,40])\n",
    "result= np.core.records.fromarrays([a1, a2, a3],names='a,b,c')\n",
    "print(result[0])\n",
    "print(result[1])\n",
    "print(result[2])\n"
   ]
  },
  {
   "cell_type": "markdown",
   "id": "dc7eae35",
   "metadata": {},
   "source": [
    "# 79. Write a NumPy program to generate a generic 2D Gaussian-like array.\n",
    "Expected Output:\n",
    "2D Gaussian-like array:\n",
    "[[ 0.36787944 0.44822088 0.51979489 0.57375342 0.60279818 0.60279818\n",
    "0.57375342 0.51979489 0.44822088 0.36787944]\n",
    "..........\n",
    "[ 0.36787944 0.44822088 0.51979489 0.57375342 0.60279818 0.60279818\n",
    "0.57375342 0.51979489 0.44822088 0.36787944]]"
   ]
  },
  {
   "cell_type": "code",
   "execution_count": null,
   "id": "ee67a547",
   "metadata": {},
   "outputs": [],
   "source": [
    "import numpy as np\n",
    "x, y = np.meshgrid(np.linspace(-1,1,10), np.linspace(-1,1,10))\n",
    "d = np.sqrt(x*x+y*y)\n",
    "sigma, mu = 1.0, 0.0\n",
    "g = np.exp(-( (d-mu)**2 / ( 2.0 * sigma**2 ) ) )\n",
    "print(\"2D Gaussian-like array:\")\n",
    "print(g)\n"
   ]
  },
  {
   "cell_type": "markdown",
   "id": "da9566fa",
   "metadata": {},
   "source": [
    "# 80. Write a NumPy program to convert a NumPy array into a Python list structure.\n",
    "Expected Output:\n",
    "Original array elements:\n",
    "[[0 1]\n",
    "[2 3]\n",
    "[4 5]]\n",
    "Array to list:\n",
    "[[0, 1], [2, 3], [4, 5]]"
   ]
  },
  {
   "cell_type": "code",
   "execution_count": null,
   "id": "ee93c9c7",
   "metadata": {},
   "outputs": [],
   "source": [
    "import numpy as np\n",
    "x= np.arange(6).reshape(3, 2)\n",
    "print(\"Original array elements:\")\n",
    "print(x)\n",
    "print(\"Array to list:\")\n",
    "print(x.tolist())\n"
   ]
  },
  {
   "cell_type": "markdown",
   "id": "41b84234",
   "metadata": {},
   "source": [
    "# 81. Write a NumPy program to access an array by column.\n",
    "Expected Output:\n",
    "Original array elements:\n",
    "[[0 1]\n",
    "[2 3]\n",
    "[4 5]]\n",
    "Access an array by column:\n",
    "First column:\n",
    "[0 1]\n",
    "Second column:\n",
    "[2 3]\n",
    "Third column:\n",
    "[4 5]"
   ]
  },
  {
   "cell_type": "code",
   "execution_count": null,
   "id": "fb50bd77",
   "metadata": {},
   "outputs": [],
   "source": [
    "import numpy as np\n",
    "x= np.arange(9).reshape(3,3)\n",
    "print(\"Original array elements:\")\n",
    "print(x)\n",
    "print(\"Access an array by column:\")\n",
    "print(\"First column:\")\n",
    "print(x[:,0])\n",
    "print(\"Second column:\")\n",
    "print(x[:,1])\n",
    "print(\"Third column:\")\n",
    "print(x[:,2])\n"
   ]
  },
  {
   "cell_type": "markdown",
   "id": "d87be0f1",
   "metadata": {},
   "source": [
    "# 82. Write a NumPy program to convert a NumPy array of floating values to a numpy array of integer values.\n",
    "Expected Output:\n",
    "Original array elements:\n",
    "[[ 12. 12.51]\n",
    "[ 2.34 7.98]\n",
    "[ 25.23 36.5 ]]\n",
    "Convert float values to intger values:\n",
    "[[12 12]\n",
    "[ 2 7]\n",
    "[25 36]]"
   ]
  },
  {
   "cell_type": "code",
   "execution_count": null,
   "id": "333e52ca",
   "metadata": {},
   "outputs": [],
   "source": [
    "import numpy as np\n",
    "x= np.array([[12.0, 12.51], [2.34, 7.98], [25.23, 36.50]])\n",
    "print(\"Original array elements:\")\n",
    "print(x)\n",
    "print(\"Convert float values to integer values:\")\n",
    "print(x.astype(int))\n"
   ]
  },
  {
   "cell_type": "markdown",
   "id": "279f815d",
   "metadata": {},
   "source": [
    "# 83. Write a NumPy program to display a NumPy array of floating values with precision.\n",
    "Expected Output:\n",
    "Original array elements:\n",
    "[ 0.26153123 0.52760141 0.5718299 0.5927067 0.7831874 0.69746349\n",
    "0.35399976 0.99469633 0.0694458 0.54711478]\n",
    "Print array values with precision 3:\n",
    "[ 0.262 0.528 0.572 0.593 0.783 0.697 0.354 0.995 0.069 0.547]"
   ]
  },
  {
   "cell_type": "code",
   "execution_count": null,
   "id": "dde9c427",
   "metadata": {},
   "outputs": [],
   "source": [
    "import numpy as np\n",
    "x=np.array([ 0.26153123, 0.52760141, 0.5718299, 0.5927067, 0.7831874, 0.69746349,             \n",
    "  0.35399976, 0.99469633, 0.0694458, 0.54711478]) \n",
    "print(\"Original array elements:\")\n",
    "print(x)\n",
    "print(\"Print array values with precision 3:\")\n",
    "np.set_printoptions(precision=3)\n",
    "print(x)\n"
   ]
  },
  {
   "cell_type": "markdown",
   "id": "3d7a3289",
   "metadata": {},
   "source": [
    "# 84. Write a NumPy program to suppress the use of scientific notation for small numbers in a NumPy array. \n",
    "Expected Output:\n",
    "Original array elements:\n",
    "[ 1.60000000e-10 1.60000000e+00 1.20000000e+03 2.35000000e-01]\n",
    "Print array values with precision 3:\n",
    "[ 0. 1.6 1200. 0.235]"
   ]
  },
  {
   "cell_type": "code",
   "execution_count": null,
   "id": "38a73bb5",
   "metadata": {},
   "outputs": [],
   "source": [
    "import numpy as np\n",
    "x=np.array([1.6e-10, 1.6, 1200, .235]) \n",
    "print(\"Original array elements:\")\n",
    "print(x)\n",
    "print(\"Array - scientific notation is suppressed”)\n",
    "np.set_printoptions(suppress=True)\n",
    "print(x)\n"
   ]
  },
  {
   "cell_type": "markdown",
   "id": "ebb8ef87",
   "metadata": {},
   "source": [
    "# 85. Write a NumPy program to create a NumPy array of 10 integers from a generator.\n",
    "\n",
    "Expected Output:\n",
    "[0 1 2 3 4 5 6 7 8 9]"
   ]
  },
  {
   "cell_type": "code",
   "execution_count": null,
   "id": "17fe2627",
   "metadata": {},
   "outputs": [],
   "source": [
    "import numpy as np\n",
    "iterable = (x for x in range(10))\n",
    "print(np.fromiter(iterable, np.int))\n"
   ]
  },
  {
   "cell_type": "markdown",
   "id": "054015e5",
   "metadata": {},
   "source": [
    "# 86. Write a NumPy program to add an extra column to a NumPy array.\n",
    "\n",
    "Expected Output:\n",
    "[[ 10 20 30 100]\n",
    "[ 40 50 60 200]]"
   ]
  },
  {
   "cell_type": "code",
   "execution_count": null,
   "id": "34b94e73",
   "metadata": {},
   "outputs": [],
   "source": [
    "import numpy as np\n",
    "x = np.array([[10,20,30], [40,50,60]])\n",
    "y = np.array([[100], [200]])\n",
    "print(np.append(x, y, axis=1))\n"
   ]
  },
  {
   "cell_type": "markdown",
   "id": "d31d9b1c",
   "metadata": {},
   "source": [
    "# 87. Write a NumPy program to find distinct rows in a NumPy array.\n",
    "\n",
    "Expected Output:\n",
    "Original array:\n",
    "[[20 20 20 0]\n",
    ".......\n",
    "[10 20 20 20]]\n",
    "Unique rows of the above array:\n",
    "[[ 0 20 20 20]\n",
    "[10 20 20 20]\n",
    "[20 20 20 0]]"
   ]
  },
  {
   "cell_type": "code",
   "execution_count": null,
   "id": "971dca4b",
   "metadata": {},
   "outputs": [],
   "source": [
    "import numpy as np\n",
    "x = np.array([[20, 20, 20, 0],\n",
    "              [0, 20, 20, 20],\n",
    "              [0, 20, 20, 20],\n",
    "              [20, 20, 20, 0],\n",
    "              [10, 20, 20,20]])\n",
    "print(\"Original array:\")\n",
    "print(x)\n",
    "y = np.ascontiguousarray(x).view(np.dtype((np.void, x.dtype.itemsize * x.shape[1])))\n",
    "_, idx = np.unique(y, return_index=True)\n",
    "\n",
    "unique_result = x[idx]\n",
    "print(\"Unique rows of the above array:\")\n",
    "print(unique_result)\n"
   ]
  },
  {
   "cell_type": "markdown",
   "id": "3c522eda",
   "metadata": {},
   "source": [
    "# 88. Write a NumPy program to replace all elements of NumPy array that are greater than the specified array.\n",
    "\n",
    "Expected Output:\n",
    "Original array:\n",
    "[[ 0.42436315 0.48558583 0.32924763]\n",
    "[ 0.7439979 0.58220701 0.38213418]\n",
    "[ 0.5097581 0.34528799 0.1563123 ]]\n",
    "Replace all elements of the said array with .5 which are greater than. 5\n",
    "[[ 0.42436315 0.48558583 0.32924763]\n",
    "[ 0.5 0.5 0.38213418]\n",
    "[ 0.5 0.34528799 0.1563123 ]]"
   ]
  },
  {
   "cell_type": "code",
   "execution_count": null,
   "id": "666fc85f",
   "metadata": {},
   "outputs": [],
   "source": [
    "import numpy as np\n",
    "x = np.array([[ 0.42436315, 0.48558583, 0.32924763], [ 0.7439979,0.58220701,0.38213418], [ 0.5097581,0.34528799,0.1563123 ]])\n",
    "print(\"Original array:\")\n",
    "print(x)\n",
    "print(\"Replace all elements of the said array with .5 which are greater than .5\")\n",
    "x[x > .5] = .5\n",
    "print(x)\n"
   ]
  },
  {
   "cell_type": "markdown",
   "id": "247e9d5e",
   "metadata": {},
   "source": [
    "# 89. Write a NumPy program to remove specific elements from a NumPy array.\n",
    "\n",
    "Expected Output:\n",
    "Original array:\n",
    "[ 10 20 30 40 50 60 70 80 90 100]\n",
    "Delete first, fourth and fifth elements:\n",
    "[ 20 30 60 70 80 90 100]"
   ]
  },
  {
   "cell_type": "code",
   "execution_count": null,
   "id": "40ff3c44",
   "metadata": {},
   "outputs": [],
   "source": [
    "import numpy as np\n",
    "x = np.array([10, 20, 30, 40, 50, 60, 70, 80, 90, 100])\n",
    "index = [0, 3, 4]\n",
    "print(\"Original array:\")\n",
    "print(x)\n",
    "print(\"Delete first, fourth and fifth elements:\")\n",
    "new_x = np.delete(x, index)\n",
    "print(new_x)\n"
   ]
  },
  {
   "cell_type": "markdown",
   "id": "fd3e5c64",
   "metadata": {},
   "source": [
    "# 90. Write a NumPy program to replace the negative values in a NumPy array with 0.\n",
    "\n",
    "Expected Output:\n",
    "Original array:\n",
    "[-1 -4 0 2 3 4 5 -6]\n",
    "Replace the negative values of the said array with 0:\n",
    "[0 0 0 2 3 4 5 0]"
   ]
  },
  {
   "cell_type": "code",
   "execution_count": null,
   "id": "1212acc1",
   "metadata": {},
   "outputs": [],
   "source": [
    "import numpy as np\n",
    "x = np.array([-1, -4, 0, 2, 3, 4, 5, -6])\n",
    "print(\"Original array:\")\n",
    "print(x)\n",
    "print(\"Replace the negative values of the said array with 0:\")\n",
    "x[x < 0] = 0\n",
    "print(x)\n"
   ]
  },
  {
   "cell_type": "markdown",
   "id": "ec9e6ad1",
   "metadata": {},
   "source": [
    "# 91. Write a NumPy program to remove all rows in a NumPy array that contain non-numeric values.\n",
    "Expected Output:\n",
    "Original array:\n",
    "[[ 1. 2. 3.]\n",
    "[ 4. 5. nan]\n",
    "[ 7. 8. 9.]\n",
    "[ 1. 0. 1.]]\n",
    "Remove all non-numeric elements of the said array\n",
    "[[ 1. 2. 3.]\n",
    "[ 7. 8. 9.]\n",
    "[ 1. 0. 1.]]"
   ]
  },
  {
   "cell_type": "code",
   "execution_count": null,
   "id": "18279db0",
   "metadata": {},
   "outputs": [],
   "source": [
    "import numpy as np\n",
    "x = np.array([[1,2,3], [4,5,np.nan], [7,8,9], [True, False, True]])\n",
    "print(\"Original array:\")\n",
    "print(x)\n",
    "print(\"Remove all non-numeric elements of the said array\")\n",
    "print(x[~np.isnan(x).any(axis=1)])\n"
   ]
  },
  {
   "cell_type": "markdown",
   "id": "dea45d81",
   "metadata": {},
   "source": [
    "# 92. Write a NumPy program to select indices satisfying multiple conditions in a NumPy array.\n",
    "Sample array :\n",
    "a = np.array([97, 101, 105, 111, 117])\n",
    "b = np.array(['a','e','i','o','u'])\n",
    "Note: Select the elements from the second array corresponding to elements in the first array that are greater than 100 and less than 110\n",
    "Expected Output:\n",
    "Original arrays\n",
    "[ 97 101 105 111 117]\n",
    "['a' 'e' 'i' 'o' 'u']\n",
    "Elements from the second array corresponding to elements in the first\n",
    "array that are greater than 100 and less than 110:\n",
    "['e' 'i']"
   ]
  },
  {
   "cell_type": "code",
   "execution_count": null,
   "id": "b3d6c960",
   "metadata": {},
   "outputs": [],
   "source": [
    "import numpy as np\n",
    "a = np.array([97, 101, 105, 111, 117])\n",
    "b = np.array(['a','e','i','o','u'])\n",
    "print(\"Original arrays\")\n",
    "print(a)\n",
    "print(b)\n",
    "print(\"Elements from the second array  corresponding to elements in the first array  that are greater than 100 and less than 110:\")\n",
    "print(b[(100 < a) & (a < 110)])\n"
   ]
  },
  {
   "cell_type": "markdown",
   "id": "6b816172",
   "metadata": {},
   "source": [
    "# 93. Write a NumPy program to get the magnitude of a vector in NumPy.\n",
    "Expected Output:\n",
    "Original array:\n",
    "[1 2 3 4 5]\n",
    "Magnitude of the vector:\n",
    "7.4161984871"
   ]
  },
  {
   "cell_type": "code",
   "execution_count": null,
   "id": "11b6b39a",
   "metadata": {},
   "outputs": [],
   "source": [
    "import numpy as np\n",
    "x = np.array([1,2,3,4,5])\n",
    "print(\"Original array:\")\n",
    "print(x)\n",
    "print(\"Magnitude of the vector:\")\n",
    "print(np.linalg.norm(x))\n"
   ]
  },
  {
   "cell_type": "markdown",
   "id": "444cdb0e",
   "metadata": {},
   "source": [
    "# 94. Write a NumPy program to count the frequency of distinct values in a NumPy array.\n",
    "Expected Output:\n",
    "Original array:\n",
    "[10 10 20 10 20 20 20 30 30 50 40 40]\n",
    "Frequency of unique values of the said array:\n",
    "[[10 20 30 40 50]\n",
    "[ 3 4 2 2 1]]"
   ]
  },
  {
   "cell_type": "code",
   "execution_count": null,
   "id": "87937457",
   "metadata": {},
   "outputs": [],
   "source": [
    "import numpy as np\n",
    "a = np.array( [10,10,20,10,20,20,20,30, 30,50,40,40] )\n",
    "print(\"Original array:\")\n",
    "print(a)\n",
    "unique_elements, counts_elements = np.unique(a, return_counts=True)\n",
    "print(\"Frequency of unique values of the said array:\")\n",
    "print(np.asarray((unique_elements, counts_elements)))\n"
   ]
  },
  {
   "cell_type": "markdown",
   "id": "8d322f2a",
   "metadata": {},
   "source": [
    "# 95. Write a NumPy program to check whether the NumPy array is empty or not.\n",
    "Expected Output:\n",
    "2\n",
    "0"
   ]
  },
  {
   "cell_type": "code",
   "execution_count": null,
   "id": "0446b547",
   "metadata": {},
   "outputs": [],
   "source": [
    "import numpy as np\n",
    "x = np.array([2, 3])\n",
    "y = np.array([])\n",
    "# size 2, array is not empty\n",
    "print(x.size)\n",
    "# size 0, array is empty\n",
    "print(y.size)\n"
   ]
  },
  {
   "cell_type": "markdown",
   "id": "f04c6046",
   "metadata": {},
   "source": [
    "# 94. Write a NumPy program to count the frequency of distinct values in a NumPy array.\n",
    "Expected Output:\n",
    "Original array:\n",
    "[10 10 20 10 20 20 20 30 30 50 40 40]\n",
    "Frequency of unique values of the said array:\n",
    "[[10 20 30 40 50]\n",
    "[ 3 4 2 2 1]]"
   ]
  },
  {
   "cell_type": "code",
   "execution_count": null,
   "id": "957b95d3",
   "metadata": {},
   "outputs": [],
   "source": [
    "import numpy as np\n",
    "a = np.array( [10,10,20,10,20,20,20,30, 30,50,40,40] )\n",
    "print(\"Original array:\")\n",
    "print(a)\n",
    "unique_elements, counts_elements = np.unique(a, return_counts=True)\n",
    "print(\"Frequency of unique values of the said array:\")\n",
    "print(np.asarray((unique_elements, counts_elements)))\n"
   ]
  },
  {
   "cell_type": "markdown",
   "id": "8ffca412",
   "metadata": {},
   "source": [
    "# 95. Write a NumPy program to check whether the NumPy array is empty or not.\n",
    "Expected Output:\n",
    "2\n",
    "0"
   ]
  },
  {
   "cell_type": "code",
   "execution_count": null,
   "id": "70ce8684",
   "metadata": {},
   "outputs": [],
   "source": [
    "import numpy as np\n",
    "x = np.array([2, 3])\n",
    "y = np.array([])\n",
    "# size 2, array is not empty\n",
    "print(x.size)\n",
    "# size 0, array is empty\n",
    "print(y.size)\n"
   ]
  },
  {
   "cell_type": "markdown",
   "id": "d4103588",
   "metadata": {},
   "source": [
    "# 96. Write a NumPy program to divide each row by a vector element.\n",
    "Expected Output:\n",
    "Original array:\n",
    "[[20 20 20]\n",
    "[30 30 30]\n",
    "[40 40 40]]\n",
    "Vector:\n",
    "[20 30 40]\n",
    "[[ 1. 1. 1.]\n",
    "[ 1. 1. 1.]\n",
    "[ 1. 1. 1.]]"
   ]
  },
  {
   "cell_type": "code",
   "execution_count": null,
   "id": "928a7ae8",
   "metadata": {},
   "outputs": [],
   "source": [
    "import numpy as np\n",
    "x = np.array([[20,20,20],[30,30,30],[40,40,40]])\n",
    "print(\"Original array:\")\n",
    "print(x)\n",
    "v = np.array([20,30,40])\n",
    "print(\"Vector:\")\n",
    "print(v)\n",
    "print(x / v[:,None])\n"
   ]
  },
  {
   "cell_type": "markdown",
   "id": "48e54af4",
   "metadata": {},
   "source": [
    "# 97. Write a NumPy program to print all array values.\n",
    "Expected Output:\n",
    "[[ 0. 0. 0. 0.]\n",
    "[ 0. 0. 0. 0.]\n",
    "[ 0. 0. 0. 0.]\n",
    "[ 0. 0. 0. 0.]]"
   ]
  },
  {
   "cell_type": "code",
   "execution_count": null,
   "id": "afb3c0ba",
   "metadata": {},
   "outputs": [],
   "source": [
    "import numpy as np\n",
    "np.set_printoptions(threshold=np.nan)\n",
    "x = np.zeros((4, 4))\n",
    "print(x)\n"
   ]
  },
  {
   "cell_type": "markdown",
   "id": "a675d9d3",
   "metadata": {},
   "source": [
    "# 98. Write a NumPy program to convert raw array data to a binary string and create an array.\n",
    "Expected Output:\n",
    "Original array:\n",
    "[ 10. 20. 30.]\n",
    "Binary string array:\n",
    "b'\\x00\\x00\\x00\\x00\\x00\\x00$@\\x00\\x00\\x00\\x00\\x00\\x004@\\x00\\x00\\x00\\x00\\x00\\x00>@'\n",
    "Array using fromstring():\n",
    "[ 10. 20. 30.]"
   ]
  },
  {
   "cell_type": "code",
   "execution_count": null,
   "id": "7339dd16",
   "metadata": {},
   "outputs": [],
   "source": [
    "import numpy as np\n",
    "x = np.array([10, 20, 30], float)\n",
    "print(\"Original array:\")\n",
    "print(x)\n",
    "s = x.tostring()\n",
    "print(\"Binary string array:\")\n",
    "print(s)\n",
    "print(\"Array using fromstring():\")\n",
    "y = np.fromstring(s)\n",
    "print(y)\n"
   ]
  },
  {
   "cell_type": "markdown",
   "id": "a52f0741",
   "metadata": {},
   "source": [
    "# 99. Write a NumPy program to sum and compute the product of a numpy array of elements.\n",
    "Expected Output:\n",
    "Original array:\n",
    "[ 10. 20. 30.]\n",
    "Sum of the array elements:\n",
    "60.0\n",
    "Product of the array elements:\n",
    "6000.0"
   ]
  },
  {
   "cell_type": "code",
   "execution_count": null,
   "id": "bee36523",
   "metadata": {},
   "outputs": [],
   "source": [
    "import numpy as np\n",
    "x = np.array([10, 20, 30], float)\n",
    "print(\"Original array:\")\n",
    "print(x)\n",
    "print(\"Sum of the array elements:\")\n",
    "print(x.sum())\n",
    "print(\"Product of the array elements:\")\n",
    "print(x.prod())\n"
   ]
  },
  {
   "cell_type": "markdown",
   "id": "30a285db",
   "metadata": {},
   "source": [
    "# 100. Write a NumPy program to take values from a source array and put them at specified indices of another array.\n",
    "Expected Output:\n",
    "[ 10. 10. 20. 30. 30.]\n",
    "Put 0 and 40 in first and fifth position of the above array\n",
    "Array x after put two values: [ 0. 10. 20. 30. 40.]"
   ]
  },
  {
   "cell_type": "code",
   "execution_count": null,
   "id": "0ff9f3a6",
   "metadata": {},
   "outputs": [],
   "source": [
    "import numpy as np\n",
    "x = np.array([10, 10, 20, 30, 30], float)\n",
    "print(x)\n",
    "print(\"Put 0 and 40 in first and fifth position of the above array\")\n",
    "y = np.array([0, 40, 60], float) \n",
    "x.put([0, 4], y)\n",
    "print(\"Array x, after putting two values:\")\n",
    "print(x)\n"
   ]
  },
  {
   "cell_type": "markdown",
   "id": "d1eda15b",
   "metadata": {},
   "source": [
    "# 101. Write a NumPy program to print the full NumPy array, without truncation.\n",
    "Truncated output:\n",
    "[ 0 1 2 ... 1997 1998 1999]"
   ]
  },
  {
   "cell_type": "code",
   "execution_count": null,
   "id": "97b7c3af",
   "metadata": {},
   "outputs": [],
   "source": [
    "import numpy as np\n",
    "import sys\n",
    "nums = np.arange(2000)\n",
    "np.set_printoptions(threshold=sys.maxsize)\n",
    "print(nums)\n"
   ]
  },
  {
   "cell_type": "markdown",
   "id": "1334c67b",
   "metadata": {},
   "source": [
    "# 102. Write a NumPy program to convert a NumPy array into a CSV file."
   ]
  },
  {
   "cell_type": "code",
   "execution_count": null,
   "id": "4d6b4678",
   "metadata": {},
   "outputs": [],
   "source": [
    "import numpy\n",
    "data = numpy.asarray([ [10,20,30], [40,50,60], [70,80,90] ])\n",
    "numpy.savetxt(\"test.csv\", data, delimiter=\",\")\n"
   ]
  },
  {
   "cell_type": "markdown",
   "id": "b2af8804",
   "metadata": {},
   "source": [
    "# 103. Write a NumPy program to calculate the Euclidean distance.\n",
    "From Wikipedia:\n",
    "In mathematics, the Euclidean distance or Euclidean metric is the \"ordinary\" straight-line distance between two points in Euclidean space. With this distance, Euclidean space becomes a metric space. The associated norm is called the Euclidean norm. Older literature refers to the metric as the Pythagorean metric.\n",
    "Sample Output:\n",
    "Euclidean distance: 5.196152422706632"
   ]
  },
  {
   "cell_type": "code",
   "execution_count": null,
   "id": "34c2d518",
   "metadata": {},
   "outputs": [],
   "source": [
    "from scipy.spatial import distance\n",
    "p1 = (1, 2, 3)\n",
    "p2 = (4, 5, 6)\n",
    "d = distance.euclidean(p1, p2)\n",
    "print(\"Euclidean distance: \",d)\n"
   ]
  },
  {
   "cell_type": "markdown",
   "id": "d57bf7f1",
   "metadata": {},
   "source": [
    "# 104. Write a NumPy program to access the last two columns of a multidimensional column.\n",
    "Sample Output:\n",
    "[[1 2 3]\n",
    "[4 5 6]\n",
    "[7 8 9]]\n",
    "[[2 3]\n",
    "[5 6]\n",
    "[8 9]]"
   ]
  },
  {
   "cell_type": "code",
   "execution_count": null,
   "id": "793de8ea",
   "metadata": {},
   "outputs": [],
   "source": [
    "import numpy as np\n",
    "arra = np.array([[1, 2, 3], [4, 5, 6], [7, 8, 9]])\n",
    "print(arra)\n",
    "result = arra[:,[1,2]]\n",
    "print(result)\n"
   ]
  },
  {
   "cell_type": "markdown",
   "id": "93987c57",
   "metadata": {},
   "source": [
    "# 105. Write a NumPy program to read a CSV data file and store records in an array.\n",
    "Sample CSV file: fdata.csv\n",
    "Date,Open,High,Low,Close\n",
    "03-10-16,774.25,776.065002,769.5,772.559998\n",
    ".................\n",
    "07-10-16,779.659973,779.659973,770.75,775.080017\n",
    "Sample Output:\n",
    "[(b'Date', nan, nan, nan, nan)\n",
    "(b'03-10-16', 774.25, 776.065, 769.5 , 772.56)\n",
    "......................\n",
    "(b'07-10-16', 779.66, 779.66 , 770.75, 775.08)]"
   ]
  },
  {
   "cell_type": "code",
   "execution_count": null,
   "id": "53019d8b",
   "metadata": {},
   "outputs": [],
   "source": [
    "from numpy import genfromtxt\n",
    "csv_data = genfromtxt('fdata.csv', dtype=['S10','float32','float32','float32','float32'], delimiter=\",\")\n",
    "print(csv_data)\n"
   ]
  },
  {
   "cell_type": "markdown",
   "id": "484880bb",
   "metadata": {},
   "source": [
    "# 106. Write a NumPy program to count the occurrences of a specified item in a given NumPy array.\n",
    "Sample Output:\n",
    "Original array:\n",
    "[10 20 20 20 20 0 20 30 30 30 0 0 20 20 0]\n",
    "1\n",
    "7\n",
    "3\n",
    "4"
   ]
  },
  {
   "cell_type": "code",
   "execution_count": null,
   "id": "f04a6646",
   "metadata": {},
   "outputs": [],
   "source": [
    "import numpy as np\n",
    "nums = np.array([10, 20, 20, 20, 20, 0, 20, 30, 30, 30, 0, 0, 20, 20, 0])\n",
    "print(\"Original array:\")\n",
    "print(nums)\n",
    "print(np.count_nonzero(nums == 10))\n",
    "print(np.count_nonzero(nums == 20))\n",
    "print(np.count_nonzero(nums == 30))\n",
    "print(np.count_nonzero(nums == 0))\n"
   ]
  },
  {
   "cell_type": "markdown",
   "id": "9dd3f1e2",
   "metadata": {},
   "source": [
    "# 107. Write a NumPy program to calculate percentiles for a sequence or single-dimensional NumPy array.\n",
    "Sample Output:\n",
    "50th percentile (median):\n",
    "3.0\n",
    "40th percentile:\n",
    "2.6\n",
    "90th percentile:\n",
    "4.6"
   ]
  },
  {
   "cell_type": "code",
   "execution_count": null,
   "id": "18bc4c63",
   "metadata": {},
   "outputs": [],
   "source": [
    "import numpy as np\n",
    "nums = np.array([1,2,3,4,5])\n",
    "print(\"50th percentile (median):\")\n",
    "p = np.percentile(nums, 50)\n",
    "print(p)\n",
    "print(\"40th percentile:\")\n",
    "p = np.percentile(nums, 40)\n",
    "print(p)\n",
    "print(\"90th percentile:\")\n",
    "p = np.percentile(nums, 90)\n",
    "print(p)\n"
   ]
  },
  {
   "cell_type": "markdown",
   "id": "6601c253",
   "metadata": {},
   "source": [
    "# 108. Write a NumPy program to convert a PIL image into a NumPy array.\n",
    "Sample Output:\n",
    "[[[255 255 255 0]\n",
    ".......\n",
    "[255 255 255 0]]]"
   ]
  },
  {
   "cell_type": "code",
   "execution_count": null,
   "id": "9e813471",
   "metadata": {},
   "outputs": [],
   "source": [
    "import numpy as np\n",
    "import PIL\n",
    "img_data = PIL.Image.open('w3resource-logo.png' )\n",
    "img_arr = np.array(img_data) \n",
    "print(img_arr)\n"
   ]
  },
  {
   "cell_type": "markdown",
   "id": "61e0b1a0",
   "metadata": {},
   "source": [
    "# 109. Write a NumPy program to convert a NumPy array to an image. Display an image.\n",
    "Sample Output:"
   ]
  },
  {
   "cell_type": "code",
   "execution_count": null,
   "id": "c3e41b30",
   "metadata": {},
   "outputs": [],
   "source": [
    "from PIL import Image\n",
    "import numpy as np\n",
    "img_w, img_h = 200, 200\n",
    "data = np.zeros((img_h, img_w, 3), dtype=np.uint8)\n",
    "data[100, 100] = [255, 0, 0]\n",
    "img = Image.fromarray(data, 'RGB')\n",
    "img.save('test.png')\n",
    "img.show()\n"
   ]
  },
  {
   "cell_type": "markdown",
   "id": "14e18012",
   "metadata": {},
   "source": [
    "# 110. Write a NumPy program to remove nan values from a given array.\n",
    "Sample Output:\n",
    "Original array:\n",
    "[200. 300. nan nan nan 700.]\n",
    "After removing nan values:\n",
    "[200. 300. 700.]\n",
    "Original array:\n",
    "[[ 1. 2. 3.]\n",
    "[nan 0. nan]\n",
    "[ 6. 7. nan]]\n",
    "After removing nan values:\n",
    "[1. 2. 3. 0. 6. 7.]"
   ]
  },
  {
   "cell_type": "code",
   "execution_count": null,
   "id": "dca1f16a",
   "metadata": {},
   "outputs": [],
   "source": [
    "import numpy as np\n",
    "x = np.array([200, 300, np.nan, np.nan, np.nan ,700])\n",
    "y = np.array([[1, 2, 3], [np.nan, 0, np.nan] ,[6,7,np.nan]] )\n",
    "print(\"Original array:\")\n",
    "print(x)\n",
    "print(\"After removing nan values:\")\n",
    "result = x[np.logical_not(np.isnan(x))]\n",
    "print(result)\n",
    "print(\"\\nOriginal array:\")\n",
    "print(y)\n",
    "print(\"After removing nan values:\")\n",
    "result = y[np.logical_not(np.isnan(y))]\n",
    "print(result)\n"
   ]
  },
  {
   "cell_type": "markdown",
   "id": "9cdf16f6",
   "metadata": {},
   "source": [
    "# 111. Write a NumPy program to create a Cartesian product of two arrays into a single array of 2D points.\n",
    "Sample Output:\n",
    "[[1 4]\n",
    "......\n",
    "[3 5]]"
   ]
  },
  {
   "cell_type": "code",
   "execution_count": null,
   "id": "7ed29783",
   "metadata": {},
   "outputs": [],
   "source": [
    "import numpy as np\n",
    "x = np.array([1,2,3])\n",
    "y = np.array([4,5])\n",
    "result = np.transpose([np.tile(x, len(y)), np.repeat(y, len(x))])\n",
    "print(result)\n"
   ]
  },
  {
   "cell_type": "markdown",
   "id": "d387b496",
   "metadata": {},
   "source": [
    "# 112. Write a NumPy program to get NumPy array memory usage.\n",
    "Sample Output:\n",
    "8256"
   ]
  },
  {
   "cell_type": "code",
   "execution_count": null,
   "id": "9b92e780",
   "metadata": {},
   "outputs": [],
   "source": [
    "import numpy as np\n",
    "from sys import getsizeof\n",
    "x = [0] * 1024\n",
    "y = np.array(x)\n",
    "print(getsizeof(x))\n"
   ]
  },
  {
   "cell_type": "markdown",
   "id": "07722e4f",
   "metadata": {},
   "source": [
    "# 113. Write a NumPy program to build an array of all combinations of three NumPy arrays.\n",
    "Sample Output:\n",
    "Original arrays:\n",
    "Array-1\n",
    "[1, 2, 3]\n",
    "Array-2\n",
    "[4, 5]\n",
    "Array-3\n",
    "[6, 7]\n",
    "Combine array:\n",
    "[[1 4 6]\n",
    "........\n",
    "[3 4 7]\n",
    "[3 5 7]]"
   ]
  },
  {
   "cell_type": "code",
   "execution_count": null,
   "id": "7c3130a7",
   "metadata": {},
   "outputs": [],
   "source": [
    "import numpy as np\n",
    "x = [1, 2, 3]\n",
    "y = [4, 5]\n",
    "z = [6, 7]\n",
    "print(\"Original arrays:\")\n",
    "print(\"Array-1\")\n",
    "print(x)\n",
    "print(\"Array-2\")\n",
    "print(y)\n",
    "print(\"Array-3\")\n",
    "print(z)\n",
    "new_array = np.array(np.meshgrid(x, y, z)).T.reshape(-1,3)\n",
    "print(\"Combine array:\")\n",
    "print(new_array)\n"
   ]
  },
  {
   "cell_type": "markdown",
   "id": "7db4fbc2",
   "metadata": {},
   "source": [
    "# 114. Write a NumPy program to create a random set of rows from a 2D array.\n",
    "Sample Output:\n",
    "Random set of rows from 2D array array:\n",
    "[[4 0 2]\n",
    ".......\n",
    "[3 4 3]]"
   ]
  },
  {
   "cell_type": "code",
   "execution_count": null,
   "id": "2b1d8552",
   "metadata": {},
   "outputs": [],
   "source": [
    "import numpy as np\n",
    "new_array = np.random.randint(5, size=(5,3))\n",
    "print(\"Random set of rows from 2D array array:\")\n",
    "print(new_array)\n"
   ]
  },
  {
   "cell_type": "markdown",
   "id": "3d22b051",
   "metadata": {},
   "source": [
    "# 115. Write a NumPy program to find the indices of elements equal to zero in a NumPy array.\n",
    "Sample Output:\n",
    "Original array:\n",
    "[1 0 2 0 3 0 4 5 6 7 8]\n",
    "Indices of elements equal to zero of the said array:\n",
    "[1 3 5]"
   ]
  },
  {
   "cell_type": "code",
   "execution_count": null,
   "id": "2ee2d34d",
   "metadata": {},
   "outputs": [],
   "source": [
    "import numpy as np\n",
    "nums = np.array([1,0,2,0,3,0,4,5,6,7,8])\n",
    "print(\"Original array:\")\n",
    "print(nums)\n",
    "print(\"Indices of elements equal to zero of the said array:\")\n",
    "result = np.where(nums == 0)[0]\n",
    "print(result)\n"
   ]
  },
  {
   "cell_type": "markdown",
   "id": "a9d13ca6",
   "metadata": {},
   "source": [
    "# 116. Write a NumPy program to compute the histogram of a set of data.\n",
    "Sample Output:"
   ]
  },
  {
   "cell_type": "code",
   "execution_count": null,
   "id": "90e51db7",
   "metadata": {},
   "outputs": [],
   "source": [
    "import numpy as np    \n",
    "import matplotlib.pyplot as plt\n",
    "plt.hist([1, 2, 1], bins=[0, 1, 2, 3, 5])\n",
    "plt.show()\n"
   ]
  },
  {
   "cell_type": "markdown",
   "id": "df0a73aa",
   "metadata": {},
   "source": [
    "# 117. Write a NumPy program to compute the line graph of a set of data.\n",
    "Sample Output:\n",
    "https://www.w3resource.com/w3r_images/python-numpy-exercise-117.png"
   ]
  },
  {
   "cell_type": "code",
   "execution_count": null,
   "id": "fef9b9ad",
   "metadata": {},
   "outputs": [],
   "source": [
    "import numpy as np    \n",
    "import matplotlib.pyplot as plt\n",
    "arr = np.random.randint(1, 50, 10)\n",
    "y, x = np.histogram(arr, bins=np.arange(51))\n",
    "fig, ax = plt.subplots()\n",
    "ax.plot(x[:-1], y)\n",
    "fig.show()\n"
   ]
  },
  {
   "cell_type": "markdown",
   "id": "3761926e",
   "metadata": {},
   "source": [
    "# 118. Write a NumPy program to find the position of the index of a specified value ranked higher than an existing value in a NumPy array.\n",
    "Sample Output:\n",
    "Original array:\n",
    "[-6 -5 -4 -3 -2 -1 0 1 2 3 4 5]\n",
    "Position of the index:\n",
    "9"
   ]
  },
  {
   "cell_type": "code",
   "execution_count": null,
   "id": "6c0c282d",
   "metadata": {},
   "outputs": [],
   "source": [
    "import numpy as np    \n",
    "n= 4\n",
    "nums = np.arange(-6, 6)\n",
    "print(\"\\nOriginal array:\")\n",
    "print(nums)\n",
    "print(\"\\nPosition of the index:\")\n",
    "print(np.argmax(nums>n/2))\n"
   ]
  },
  {
   "cell_type": "markdown",
   "id": "ae430dd3",
   "metadata": {},
   "source": [
    "# 119. Write a NumPy program to add another row to an empty NumPy array.\n",
    "Sample Output:\n",
    "Empty array:\n",
    "[]\n",
    "After adding two new arrays:\n",
    "[[10 20 30]\n",
    "[40 50 60]]"
   ]
  },
  {
   "cell_type": "code",
   "execution_count": null,
   "id": "97eb6259",
   "metadata": {},
   "outputs": [],
   "source": [
    "import numpy as np    \n",
    "arr = np.empty((0,3), int)\n",
    "print(\"Empty array:\")\n",
    "print(arr)\n",
    "arr = np.append(arr, np.array([[10,20,30]]), axis=0)\n",
    "arr = np.append(arr, np.array([[40,50,60]]), axis=0)\n",
    "print(\"After adding two new arrays:\")\n",
    "print(arr)\n"
   ]
  },
  {
   "cell_type": "markdown",
   "id": "94a43914",
   "metadata": {},
   "source": [
    "# 120. Write a NumPy program to get the index of a maximum element in a NumPy array along one axis.\n",
    "Sample Output:\n",
    "Original array:\n",
    "[[1 2 3]\n",
    "[4 3 1]]\n",
    "Index of a maximum element in a NumPy array along one axis:\n",
    "4"
   ]
  },
  {
   "cell_type": "code",
   "execution_count": null,
   "id": "86143534",
   "metadata": {},
   "outputs": [],
   "source": [
    "import numpy as np\n",
    "a = np.array([[1,2,3],[4,3,11]])\n",
    "print(\"Original array:\")\n",
    "print(a)\n",
    "i,j = np.unravel_index(a.argmax(), a.shape)\n",
    "print(\"Index of a maximum element in a numpy array along one axis:\")\n",
    "print(i,j)\n"
   ]
  },
  {
   "cell_type": "markdown",
   "id": "f0dd2217",
   "metadata": {},
   "source": [
    "# 121. Write a NumPy program to join a sequence of arrays along an axis.\n",
    "Sample Output:\n",
    "Original arrays:\n",
    "[1 2 3]\n",
    "[2 3 4]\n",
    "Sequence of arrays along a new axis:\n",
    "[[1 2 3]\n",
    "[2 3 4]]\n",
    "Original arrays:\n",
    "[[1]\n",
    "[2]\n",
    "[3]]\n",
    "[[2]\n",
    "[3]\n",
    "[4]]\n",
    "Sequence of arrays along a new axis:\n",
    "[[1]\n",
    "[2]\n",
    "[3]\n",
    "[2]\n",
    "[3]\n",
    "[4]]"
   ]
  },
  {
   "cell_type": "code",
   "execution_count": null,
   "id": "3725ca41",
   "metadata": {},
   "outputs": [],
   "source": [
    "import numpy as np    \n",
    "x = np.array([1, 2, 3])\n",
    "y = np.array([2, 3, 4])\n",
    "print(\"Original arrays:\")\n",
    "print(x)\n",
    "print(y)\n",
    "print(\"Sequence of arrays along a new axis:\")\n",
    "print(np.vstack((x, y)))\n",
    "x = np.array([[1], [2], [3]])\n",
    "y = np.array([[2], [3], [4]])\n",
    "print(\"\\nOriginal arrays:\")\n",
    "print(x)\n",
    "print()\n",
    "print(y)\n",
    "print(\"Sequence of arrays along a new axis:\")\n",
    "print(np.vstack((x, y)))\n"
   ]
  },
  {
   "cell_type": "markdown",
   "id": "4502c2b3",
   "metadata": {},
   "source": [
    "# 122. Write a NumPy program to find the index of the sliced elements from a given 4x4 array.\n",
    "Sample Output:\n",
    "Original arrays:\n",
    "[[ 0 1 2 3]\n",
    "........\n",
    "[12 13 14 15]]\n",
    "Sliced elements:\n",
    "[ 0 5 11]"
   ]
  },
  {
   "cell_type": "code",
   "execution_count": null,
   "id": "9f2f8d31",
   "metadata": {},
   "outputs": [],
   "source": [
    "import numpy as np    \n",
    "x = np.reshape(np.arange(16),(4,4))\n",
    "print(\"Original arrays:\")\n",
    "print(x)\n",
    "print(\"Sliced elements:\")\n",
    "result = x[[0,1,2],[0,1,3]]\n",
    "print(result)\n"
   ]
  },
  {
   "cell_type": "markdown",
   "id": "2011c5ec",
   "metadata": {},
   "source": [
    "# 123. Write a NumPy program to create two arrays bigger and smaller than a given array.\n",
    "Sample Output:\n",
    "Original arrays:\n",
    "[[ 0 1 2 3]\n",
    "........\n",
    "[12 13 14 15]]\n",
    "Array with size 2x2 from the said array:\n",
    "[[0 1]\n",
    "[2 3]]\n",
    "Array with size 6x6 from the said array:\n",
    "[[ 0 1 2 3 4 5]\n",
    ".........\n",
    "[14 15 0 1 2 3]]"
   ]
  },
  {
   "cell_type": "code",
   "execution_count": null,
   "id": "75952df2",
   "metadata": {},
   "outputs": [],
   "source": [
    "import numpy as np    \n",
    "x = np.arange(16).reshape(4,4)\n",
    "print(\"Original arrays:\")\n",
    "print(x)\n",
    "print(\"\\nArray with size 2x2 from the said array:\")\n",
    "new_array1 = np.resize(x,(2,2))\n",
    "print(new_array1)\n",
    "print(\"\\nArray with size 6x6 from the said array:\")\n",
    "new_array2 = np.resize(x,(6,6))\n",
    "print(new_array2)\n"
   ]
  },
  {
   "cell_type": "markdown",
   "id": "1e2c0a53",
   "metadata": {},
   "source": [
    "# 124. Write a NumPy program to broadcast on different shapes of arrays where p(3,3) + q(3).\n",
    "Sample Output:\n",
    "Original arrays:\n",
    "Array-1\n",
    "[[0 0 0]\n",
    "[1 2 3]\n",
    "[4 5 6]]\n",
    "Array-2\n",
    "[10 11 12]\n",
    "New Array:\n",
    "[[10 11 12]\n",
    "[11 13 15]\n",
    "[14 16 18]]"
   ]
  },
  {
   "cell_type": "code",
   "execution_count": null,
   "id": "14d1b658",
   "metadata": {},
   "outputs": [],
   "source": [
    "import numpy as np    \n",
    "p = np.array([[0, 0, 0],\n",
    "              [1, 2, 3],\n",
    "              [4, 5, 6]]) \n",
    "q= np.array([10, 11, 12]) \n",
    "print(\"Original arrays:\")\n",
    "print(\"Array-1\")\n",
    "print(p)\n",
    "print(\"Array-2\")\n",
    "print(q)\n",
    "print (\"\\nNew Array:\")\n",
    "new_array1 = p + q \n",
    "print(new_array1)\n"
   ]
  },
  {
   "cell_type": "markdown",
   "id": "7ff93d01",
   "metadata": {},
   "source": [
    "# 125. Write a NumPy program to broadcast on different shapes of arrays where a(,3) + b(3).\n",
    "Sample Output:\n",
    "Original arrays:\n",
    "Array-1\n",
    "[[ 0]\n",
    "[10]\n",
    "[20]]\n",
    "Array-2\n",
    "[10 11 12]\n",
    "New Array:\n",
    "[[10 11 12]\n",
    "[20 21 22]\n",
    "[30 31 32]]"
   ]
  },
  {
   "cell_type": "code",
   "execution_count": null,
   "id": "70bdffe3",
   "metadata": {},
   "outputs": [],
   "source": [
    "import numpy as np    \n",
    "p = np.array([[0], [10], [20]]) \n",
    "q= np.array([10, 11, 12]) \n",
    "print(\"Original arrays:\")\n",
    "print(\"Array-1\")\n",
    "print(p)\n",
    "print(\"Array-2\")\n",
    "print(q)\n",
    "print(\"\\nNew Array:\")\n",
    "new_array1 = p + q \n",
    "print(new_array1)\n"
   ]
  },
  {
   "cell_type": "markdown",
   "id": "74227699",
   "metadata": {},
   "source": [
    "# 126. Write a NumPy program to rearrange array dimensions.\n",
    "Sample Output:\n",
    "Original arrays:\n",
    "[[ 0 1 2 3]\n",
    "...........\n",
    "[20 21 22 23]]\n",
    "After reverse the dimensions:\n",
    "[[ 0 4 8 12 16 20]\n",
    "............\n",
    "[ 3 7 11 15 19 23]]"
   ]
  },
  {
   "cell_type": "code",
   "execution_count": null,
   "id": "7a2f9cfe",
   "metadata": {},
   "outputs": [],
   "source": [
    "import numpy as np    \n",
    "x = np.arange(24).reshape((6,4))\n",
    "print(\"Original arrays:\")\n",
    "print(x)\n",
    "new_array = np.transpose(x)\n",
    "print(\"After reverse the dimensions:\")\n",
    "print(new_array)\n"
   ]
  },
  {
   "cell_type": "markdown",
   "id": "8e4b433c",
   "metadata": {},
   "source": [
    "# 127. Write a NumPy program to stack arrays horizontally (column wise).\n",
    "Sample Output:\n",
    "Original arrays:\n",
    "Array-1\n",
    "[[0 1 2]\n",
    "[3 4 5]\n",
    "[6 7 8]]\n",
    "Array-2\n",
    "[[ 0 3 6]\n",
    "[ 9 12 15]\n",
    "[18 21 24]]\n",
    "Stack arrays in sequence horizontally:\n",
    "[[ 0 1 2 0 3 6]\n",
    "[ 3 4 5 9 12 15]\n",
    "[ 6 7 8 18 21 24]]"
   ]
  },
  {
   "cell_type": "code",
   "execution_count": null,
   "id": "80559961",
   "metadata": {},
   "outputs": [],
   "source": [
    "import numpy as np    \n",
    "print(\"\\nOriginal arrays:\")\n",
    "x = np.arange(9).reshape(3,3)\n",
    "y = x*3\n",
    "print(\"Array-1\")\n",
    "print(x)\n",
    "print(\"Array-2\")\n",
    "print(y)\n",
    "new_array =  np.hstack((x,y))\n",
    "print(\"\\nStack arrays in sequence horizontally:\")\n",
    "print(new_array)\n"
   ]
  },
  {
   "cell_type": "markdown",
   "id": "82c79d92",
   "metadata": {},
   "source": [
    "# 128. Write a NumPy program to stack arrays vertically.\n",
    "Sample Output:\n",
    "Original arrays:\n",
    "Array-1\n",
    "[[0 1 2]\n",
    "[3 4 5]\n",
    "[6 7 8]]\n",
    "Array-2\n",
    "[[ 0 3 6]\n",
    "[ 9 12 15]\n",
    "[18 21 24]]\n",
    "Stack arrays in sequence vertically:\n",
    "[[ 0 1 2]\n",
    "...........\n",
    "[18 21 24]]"
   ]
  },
  {
   "cell_type": "code",
   "execution_count": null,
   "id": "d5a91b0d",
   "metadata": {},
   "outputs": [],
   "source": [
    "import numpy as np    \n",
    "print(\"\\nOriginal arrays:\")\n",
    "x = np.arange(9).reshape(3,3)\n",
    "y = x*3\n",
    "print(\"Array-1\")\n",
    "print(x)\n",
    "print(\"Array-2\")\n",
    "print(y)\n",
    "new_array =  np.vstack((x,y))\n",
    "print(\"\\nStack arrays in sequence vertically:\")\n",
    "print(new_array)\n"
   ]
  },
  {
   "cell_type": "markdown",
   "id": "0109aba7",
   "metadata": {},
   "source": [
    "# 129. Write a NumPy program to stack 1-D arrays columns wise.\n",
    "Sample Output:\n",
    "Original arrays:\n",
    "Array-1\n",
    "[1 2 3]\n",
    "Array-2\n",
    "[2 3 4]\n",
    "Stack 1-D arrays as columns wise:\n",
    "[[1 2]\n",
    "[2 3]\n",
    "[3 4]]"
   ]
  },
  {
   "cell_type": "code",
   "execution_count": null,
   "id": "be6e38e6",
   "metadata": {},
   "outputs": [],
   "source": [
    "import numpy as np    \n",
    "print(\"\\nOriginal arrays:\")\n",
    "x = np.array((1,2,3))\n",
    "y = np.array((2,3,4))\n",
    "print(\"Array-1\")\n",
    "print(x)\n",
    "print(\"Array-2\")\n",
    "print(y)\n",
    "new_array =  np.column_stack((x, y))\n",
    "print(\"\\nStack 1-D arrays as columns wise:\")\n",
    "print(new_array)\n"
   ]
  },
  {
   "cell_type": "markdown",
   "id": "4bbba0d9",
   "metadata": {},
   "source": [
    "# 130. Write a NumPy program to stack 1-D arrays row wise.\n",
    "Sample Output:\n",
    "Original arrays:\n",
    "Array-1\n",
    "[1 2 3]\n",
    "Array-2\n",
    "[2 3 4]\n",
    "Stack 1-D arrays as rows wise:\n",
    "[[1 2 3]\n",
    "[2 3 4]]"
   ]
  },
  {
   "cell_type": "code",
   "execution_count": null,
   "id": "b3115403",
   "metadata": {},
   "outputs": [],
   "source": [
    "import numpy as np    \n",
    "print(\"\\nOriginal arrays:\")\n",
    "x = np.array((1,2,3))\n",
    "y = np.array((2,3,4))\n",
    "print(\"Array-1\")\n",
    "print(x)\n",
    "print(\"Array-2\")\n",
    "print(y)\n",
    "new_array =  np.row_stack((x, y))\n",
    "print(\"\\nStack 1-D arrays as rows wise:\")\n",
    "print(new_array)\n"
   ]
  },
  {
   "cell_type": "markdown",
   "id": "26c7e9f8",
   "metadata": {},
   "source": [
    "# 131. Write a NumPy program to split a given array into multiple sub-arrays vertically (row-wise).\n",
    "Sample Output:\n",
    "Original arrays:\n",
    "[[ 0. 1. 2. 3.]\n",
    ".............\n",
    "[12. 13. 14. 15.]]\n",
    "Split an array into multiple sub-arrays vertically:\n",
    "[array([[0., 1., 2., 3.],\n",
    "[4., 5., 6., 7.]]), array([[ 8., 9., 10., 11.],\n",
    "[12., 13., 14., 15.]])]"
   ]
  },
  {
   "cell_type": "code",
   "execution_count": null,
   "id": "2694313a",
   "metadata": {},
   "outputs": [],
   "source": [
    "import numpy as np    \n",
    "print(\"\\nOriginal arrays:\")\n",
    "x = np.arange(16.0).reshape(4, 4)\n",
    "print(x)\n",
    "new_array1 =  np.vsplit(x, 2)\n",
    "print(\"\\nSplit an array into multiple sub-arrays vertically:\")\n",
    "print(new_array1)\n"
   ]
  },
  {
   "cell_type": "markdown",
   "id": "dcbfff01",
   "metadata": {},
   "source": [
    "# 132. Write a NumPy program to split an array into multiple sub-arrays along the 3rd axis.\n",
    "Sample Output:\n",
    "Original arrays:\n",
    "[[[ 0. 1. 2. 3.]\n",
    "[ 4. 5. 6. 7.]]\n",
    "[[ 8. 9. 10. 11.]\n",
    "[12. 13. 14. 15.]]]\n",
    "split array into multiple sub-arrays along the 3rd axis:\n",
    "[array([[[ 0., 1.],\n",
    "[ 4., 5.]],\n",
    "[[ 8., 9.],\n",
    "[12., 13.]]]), array([[[ 2., 3.],\n",
    "[ 6., 7.]],\n",
    "[[10., 11.],\n",
    "[14., 15.]]])]"
   ]
  },
  {
   "cell_type": "code",
   "execution_count": null,
   "id": "6daa4667",
   "metadata": {},
   "outputs": [],
   "source": [
    "import numpy as np    \n",
    "print(\"\\nOriginal arrays:\")\n",
    "x = np.arange(16.0).reshape(2, 2, 4)\n",
    "print(x)\n",
    "new_array1 = np.dsplit(x, 2)\n",
    "print(\"\\nsplit array into multiple sub-arrays along the 3rd axis:\")\n",
    "print(new_array1)\n"
   ]
  },
  {
   "cell_type": "markdown",
   "id": "a850786d",
   "metadata": {},
   "source": [
    "# 133. Write a NumPy program to count the number of dimensions, number of elements and number of bytes for each element in a given array.\n",
    "Sample Output:\n",
    "Original arrays:\n",
    "[[ 0 1 2 3 4 5 6 7 8 9 10 11]\n",
    "[12 13 14 15 16 17 18 19 20 21 22 23]]\n",
    "Number of dimensions:\n",
    "2\n",
    "Number of elements:\n",
    "24\n",
    "Number of bytes for each element in the said array:\n",
    "8"
   ]
  },
  {
   "cell_type": "code",
   "execution_count": null,
   "id": "cf96c7c9",
   "metadata": {},
   "outputs": [],
   "source": [
    "import numpy as np    \n",
    "print(\"\\nOriginal arrays:\")\n",
    "x = np.array([[ 0,  1,  2,  3,  4,  5,  6,  7,  8,  9, 10, 11],\n",
    "       [12, 13, 14, 15, 16, 17, 18, 19, 20, 21, 22, 23]])\n",
    "print(x)\n",
    "print(\"\\nNumber of dimensions:\")\n",
    "print(x.ndim)\n",
    "print(\"Number of elements:\")\n",
    "print(x.size)\n",
    "print(\"Number of bytes for each element in the said array:\")\n",
    "print(x.itemsize) \n"
   ]
  },
  {
   "cell_type": "markdown",
   "id": "5d24145e",
   "metadata": {},
   "source": [
    "# 134. Write a NumPy program to extract all the elements of the first row from a given (4x4) array.\n",
    "Sample Output:\n",
    "Original array:\n",
    "[[ 0 1 2 3]\n",
    "[ 4 5 6 7]\n",
    "[ 8 9 10 11]\n",
    "[12 13 14 15]]\n",
    "Extracted data: First row\n",
    "[0 1 2 3]"
   ]
  },
  {
   "cell_type": "code",
   "execution_count": null,
   "id": "c07fce20",
   "metadata": {},
   "outputs": [],
   "source": [
    "import numpy as np\n",
    "arra_data = np.arange(0,16).reshape((4, 4))\n",
    "print(\"Original array:\")\n",
    "print(arra_data)\n",
    "print(\"\\nExtracted data: First row\")\n",
    "print(arra_data[0])\n"
   ]
  },
  {
   "cell_type": "markdown",
   "id": "d5e6f889",
   "metadata": {},
   "source": [
    "# 135. Write a NumPy program to extract all the elements of the second row from a given (4x4) array.\n",
    "Sample Output:\n",
    "Original array:\n",
    "[[ 0 1 2 3]\n",
    "[ 4 5 6 7]\n",
    "[ 8 9 10 11]\n",
    "[12 13 14 15]]\n",
    "Extracted data: Second row\n",
    "[4 5 6 7]"
   ]
  },
  {
   "cell_type": "code",
   "execution_count": null,
   "id": "ff747f5c",
   "metadata": {},
   "outputs": [],
   "source": [
    "import numpy as np\n",
    "arra_data = np.arange(0,16).reshape((4, 4))\n",
    "print(\"Original array:\")\n",
    "print(arra_data)\n",
    "print(\"\\nExtracted data: Second row\")\n",
    "print(arra_data[1,:])\n"
   ]
  },
  {
   "cell_type": "markdown",
   "id": "7bedc6ca",
   "metadata": {},
   "source": [
    "# 136. Write a NumPy program to extract all the third column elements from a given (4x4) array.\n",
    "Sample Output:\n",
    "Original array:\n",
    "[[ 0 1 2 3]\n",
    "[ 4 5 6 7]\n",
    "[ 8 9 10 11]\n",
    "[12 13 14 15]]\n",
    "Extracted data: Third column\n",
    "[ 2 6 10 14]"
   ]
  },
  {
   "cell_type": "code",
   "execution_count": null,
   "id": "816118d9",
   "metadata": {},
   "outputs": [],
   "source": [
    "import numpy as np\n",
    "arra_data = np.arange(0,16).reshape((4, 4))\n",
    "print(\"Original array:\")\n",
    "print(arra_data)\n",
    "print(\"\\nExtracted data: Third column\")\n",
    "print(arra_data[:,2])\n"
   ]
  },
  {
   "cell_type": "markdown",
   "id": "e8a44098",
   "metadata": {},
   "source": [
    "# 137. Write a NumPy program to extract the first and second elements of the first and second rows from a given (4x4) array.\n",
    "Sample Output:\n",
    "Original array:\n",
    "[[ 0 1 2 3]\n",
    "[ 4 5 6 7]\n",
    "[ 8 9 10 11]\n",
    "[12 13 14 15]]\n",
    "Extracted data: First and second elements of the first and second rows\n",
    "[[0 1]\n",
    "[4 5]]"
   ]
  },
  {
   "cell_type": "code",
   "execution_count": null,
   "id": "294f0442",
   "metadata": {},
   "outputs": [],
   "source": [
    "import numpy as np\n",
    "arra_data = np.arange(0,16).reshape((4, 4))\n",
    "print(\"Original array:\")\n",
    "print(arra_data)\n",
    "print(\"\\nExtracted data: First and second elements of the first and second rows \")\n",
    "print(arra_data[0:2, 0:2])\n"
   ]
  },
  {
   "cell_type": "markdown",
   "id": "d26d34a8",
   "metadata": {},
   "source": [
    "# 138. Write a NumPy program to extract the third and fourth elements of the first and second rows from a given (4x4) array.\n",
    "Sample Output:\n",
    "Original array:\n",
    "[[ 0 1 2 3]\n",
    "[ 4 5 6 7]\n",
    "[ 8 9 10 11]\n",
    "[12 13 14 15]]\n",
    "Extracted data: Third and fourth elements of the first and second rows\n",
    "[[2 3]\n",
    "[6 7]]"
   ]
  },
  {
   "cell_type": "code",
   "execution_count": null,
   "id": "ec2507b0",
   "metadata": {},
   "outputs": [],
   "source": [
    "import numpy as np\n",
    "arra_data = np.arange(0,16).reshape((4, 4))\n",
    "print(\"Original array:\")\n",
    "print(arra_data)\n",
    "print(\"\\nExtracted data: Third and fourth elements of the first and second rows \")\n",
    "print(arra_data[0:2, 2:4])\n"
   ]
  },
  {
   "cell_type": "markdown",
   "id": "77f762cd",
   "metadata": {},
   "source": [
    "# 139. Write a NumPy program to extract the first and third elements of the first and third rows from a given (4x4) array.\n",
    "Sample Output:\n",
    "Original array:\n",
    "[[ 0 1 2 3]\n",
    "[ 4 5 6 7]\n",
    "[ 8 9 10 11]\n",
    "[12 13 14 15]]\n",
    "Extracted data: First and third elements of the first and third rows\n",
    "[[ 0 2]\n",
    "[ 8 10]]"
   ]
  },
  {
   "cell_type": "code",
   "execution_count": null,
   "id": "b2b8e1b4",
   "metadata": {},
   "outputs": [],
   "source": [
    "import numpy as np\n",
    "arra_data = np.arange(0,16).reshape((4, 4))\n",
    "print(\"Original array:\")\n",
    "print(arra_data)\n",
    "print(\"\\nExtracted data: First and third elements of the first and third rows \")\n",
    "print(arra_data[::2, ::2])\n"
   ]
  },
  {
   "cell_type": "markdown",
   "id": "5d1e1fa4",
   "metadata": {},
   "source": [
    "# 140. Write a NumPy program to extract the second and fourth elements of the second and fourth rows from a given (4x4) array.\n",
    "Sample Output:\n",
    "Original array:\n",
    "[[ 0 1 2 3]\n",
    "[ 4 5 6 7]\n",
    "[ 8 9 10 11]\n",
    "[12 13 14 15]]\n",
    "Extracted data: Second and fourth elements of the second and fourth rows\n",
    "[[ 5 7]\n",
    "[13 15]]"
   ]
  },
  {
   "cell_type": "code",
   "execution_count": null,
   "id": "5e8d90b5",
   "metadata": {},
   "outputs": [],
   "source": [
    "import numpy as np\n",
    "arra_data = np.arange(0,16).reshape((4, 4))\n",
    "print(\"Original array:\")\n",
    "print(arra_data)\n",
    "print(\"\\nExtracted data: Second and fourth elements of the second and fourth rows \")\n",
    "print(arra_data[1::2, 1::2])\n"
   ]
  },
  {
   "cell_type": "markdown",
   "id": "ed876b65",
   "metadata": {},
   "source": [
    "# 141. Write a NumPy program to extract all the elements of the second and third columns from a given (4x4) array.\n",
    "Sample Output:\n",
    "Original array:\n",
    "[[ 0 1 2 3]\n",
    "[ 4 5 6 7]\n",
    "[ 8 9 10 11]\n",
    "[12 13 14 15]]\n",
    "Extracted data: All the elements of the second and third columns\n",
    "[[ 1 2]\n",
    "[ 5 6]\n",
    "[ 9 10]\n",
    "[13 14]]"
   ]
  },
  {
   "cell_type": "code",
   "execution_count": null,
   "id": "46bebc01",
   "metadata": {},
   "outputs": [],
   "source": [
    "import numpy as np\n",
    "arra_data = np.arange(0,16).reshape((4, 4))\n",
    "print(\"Original array:\")\n",
    "print(arra_data)\n",
    "print(\"\\nExtracted data: All the elements of the second and third columns\")\n",
    "print(arra_data[:,[1,2]])\n"
   ]
  },
  {
   "cell_type": "markdown",
   "id": "ef314d16",
   "metadata": {},
   "source": [
    "# 142. Write a NumPy program to extract all the elements of the first and fourth columns from a given (4x4) array.\n",
    "Sample Output:\n",
    "Original array:\n",
    "[[ 0 1 2 3]\n",
    "[ 4 5 6 7]\n",
    "[ 8 9 10 11]\n",
    "[12 13 14 15]]\n",
    "Extracted data: All the elements of the first and fourth columns\n",
    "[[ 0 3]\n",
    "[ 4 7]\n",
    "[ 8 11]\n",
    "[12 15]]"
   ]
  },
  {
   "cell_type": "code",
   "execution_count": null,
   "id": "7342dfc3",
   "metadata": {},
   "outputs": [],
   "source": [
    "import numpy as np\n",
    "arra_data = np.arange(0,16).reshape((4, 4))\n",
    "print(\"Original array:\")\n",
    "print(arra_data)\n",
    "print(\"\\nExtracted data: All the elements of the first and fourth columns \")\n",
    "print(arra_data[:, [0,3]])\n"
   ]
  },
  {
   "cell_type": "markdown",
   "id": "0ae836b8",
   "metadata": {},
   "source": [
    "# 143. Write a NumPy program to extract the first element of the second row and the fourth element of the fourth row from a given (4x4) array.\n",
    "Sample Output:\n",
    "Original array:\n",
    "[[ 0 1 2 3]\n",
    "[ 4 5 6 7]\n",
    "[ 8 9 10 11]\n",
    "[12 13 14 15]]\n",
    "Extracted data: First element of the second row and fourth element of fourth row\n",
    "[ 4 15]"
   ]
  },
  {
   "cell_type": "code",
   "execution_count": null,
   "id": "d741599a",
   "metadata": {},
   "outputs": [],
   "source": [
    "import numpy as np\n",
    "arra_data = np.arange(0,16).reshape((4, 4))\n",
    "print(\"Original array:\")\n",
    "print(arra_data)\n",
    "print(\"\\nExtracted data: First element of the second row and fourth element of fourth row  \")\n",
    "print(arra_data[[1,3], [0,3]])\n"
   ]
  },
  {
   "cell_type": "markdown",
   "id": "8788bad4",
   "metadata": {},
   "source": [
    "# 144. Write a NumPy program to extract the second and third elements of the second and third rows from a given (4x4) array.\n",
    "Sample Output:\n",
    "Original array:\n",
    "[[ 0 1 2 3]\n",
    "[ 4 5 6 7]\n",
    "[ 8 9 10 11]\n",
    "[12 13 14 15]]\n",
    "Extracted data: Second and third elements of the second and third rows\n",
    "[[ 5 6]\n",
    "[ 9 10]]"
   ]
  },
  {
   "cell_type": "code",
   "execution_count": null,
   "id": "da434ff2",
   "metadata": {},
   "outputs": [],
   "source": [
    "import numpy as np\n",
    "arra_data = np.arange(0,16).reshape((4, 4))\n",
    "print(\"Original array:\")\n",
    "print(arra_data)\n",
    "print(\"\\nExtracted data: Second and third elements of the second and third rows\")\n",
    "print(arra_data[1:3, 1:3])\n"
   ]
  },
  {
   "cell_type": "markdown",
   "id": "3a08ad07",
   "metadata": {},
   "source": [
    "# 145. Write a NumPy program to extract the first, third and fifth elements of the third and fifth rows from a given (6x6) array.\n",
    "Sample Output:\n",
    "Original array:\n",
    "[[ 0 1 2 3 4 5]\n",
    "................\n",
    "[30 31 32 33 34 35]]\n",
    "Extracted data: First, third and fifth elements of the third and fifth rows\n",
    "[[12 14 16]\n",
    "[24 26 28]]"
   ]
  },
  {
   "cell_type": "code",
   "execution_count": null,
   "id": "655d5f69",
   "metadata": {},
   "outputs": [],
   "source": [
    "import numpy as np\n",
    "arra_data = np.arange(0,36).reshape((6, 6))\n",
    "print(\"Original array:\")\n",
    "print(arra_data)\n",
    "print(\"\\nExtracted data: First, third and fifth elements of the third and fifth rows\")\n",
    "print(arra_data[2::2, ::2]) \n"
   ]
  },
  {
   "cell_type": "markdown",
   "id": "3d1ae53d",
   "metadata": {},
   "source": [
    "# 146. Write a NumPy program to add two arrays A and B of sizes (3,3) and (,3).\n",
    "Sample Output:\n",
    "Original array:\n",
    "Array-1\n",
    "[[1. 1. 1.]\n",
    "[1. 1. 1.]\n",
    "[1. 1. 1.]]\n",
    "Array-2\n",
    "[0 1 2]\n",
    "A + B:\n",
    "[[1. 2. 3.]\n",
    "[1. 2. 3.]\n",
    "[1. 2. 3.]]"
   ]
  },
  {
   "cell_type": "code",
   "execution_count": null,
   "id": "2f4ad9e5",
   "metadata": {},
   "outputs": [],
   "source": [
    "import numpy as np\n",
    "A = np.ones((3,3))\n",
    "B = np.arange(3)\n",
    "print(\"Original array:\")\n",
    "print(\"Array-1\")\n",
    "print(A)\n",
    "print(\"Array-2\")\n",
    "print(B)\n",
    "print(\"A + B:\")\n",
    "new_array = A + B\n",
    "print(new_array)\n"
   ]
  },
  {
   "cell_type": "markdown",
   "id": "e9de6eaf",
   "metadata": {},
   "source": [
    "# 147. Write a NumPy program to create an array that represents the rank of each item in a given array.\n",
    "Sample Output:\n",
    "Original array:\n",
    "[24 27 30 29 18 14]\n",
    "Rank of each item of the said array:\n",
    "[2 3 5 4 1 0]"
   ]
  },
  {
   "cell_type": "code",
   "execution_count": null,
   "id": "1e5c22d2",
   "metadata": {},
   "outputs": [],
   "source": [
    "import numpy as numpy\n",
    "array = numpy.array([24, 27, 30, 29, 18, 14])\n",
    "print(\"Original array:\")\n",
    "print(array)\n",
    "argsort_array = array.argsort()\n",
    "ranks_array = numpy.empty_like(argsort_array)\n",
    "ranks_array[argsort_array] = numpy.arange(len(array))\n",
    "print(\"\\nRank of each item of the said array:\")\n",
    "print(ranks_array)\n"
   ]
  },
  {
   "cell_type": "markdown",
   "id": "ee583e3f",
   "metadata": {},
   "source": [
    "# 148. Write a NumPy program to copy data from a given array to another array.\n",
    "Sample Output:\n",
    "Original array:\n",
    "[24 27 30 29 18 14]\n",
    "Copy of the said array:\n",
    "[24 27 30 29 18 14]"
   ]
  },
  {
   "cell_type": "code",
   "execution_count": null,
   "id": "6a04431a",
   "metadata": {},
   "outputs": [],
   "source": [
    "import numpy as np\n",
    "x = np.array([24, 27, 30, 29, 18, 14])\n",
    "print(\"Original array:\")\n",
    "print(x)\n",
    "y = np.empty_like (x)\n",
    "y[:] = x\n",
    "print(\"\\nCopy of the said array:\")\n",
    "print(y)\n"
   ]
  },
  {
   "cell_type": "markdown",
   "id": "58da51b9",
   "metadata": {},
   "source": [
    "# 149. Write a NumPy program to find elements within a range from a given array of numbers.\n",
    "Sample Output:\n",
    "Original array:\n",
    "[ 1 3 7 9 10 13 14 17 29]\n",
    "Elements within range: index position\n",
    "(array([2, 3, 4, 5, 6, 7]),)"
   ]
  },
  {
   "cell_type": "code",
   "execution_count": null,
   "id": "74697912",
   "metadata": {},
   "outputs": [],
   "source": [
    "import numpy as np\n",
    "a = np.array([1, 3, 7, 9, 10, 13, 14, 17, 29])\n",
    "print(\"Original array:\")\n",
    "print(a)\n",
    "result = np.where(np.logical_and(a>=7, a<=20))\n",
    "print(\"\\nElements within range: index position\")\n",
    "print(result)\n"
   ]
  },
  {
   "cell_type": "markdown",
   "id": "801feadc",
   "metadata": {},
   "source": [
    "# 150. Write a NumPy program to swap columns in a given array.\n",
    "Sample Output:\n",
    "Original array:\n",
    "[[ 0 1 2 3]\n",
    "[ 4 5 6 7]\n",
    "[ 8 9 10 11]]\n",
    "After swapping arrays:\n",
    "[[ 1 0 2 3]\n",
    "[ 5 4 6 7]\n",
    "[ 9 8 10 11]]"
   ]
  },
  {
   "cell_type": "code",
   "execution_count": null,
   "id": "4bf53bd2",
   "metadata": {},
   "outputs": [],
   "source": [
    "import numpy as np\n",
    "my_array = np.arange(12).reshape(3, 4)\n",
    "print(\"Original array:\")\n",
    "print(my_array)\n",
    "my_array[:,[0, 1]] = my_array[:,[1, 0]]\n",
    "print(\"\\nAfter swapping arrays:\")\n",
    "print(my_array)\n"
   ]
  },
  {
   "cell_type": "markdown",
   "id": "06b811c9",
   "metadata": {},
   "source": [
    "# 151. Write a NumPy program to get the row numbers in a given array where at least one item is larger than a specified value.\n",
    "Sample Output:\n",
    "Original array:\n",
    "[[ 0 1 2 3 4 5 6 7 8]\n",
    "[ 9 10 11 12 13 14 15 16 17]\n",
    "[18 19 20 21 22 23 24 25 26]\n",
    "[27 28 29 30 31 32 33 34 35]]\n",
    "Row numbers where at least one item is larger than 10:\n",
    "(array([1, 2, 3]),)"
   ]
  },
  {
   "cell_type": "code",
   "execution_count": null,
   "id": "1c0340f3",
   "metadata": {},
   "outputs": [],
   "source": [
    "import numpy as np\n",
    "num = np.arange(36)\n",
    "arr1 = np.reshape(num, [4, 9])\n",
    "print(\"Original array:\")\n",
    "print(arr1)\n",
    "result  = np.where(np.any(arr1>10, axis=1))\n",
    "print(\"\\nRow numbers where at least one item is larger than 10:\")\n",
    "print(result)\n"
   ]
  },
  {
   "cell_type": "markdown",
   "id": "48cdd67d",
   "metadata": {},
   "source": [
    "# 152. Write a NumPy program to calculate the sum of all columns in a 2D NumPy array.\n",
    "Sample Output:\n",
    "Original array:\n",
    "[[ 0 1 2 3 4 5 6 7 8]\n",
    "[ 9 10 11 12 13 14 15 16 17]\n",
    "[18 19 20 21 22 23 24 25 26]\n",
    "[27 28 29 30 31 32 33 34 35]]\n",
    "Sum of all columns:\n",
    "[54 58 62 66 70 74 78 82 86]"
   ]
  },
  {
   "cell_type": "code",
   "execution_count": null,
   "id": "b6d3dc44",
   "metadata": {},
   "outputs": [],
   "source": [
    "import numpy as np\n",
    "num = np.arange(36)\n",
    "arr1 = np.reshape(num, [4, 9])\n",
    "print(\"Original array:\")\n",
    "print(arr1)\n",
    "result  = arr1.sum(axis=0)\n",
    "print(\"\\nSum of all columns:\")\n",
    "print(result)\n"
   ]
  },
  {
   "cell_type": "markdown",
   "id": "1d783f64",
   "metadata": {},
   "source": [
    "# 153. Write a NumPy program to extract the upper triangular part of a NumPy matrix.\n",
    "Sample Output:\n",
    "Original array:\n",
    "[[ 0 1 2]\n",
    "...........\n",
    "[15 16 17]]\n",
    "Extract upper triangular part of the said array:\n",
    "[0 1 2 4 5 8]\n",
    "Extract upper triangular part of the said array:\n",
    "[0 1 4]"
   ]
  },
  {
   "cell_type": "code",
   "execution_count": null,
   "id": "9ce6f545",
   "metadata": {},
   "outputs": [],
   "source": [
    "import numpy as np\n",
    "num = np.arange(18)\n",
    "arr1 = np.reshape(num, [6, 3])\n",
    "print(\"Original array:\")\n",
    "print(arr1)\n",
    "result  = arr1[np.triu_indices(3)]\n",
    "print(\"\\nExtract upper triangular part of the said array:\")\n",
    "print(result)\n",
    "result  = arr1[np.triu_indices(2)]\n",
    "print(\"\\nExtract upper triangular part of the said array:\")\n",
    "print(result)\n"
   ]
  },
  {
   "cell_type": "markdown",
   "id": "21965bd4",
   "metadata": {},
   "source": [
    "# 154. Write a NumPy program to get a copy of a matrix with the elements below the k-th diagonal zeroed.\n",
    "Sample Output:\n",
    "Original array:\n",
    "[[1 2 3]\n",
    "[0 5 6]\n",
    "[0 0 9]\n",
    "[0 0 0]]\n",
    "Copy of a matrix with the elements below the k-th diagonal zeroed:\n",
    "[[1 2 3]\n",
    "[0 5 6]\n",
    "[0 0 9]\n",
    "[0 0 0]]"
   ]
  },
  {
   "cell_type": "code",
   "execution_count": null,
   "id": "6b08ff43",
   "metadata": {},
   "outputs": [],
   "source": [
    "import numpy as np\n",
    "result  = np.triu([[1,2,3],[4,5,6],[7,8,9],[10,11,12]], -1)\n",
    "print(\"\\nCopy of a matrix with the elements below the k-th diagonal zeroed:\")\n",
    "print(result)\n"
   ]
  },
  {
   "cell_type": "markdown",
   "id": "9a50c974",
   "metadata": {},
   "source": [
    "# 155. Write a NumPy program to check whether a Numpy array contains a specified row.\n",
    "Sample Output:\n",
    "Original array:\n",
    "[[ 0 1 2 3 4]\n",
    "[ 5 6 7 8 9]\n",
    "[10 11 12 13 14]\n",
    "[15 16 17 18 19]]\n",
    "True\n",
    "False\n",
    "True"
   ]
  },
  {
   "cell_type": "code",
   "execution_count": null,
   "id": "3be181db",
   "metadata": {},
   "outputs": [],
   "source": [
    "import numpy as np\n",
    "num = np.arange(20)\n",
    "arr1 = np.reshape(num, [4, 5])\n",
    "print(\"Original array:\")\n",
    "print(arr1)\n",
    "print([0, 1, 2, 3, 4] in arr1.tolist())\n",
    "print([0, 1, 2, 3, 5] in arr1.tolist())\n",
    "print([15, 16, 17, 18, 19] in arr1.tolist())\n"
   ]
  },
  {
   "cell_type": "markdown",
   "id": "b8a1ba4b",
   "metadata": {},
   "source": [
    "# 156. Write a NumPy program to calculate averages without NaNs along a given array.\n",
    "Sample Output:\n",
    "Original array:\n",
    "[[10. 20. 30.]\n",
    "[40. 50. nan]\n",
    "[nan 6. nan]\n",
    "[nan nan nan]]\n",
    "Averages without NaNs along the said array:\n",
    "[20. 45. 6. nan]"
   ]
  },
  {
   "cell_type": "code",
   "execution_count": null,
   "id": "b16cec00",
   "metadata": {},
   "outputs": [],
   "source": [
    "import numpy as np\n",
    "arr1 = np.array([[10, 20 ,30], [40, 50, np.nan], [np.nan, 6, np.nan], [np.nan, np.nan, np.nan]])\n",
    "print(\"Original array:\")\n",
    "print(arr1)\n",
    "temp = np.ma.masked_array(arr1,np.isnan(arr1))\n",
    "result = np.mean(temp, axis=1)\n",
    "print(\"Averages without NaNs along the said array:\")\n",
    "print(result.filled(np.nan))\n"
   ]
  },
  {
   "cell_type": "markdown",
   "id": "d4fc1c34",
   "metadata": {},
   "source": [
    "# 157. Write a NumPy program to create an array which is the average of every consecutive triplet of elements in a given array.\n",
    "Sample Output:\n",
    "Original array:\n",
    "[ 1 2 3 2 4 6 1 2 12 0 -12 6]\n",
    "Average of every consecutive triplet of elements of the said array:\n",
    "[ 2. 4. 5. -2.]"
   ]
  },
  {
   "cell_type": "code",
   "execution_count": null,
   "id": "29ed0e40",
   "metadata": {},
   "outputs": [],
   "source": [
    "import numpy as np\n",
    "arr1 = np.array([1,2,3, 2,4,6, 1,2,12, 0,-12,6])\n",
    "print(\"Original array:\")\n",
    "print(arr1)\n",
    "result = np.mean(arr1.reshape(-1, 3), axis=1)\n",
    "print(\"Average of every consecutive triplet of elements of the said array:\")\n",
    "print(result)\n"
   ]
  },
  {
   "cell_type": "markdown",
   "id": "fcd7d658",
   "metadata": {},
   "source": [
    "# 158. Write a NumPy program to calculate the average values of two given NumPy arrays.\n",
    "Sample Output:\n",
    "Original arrays:\n",
    "[[0, 1], [2, 3]]\n",
    "[[4, 5], [0, 3]]\n",
    "Average values of two said NumPy arrays:\n",
    "[[2. 3.]\n",
    "[1. 3.]]"
   ]
  },
  {
   "cell_type": "code",
   "execution_count": null,
   "id": "cfddab21",
   "metadata": {},
   "outputs": [],
   "source": [
    "import numpy as np\n",
    "array1 = [[0, 1], [2, 3]]\n",
    "array2 = [[4, 5], [0, 3]]\n",
    "print(\"Original arrays:\")\n",
    "print(array1)\n",
    "print(array2)\n",
    "print(\"Average values of two said numpy arrays:\")\n",
    "result = (np.array(array1) + np.array(array2)) / 2\n",
    "print(result)\n"
   ]
  },
  {
   "cell_type": "markdown",
   "id": "d5274df9",
   "metadata": {},
   "source": [
    "# 159. Write a NumPy program to rearrange columns of a given NumPy 2D array using given index positions.\n",
    "Sample Output:\n",
    "Original arrays:\n",
    "[[ 11 22 33 44 55]\n",
    "[ 66 77 88 99 100]]\n",
    "New array:\n",
    "[[ 22 44 11 55 33]\n",
    "[ 77 99 66 100 88]]"
   ]
  },
  {
   "cell_type": "code",
   "execution_count": null,
   "id": "6a283375",
   "metadata": {},
   "outputs": [],
   "source": [
    "import numpy as np\n",
    "array1 = np.array([[11, 22, 33, 44, 55],\n",
    "             [66,  77,  88,  99, 100]])\n",
    "print(\"Original arrays:\")\n",
    "print(array1)\n",
    "i = [1,3,0,4,2]\n",
    "result = array1[:,i]\n",
    "print(\"New array:\")\n",
    "print(result)\n"
   ]
  },
  {
   "cell_type": "markdown",
   "id": "60fce050",
   "metadata": {},
   "source": [
    "# 160. Write a NumPy program to find the k smallest values in an array.\n",
    "Sample Output:\n",
    "Original arrays:\n",
    "[ 1. 7. 8. 2. 0.1 3. 15. 2.5]\n",
    "k smallest values:\n",
    "[0.1 1. 2. 2.5]"
   ]
  },
  {
   "cell_type": "code",
   "execution_count": null,
   "id": "07bebad1",
   "metadata": {},
   "outputs": [],
   "source": [
    "import numpy as np\n",
    "array1 = np.array([1, 7, 8, 2, 0.1, 3, 15, 2.5])\n",
    "print(\"Original arrays:\")\n",
    "print(array1)\n",
    "k = 4\n",
    "result = np.argpartition(array1, k)\n",
    "print(\"\\nk smallest values:\")\n",
    "print(array1[result[:k]])\n"
   ]
  },
  {
   "cell_type": "markdown",
   "id": "b553258a",
   "metadata": {},
   "source": [
    "# 161. Write a NumPy program to create a white image of size 512x256.\n",
    "Sample Output:\n",
    "NumPy array: Create a white image of size 512x256"
   ]
  },
  {
   "cell_type": "code",
   "execution_count": null,
   "id": "2ace78e4",
   "metadata": {},
   "outputs": [],
   "source": [
    "from PIL import Image\n",
    "import numpy as np\n",
    "\n",
    "a = np.full((512, 256, 3), 255, dtype=np.uint8)\n",
    "image = Image.fromarray(a, \"RGB\")\n",
    "image.save(\"white.png\", \"PNG\")\n"
   ]
  },
  {
   "cell_type": "markdown",
   "id": "02cd491d",
   "metadata": {},
   "source": [
    "# 162. Create an array (a) of shape 3, 4, 8 (K=3, J=4, I=8). tidx is an array of the same length as a.shape[1], i.e. contains J = 4 elements where each index denotes which element of K should be chosen.\n",
    "Write a NumPy program to select from the first axis (K) by the indices tidx to get an array of shape (J=4, I=8) back.\n",
    "Sample Output:\n",
    "Original array and shape:\n",
    "[[[3 2 2 7 7 7 0 3]\n",
    "[5 8 4 2 9 9 3 9]\n",
    "[6 8 2 8 5 7 8 7]\n",
    "[5 2 4 0 4 9 2 5]]\n",
    "------------------\n",
    "tidex: [0 2 2 2]\n",
    "Result:\n",
    "[[3 2 2 7 7 7 0 3]\n",
    "[3 9 2 6 3 3 1 0]\n",
    "[5 4 0 6 0 2 7 8]\n",
    "[6 3 1 8 8 1 5 7]]"
   ]
  },
  {
   "cell_type": "code",
   "execution_count": null,
   "id": "abeba1b1",
   "metadata": {},
   "outputs": [],
   "source": [
    "import numpy as np\n",
    "a = np.random.randint(0, 10, (3, 4, 8))\n",
    "print(\"Original array and shape:\")\n",
    "print(a)\n",
    "print(a.shape)\n",
    "print(\"--------------------------------\")\n",
    "tidx = np.random.randint(0, 3, 4)\n",
    "print(\"tidex: \",tidx)\n",
    "print(\"Result:\")\n",
    "print(a[tidx, np.arange(len(tidx)),:])\n"
   ]
  },
  {
   "cell_type": "markdown",
   "id": "747660a6",
   "metadata": {},
   "source": [
    "# 163. Create two arrays of six elements. Write a NumPy program to count the number of instances of a value occurring in one array on the condition of another array.\n",
    "Sample Output:\n",
    "Original arrays:\n",
    "[ 10 -10 10 -10 -10 10]\n",
    "[0.85 0.45 0.9 0.8 0.12 0.6 ]\n",
    "Number of instances of a value occurring in one array on the condition of another array:\n",
    "3"
   ]
  },
  {
   "cell_type": "code",
   "execution_count": null,
   "id": "339f12e9",
   "metadata": {},
   "outputs": [],
   "source": [
    "import numpy as np\n",
    "x = np.array([10,-10,10,-10,-10,10])\n",
    "y = np.array([.85,.45,.9,.8,.12,.6])\n",
    "print(\"Original arrays:\")\n",
    "print(x)\n",
    "print(y)\n",
    "result = np.sum((x == 10) & (y > .5))\n",
    "print(\"\\nNumber of instances of a value occurring in one array on the condition of another array:\")\n",
    "print(result)\n"
   ]
  },
  {
   "cell_type": "markdown",
   "id": "b84a9443",
   "metadata": {},
   "source": [
    "# 164. Write a NumPy program to save as text a matrix that has two floats in each row and one string at the end.\n",
    "Sample Output:\n",
    "string\n",
    "1 0 aaa\n",
    "0 1 bbb\n",
    "0 1 ccc"
   ]
  },
  {
   "cell_type": "code",
   "execution_count": null,
   "id": "a0c527fa",
   "metadata": {},
   "outputs": [],
   "source": [
    "import numpy as np\n",
    "matrix = [[1, 0, 'aaa'], [0, 1, 'bbb'], [0, 1, 'ccc']]\n",
    "np.savetxt('test', matrix, delimiter='  ', header='string', comments='', fmt='%s')\n"
   ]
  },
  {
   "cell_type": "markdown",
   "id": "0b9b0d4c",
   "metadata": {},
   "source": [
    "# 165. Write a NumPy program to merge three NumPy arrays of the same shape."
   ]
  },
  {
   "cell_type": "code",
   "execution_count": null,
   "id": "c0e4f77c",
   "metadata": {},
   "outputs": [],
   "source": [
    "import numpy as np\n",
    "arr1 = np.random.random(size=(25, 25, 1))\n",
    "arr2 = np.random.random(size=(25, 25, 1))\n",
    "arr3 = np.random.random(size=(25, 25, 1))\n",
    "print(\"Original arrays:\")\n",
    "print(arr1)\n",
    "print(arr2)\n",
    "print(arr3)\n",
    "result = np.concatenate((arr1, arr2, arr3), axis=-1)\n",
    "print(\"\\nAfter concatenate:\")\n",
    "print(result) \n"
   ]
  },
  {
   "cell_type": "markdown",
   "id": "46c5aa60",
   "metadata": {},
   "source": [
    "# 166. Write a NumPy program to combine the last element with the first element of two given ndarray with different shapes.\n",
    "Sample Output:\n",
    "Original arrays:\n",
    "['PHP', 'JS', 'C++']\n",
    "['Python', 'C#', 'NumPy']\n",
    "After Combining:\n",
    "['PHP' 'JS' 'C++Python' 'C#' 'NumPy']"
   ]
  },
  {
   "cell_type": "code",
   "execution_count": null,
   "id": "d47d6ba6",
   "metadata": {},
   "outputs": [],
   "source": [
    "import numpy as np\n",
    "array1 = ['PHP','JS','C++']\n",
    "array2 = ['Python','C#', 'NumPy']    \n",
    "print(\"Original arrays:\")          \n",
    "print(array1)\n",
    "print(array2)          \n",
    "result  = np.r_[array1[:-1], [array1[-1]+array2[0]], array2[1:]]   \n",
    "print(\"\\nAfter Combining:\")       \n",
    "print(result)\n"
   ]
  },
  {
   "cell_type": "markdown",
   "id": "56860e2d",
   "metadata": {},
   "source": [
    "# 167. Write a NumPy program to convert a Python dictionary to a NumPy ndarray.\n",
    "Sample Output:\n",
    "Original dictionary:\n",
    "{'column0': {'a': 1, 'b': 0.0, 'c': 0.0, 'd': 2.0},\n",
    "'column1': {'a': 3.0, 'b': 1, 'c': 0.0, 'd': -1.0},\n",
    "'column2': {'a': 4, 'b': 1, 'c': 5.0, 'd': -1.0},\n",
    "'column3': {'a': 3.0, 'b': -1.0, 'c': -1.0, 'd': -1.0}}\n",
    "Type: <class 'dict'>\n",
    "ndarray:\n",
    "[[ 1. 0. 0. 2.]\n",
    "[ 3. 1. 0. -1.]\n",
    "[ 4. 1. 5. -1.]\n",
    "[ 3. -1. -1. -1.]]\n",
    "Type: <class 'numpy.ndarray'>"
   ]
  },
  {
   "cell_type": "code",
   "execution_count": null,
   "id": "40d05484",
   "metadata": {},
   "outputs": [],
   "source": [
    "import numpy as np\n",
    "from ast import literal_eval\n",
    "udict = \"\"\"{\"column0\":{\"a\":1,\"b\":0.0,\"c\":0.0,\"d\":2.0},\n",
    "   \"column1\":{\"a\":3.0,\"b\":1,\"c\":0.0,\"d\":-1.0},\n",
    "   \"column2\":{\"a\":4,\"b\":1,\"c\":5.0,\"d\":-1.0},\n",
    "   \"column3\":{\"a\":3.0,\"b\":-1.0,\"c\":-1.0,\"d\":-1.0}\n",
    "  }\"\"\"\n",
    "t = literal_eval(udict)\n",
    "print(\"\\nOriginal dictionary:\")\n",
    "print(t)\n",
    "print(\"Type: \",type(t))\n",
    "result_nparra = np.array([[v[j] for j in ['a', 'b', 'c', 'd']] for k, v in t.items()])\n",
    "print(\"\\nndarray:\")\n",
    "print(result_nparra)\n",
    "print(\"Type: \",type(result_nparra))\n"
   ]
  },
  {
   "cell_type": "markdown",
   "id": "e9c7e914",
   "metadata": {},
   "source": [
    "# 168. Write a NumPy program to convert Pandas dataframe to a NumPy array with headers\n",
    "Sample Output:\n",
    "Original NumPy array:\n",
    "[[0.18308157 0.32258608 0.39644848]\n",
    "[0.31018507 0.08220454 0.40018982]\n",
    "[0.63639779 0.34908174 0.39878868]\n",
    "............\n",
    "[0.02482073 0.02318678 0.36032194]\n",
    "[0.69001834 0.04285817 0.31768865]]\n",
    "Type: <class 'numpy.ndarray'>\n",
    "Panda's DataFrame:\n",
    "A B C\n",
    "0 0.015583 0.968431 0.943192\n",
    "1 0.221607 0.704098 0.241200\n",
    "2 0.466129 0.269226 0.450781\n",
    "3 0.747222 0.674508 0.686070\n",
    "............\n",
    "10 0.272827 0.817238 0.093650\n",
    "11 0.196416 0.643602 0.262683\n",
    "Type: <class 'pandas.core.frame.DataFrame'>"
   ]
  },
  {
   "cell_type": "code",
   "execution_count": null,
   "id": "5323d0a2",
   "metadata": {},
   "outputs": [],
   "source": [
    "import numpy as np\n",
    "import pandas as pd\n",
    "np_array = np.random.rand(12,3)\n",
    "print(\"Original Numpy array:\")\n",
    "print(np_array)\n",
    "print(\"Type: \",type(np_array))\n",
    "df = pd.DataFrame(np.random.rand(12,3),columns=['A','B','C'])\n",
    "print(\"\\nPanda's DataFrame: \")\n",
    "print(df)\n",
    "print(\"Type: \",type(df))\n"
   ]
  },
  {
   "cell_type": "markdown",
   "id": "02d1dea1",
   "metadata": {},
   "source": [
    "# 169. Write a NumPy program to get all 2D diagonals of a 3D NumPy array.\n",
    "Sample Output:\n",
    "Original NumPy array:\n",
    "[[[ 0 1 2 3 4]\n",
    "[ 5 6 7 8 9]\n",
    "[10 11 12 13 14]\n",
    "[15 16 17 18 19]]\n",
    "............\n",
    "[[40 41 42 43 44]\n",
    "[45 46 47 48 49]\n",
    "[50 51 52 53 54]\n",
    "[55 56 57 58 59]]]\n",
    "Type: <class 'numpy.ndarray'>\n",
    "2D diagonals:\n",
    "[[ 0 6 12 18]\n",
    "[20 26 32 38]\n",
    "[40 46 52 58]]\n",
    "Type: <class 'numpy.ndarray'>"
   ]
  },
  {
   "cell_type": "code",
   "execution_count": null,
   "id": "873fe701",
   "metadata": {},
   "outputs": [],
   "source": [
    "import numpy as np\n",
    "np_array = np.arange(3*4*5).reshape(3,4,5)\n",
    "print(\"Original Numpy array:\")\n",
    "print(np_array)\n",
    "print(\"Type: \",type(np_array))\n",
    "result = np.diagonal(np_array, axis1=1, axis2=2)\n",
    "print(\"\\n2D diagonals: \")\n",
    "print(result)\n",
    "print(\"Type: \",type(result))\n"
   ]
  },
  {
   "cell_type": "markdown",
   "id": "e488a2c0",
   "metadata": {},
   "source": [
    "# 170. Create a 2-dimensional array of size 2 x 3, composed of 4-byte integer elements. Write a NumPy program to find the number of occurrences of a sequence in an array.\n",
    "Sample Output:\n",
    "Original NumPy array:\n",
    "[[1 2 3]\n",
    "[2 1 2]]\n",
    "Type: <class 'numpy.ndarray'>\n",
    "Sequence: 2,3\n",
    "Number of occurrences of the said sequence: 2"
   ]
  },
  {
   "cell_type": "code",
   "execution_count": null,
   "id": "af7d97f5",
   "metadata": {},
   "outputs": [],
   "source": [
    "import numpy as np\n",
    "np_array = np.array([[1, 2, 3], [2, 1, 2]], np.int32)\n",
    "print(\"Original Numpy array:\")\n",
    "print(np_array)\n",
    "print(\"Type: \",type(np_array))\n",
    "print(\"Sequence: 1,2\",)\n",
    "result = repr(np_array).count(\"1, 2\")\n",
    "print(\"Number of occurrences of the said sequence:\",result)\n"
   ]
  },
  {
   "cell_type": "markdown",
   "id": "1d8ba19b",
   "metadata": {},
   "source": [
    "# 171. Write a NumPy program to search for the index of a given array in a different array.\n",
    "Sample Output:\n",
    "Original NumPy array:\n",
    "[[ 1 2 3]\n",
    "[ 4 5 6]\n",
    "[ 7 8 9]\n",
    "[10 11 12]]\n",
    "Searched array:\n",
    "[4 5 6]\n",
    "Index of the searched array in the original array:\n",
    "[1]"
   ]
  },
  {
   "cell_type": "code",
   "execution_count": null,
   "id": "7aede844",
   "metadata": {},
   "outputs": [],
   "source": [
    "import numpy as np\n",
    "np_array = np.array([[1,2,3], [4,5,6] , [7,8,9], [10, 11, 12]])\n",
    "test_array = np.array([4,5,6])\n",
    "print(\"Original Numpy array:\")\n",
    "print(np_array)\n",
    "print(\"Searched array:\")\n",
    "print(test_array)\n",
    "print(\"Index of the searched array in the original array:\")\n",
    "print(np.where((np_array == test_array).all(1))[0])\n"
   ]
  },
  {
   "cell_type": "markdown",
   "id": "54f09e51",
   "metadata": {},
   "source": [
    "# 172. Write a NumPy program to find and store non-zero unique rows in an array after comparing each row with other rows in a given matrix.\n",
    "Sample Output:\n",
    "Original array:\n",
    "[[ 1 1 0]\n",
    "[ 0 0 0]\n",
    "[ 0 2 3]\n",
    "[ 0 0 0]\n",
    "[ 0 -1 1]\n",
    "[ 0 0 0]]\n",
    "Non-zero unique rows:\n",
    "[[ 1 1 0]\n",
    "[ 0 2 3]\n",
    "[ 0 -1 1]]"
   ]
  },
  {
   "cell_type": "code",
   "execution_count": null,
   "id": "540878ea",
   "metadata": {},
   "outputs": [],
   "source": [
    "import numpy as np\n",
    "arra = np.array([[ 1,  1,  0],\n",
    "                 [ 0,  0,  0],\n",
    "                 [ 0,  2,  3],\n",
    "                 [ 0,  0,  0],\n",
    "                 [ 0, -1,  1],\n",
    "                 [ 0,  0,  0]])\n",
    "\n",
    "print(\"Original array:\")\n",
    "print(arra)\n",
    "temp = {(0, 0, 0)}\n",
    "result = []\n",
    "for idx, row in enumerate(map(tuple, arra)):\n",
    "    if row not in temp:\n",
    "        result.append(idx)\n",
    "print(\"\\nNon-zero unique rows:\")\n",
    "print(arra[result])\n"
   ]
  },
  {
   "cell_type": "markdown",
   "id": "efae6cd3",
   "metadata": {},
   "source": [
    "# 173. Write a NumPy program to set zero to lower triangles along the last two axes of a three-dimensional of a given array.\n",
    "Sample Output:\n",
    "Original array:\n",
    "[[[1. 1. 1. 1. 1. 1. 1. 1.]\n",
    "[1. 1. 1. 1. 1. 1. 1. 1.]\n",
    "..............\n",
    "[1. 1. 1. 1. 1. 1. 1. 1.]]]\n",
    "Result:\n",
    "[[[0. 1. 1. 1. 1. 1. 1. 1.]\n",
    "[0. 0. 1. 1. 1. 1. 1. 1.]\n",
    ".................\n",
    "[0. 0. 0. 0. 0. 0. 0. 0.]]]"
   ]
  },
  {
   "cell_type": "code",
   "execution_count": null,
   "id": "14c6e706",
   "metadata": {},
   "outputs": [],
   "source": [
    "import numpy as np\n",
    "arra=np.ones((1,8,8))\n",
    "print(\"Original array:\")\n",
    "print(arra)\n",
    "result = np.triu(arra, k=1)\n",
    "print(\"\\nResult:\")\n",
    "print(result)\n"
   ]
  },
  {
   "cell_type": "markdown",
   "id": "3c8c1351",
   "metadata": {},
   "source": [
    "# 174. Write a NumPy program to get the number of items, array dimensions, number of array dimensions and the memory size of each element of a given array.\n",
    "Sample Output:\n",
    "Original array:\n",
    "[[ 1 2 3 4]\n",
    "[ 5 6 7 8]\n",
    "[ 9 10 11 12]]\n",
    "Number of items of the said array:\n",
    "12\n",
    "Array dimensions:\n",
    "(3, 4)\n",
    "Number of array dimensions:\n",
    "2\n",
    "Memory size of each element of the said array\n",
    "8"
   ]
  },
  {
   "cell_type": "code",
   "execution_count": null,
   "id": "89c07103",
   "metadata": {},
   "outputs": [],
   "source": [
    "import numpy as np\n",
    "array_nums = np.array([[1, 2, 3, 4], [5, 6, 7, 8], [9, 10, 11, 12]])\n",
    "print(\"Original array:\")\n",
    "print(array_nums)\n",
    "print(\"\\nNumber of items of the said array:\")\n",
    "print(array_nums.size) \n",
    "print(\"\\nArray dimensions:\")\n",
    "print(array_nums.shape)\n",
    "print(\"\\nNumber of array dimensions:\")\n",
    "print(array_nums.ndim)\n",
    "print(\"\\nMemory size of each element of the said array\")\n",
    "print(array_nums.itemsize)\n"
   ]
  },
  {
   "cell_type": "markdown",
   "id": "84b02a96",
   "metadata": {},
   "source": [
    "# 175. Write a NumPy program to create a 1-D array of 20 elements. Now creates an array of shapes (5, 4) from the said array, then restore the reshaped array into a 1-D array.\n",
    "Sample Output:\n",
    "Original array:\n",
    "[ 0 2 4 6 8 10 12 14 16 18 20 22 24 26 28 30 32 34 36 38]\n",
    "New array of shape(5, 3):\n",
    "[[ 0 2 4 6]\n",
    "[ 8 10 12 14]\n",
    "[16 18 20 22]\n",
    "[24 26 28 30]\n",
    "[32 34 36 38]]\n",
    "Restore the reshaped array into a 1-D array:\n",
    "[ 0 2 4 6 8 10 12 14 16 18 20 22 24 26 28 30 32 34 36 38]"
   ]
  },
  {
   "cell_type": "code",
   "execution_count": null,
   "id": "37d411df",
   "metadata": {},
   "outputs": [],
   "source": [
    "import numpy as np\n",
    "array_nums = np.arange(0, 40, 2)\n",
    "print(\"Original array:\")\n",
    "print(array_nums)\n",
    "print(\"\\nNew array of shape(5, 4):\")\n",
    "new_array = array_nums.reshape(5, 4)\n",
    "print(new_array) \n",
    "print(\"\\nRestore the reshaped array into a 1-D array:\")\n",
    "print(new_array.flatten())\n"
   ]
  },
  {
   "cell_type": "markdown",
   "id": "4790ca45",
   "metadata": {},
   "source": [
    "# 176. Write a NumPy program to create an array of shapes 4,5 and swap column1 with column4.\n",
    "Sample Output:\n",
    "Original array:\n",
    "[[ 0 1 2 3 4]\n",
    "[ 5 6 7 8 9]\n",
    "[10 11 12 13 14]\n",
    "[15 16 17 18 19]]\n",
    "After swapping column1 with column4:\n",
    "[[ 3 1 2 0 4]\n",
    "[ 8 6 7 5 9]\n",
    "[13 11 12 10 14]\n",
    "[18 16 17 15 19]]"
   ]
  },
  {
   "cell_type": "code",
   "execution_count": null,
   "id": "7c806ae9",
   "metadata": {},
   "outputs": [],
   "source": [
    "import numpy as np\n",
    "array_nums = np.arange(20).reshape(4,5)\n",
    "print(\"Original array:\")\n",
    "print(array_nums)\n",
    "print(\"\\nAfter swapping column1 with column4:\")\n",
    "array_nums[:,[0,3]] = array_nums[:,[3,0]]\n",
    "print(array_nums)\n"
   ]
  },
  {
   "cell_type": "markdown",
   "id": "1f675ea0",
   "metadata": {},
   "source": [
    "# 177. Write a NumPy program to create an array of 4,5 shaped arrays and reverse the rows of that array. After reversing 1st row will be 4th row and 4th row will be 1st row, 2nd row will be 3rd row and 3rd row will be 2nd row.\n",
    "Sample Output:\n",
    "Original array:\n",
    "[[ 0 1 2 3 4]\n",
    "[ 5 6 7 8 9]\n",
    "[10 11 12 13 14]\n",
    "[15 16 17 18 19]]\n",
    "After reversing:\n",
    "[[15 16 17 18 19]\n",
    "[10 11 12 13 14]\n",
    "[ 5 6 7 8 9]\n",
    "[ 0 1 2 3 4]]"
   ]
  },
  {
   "cell_type": "code",
   "execution_count": null,
   "id": "13414e59",
   "metadata": {},
   "outputs": [],
   "source": [
    "import numpy as np\n",
    "array_nums = np.arange(20).reshape(4,5)\n",
    "print(\"Original array:\")\n",
    "print(array_nums)\n",
    "print(\"\\nAfter reversing:\")\n",
    "array_nums[:] = array_nums[3::-1]\n",
    "print(array_nums)\n"
   ]
  },
  {
   "cell_type": "markdown",
   "id": "129ebe80",
   "metadata": {},
   "source": [
    "# 178. Write a NumPy program to replace all the nan (missing values) of a given array with the mean of another array.\n",
    "Sample Output:\n",
    "Original arrays:\n",
    "[[ 0 1 2 3 4]\n",
    "[ 5 6 7 8 9]\n",
    "[10 11 12 13 14]\n",
    "[15 16 17 18 19]]\n",
    "[[ 1. 2. nan]\n",
    "[ 4. 5. 6.]\n",
    "[nan 7. nan]]\n",
    "All the nan of array_nums2 replaced by the mean of array_nums1:\n",
    "[[1. 2. 9.5]\n",
    "[4. 5. 6. ]\n",
    "[9.5 7. 9.5]]"
   ]
  },
  {
   "cell_type": "code",
   "execution_count": null,
   "id": "1584332d",
   "metadata": {},
   "outputs": [],
   "source": [
    "import numpy as np\n",
    "array_nums1 = np.arange(20).reshape(4,5)\n",
    "array_nums2 = np.array([[1,2,np.nan],[4,5,6],[np.nan, 7, np.nan]])\n",
    "print(\"Original arrays:\")\n",
    "print(array_nums1)\n",
    "print(array_nums2)\n",
    "print(\"\\nAll the nan of array_nums2 replaced by the mean of array_nums1:\")\n",
    "array_nums2[np.isnan(array_nums2)]= np.nanmean(array_nums1)\n",
    "print(array_nums2)\n"
   ]
  },
  {
   "cell_type": "markdown",
   "id": "eb887db2",
   "metadata": {},
   "source": [
    "# 179. Write a NumPy program to fetch all items from a given array of shape 4,5 which are greater than 6 and a multiple of 3.\n",
    "Sample Output:\n",
    "Original arrays:\n",
    "[[ 0 1 2 3 4]\n",
    "[ 5 6 7 8 9]\n",
    "[10 11 12 13 14]\n",
    "[15 16 17 18 19]]\n",
    "Items greater than 6 and a multiple of 3 of the said array:\n",
    "[ 9 12 15 18]"
   ]
  },
  {
   "cell_type": "code",
   "execution_count": null,
   "id": "24ceeb7b",
   "metadata": {},
   "outputs": [],
   "source": [
    "import numpy as np\n",
    "array_nums1 = np.arange(20).reshape(4,5)\n",
    "print(\"Original arrays:\")\n",
    "print(array_nums1)\n",
    "result = array_nums1[(array_nums1>6) & (array_nums1%3==0)]\n",
    "print(\"\\nItems greater than 6 and a multiple of 3 of the said array:\")\n",
    "print(result)\n"
   ]
  },
  {
   "cell_type": "markdown",
   "id": "c436a022",
   "metadata": {},
   "source": [
    "# 180. Write a NumPy program to check whether the dimensions of two given arrays are the same or not."
   ]
  },
  {
   "cell_type": "code",
   "execution_count": null,
   "id": "58c43d5b",
   "metadata": {},
   "outputs": [],
   "source": [
    "import numpy as np\n",
    "def test_array_dimensions(ar1,ar2):\n",
    " try:\n",
    "   ar1 + ar2\n",
    " except ValueError:\n",
    "   return \"Different dimensions\"\n",
    " else:\n",
    "   return \"Same dimensions\"\n",
    "ar1 = np.arange(20).reshape(4,5)\n",
    "ar2 = np.arange(20).reshape(4,5)\n",
    "print(test_array_dimensions(ar1, ar2))\n",
    "ar1 = np.arange(20).reshape(5,4)\n",
    "ar2 = np.arange(20).reshape(4,5)\n",
    "print(test_array_dimensions(ar1, ar2))\n"
   ]
  },
  {
   "cell_type": "markdown",
   "id": "14396970",
   "metadata": {},
   "source": [
    "# 181. Write a NumPy program to place a specified element at a specified time randomly in a specified 2D array.\n",
    "Sample Output:\n",
    "Original array:\n",
    "[[0. 0. 0. 0.]\n",
    "[0. 0. 0. 0.]\n",
    "[0. 0. 0. 0.]\n",
    "[0. 0. 0. 0.]]\n",
    "Place a specified element in specified time randomly:\n",
    "[[10. 0. 0. 0.]\n",
    "[10. 0. 0. 0.]\n",
    "[ 0. 0. 0. 10.]\n",
    "[ 0. 0. 0. 0.]]"
   ]
  },
  {
   "cell_type": "code",
   "execution_count": null,
   "id": "87c357c4",
   "metadata": {},
   "outputs": [],
   "source": [
    "import numpy as np\n",
    "n = 4\n",
    "i = 3\n",
    "e = 10\n",
    "array_nums1 = np.zeros((n,n))\n",
    "print(\"Original array:\")\n",
    "print(array_nums1)\n",
    "np.put(array_nums1, np.random.choice(range(n*n), i, replace=False), e)\n",
    "print(\"\\nPlace a specified element in specified time randomly:\")\n",
    "print(array_nums1)\n"
   ]
  },
  {
   "cell_type": "markdown",
   "id": "bbc7f473",
   "metadata": {},
   "source": [
    "# 182. Write a NumPy program to subtract the mean of each row from a given matrix.\n",
    "Sample Output:\n",
    "Original matrix:\n",
    "[[0.59243452 0.51883289 0.03732848 0.49544926 0.22637201 0.45750412\n",
    "0.81614237 0.86681236 0.95482226 0.54789281]\n",
    "..............\n",
    "[0.14428353 0.20556412 0.97059136 0.53545871 0.93828877 0.81535277\n",
    "0.60563373 0.47543413 0.0468766 0.97460889]]\n",
    "Subtract the mean of each row of the said matrix:\n",
    "[[ 0.04107541 -0.03252622 -0.51403063 -0.05590985 -0.3249871 -0.09385499\n",
    "0.26478326 0.31545325 0.40346315 -0.0034663 ]\n",
    "....................\n",
    "[-0.42692573 -0.36564514 0.3993821 -0.03575056 0.36707951 0.24414351\n",
    "0.03442447 -0.09577513 -0.52433266 0.40339963]]"
   ]
  },
  {
   "cell_type": "code",
   "execution_count": null,
   "id": "e300c4d3",
   "metadata": {},
   "outputs": [],
   "source": [
    "import numpy as np\n",
    "print(\"Original matrix:\\n\")\n",
    "X = np.random.rand(5, 10)\n",
    "print(X)\n",
    "print(\"\\nSubtract the mean of each row of the said matrix:\\n\")\n",
    "Y = X - X.mean(axis=1, keepdims=True)\n",
    "print(Y)\n"
   ]
  },
  {
   "cell_type": "markdown",
   "id": "19b8b130",
   "metadata": {},
   "source": [
    "# 183. Write a NumPy program to test whether a 2D array has null columns or not.\n",
    "Sample Output:\n",
    "Original array:\n",
    "[[1 2 1 1 1 2 1 1 2 0]\n",
    "[1 1 0 0 0 0 2 1 2 0]\n",
    "[0 0 2 1 0 2 2 2 2 2]\n",
    "[1 1 1 2 0 0 0 0 1 2]]\n",
    "Test whether the said array has null columns or not:\n",
    "False"
   ]
  },
  {
   "cell_type": "code",
   "execution_count": null,
   "id": "1ebdc3c9",
   "metadata": {},
   "outputs": [],
   "source": [
    "import numpy as np\n",
    "print(\"Original array:\")\n",
    "nums = np.random.randint(0,3,(4,10))\n",
    "print(nums)\n",
    "print(\"\\nTest whether the said array has null columns or not:\")\n",
    "print((~nums.any(axis=0)).any())\n"
   ]
  },
  {
   "cell_type": "markdown",
   "id": "58fb55f1",
   "metadata": {},
   "source": [
    "# 184. Write a NumPy program to create an array using a generator function that generates 15 integers.\n",
    "Sample Output:\n",
    "New array:\n",
    "[ 0. 1. 2. 3. 4. 5. 6. 7. 8. 9. 10. 11. 12. 13. 14.]"
   ]
  },
  {
   "cell_type": "code",
   "execution_count": null,
   "id": "2aefd0da",
   "metadata": {},
   "outputs": [],
   "source": [
    "import numpy as np\n",
    "def generate():\n",
    "    for n in range(15):\n",
    "        yield n\n",
    "nums = np.fromiter(generate(),dtype=float,count=-1)\n",
    "print(\"New array:\")\n",
    "print(nums)\n"
   ]
  },
  {
   "cell_type": "markdown",
   "id": "43223235",
   "metadata": {},
   "source": [
    "# 185. Write a NumPy program to create a vector with 2 consecutive 0 between two values of a given vector.\n",
    "Sample Output:\n",
    "Original array:\n",
    "[1 2 3 4 5 6 7 8]\n",
    "New array:\n",
    "[1. 0. 0. 2. 0. 0. 3. 0. 0. 4. 0. 0. 5. 0. 0. 6. 0. 0. 7. 0. 0. 8.]"
   ]
  },
  {
   "cell_type": "code",
   "execution_count": null,
   "id": "0a3923fd",
   "metadata": {},
   "outputs": [],
   "source": [
    "import numpy as np\n",
    "nums = np.array([1,2,3,4,5,6,7,8])\n",
    "print(\"Original array:\")\n",
    "print(nums)\n",
    "p = 2\n",
    "new_nums = np.zeros(len(nums) + (len(nums)-1)*(p))\n",
    "new_nums[::p+1] = nums\n",
    "print(\"\\nNew array:\")\n",
    "print(new_nums)\n"
   ]
  },
  {
   "cell_type": "markdown",
   "id": "b26ea2f2",
   "metadata": {},
   "source": [
    "# 186. Write a NumPy program to multiply an array of dimensions (2,2,3) by an array with dimensions (2,2).\n",
    "Sample Output:\n",
    "Original array:\n",
    "[[[1. 1. 1.]\n",
    "[1. 1. 1.]]\n",
    "[[1. 1. 1.]\n",
    "[1. 1. 1.]]]\n",
    "New array:\n",
    "[[[3. 3. 3.]\n",
    "[3. 3. 3.]]\n",
    "[[3. 3. 3.]\n",
    "[3. 3. 3.]]]"
   ]
  },
  {
   "cell_type": "code",
   "execution_count": null,
   "id": "97663cd6",
   "metadata": {},
   "outputs": [],
   "source": [
    "import numpy as np\n",
    "nums1 = np.ones((2,2,3))\n",
    "nums2 = 3*np.ones((2,2))\n",
    "print(\"Original array:\")\n",
    "print(nums1)\n",
    "new_array = nums1 * nums2[:,:,None]\n",
    "print(\"\\nNew array:\")\n",
    "print(new_array)\n"
   ]
  },
  {
   "cell_type": "markdown",
   "id": "1cffb7fb",
   "metadata": {},
   "source": [
    "# 187. Write a NumPy program to convert a given vector of integers to a binary matrix.\n",
    "Sample Output:\n",
    "Original vector:\n",
    "[ 0 1 3 5 7 9 11 13 15]\n",
    "Binary representation of the said vector:\n",
    "[[0 0 0 0 0 0 0 0]\n",
    "[0 0 0 0 0 0 0 1]\n",
    "..............\n",
    "[0 0 0 0 1 1 1 1]]"
   ]
  },
  {
   "cell_type": "code",
   "execution_count": null,
   "id": "e8780bd7",
   "metadata": {},
   "outputs": [],
   "source": [
    "import numpy as np\n",
    "nums = np.array([0, 1, 3, 5, 7, 9, 11, 13, 15])\n",
    "print(\"Original vector:\")\n",
    "print(nums)\n",
    "bin_nums = ((nums.reshape(-1,1) & (2**np.arange(8))) != 0).astype(int)\n",
    "print(\"\\nBinary representation of the said vector:\")\n",
    "print(bin_nums[:,::-1])\n"
   ]
  },
  {
   "cell_type": "markdown",
   "id": "0ee8fccd",
   "metadata": {},
   "source": [
    "# 188. Write a NumPy program to extract rows with unequal values (e.g. [1,1,2]) from a 10x3 matrix.\n",
    "Sample Output:\n",
    "Original vector:\n",
    "[[3 2 0]\n",
    "........\n",
    "[3 0 2]]\n",
    "Rows with unequal values:\n",
    "[[3 2 0]\n",
    "[2 3 1]\n",
    ".........\n",
    "[3 0 2]]"
   ]
  },
  {
   "cell_type": "code",
   "execution_count": null,
   "id": "f462395d",
   "metadata": {},
   "outputs": [],
   "source": [
    "import numpy as np\n",
    "nums = np.random.randint(0,4,(6,3))\n",
    "print(\"Original vector:\")\n",
    "print(nums)\n",
    "new_nums = np.logical_and.reduce(nums[:,1:] == nums[:,:-1], axis=1)\n",
    "result = nums[~new_nums]\n",
    "print(\"\\nRows with unequal values:\")\n",
    "print(result)\n"
   ]
  },
  {
   "cell_type": "markdown",
   "id": "dbabd61b",
   "metadata": {},
   "source": [
    "# 189. Write a NumPy program to find rows of a given array of shape (8,3) that contain elements of each row of another given array of shape (2,2).\n",
    "Sample Output:\n",
    "Original arrays:\n",
    "[[5 2 5 1]\n",
    "[5 4 1 3]\n",
    "..........\n",
    "[4 0 4 0]]\n",
    "[[2 3 1]\n",
    "[1 1 4]]\n",
    "Rows of a given array that contain elements of each row of another given array:\n",
    "[0 1 2 4]"
   ]
  },
  {
   "cell_type": "code",
   "execution_count": null,
   "id": "40bafbb0",
   "metadata": {},
   "outputs": [],
   "source": [
    "import numpy as np\n",
    "nums1 = np.random.randint(0,6,(6,4))\n",
    "nums2 = np.random.randint(0,6,(2,3))\n",
    "print(\"Original arrays:\")\n",
    "print(nums1)\n",
    "print(\"\\n\",nums2)\n",
    "temp = (nums1[..., np.newaxis, np.newaxis] == nums2)\n",
    "rows = (temp.sum(axis=(1,2,3)) >= nums2.shape[1]).nonzero()[0]\n",
    "print(\"\\nRows of a given array that contain elements of each row of another given array:\")\n",
    "print(rows)\n"
   ]
  },
  {
   "cell_type": "markdown",
   "id": "00bc9c44",
   "metadata": {},
   "source": [
    "# 190. Write a NumPy program to create a record array from a given regular array.\n",
    "Sample Output:\n",
    "Original arrays:\n",
    "[['Yasemin Rayner' '88.5' '90']\n",
    "['Ayaana Mcnamara' '87' '99']\n",
    "['Jody Preece' '85.5' '91']]\n",
    "Record array;\n",
    "[(b'Yasemin Rayner', 88.5, 90) (b'Ayaana Mcnamara', 87. , 99)\n",
    "(b'Jody Preece', 85.5, 91)]"
   ]
  },
  {
   "cell_type": "code",
   "execution_count": null,
   "id": "bc2da7d7",
   "metadata": {},
   "outputs": [],
   "source": [
    "import numpy as np\n",
    "arra1 = np.array([(\"Yasemin Rayner\", 88.5, 90),\n",
    "                 (\"Ayaana Mcnamara\", 87, 99),\n",
    "             (\"Jody Preece\", 85.5, 91)])\n",
    "print(\"Original arrays:\")\n",
    "print(arra1)\n",
    "print(\"\\nRecord array;\")\n",
    "result = np.core.records.fromarrays(arra1.T,\n",
    "                              names='col1, col2, col3',\n",
    "                              formats = 'S80, f8, i8')\n",
    "print(result)\n"
   ]
  },
  {
   "cell_type": "markdown",
   "id": "3b38f6a1",
   "metadata": {},
   "source": [
    "# 191. Write a NumPy program to get the block-sum (block size is 5x5) from a given array of shape 25x25.\n",
    "Sample Output:\n",
    "Original arrays:\n",
    "[[1. 1. 1. 1. 1. 1. 1. 1. 1. 1. 1. 1. 1. 1. 1. 1. 1. 1. 1. 1. 1. 1. 1. 1. 1.]\n",
    "[1. 1. 1. 1. 1. 1. 1. 1. 1. 1. 1. 1. 1. 1. 1. 1. 1. 1. 1. 1. 1. 1. 1. 1. 1.]\n",
    ".........................\n",
    "[1. 1. 1. 1. 1. 1. 1. 1. 1. 1. 1. 1. 1. 1. 1. 1. 1. 1. 1. 1. 1. 1. 1. 1. 1.]]\n",
    "Block-sum (5x5) of the said array:\n",
    "[[25. 25. 25. 25. 25.]\n",
    "[25. 25. 25. 25. 25.]\n",
    "[25. 25. 25. 25. 25.]\n",
    "[25. 25. 25. 25. 25.]\n",
    "[25. 25. 25. 25. 25.]]"
   ]
  },
  {
   "cell_type": "code",
   "execution_count": null,
   "id": "837f5543",
   "metadata": {},
   "outputs": [],
   "source": [
    "import numpy as np\n",
    "arra1 = np.ones((25,25))\n",
    "k = 5\n",
    "print(\"Original arrays:\")\n",
    "print(arra1)\n",
    "result = np.add.reduceat(np.add.reduceat(arra1, np.arange(0, arra1.shape[0], k), axis=0),\n",
    "                                      np.arange(0, arra1.shape[1], k), axis=1)\n",
    "print(\"\\nBlock-sum (5x5) of the said array:\")\n",
    "print(result)\n"
   ]
  },
  {
   "cell_type": "markdown",
   "id": "f39afdc9",
   "metadata": {},
   "source": [
    "# 192. Write a NumPy program to extract all the contiguous 4x4 blocks from a given random 12x12 matrix.\n",
    "Sample Output:\n",
    "Original arrays:\n",
    "[[3 3 1 2 0 3 0 3 2 0 1 0]\n",
    "[4 0 4 2 0 0 0 0 2 2 2 3]\n",
    "..................\n",
    "[1 2 3 4 1 2 3 4 3 2 3 4]\n",
    "[4 0 4 2 2 4 1 4 2 0 0 0]]\n",
    "Contiguous 4x4 blocks:\n",
    "[[[[3 3 1 2]\n",
    "[4 0 4 2]\n",
    "[1 4 0 1]\n",
    "[1 4 2 4]]\n",
    "...\n",
    "[[4 1 1 0]\n",
    "[1 0 2 2]\n",
    "[3 2 3 4]\n",
    "[2 0 0 0]]]]"
   ]
  },
  {
   "cell_type": "code",
   "execution_count": null,
   "id": "ce378f5c",
   "metadata": {},
   "outputs": [],
   "source": [
    "import numpy as np\n",
    "arra1 = np.random.randint(0,5,(12,12))\n",
    "print(\"Original arrays:\")\n",
    "print(arra1)\n",
    "n = 4\n",
    "i = 1 + (arra1.shape[0]-4)\n",
    "j = 1 + (arra1.shape[1]-4)\n",
    "result = np.lib.stride_tricks.as_strided(arra1, shape=(i, j, n, n), strides = arra1.strides + arra1.strides)\n",
    "print(\"\\nContiguous 4x4 blocks:\")\n",
    "print(result)\n"
   ]
  },
  {
   "cell_type": "markdown",
   "id": "c01f62c2",
   "metadata": {},
   "source": [
    "# 193. Write a Numpy program to test whether a numpy array is faster than a Python list or not.\n",
    "Time to aggregates elements from each of the iterables:\n",
    "Sample Output:\n",
    "List:\n",
    "72.64399528503418\n",
    "NumPy array:\n",
    "19.61684226989746\n"
   ]
  },
  {
   "cell_type": "code",
   "execution_count": null,
   "id": "216a341d",
   "metadata": {},
   "outputs": [],
   "source": [
    "import time\n",
    "import numpy as np \n",
    "SIZE = 200000 \n",
    "list1 = range(SIZE)\n",
    "list2 = range(SIZE)\n",
    "arra1 = np.arange(SIZE)\n",
    "arra2 = np.arange(SIZE)\n",
    "start_list = time.time()\n",
    "result=[(x,y) for x,y in zip(list1,list2)]\n",
    "print(\"Time to aggregates elements from each of the iterables:\")\n",
    "print(\"List:\")\n",
    "print((time.time()-start_list)*1000)\n",
    "start_array = time.time()\n",
    "result = arra1 + arra2\n",
    "print(\"NumPy array:\")\n",
    "print((time.time()-start_array)*1000)\n"
   ]
  },
  {
   "cell_type": "markdown",
   "id": "1b0b9d7d",
   "metadata": {},
   "source": [
    "# 194. Write a NumPy program to create two arrays with shape (300,400, 5). Fill values with unsigned integers (0 to 255). Insert an axis at the beginning of the expanded array shape. Now combine both arrays into one.\n",
    "Sample Output:\n",
    "Array1:\n",
    "[[[ 46 117 73]\n",
    "[215 90 86]\n",
    "[ 80 89 220]\n",
    "...\n",
    "[ 47 94 234]\n",
    "[ 95 72 61]\n",
    "[154 91 175]]\n",
    "[[232 194 26]\n",
    "[219 116 116]\n",
    "[126 179 177]\n",
    "...\n",
    "Array2:\n",
    "[[[ 37 10 228]\n",
    "[241 52 82]\n",
    "[196 47 189]\n",
    "...\n",
    "[127 70 246]\n",
    "[158 46 12]\n",
    "[ 56 129 162]]\n",
    "[[224 215 47]\n",
    "[139 72 13]\n",
    "[218 64 78]\n",
    "...\n",
    "Combined array:\n",
    "[[[[ 46 117 73]\n",
    "[215 90 86]\n",
    "[ 80 89 220]\n",
    "...\n",
    "[208 187 55]\n",
    "[109 115 254]\n",
    "[115 134 68]]\n",
    "[[158 106 165]\n",
    "[189 48 54]\n",
    "[ 5 84 26]\n",
    "...\n",
    "[131 235 25]\n",
    "[101 146 90]\n",
    "[216 15 92]]]]"
   ]
  },
  {
   "cell_type": "code",
   "execution_count": null,
   "id": "d7e6772f",
   "metadata": {},
   "outputs": [],
   "source": [
    "import numpy as np \n",
    "nums1 = np.random.randint(low=0, high=256, size=(200, 300, 3), dtype=np.uint8)\n",
    "nums2 = np.random.randint(low=0, high=256, size=(200, 300, 3), dtype=np.uint8)\n",
    "print(\"Array1:\") \n",
    "print(nums1) \n",
    "print(\"\\nArray2:\") \n",
    "print(nums2) \n",
    "nums1 = np.expand_dims(nums1, axis=0)\n",
    "nums2 = np.expand_dims(nums2, axis=0)\n",
    "nums = np.append(nums1, nums2, axis=0)\n",
    "print(\"\\nCombined array:\")\n",
    "print(nums)\n"
   ]
  },
  {
   "cell_type": "markdown",
   "id": "7478296d",
   "metadata": {},
   "source": [
    "# 195. Write a NumPy program to remove the first dimension from a given array of shape (1,3,4).\n",
    "Sample Output:\n",
    "Shape of the said array:\n",
    "(1, 3, 4)\n",
    "After removing the first dimension of the shape of the said array:"
   ]
  },
  {
   "cell_type": "code",
   "execution_count": null,
   "id": "fc14783e",
   "metadata": {},
   "outputs": [],
   "source": [
    "import numpy as np\n",
    "nums = np.array([[[1, 2, 3, 4],\n",
    "               [0, 1, 3, 4],\n",
    "               [5, 0, 3, 2]]])\n",
    "print('Shape of the said array:')\n",
    "print(nums.shape) \n",
    "print(\"\\nAfter removing the first dimension of the shape of the said array:\")\n"
   ]
  },
  {
   "cell_type": "markdown",
   "id": "e3c3de2f",
   "metadata": {},
   "source": [
    "# 196. Write a NumPy program to create a 12x12x4 array with random values and extract any array of shape(6,6,3) from the said array.\n",
    "Sample Output:\n",
    "Original array:\n",
    "[[[0.67420382 0.5592584 0.27096382]\n",
    "[0.2896283 0.68346522 0.13996167]\n",
    "[0.74283318 0.06323309 0.0980022 ]\n",
    "[0.43203954 0.38888969 0.44801756]\n",
    "[0.04391897 0.4851516 0.34044817]\n",
    "[0.2202623 0.81434798 0.51900666]\n",
    "[0.12442371 0.91247823 0.01874549]\n",
    "[0.2287782 0.88089638 0.40583551]]\n",
    "........\n",
    "[[0.28021231 0.47537742 0.72971633]\n",
    "[0.87380873 0.83031311 0.56713737]\n",
    "[0.23093306 0.22830678 0.54439754]\n",
    "[0.88130002 0.37081258 0.78148687]\n",
    "[0.00318428 0.62297164 0.58875116]\n",
    "[0.68102061 0.31822913 0.04432477]\n",
    "[0.70410386 0.56770957 0.42998752]\n",
    "[0.5891714 0.25692428 0.19184309]]]\n",
    "Extract array of shape (6,6,3) from the said array:\n",
    "[[[0.67420382 0.5592584 0.27096382]\n",
    "[0.2896283 0.68346522 0.13996167]\n",
    "[0.74283318 0.06323309 0.0980022 ]\n",
    "[0.43203954 0.38888969 0.44801756]\n",
    "[0.04391897 0.4851516 0.34044817]\n",
    "[0.2202623 0.81434798 0.51900666]]\n",
    ".......\n",
    "[[0.85965509 0.11357479 0.27325381]\n",
    "[0.74156642 0.35108524 0.40305073]\n",
    "[0.44791592 0.28270286 0.45377936]\n",
    "[0.01543443 0.14978493 0.47738367]\n",
    "[0.63671823 0.75239388 0.59118693]\n",
    "[0.55932007 0.32759274 0.25519358]]]"
   ]
  },
  {
   "cell_type": "code",
   "execution_count": null,
   "id": "7362a63c",
   "metadata": {},
   "outputs": [],
   "source": [
    "import numpy as np \n",
    "nums = np.random.random((8,8,3))\n",
    "print(\"Original array:\")\n",
    "print(nums)\n",
    "print(\"\\nExtract array of shape (6,6,3) from the said array:\")\n",
    "new_nums = nums[:6, :6, :]\n",
    "print(new_nums)\n"
   ]
  },
  {
   "cell_type": "markdown",
   "id": "ee79efe4",
   "metadata": {},
   "source": [
    "# 197. Write a NumPy program to create a concatenation of two given arrays of shapes (2, 2) and (2,1).\n",
    "Sample Output:\n",
    "Original arrays:\n",
    "[[4.5 3.5]\n",
    "[5.1 2.3]]\n",
    "[[1]\n",
    "[2]]\n",
    "Concatenating the said two arrays:\n",
    "[[4.5 3.5 1. ]\n",
    "[5.1 2.3 2. ]]\n"
   ]
  },
  {
   "cell_type": "code",
   "execution_count": null,
   "id": "7a9d4c40",
   "metadata": {},
   "outputs": [],
   "source": [
    "import numpy as np \n",
    "nums1 = np.array([[4.5, 3.5],\n",
    "                 [5.1, 2.3]])\n",
    "nums2 = np.array([[1],\n",
    "                  [2]])\n",
    "print(\"Original arrays:\")\n",
    "print(nums1)\n",
    "print(nums2)\n",
    "print(\"\\nConcatenating the said two arrays:\")\n",
    "print(np.concatenate((nums1, nums2), axis=1))\n"
   ]
  },
  {
   "cell_type": "markdown",
   "id": "97d87372",
   "metadata": {},
   "source": [
    "# 198. Write a NumPy program to create a 10x4 array filled with random floating point number values. Set the array values with the specified precision.\n",
    "Sample Output:\n",
    "Original arrays:\n",
    "[[-1.23335604 0.54368124 1.93500931 -0.45001639]\n",
    "[ 1.20528013 2.04423279 -0.68858903 -0.46642789]\n",
    "[ 1.29030601 0.60914425 0.03139104 -1.72528221]\n",
    "[-0.32607231 -2.36951679 -0.80374203 -0.26212641]\n",
    "[-0.16426628 -0.21524949 -0.35957311 -2.27709735]\n",
    "[-0.28851276 -0.59101441 0.22293919 -0.50128832]\n",
    "[ 1.3577567 0.05529019 0.81208832 0.70810424]\n",
    "[ 0.46853801 -0.81857981 0.80443323 0.52391606]\n",
    "[-0.29149088 -0.91153449 -1.00515549 0.31065165]\n",
    "[ 2.68952752 1.86676839 1.49239198 -1.0409156 ]]\n",
    "Set the array values with specified precision:\n",
    "[[-1.2334 0.5437 1.935 -0.45 ]\n",
    "[ 1.2053 2.0442 -0.6886 -0.4664]\n",
    "[ 1.2903 0.6091 0.0314 -1.7253]\n",
    "[-0.3261 -2.3695 -0.8037 -0.2621]\n",
    "[-0.1643 -0.2152 -0.3596 -2.2771]\n",
    "[-0.2885 -0.591 0.2229 -0.5013]\n",
    "[ 1.3578 0.0553 0.8121 0.7081]\n",
    "[ 0.4685 -0.8186 0.8044 0.5239]\n",
    "[-0.2915 -0.9115 -1.0052 0.3107]\n",
    "[ 2.6895 1.8668 1.4924 -1.0409]]"
   ]
  },
  {
   "cell_type": "code",
   "execution_count": null,
   "id": "a6fc62b3",
   "metadata": {},
   "outputs": [],
   "source": [
    "import numpy as np \n",
    "nums = np.random.randn(10, 4)\n",
    "print(\"Original arrays:\")\n",
    "print(nums)\n",
    "print(\"Set the array values with specified precision:\")\n",
    "np.set_printoptions(precision=4)\n",
    "print(nums)\n"
   ]
  },
  {
   "cell_type": "markdown",
   "id": "2ad3c525",
   "metadata": {},
   "source": [
    "# 199. Write a NumPy program to create an array using scientific notation for numbers. Set the precision value to 6 and print the array.\n",
    "Sample Output:\n",
    "Original arrays:\n",
    "[1.2e-07 1.5e-06 1.7e-05]\n",
    "Set the precision value to 10:\n",
    "[0.00000012 0.0000015 0.000017 ]"
   ]
  },
  {
   "cell_type": "code",
   "execution_count": null,
   "id": "3ce1563f",
   "metadata": {},
   "outputs": [],
   "source": [
    "import numpy as np\n",
    "nums = np.array([1.2e-7, 1.5e-6, 1.7e-5])\n",
    "print(\"Original arrays:\")\n",
    "print(nums)\n",
    "print(\"Set the precision value to 10:\")\n",
    "np.set_printoptions(suppress=True, precision=10)\n",
    "print(nums)\n"
   ]
  },
  {
   "cell_type": "markdown",
   "id": "655773cf",
   "metadata": {},
   "source": [
    "# 200. Write a NumPy program to remove a specific column from a given array.\n",
    "Sample Output:\n",
    "Original array:\n",
    "[[0.54420704 0.35710194 0.79167579 0.72249474 0.99968936]\n",
    "[0.22306352 0.31085825 0.09849254 0.11708716 0.45757945]\n",
    "[0.19381592 0.13587749 0.90455038 0.95146017 0.55716851]\n",
    "[0.62031347 0.84275698 0.84665943 0.06562172 0.58415968]\n",
    "[0.41903059 0.0660559 0.85270403 0.94184265 0.95371587]\n",
    "[0.02577681 0.91577282 0.1969686 0.3472482 0.23337827]\n",
    "[0.43563908 0.62308811 0.09606371 0.79053989 0.69382428]]\n",
    "Delete the first column of the said array:\n",
    "[[0.35710194 0.79167579 0.72249474 0.99968936]\n",
    "[0.31085825 0.09849254 0.11708716 0.45757945]\n",
    "[0.13587749 0.90455038 0.95146017 0.55716851]\n",
    "[0.84275698 0.84665943 0.06562172 0.58415968]\n",
    "[0.0660559 0.85270403 0.94184265 0.95371587]\n",
    "[0.91577282 0.1969686 0.3472482 0.23337827]\n",
    "[0.62308811 0.09606371 0.79053989 0.69382428]]\n",
    "Delete the last column of the said array:\n",
    "[[0.54420704 0.35710194 0.79167579 0.72249474]\n",
    "[0.22306352 0.31085825 0.09849254 0.11708716]\n",
    "[0.19381592 0.13587749 0.90455038 0.95146017]\n",
    "[0.62031347 0.84275698 0.84665943 0.06562172]\n",
    "[0.41903059 0.0660559 0.85270403 0.94184265]\n",
    "[0.02577681 0.91577282 0.1969686 0.3472482 ]\n",
    "[0.43563908 0.62308811 0.09606371 0.79053989]]"
   ]
  },
  {
   "cell_type": "code",
   "execution_count": null,
   "id": "1283c782",
   "metadata": {},
   "outputs": [],
   "source": [
    "import numpy as np \n",
    "nums = np.random.random((7, 5))\n",
    "print(\"Original array:\")\n",
    "print(nums)\n",
    "print(\"\\nDelete the first column of the said array:\")\n",
    "print(np.delete(nums, [0], axis=1))\n",
    "print(\"\\nDelete the last column of the said array:\")\n",
    "print(np.delete(nums, [4], axis=1))\n"
   ]
  },
  {
   "cell_type": "markdown",
   "id": "a7a9986b",
   "metadata": {},
   "source": [
    "# 201. Write a NumPy program to create a 90x30 array filled with random point numbers. Increase the number of items (10 edge elements) shown in the print statement.\n",
    "Sample Output:\n",
    "Original array:\n",
    "[[1 8 3 ... 9 5 8]\n",
    "[1 9 6 ... 6 5 0]\n",
    "[0 0 8 ... 6 9 8]\n",
    "...\n",
    "[2 3 9 ... 4 0 1]\n",
    "[2 6 8 ... 8 3 4]\n",
    "[1 2 9 ... 7 4 8]]\n",
    "Increase the number of items (10 edge elements) shown by the print statement:\n",
    "[[1 8 3 0 1 2 8 0 0 5 ... 1 3 8 1 1 7 5 9 5 8]\n",
    "[1 9 6 1 0 7 7 3 8 6 ... 5 9 9 9 9 7 2 6 5 0]\n",
    "[0 0 8 1 4 2 1 3 2 9 ... 5 6 4 1 4 9 0 6 9 8]\n",
    "[7 2 7 1 7 2 4 7 2 0 ... 4 2 6 2 6 4 4 0 6 7]\n",
    "[3 6 0 0 2 1 6 6 2 9 ... 3 4 1 9 5 7 4 4 6 7]\n",
    "[9 5 2 6 9 2 7 7 9 6 ... 4 3 5 2 7 0 6 0 2 7]\n",
    "[5 5 4 1 9 2 5 3 5 2 ... 7 4 7 5 5 7 3 0 1 8]\n",
    "[5 9 9 9 6 3 5 0 9 4 ... 6 4 9 7 8 7 2 5 9 4]\n",
    "[6 1 0 8 9 8 0 6 6 3 ... 5 3 1 6 1 5 2 9 8 3]\n",
    "[3 0 3 1 4 1 4 1 9 6 ... 3 9 4 4 5 0 2 0 8 0]\n",
    "...\n",
    "[3 9 5 0 3 8 5 3 1 1 ... 1 2 4 6 2 4 5 0 0 5]\n",
    "[7 9 7 0 1 3 0 1 8 4 ... 5 7 5 4 7 2 0 2 3 0]\n",
    "[4 2 6 4 7 2 3 9 7 9 ... 2 7 1 2 5 7 5 4 0 2]\n",
    "[7 8 9 7 3 3 1 2 8 5 ... 1 9 9 5 5 2 3 5 0 1]\n",
    "[3 7 6 8 3 2 5 0 5 4 ... 0 4 9 8 5 3 2 1 3 3]\n",
    "[3 3 8 4 0 4 8 4 7 0 ... 7 5 0 9 7 8 2 0 7 9]\n",
    "[8 4 4 7 3 8 2 0 8 9 ... 5 5 8 1 5 6 0 6 5 0]\n",
    "[2 3 9 9 9 8 6 5 4 4 ... 4 0 7 1 8 6 7 4 0 1]\n",
    "[2 6 8 7 3 3 8 4 1 6 ... 1 3 9 5 0 1 4 8 3 4]\n",
    "[1 2 9 5 1 2 9 9 5 4 ... 3 1 2 6 1 4 4 7 4 8]]"
   ]
  },
  {
   "cell_type": "code",
   "execution_count": null,
   "id": "6476c116",
   "metadata": {},
   "outputs": [],
   "source": [
    "import numpy as np \n",
    "nums = np.random.randint(10, size=(90, 30))\n",
    "print(\"Original array:\")\n",
    "print(nums)\n",
    "print(\"\\nIncrease the number of items (10 edge elements) shown by the print statement:\")\n",
    "np.set_printoptions(edgeitems=10)\n",
    "print(nums)\n"
   ]
  },
  {
   "cell_type": "markdown",
   "id": "a28ba532",
   "metadata": {},
   "source": [
    "# 202. Write a NumPy program to calculate the arithmetic mean of the corresponding elements of two given arrays of the same size.\n",
    "Sample Output:\n",
    "Array1:\n",
    "[[2 5 2]\n",
    "[1 5 5]]\n",
    "Array2:\n",
    "[[5 3 4]\n",
    "[3 2 5]]\n",
    "Arithmetic means of corresponding elements of said two arrays:\n",
    "[[3.5 4. 3. ]\n",
    "[2. 3.5 5. ]]"
   ]
  },
  {
   "cell_type": "code",
   "execution_count": null,
   "id": "a50c5db2",
   "metadata": {},
   "outputs": [],
   "source": [
    "import numpy as np \n",
    "nums1 = np.array([[2, 5, 2],\n",
    "              [1, 5, 5]])\n",
    "nums2 = np.array([[5, 3, 4],\n",
    "              [3, 2, 5]])\n",
    "print(\"Array1:\") \n",
    "print(nums1)\n",
    "print(\"Array2:\") \n",
    "print(nums2)\n",
    "print(\"\\nArithmetic means of corresponding elements of said two arrays:\")\n",
    "print(np.divide(np.add(nums1, nums2), 2))\n"
   ]
  },
  {
   "cell_type": "markdown",
   "id": "7b257575",
   "metadata": {},
   "source": [
    "# 203. Write a NumPy program to create a 11x3 array filled with student information (id, class and name) and shuffle the rows of the array starting from 3rd to 9th.\n",
    "Sample Output:\n",
    "Original array:\n",
    "[['stident_id' 'Class' 'Name']\n",
    "['01' 'V' 'Debby Pramod']\n",
    "['02' 'V' 'Artemiy Ellie']\n",
    "['03' 'V' 'Baptist Kamal']\n",
    "['04' 'V' 'Lavanya Davide']\n",
    "['05' 'V' 'Fulton Antwan']\n",
    "['06' 'V' 'Euanthe Sandeep']\n",
    "['07' 'V' 'Endzela Sanda']\n",
    "['08' 'V' 'Victoire Waman']\n",
    "['09' 'V' 'Briar Nur']\n",
    "['10' 'V' 'Rose Lykos']]\n",
    "Shuffle the said array rows starting from 3rd to 9th\n",
    "[['stident_id' 'Class' 'Name']\n",
    "['01' 'V' 'Debby Pramod']\n",
    "['02' 'V' 'Artemiy Ellie']\n",
    "['03' 'V' 'Baptist Kamal']\n",
    "['07' 'V' 'Endzela Sanda']\n",
    "['04' 'V' 'Lavanya Davide']\n",
    "['06' 'V' 'Euanthe Sandeep']\n",
    "['05' 'V' 'Fulton Antwan']\n",
    "['08' 'V' 'Victoire Waman']\n",
    "['09' 'V' 'Briar Nur']\n",
    "['10' 'V' 'Rose Lykos']]"
   ]
  },
  {
   "cell_type": "code",
   "execution_count": null,
   "id": "c1f91f49",
   "metadata": {},
   "outputs": [],
   "source": [
    "import numpy as np\n",
    "np.random.seed(42) \n",
    "student = np.array([['stident_id', 'Class', 'Name'],\n",
    "              ['01', 'V', 'Debby Pramod'],\n",
    "              ['02', 'V', 'Artemiy Ellie'],\n",
    "              ['03', 'V', 'Baptist Kamal'],\n",
    "              ['04', 'V', 'Lavanya Davide'],\n",
    "              ['05', 'V', 'Fulton Antwan'],\n",
    "              ['06', 'V', 'Euanthe Sandeep'],\n",
    "              ['07', 'V', 'Endzela Sanda'],\n",
    "              ['08', 'V', 'Victoire Waman'],\n",
    "              ['09', 'V', 'Briar Nur'],\n",
    "              ['10', 'V', 'Rose Lykos']]) \n",
    "print(\"Original array:\")\n",
    "print(student)\n",
    "np.random.shuffle(student[2:8])\n",
    "print(\"Shuffle the said array rows starting from 3rd to 9th\")\n",
    "print(student)\n"
   ]
  },
  {
   "cell_type": "markdown",
   "id": "538e26d1",
   "metadata": {},
   "source": [
    "# 204. Write a NumPy program to extract all the rows from a given array where a specific column starts with a given character.\n",
    "Sample Output:\n",
    "Original array:\n",
    "[['01' 'V' 'Debby Pramod']\n",
    "['02' 'V' 'Artemiy Ellie']\n",
    "['03' 'V' 'Baptist Kamal']\n",
    "['04' 'V' 'Lavanya Davide']\n",
    "['05' 'V' 'Fulton Antwan']\n",
    "['06' 'V' 'Euanthe Sandeep']\n",
    "['07' 'V' 'Endzela Sanda']\n",
    "['08' 'V' 'Victoire Waman']\n",
    "['09' 'V' 'Briar Nur']\n",
    "['10' 'V' 'Rose Lykos']]\n",
    "Student name starting with E :\n",
    "[['06' 'V' 'Euanthe Sandeep']\n",
    "['07' 'V' 'Endzela Sanda']]\n",
    "Student id starting with 1 :\n",
    "[['10' 'V' 'Rose Lykos']]"
   ]
  },
  {
   "cell_type": "code",
   "execution_count": null,
   "id": "31287a55",
   "metadata": {},
   "outputs": [],
   "source": [
    "import numpy as np\n",
    "np.set_printoptions(linewidth=100)\n",
    "student =  np.array([['01', 'V', 'Debby Pramod'],\n",
    " ['02', 'V', 'Artemiy Ellie'],\n",
    " ['03', 'V', 'Baptist Kamal'],\n",
    " ['04', 'V', 'Lavanya Davide'],\n",
    " ['05', 'V', 'Fulton Antwan'],\n",
    " ['06', 'V', 'Euanthe Sandeep'],\n",
    " ['07', 'V', 'Endzela Sanda'],\n",
    " ['08', 'V', 'Victoire Waman'],\n",
    " ['09', 'V', 'Briar Nur'],\n",
    " ['10', 'V', 'Rose Lykos']])\n",
    "print(\"Original array:\")\n",
    "print(student)\n",
    "char='E'\n",
    "result = student[np.char.startswith(student[:,2], char)]\n",
    "print(\"\\nStudent name starting with\",char,\":\")\n",
    "print(result)\n",
    "char='1'\n",
    "result = student[np.char.startswith(student[:,0], char)]\n",
    "print(\"\\nStudent id starting with\",char,\":\")\n",
    "print(result)\n"
   ]
  },
  {
   "cell_type": "markdown",
   "id": "df914b58",
   "metadata": {},
   "source": [
    "# 205. Write a NumPy program to extract all the rows to compute the student weight from a given array (student information) where a specific column starts with a given character.\n",
    "Sample Output:\n",
    "Original array:\n",
    "[['01' 'V' 'Debby Pramod' '30.21']\n",
    "['02' 'V' 'Artemiy Ellie' '29.32']\n",
    "['03' 'V' 'Baptist Kamal' '31.0']\n",
    "['04' 'V' 'Lavanya Davide' '30.22']\n",
    "['05' 'V' 'Fulton Antwan' '30.21']\n",
    "['06' 'V' 'Euanthe Sandeep' '31.0']\n",
    "['07' 'V' 'Endzela Sanda' '32.0']\n",
    "['08' 'V' 'Victoire Waman' '29.21']\n",
    "['09' 'V' 'Briar Nur' '30.0']\n",
    "['10' 'V' 'Rose Lykos' '32.0']]\n",
    "Total weight, where student name starting with E\n",
    "63.0\n",
    "Total weight, where student name starting with D\n",
    "30.21"
   ]
  },
  {
   "cell_type": "code",
   "execution_count": null,
   "id": "1acf1099",
   "metadata": {},
   "outputs": [],
   "source": [
    "import numpy as np\n",
    "np.set_printoptions(linewidth=100)\n",
    "student =  np.array([['01', 'V', 'Debby Pramod', 30.21],\n",
    " ['02', 'V', 'Artemiy Ellie', 29.32],\n",
    " ['03', 'V', 'Baptist Kamal', 31.00],\n",
    " ['04', 'V', 'Lavanya Davide', 30.22],\n",
    " ['05', 'V', 'Fulton Antwan', 30.21],\n",
    " ['06', 'V', 'Euanthe Sandeep', 31.00],\n",
    " ['07', 'V', 'Endzela Sanda', 32.00],\n",
    " ['08', 'V', 'Victoire Waman', 29.21],\n",
    " ['09', 'V', 'Briar Nur', 30.00],\n",
    " ['10', 'V', 'Rose Lykos', 32.00]])\n",
    "print(\"Original array:\")\n",
    "print(student)\n",
    "char='E'\n",
    "result = student[np.char.startswith(student[:,2], char)]\n",
    "print(\"\\nTotal weight, where student name starting with\",char)\n",
    "print(np.round(result[:, 3].astype(float).sum(), 2))\n",
    "char='D'\n",
    "result = student[np.char.startswith(student[:,2], char)]\n",
    "print(\"\\nTotal weight, where student name starting with\",char)\n",
    "print(np.round(result[:, 3].astype(float).sum(), 2))\n"
   ]
  },
  {
   "cell_type": "code",
   "execution_count": null,
   "id": "f76cd6c8",
   "metadata": {},
   "outputs": [],
   "source": []
  }
 ],
 "metadata": {
  "kernelspec": {
   "display_name": "Python 3 (ipykernel)",
   "language": "python",
   "name": "python3"
  },
  "language_info": {
   "codemirror_mode": {
    "name": "ipython",
    "version": 3
   },
   "file_extension": ".py",
   "mimetype": "text/x-python",
   "name": "python",
   "nbconvert_exporter": "python",
   "pygments_lexer": "ipython3",
   "version": "3.10.9"
  }
 },
 "nbformat": 4,
 "nbformat_minor": 5
}
