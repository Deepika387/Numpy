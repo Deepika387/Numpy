{
 "cells": [
  {
   "cell_type": "markdown",
   "id": "a2c0843c",
   "metadata": {},
   "source": [
    "# 1. Write a NumPy program to sort a given array of shape 2 along the first axis, last axis and on flattened array.\n",
    "Expected Output:\n",
    "Original array:\n",
    "[[10 40]\n",
    "[30 20]]\n",
    "Sort the array along the first axis:\n",
    "[[10 20]\n",
    "[30 40]]\n",
    "Sort the array along the last axis:\n",
    "[[10 40]\n",
    "[20 30]]\n",
    "Sort the flattened array:\n",
    "[10 20 30 40]"
   ]
  },
  {
   "cell_type": "code",
   "execution_count": 1,
   "id": "96175aa7",
   "metadata": {},
   "outputs": [
    {
     "name": "stdout",
     "output_type": "stream",
     "text": [
      "Original array:\n",
      "[[10 40]\n",
      " [30 20]]\n",
      "Sort the array along the first axis:\n",
      "[[10 20]\n",
      " [30 40]]\n",
      "Sort the array along the last axis:\n",
      "[[10 40]\n",
      " [20 30]]\n",
      "Sort the flattened array:\n",
      "[10 20 30 40]\n"
     ]
    }
   ],
   "source": [
    "import numpy as np\n",
    "a = np.array([[10,40],[30,20]])\n",
    "print(\"Original array:\")\n",
    "print(a)\n",
    "print(\"Sort the array along the first axis:\")\n",
    "print(np.sort(a, axis=0))\n",
    "print(\"Sort the array along the last axis:\")\n",
    "print(np.sort(a))\n",
    "print(\"Sort the flattened array:\")\n",
    "print(np.sort(a, axis=None))\n"
   ]
  },
  {
   "cell_type": "markdown",
   "id": "4bdb6db9",
   "metadata": {},
   "source": [
    "# 2. Write a NumPy program to create a structured array from given student name, height, class and their data types. Now sort the array on height.\n",
    "Sample Output:\n",
    "Original array:\n",
    "[(b'James', 5, 48.5 ) (b'Nail', 6, 52.5 ) (b'Paul', 5, 42.1 )\n",
    "(b'Pit', 5, 40.11)]\n",
    "Sort by height\n",
    "[(b'Pit', 5, 40.11) (b'Paul', 5, 42.1 ) (b'James', 5, 48.5 )\n",
    "(b'Nail', 6, 52.5 )]"
   ]
  },
  {
   "cell_type": "code",
   "execution_count": 2,
   "id": "3158e9dc",
   "metadata": {},
   "outputs": [
    {
     "name": "stdout",
     "output_type": "stream",
     "text": [
      "Original array:\n",
      "[(b'James', 5, 48.5 ) (b'Nail', 6, 52.5 ) (b'Paul', 5, 42.1 )\n",
      " (b'Pit', 5, 40.11)]\n",
      "Sort by height\n",
      "[(b'Pit', 5, 40.11) (b'Paul', 5, 42.1 ) (b'James', 5, 48.5 )\n",
      " (b'Nail', 6, 52.5 )]\n"
     ]
    }
   ],
   "source": [
    "import numpy as np\n",
    "data_type = [('name', 'S15'), ('class', int), ('height', float)]\n",
    "students_details = [('James', 5, 48.5), ('Nail', 6, 52.5),('Paul', 5, 42.10), ('Pit', 5, 40.11)]\n",
    "# create a structured array\n",
    "students = np.array(students_details, dtype=data_type)   \n",
    "print(\"Original array:\")\n",
    "print(students)\n",
    "print(\"Sort by height\")\n",
    "print(np.sort(students, order='height'))    \n"
   ]
  },
  {
   "cell_type": "markdown",
   "id": "6c500faf",
   "metadata": {},
   "source": [
    "# 3. Write a NumPy program to create a structured array from given student name, height, class and their data types. Now sort by class, then height if class are equal.\n",
    "Expected Output:\n",
    "Original array:\n",
    "[(b'James', 5, 48.5 ) (b'Nail', 6, 52.5 ) (b'Paul', 5, 42.1 ) (b'Pit', 5, 40.11)]\n",
    "Sort by age, then height if class are equal:\n",
    "[(b'Pit', 5, 40.11) (b'Paul', 5, 42.1 ) (b'James', 5, 48.5 ) (b'Nail', 6, 52.5 )]"
   ]
  },
  {
   "cell_type": "code",
   "execution_count": 3,
   "id": "3aeb3eb5",
   "metadata": {},
   "outputs": [
    {
     "name": "stdout",
     "output_type": "stream",
     "text": [
      "Original array:\n",
      "[(b'James', 5, 48.5 ) (b'Nail', 6, 52.5 ) (b'Paul', 5, 42.1 )\n",
      " (b'Pit', 5, 40.11)]\n",
      "Sort by class, then height if class are equal:\n",
      "[(b'Pit', 5, 40.11) (b'Paul', 5, 42.1 ) (b'James', 5, 48.5 )\n",
      " (b'Nail', 6, 52.5 )]\n"
     ]
    }
   ],
   "source": [
    "import numpy as np\n",
    "data_type = [('name', 'S15'), ('class', int), ('height', float)]\n",
    "students_details = [('James', 5, 48.5), ('Nail', 6, 52.5),('Paul', 5, 42.10), ('Pit', 5, 40.11)]\n",
    "# create a structured array\n",
    "students = np.array(students_details, dtype=data_type)   \n",
    "print(\"Original array:\")\n",
    "print(students)\n",
    "print(\"Sort by class, then height if class are equal:\")\n",
    "print(np.sort(students, order=['class', 'height']))\n"
   ]
  },
  {
   "cell_type": "markdown",
   "id": "5f65773e",
   "metadata": {},
   "source": [
    "# 4. Write a NumPy program to sort the student id with increasing height of the students from given students id and height. Print the integer indices that describes the sort order by multiple columns and the sorted data.\n",
    "Expected Output:\n",
    "Sorted indices:\n",
    "[4 0 5 3 6 1 2]\n",
    "Sorted data:\n",
    "1682 38.0\n",
    "1023 40.0\n",
    "5241 40.0\n",
    "1671 41.0\n",
    "4532 42.0\n",
    "5202 42.0\n",
    "6230 45.0\n"
   ]
  },
  {
   "cell_type": "code",
   "execution_count": 4,
   "id": "57c53cda",
   "metadata": {},
   "outputs": [
    {
     "name": "stdout",
     "output_type": "stream",
     "text": [
      "Sorted indices:\n",
      "[4 0 5 3 6 1 2]\n",
      "Sorted data:\n",
      "1682 38.0\n",
      "1023 40.0\n",
      "5241 40.0\n",
      "1671 41.0\n",
      "4532 42.0\n",
      "5202 42.0\n",
      "6230 45.0\n"
     ]
    }
   ],
   "source": [
    "import numpy as np\n",
    "student_id = np.array([1023, 5202, 6230, 1671, 1682, 5241, 4532])\n",
    "student_height = np.array([40., 42., 45., 41., 38., 40., 42.0])\n",
    "#Sort by studen_id then by student_height\n",
    "indices = np.lexsort((student_id, student_height))\n",
    "print(\"Sorted indices:\")\n",
    "print(indices)\n",
    "print(\"Sorted data:\")\n",
    "for n in indices:\n",
    "  print(student_id[n], student_height[n])\n"
   ]
  },
  {
   "cell_type": "markdown",
   "id": "2691626a",
   "metadata": {},
   "source": [
    "# 5. Write a NumPy program to get the indices of the sorted elements of a given array.\n",
    "Expected Output:\n",
    "Original array:\n",
    "[1023 5202 6230 1671 1682 5241 4532]\n",
    "Indices of the sorted elements of a given array:\n",
    "[0 3 4 6 1 5 2]"
   ]
  },
  {
   "cell_type": "code",
   "execution_count": 5,
   "id": "8146ff13",
   "metadata": {},
   "outputs": [
    {
     "name": "stdout",
     "output_type": "stream",
     "text": [
      "Original array:\n",
      "[1023 5202 6230 1671 1682 5241 4532]\n",
      "Indices of the sorted elements of a given array:\n",
      "[0 3 4 6 1 5 2]\n"
     ]
    }
   ],
   "source": [
    "import numpy as np\n",
    "student_id = np.array([1023, 5202, 6230, 1671, 1682, 5241, 4532])\n",
    "print(\"Original array:\")\n",
    "print(student_id)\n",
    "i = np.argsort(student_id)\n",
    "print(\"Indices of the sorted elements of a given array:\")\n",
    "print(i)\n"
   ]
  },
  {
   "cell_type": "markdown",
   "id": "6393b849",
   "metadata": {},
   "source": [
    "# 6. Write a NumPy program to sort a given complex array using the real part first, then the imaginary part.\n",
    "Note: \"busday\" default of Monday through Friday being valid days.\n",
    "Sample Output:\n",
    "Original array:\n",
    "[(1+2j), (3-1j), (3-2j), (4-3j), (3+5j)]\n",
    "Sorted a given complex array using the real part first, then the imaginary part.\n",
    "[1.+2.j 3.-2.j 3.-1.j 3.+5.j 4.-3.j]"
   ]
  },
  {
   "cell_type": "code",
   "execution_count": 6,
   "id": "01e8fe61",
   "metadata": {},
   "outputs": [
    {
     "name": "stdout",
     "output_type": "stream",
     "text": [
      "Original array:\n",
      "[(1+2j), (3-1j), (3-2j), (4-3j), (3+5j)]\n",
      "\n",
      "Sorted a given complex array using the real part first, then the imaginary part.\n",
      "[1.+2.j 3.-2.j 3.-1.j 3.+5.j 4.-3.j]\n"
     ]
    }
   ],
   "source": [
    "import numpy as np\n",
    "complex_num = [1 + 2j, 3 - 1j, 3 - 2j, 4 - 3j, 3 + 5j]\n",
    "print(\"Original array:\")\n",
    "print(complex_num)\n",
    "print(\"\\nSorted a given complex array using the real part first, then the imaginary part.\")\n",
    "print(np.sort_complex(complex_num))\n"
   ]
  },
  {
   "cell_type": "markdown",
   "id": "9dff2276",
   "metadata": {},
   "source": [
    "# 7. Write a NumPy program to partition a given array in a specified position and move all the smaller elements values to the left of the partition, and the remaining values to the right, in arbitrary order (based on random choice).\n",
    "Sample output:\n",
    "Original array:\n",
    "[ 70 50 20 30 -11 60 50 40]\n",
    "After partitioning on 4 the position:\n",
    "[-11 30 20 40 50 50 60 70]"
   ]
  },
  {
   "cell_type": "code",
   "execution_count": 7,
   "id": "f2cd84d7",
   "metadata": {},
   "outputs": [
    {
     "name": "stdout",
     "output_type": "stream",
     "text": [
      "Original array:\n",
      "[ 70  50  20  30 -11  60  50  40]\n",
      "\n",
      "After partitioning on 4 the position:\n",
      "[-11  30  20  40  50  50  60  70]\n"
     ]
    }
   ],
   "source": [
    "import numpy as np\n",
    "nums = np.array([70, 50, 20, 30, -11, 60, 50, 40])\n",
    "print(\"Original array:\")\n",
    "print(nums)\n",
    "print(\"\\nAfter partitioning on 4 the position:\")\n",
    "print(np.partition(nums, 4))\n"
   ]
  },
  {
   "cell_type": "markdown",
   "id": "20933ac1",
   "metadata": {},
   "source": [
    "# 8. Write a NumPy program to sort the specified number of elements from beginning of a given array.\n",
    "Sample output:\n",
    "Original array:\n",
    "[0.39536213 0.11779404 0.32612381 0.16327394 0.98837963 0.25510787 0.01398678 0.15188239 0.12057667 0.67278699]\n",
    "Sorted first 5 elements:\n",
    "[0.01398678 0.11779404 0.12057667 0.15188239 0.16327394 0.25510787 0.39536213 0.98837963 0.32612381 0.67278699]"
   ]
  },
  {
   "cell_type": "code",
   "execution_count": 8,
   "id": "e0c01047",
   "metadata": {},
   "outputs": [
    {
     "name": "stdout",
     "output_type": "stream",
     "text": [
      "Original array:\n",
      "[0.07792793 0.26363644 0.4947603  0.13993665 0.16860109 0.87216909\n",
      " 0.98644672 0.89177147 0.50752204 0.12296547]\n",
      "\n",
      "Sorted first 5 elements:\n",
      "[0.07792793 0.12296547 0.13993665 0.16860109 0.26363644 0.87216909\n",
      " 0.98644672 0.89177147 0.50752204 0.4947603 ]\n"
     ]
    }
   ],
   "source": [
    "import numpy as np\n",
    "nums =  np.random.rand(10)\n",
    "print(\"Original array:\")\n",
    "print(nums)\n",
    "print(\"\\nSorted first 5 elements:\")\n",
    "print(nums[np.argpartition(nums,range(5))])\n"
   ]
  },
  {
   "cell_type": "markdown",
   "id": "7d42f5b0",
   "metadata": {},
   "source": [
    "# 9. Write a NumPy program to sort an given array by the nth column.\n",
    "Original array:\n",
    "[[1 5 0]\n",
    "[3 2 5]\n",
    "[8 7 6]]\n",
    "Sort the said array by the nth column:\n",
    "[[3 2 5]\n",
    "[1 5 0]\n",
    "[8 7 6]]"
   ]
  },
  {
   "cell_type": "code",
   "execution_count": 9,
   "id": "79858ad5",
   "metadata": {},
   "outputs": [
    {
     "name": "stdout",
     "output_type": "stream",
     "text": [
      "Original array:\n",
      "\n",
      "[[6 0 8]\n",
      " [4 9 7]\n",
      " [7 2 7]]\n",
      "\n",
      "Sort the said array by the nth column: \n",
      "[[6 0 8]\n",
      " [7 2 7]\n",
      " [4 9 7]]\n"
     ]
    }
   ],
   "source": [
    "import numpy as np\n",
    "print(\"Original array:\\n\")\n",
    "nums = np.random.randint(0,10,(3,3))\n",
    "print(nums)\n",
    "print(\"\\nSort the said array by the nth column: \")\n",
    "print(nums[nums[:,1].argsort()])\n"
   ]
  },
  {
   "cell_type": "markdown",
   "id": "96c8523c",
   "metadata": {},
   "source": [
    "# NumPy Sorting and Searching is Completed."
   ]
  },
  {
   "cell_type": "code",
   "execution_count": null,
   "id": "d7797958",
   "metadata": {},
   "outputs": [],
   "source": []
  }
 ],
 "metadata": {
  "kernelspec": {
   "display_name": "Python 3 (ipykernel)",
   "language": "python",
   "name": "python3"
  },
  "language_info": {
   "codemirror_mode": {
    "name": "ipython",
    "version": 3
   },
   "file_extension": ".py",
   "mimetype": "text/x-python",
   "name": "python",
   "nbconvert_exporter": "python",
   "pygments_lexer": "ipython3",
   "version": "3.10.9"
  }
 },
 "nbformat": 4,
 "nbformat_minor": 5
}
