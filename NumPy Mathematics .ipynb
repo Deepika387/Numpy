{
 "cells": [
  {
   "cell_type": "markdown",
   "id": "53510158",
   "metadata": {},
   "source": [
    "# 1. Write a NumPy program to add, subtract, multiply, divide arguments element-wise.\n",
    "Expected Output:\n",
    "Add:\n",
    "5.0\n",
    "Subtract:\n",
    "-3.0\n",
    "Multiply:\n",
    "4.0\n",
    "Divide:\n",
    "0.25"
   ]
  },
  {
   "cell_type": "code",
   "execution_count": 1,
   "id": "536c260e",
   "metadata": {},
   "outputs": [
    {
     "name": "stdout",
     "output_type": "stream",
     "text": [
      "Add:\n",
      "5.0\n",
      "Subtract:\n",
      "-3.0\n",
      "Multiply:\n",
      "4.0\n",
      "Divide:\n",
      "0.25\n"
     ]
    }
   ],
   "source": [
    "import numpy as np\n",
    "print(\"Add:\")\n",
    "print(np.add(1.0, 4.0))\n",
    "print(\"Subtract:\")\n",
    "print(np.subtract(1.0, 4.0))\n",
    "print(\"Multiply:\")\n",
    "print(np.multiply(1.0, 4.0))\n",
    "print(\"Divide:\")\n",
    "print(np.divide(1.0, 4.0))\n"
   ]
  },
  {
   "cell_type": "markdown",
   "id": "18bea747",
   "metadata": {},
   "source": [
    "# 2. Write a NumPy program to compute logarithm of the sum of exponentiations of the inputs, sum of exponentiations of the inputs in base-2.\n",
    "Expected Output:\n",
    "Logarithm of the sum of exponentiations:\n",
    "-113.876491681\n",
    "Logarithm of the sum of exponentiations of the inputs in base-2:\n",
    "-113.599555228"
   ]
  },
  {
   "cell_type": "code",
   "execution_count": 2,
   "id": "76270497",
   "metadata": {},
   "outputs": [
    {
     "name": "stdout",
     "output_type": "stream",
     "text": [
      "Logarithm of the sum of exponentiations:\n",
      "-113.87649168120691\n",
      "Logarithm of the sum of exponentiations of the inputs in base-2:\n",
      "-113.59955522772194\n"
     ]
    }
   ],
   "source": [
    "import numpy as np\n",
    "l1 = np.log(1e-50)\n",
    "l2 = np.log(2.5e-50)\n",
    "print(\"Logarithm of the sum of exponentiations:\")\n",
    "print(np.logaddexp(l1, l2))\n",
    "print(\"Logarithm of the sum of exponentiations of the inputs in base-2:\")\n",
    "print(np.logaddexp2(l1, l2))\n"
   ]
  },
  {
   "cell_type": "markdown",
   "id": "065876b5",
   "metadata": {},
   "source": [
    "# 3. Write a NumPy program to get true division of the element-wise array inputs.\n",
    "Expected Output:\n",
    "Original array:\n",
    "[0 1 2 3 4 5 6 7 8 9]\n",
    "Division of the array inputs, element-wise:\n",
    "[ 0. 0.33333333 0.66666667 1. 1.33333333 1.6666666\n",
    "7 2. 2.33333333 2.66666667 3. ]"
   ]
  },
  {
   "cell_type": "code",
   "execution_count": 3,
   "id": "6573b43d",
   "metadata": {},
   "outputs": [
    {
     "name": "stdout",
     "output_type": "stream",
     "text": [
      "Original array:\n",
      "[0 1 2 3 4 5 6 7 8 9]\n",
      "Division of the array inputs, element-wise:\n",
      "[0.         0.33333333 0.66666667 1.         1.33333333 1.66666667\n",
      " 2.         2.33333333 2.66666667 3.        ]\n"
     ]
    }
   ],
   "source": [
    "import numpy as np\n",
    "x = np.arange(10)\n",
    "print(\"Original array:\")\n",
    "print(x)\n",
    "print(\"Division of the array inputs, element-wise:\")\n",
    "print(np.true_divide(x, 3))\n"
   ]
  },
  {
   "cell_type": "markdown",
   "id": "7b5cfd85",
   "metadata": {},
   "source": [
    "# 4. Write a NumPy program to get the largest integer smaller or equal to the division of the inputs.\n",
    "Expected Output:\n",
    "Original array:\n",
    "[1.0, 2.0, 3.0, 4.0]\n",
    "Largest integer smaller or equal to the division of the inputs:\n",
    "[ 0. 1. 2. 2.]"
   ]
  },
  {
   "cell_type": "code",
   "execution_count": 4,
   "id": "0865be4c",
   "metadata": {},
   "outputs": [
    {
     "name": "stdout",
     "output_type": "stream",
     "text": [
      "Original array:\n",
      "[1.0, 2.0, 3.0, 4.0]\n",
      "Largest integer smaller or equal to the division of the inputs:\n",
      "[0. 1. 2. 2.]\n"
     ]
    }
   ],
   "source": [
    "import numpy as np\n",
    "x = [1., 2., 3., 4.]\n",
    "print(\"Original array:\")\n",
    "print(x)\n",
    "print(\"Largest integer smaller or equal to the division of the inputs:\")\n",
    "print(np.floor_divide(x, 1.5))\n"
   ]
  },
  {
   "cell_type": "markdown",
   "id": "511c068c",
   "metadata": {},
   "source": [
    "# 5. Write a NumPy program to get the powers of an array values element-wise.\n",
    "Note: First array elements raised to powers from second array\n",
    "Expected Output:\n",
    "Original array\n",
    "[0 1 2 3 4 5 6]\n",
    "First array elements raised to powers from second array, element-wise:\n",
    "[ 0 1 8 27 64 125 216]"
   ]
  },
  {
   "cell_type": "code",
   "execution_count": 5,
   "id": "b9016e1c",
   "metadata": {},
   "outputs": [
    {
     "name": "stdout",
     "output_type": "stream",
     "text": [
      "Original array\n",
      "[0 1 2 3 4 5 6]\n",
      "First array elements raised to powers from second array, element-wise:\n",
      "[  0   1   8  27  64 125 216]\n"
     ]
    }
   ],
   "source": [
    "import numpy as np\n",
    "x = np.arange(7)\n",
    "print(\"Original array\")\n",
    "print(x)\n",
    "print(\"First array elements raised to powers from second array, element-wise:\")\n",
    "print(np.power(x, 3))\n"
   ]
  },
  {
   "cell_type": "markdown",
   "id": "f0fbb001",
   "metadata": {},
   "source": [
    "# 6. Write a NumPy program to get the element-wise remainder of an array of division.\n",
    "Sample Output:\n",
    "Original array:\n",
    "[0 1 2 3 4 5 6]\n",
    "Element-wise remainder of division:\n",
    "[0 1 2 3 4 0 1]"
   ]
  },
  {
   "cell_type": "code",
   "execution_count": 6,
   "id": "82d1bcc6",
   "metadata": {},
   "outputs": [
    {
     "name": "stdout",
     "output_type": "stream",
     "text": [
      "Original array:\n",
      "[0 1 2 3 4 5 6]\n",
      "Element-wise remainder of division:\n",
      "[0 1 2 3 4 0 1]\n"
     ]
    }
   ],
   "source": [
    "import numpy as np\n",
    "x = np.arange(7)\n",
    "print(\"Original array:\")\n",
    "print(x)\n",
    "print(\"Element-wise remainder of division:\")\n",
    "print(np.remainder(x, 5))\n"
   ]
  },
  {
   "cell_type": "markdown",
   "id": "97570418",
   "metadata": {},
   "source": [
    "# 7. Write a NumPy program to calculate the absolute value element-wise.\n",
    "Sample output:\n",
    "Original array:\n",
    "[ -10.2 122.2 0.2]\n",
    "Element-wise absolute value:\n",
    "[ 10.2 122.2 0.2]"
   ]
  },
  {
   "cell_type": "code",
   "execution_count": 7,
   "id": "26eec21c",
   "metadata": {},
   "outputs": [
    {
     "name": "stdout",
     "output_type": "stream",
     "text": [
      "Original array:\n",
      "[-10.2 122.2   0.2]\n",
      "Element-wise absolute value:\n",
      "[ 10.2 122.2   0.2]\n"
     ]
    }
   ],
   "source": [
    "import numpy as np\n",
    "x = np.array([-10.2, 122.2, .20])\n",
    "print(\"Original array:\")\n",
    "print(x)\n",
    "print(\"Element-wise absolute value:\")\n",
    "print(np.absolute(x))\n"
   ]
  },
  {
   "cell_type": "markdown",
   "id": "74b045f2",
   "metadata": {},
   "source": [
    "# 8. Write a NumPy program to round array elements to the given number of decimals.\n",
    "Sample Output:\n",
    "[ 1. 2. 2.]\n",
    "[ 0.3 0.5 0.6]\n",
    "[ 0. 2. 2. 4. 4.]"
   ]
  },
  {
   "cell_type": "code",
   "execution_count": 8,
   "id": "e5312c10",
   "metadata": {},
   "outputs": [
    {
     "name": "stdout",
     "output_type": "stream",
     "text": [
      "[1. 2. 2.]\n",
      "[0.3 0.5 0.6]\n",
      "[0. 2. 2. 4. 4.]\n"
     ]
    }
   ],
   "source": [
    "import numpy as np\n",
    "x = np.round([1.45, 1.50, 1.55])\n",
    "print(x)\n",
    "x = np.round([0.28, .50, .64], decimals=1)\n",
    "print(x)\n",
    "x = np.round([.5, 1.5, 2.5, 3.5, 4.5]) # rounds to nearest even value\n",
    "print(x)\n"
   ]
  },
  {
   "cell_type": "markdown",
   "id": "bf7bb7cb",
   "metadata": {},
   "source": [
    "# 9. Write a NumPy program to round elements of the array to the nearest integer.\n",
    "Sample Output:\n",
    "Original array:\n",
    "[-0.7 -1.5 -1.7 0.3 1.5 1.8 2. ]\n",
    "Round elements of the array to the nearest integer:\n",
    "[-1. -2. -2. 0. 2. 2. 2.]"
   ]
  },
  {
   "cell_type": "code",
   "execution_count": 9,
   "id": "044fa57e",
   "metadata": {},
   "outputs": [
    {
     "name": "stdout",
     "output_type": "stream",
     "text": [
      "Original array:\n",
      "[-0.7 -1.5 -1.7  0.3  1.5  1.8  2. ]\n",
      "Round elements of the array to the nearest integer:\n",
      "[-1. -2. -2.  0.  2.  2.  2.]\n"
     ]
    }
   ],
   "source": [
    "import numpy as np\n",
    "x = np.array([-.7, -1.5, -1.7, 0.3, 1.5, 1.8, 2.0])\n",
    "print(\"Original array:\")\n",
    "print(x)\n",
    "x = np.rint(x)\n",
    "print(\"Round elements of the array to the nearest integer:\")\n",
    "print(x)\n"
   ]
  },
  {
   "cell_type": "markdown",
   "id": "c589fdd4",
   "metadata": {},
   "source": [
    "# 10. Write a NumPy program to get the floor, ceiling and truncated values of the elements of a numpy array.\n",
    "Sample Output:\n",
    "Original array:\n",
    "[-1.6 -1.5 -0.3 0.1 1.4 1.8 2. ]\n",
    "Floor values of the above array elements:\n",
    "[-2. -2. -1. 0. 1. 1. 2.]\n",
    "Ceil values of the above array elements:\n",
    "[-1. -1. -0. 1. 2. 2. 2.]\n",
    "Truncated values of the above array elements:\n",
    "[-1. -1. -0. 0. 1. 1. 2.]"
   ]
  },
  {
   "cell_type": "code",
   "execution_count": 10,
   "id": "0f40b4cf",
   "metadata": {},
   "outputs": [
    {
     "name": "stdout",
     "output_type": "stream",
     "text": [
      "Original array:\n",
      "[-1.6 -1.5 -0.3  0.1  1.4  1.8  2. ]\n",
      "Floor values of the above array elements:\n",
      "[-2. -2. -1.  0.  1.  1.  2.]\n",
      "Ceil values of the above array elements:\n",
      "[-1. -1. -0.  1.  2.  2.  2.]\n",
      "Truncated values of the above array elements:\n",
      "[-1. -1. -0.  0.  1.  1.  2.]\n"
     ]
    }
   ],
   "source": [
    "import numpy as np\n",
    "x = np.array([-1.6, -1.5, -0.3, 0.1, 1.4, 1.8, 2.0])\n",
    "print(\"Original array:\")\n",
    "print(x)\n",
    "print(\"Floor values of the above array elements:\")\n",
    "print(np.floor(x))\n",
    "print(\"Ceil values of the above array elements:\")\n",
    "print(np.ceil(x))\n",
    "print(\"Truncated values of the above array elements:\")\n",
    "print(np.trunc(x))\n"
   ]
  },
  {
   "cell_type": "markdown",
   "id": "93f59dd6",
   "metadata": {},
   "source": [
    "# 11. Write a NumPy program to multiply a 5x3 matrix by a 3x2 matrix and create a real matrix product.\n",
    "Sample output:\n",
    "First array:\n",
    "[[ 0.44349753 0.81043761 0.00771825]\n",
    "[ 0.64004088 0.86774612 0.19944667]\n",
    "[ 0.61520091 0.24796788 0.93798297]\n",
    "[ 0.22156999 0.61318856 0.82348994]\n",
    "[ 0.91324026 0.13411297 0.00622696]]\n",
    "Second array:\n",
    "[[ 0.73873542 0.06448186]\n",
    "[ 0.90974982 0.06409165]\n",
    "[ 0.22321268 0.39147412]]\n",
    "Dot product of two arrays:\n",
    "[[ 1.06664562 0.08356133]\n",
    "[ 1.30677176 0.17496452]\n",
    "[ 0.88942914 0.42275803]\n",
    "[ 0.90534318 0.37596252]\n",
    "[ 0.79804212 0.06992065]]"
   ]
  },
  {
   "cell_type": "code",
   "execution_count": 11,
   "id": "b2e1276f",
   "metadata": {},
   "outputs": [
    {
     "name": "stdout",
     "output_type": "stream",
     "text": [
      "First array:\n",
      "[[0.48739702 0.1069933  0.30496585]\n",
      " [0.64290328 0.4893841  0.48895402]\n",
      " [0.3648529  0.40595255 0.07698448]\n",
      " [0.42416648 0.60870901 0.54299847]\n",
      " [0.3476861  0.81870074 0.96526252]]\n",
      "Second array:\n",
      "[[0.22681599 0.70210858]\n",
      " [0.99632363 0.44762599]\n",
      " [0.87510391 0.28619153]]\n",
      "Dot product of two arrays:\n",
      "[[0.48402619 0.47737725]\n",
      " [1.06129126 0.81038344]\n",
      " [0.55458401 0.45991357]\n",
      " [1.177859   0.72568646]\n",
      " [1.73925667 0.88683508]]\n"
     ]
    }
   ],
   "source": [
    "import numpy as np\n",
    "x = np.random.random((5,3))\n",
    "print(\"First array:\")\n",
    "print(x)\n",
    "y = np.random.random((3,2))\n",
    "print(\"Second array:\")\n",
    "print(y)\n",
    "z = np.dot(x, y)\n",
    "print(\"Dot product of two arrays:\")\n",
    "print(z)\n"
   ]
  },
  {
   "cell_type": "markdown",
   "id": "fec13c1b",
   "metadata": {},
   "source": [
    "# 12. Write a NumPy program to multiply a matrix by another matrix of complex numbers and create a new matrix of complex numbers.\n",
    "Sample output:\n",
    "First array:\n",
    "[ 1.+2.j 3.+4.j]\n",
    "Second array:\n",
    "[ 5.+6.j 7.+8.j]\n",
    "Product of above two arrays:\n",
    "(70-8j)"
   ]
  },
  {
   "cell_type": "code",
   "execution_count": 12,
   "id": "8eb016b4",
   "metadata": {},
   "outputs": [
    {
     "name": "stdout",
     "output_type": "stream",
     "text": [
      "First array:\n",
      "[1.+2.j 3.+4.j]\n",
      "Second array:\n",
      "[5.+6.j 7.+8.j]\n",
      "Product of above two arrays:\n",
      "(70-8j)\n"
     ]
    }
   ],
   "source": [
    "import numpy as np\n",
    "x = np.array([1+2j,3+4j])\n",
    "print(\"First array:\")\n",
    "print(x)\n",
    "y = np.array([5+6j,7+8j])\n",
    "print(\"Second array:\")\n",
    "print(y)\n",
    "z = np.vdot(x, y)\n",
    "print(\"Product of above two arrays:\")\n",
    "print(z)\n"
   ]
  },
  {
   "cell_type": "markdown",
   "id": "3a8fcceb",
   "metadata": {},
   "source": [
    "# 13. Write a NumPy program to create an inner product of two arrays.\n",
    "Sample Output:\n",
    "Array x:\n",
    "[[[ 0 1 2 3]\n",
    "[ 4 5 6 7]\n",
    "[ 8 9 10 11]]\n",
    "[[12 13 14 15]\n",
    "[16 17 18 19]\n",
    "[20 21 22 23]]]\n",
    "Array y:\n",
    "[0 1 2 3]\n",
    "Inner of x and y arrays:\n",
    "[[ 14 38 62]\n",
    "[ 86 110 134]]"
   ]
  },
  {
   "cell_type": "code",
   "execution_count": 13,
   "id": "919714a8",
   "metadata": {},
   "outputs": [
    {
     "name": "stdout",
     "output_type": "stream",
     "text": [
      "Array x:\n",
      "[[[ 0  1  2  3]\n",
      "  [ 4  5  6  7]\n",
      "  [ 8  9 10 11]]\n",
      "\n",
      " [[12 13 14 15]\n",
      "  [16 17 18 19]\n",
      "  [20 21 22 23]]]\n",
      "Array y:\n",
      "[0 1 2 3]\n",
      "Inner of x and y arrays:\n",
      "[[ 14  38  62]\n",
      " [ 86 110 134]]\n"
     ]
    }
   ],
   "source": [
    "import numpy as np\n",
    "x = np.arange(24).reshape((2,3,4))\n",
    "print(\"Array x:\")\n",
    "print(x)\n",
    "print(\"Array y:\")\n",
    "y = np.arange(4)\n",
    "print(y)\n",
    "print(\"Inner of x and y arrays:\")\n",
    "print(np.inner(x, y))\n"
   ]
  },
  {
   "cell_type": "markdown",
   "id": "4f9a4da2",
   "metadata": {},
   "source": [
    "# 14. Write a NumPy program to generate inner, outer, and cross products of matrices and vectors.\n",
    "Expected Output:\n",
    "Matrices and vectors.\n",
    "x:\n",
    "[ 1. 4. 0.]\n",
    "y:\n",
    "[ 2. 2. 1.]\n",
    "Inner product of x and y:\n",
    "10.0\n",
    "Outer product of x and y:\n",
    "[[ 2. 2. 1.]\n",
    "[ 8. 8. 4.]\n",
    "[ 0. 0. 0.]]\n",
    "Cross product of x and y:\n",
    "[ 4. -1. -6.]"
   ]
  },
  {
   "cell_type": "code",
   "execution_count": 14,
   "id": "92514d31",
   "metadata": {},
   "outputs": [
    {
     "name": "stdout",
     "output_type": "stream",
     "text": [
      "Matrices and vectors.\n",
      "x:\n",
      "[1. 4. 0.]\n",
      "y:\n",
      "[2. 2. 1.]\n",
      "Inner product of x and y:\n",
      "10.0\n",
      "Outer product of x and y:\n",
      "[[2. 2. 1.]\n",
      " [8. 8. 4.]\n",
      " [0. 0. 0.]]\n",
      "Cross product of x and y:\n",
      "[ 4. -1. -6.]\n"
     ]
    }
   ],
   "source": [
    "import numpy as np\n",
    "x = np.array([1, 4, 0], float)\n",
    "y = np.array([2, 2, 1], float)\n",
    "print(\"Matrices and vectors.\")\n",
    "print(\"x:\")\n",
    "print(x)\n",
    "print(\"y:\")\n",
    "print(y)\n",
    "print(\"Inner product of x and y:\")\n",
    "print(np.inner(x, y))\n",
    "print(\"Outer product of x and y:\")\n",
    "print(np.outer(x, y))\n",
    "print(\"Cross product of x and y:\")\n",
    "print(np.cross(x, y))\n"
   ]
  },
  {
   "cell_type": "markdown",
   "id": "f98e776c",
   "metadata": {},
   "source": [
    "# 15. Write a NumPy program to generate a matrix product of two arrays.\n",
    "Sample Output:\n",
    "Matrices and vectors.\n",
    "x:\n",
    "[[1, 0], [1, 1]]\n",
    "y:\n",
    "[[3, 1], [2, 2]]\n",
    "Matrix product of above two arrays:\n",
    "[[3 1]\n",
    "[5 3]]"
   ]
  },
  {
   "cell_type": "code",
   "execution_count": 15,
   "id": "362e1047",
   "metadata": {},
   "outputs": [
    {
     "name": "stdout",
     "output_type": "stream",
     "text": [
      "Matrices and vectors.\n",
      "x:\n",
      "[[1, 0], [1, 1]]\n",
      "y:\n",
      "[[3, 1], [2, 2]]\n",
      "Matrix product of above two arrays:\n",
      "[[3 1]\n",
      " [5 3]]\n"
     ]
    }
   ],
   "source": [
    "import numpy as np\n",
    "x = [[1, 0], [1, 1]]\n",
    "y = [[3, 1], [2, 2]]\n",
    "print(\"Matrices and vectors.\")\n",
    "print(\"x:\")\n",
    "print(x)\n",
    "print(\"y:\")\n",
    "print(y)\n",
    "print(\"Matrix product of above two arrays:\")\n",
    "print(np.matmul(x, y))\n"
   ]
  },
  {
   "cell_type": "markdown",
   "id": "c68ecd90",
   "metadata": {},
   "source": [
    "# 16. Write a NumPy program to find the roots of the following polynomials.\n",
    "a) x2 - 4x + 7.\n",
    "b) x4 - 11x3 + 9x2 + 11x ? 10\n",
    "Sample output:\n",
    "Roots of the first polynomial:\n",
    "[ 1. 1.]\n",
    "Roots of the second polynomial:\n",
    "[ 11.04461946+0.j -0.87114210+0.j 0.91326132+0.4531004j\n",
    "0.91326132-0.4531004j]"
   ]
  },
  {
   "cell_type": "code",
   "execution_count": 16,
   "id": "229f427e",
   "metadata": {},
   "outputs": [
    {
     "name": "stdout",
     "output_type": "stream",
     "text": [
      "Roots of the first polynomial:\n",
      "[1. 1.]\n",
      "Roots of the second polynomial:\n",
      "[11.04461946+0.j        -0.8711421 +0.j         0.91326132+0.4531004j\n",
      "  0.91326132-0.4531004j]\n"
     ]
    }
   ],
   "source": [
    "import numpy as np\n",
    "print(\"Roots of the first polynomial:\")\n",
    "print(np.roots([1, -2, 1]))\n",
    "print(\"Roots of the second polynomial:\")\n",
    "print(np.roots([1, -12, 10, 7, -10]))\n"
   ]
  },
  {
   "cell_type": "markdown",
   "id": "507a68f2",
   "metadata": {},
   "source": [
    "# 17. Write a NumPy program to compute the following polynomial values.\n",
    "Sample output:\n",
    "Polynomial value when x = 2:\n",
    "1\n",
    "Polynomial value when x = 3:\n",
    "-142"
   ]
  },
  {
   "cell_type": "code",
   "execution_count": 17,
   "id": "10d8f9b3",
   "metadata": {},
   "outputs": [
    {
     "name": "stdout",
     "output_type": "stream",
     "text": [
      "Polynomial value when x = 2:\n",
      "1\n",
      "Polynomial value when x = 3:\n",
      "-142\n"
     ]
    }
   ],
   "source": [
    "import numpy as np\n",
    "print(\"Polynomial value when x = 2:\")\n",
    "print(np.polyval([1, -2, 1], 2))\n",
    "print(\"Polynomial value when x = 3:\")\n",
    "print(np.polyval([1, -12, 10, 7, -10], 3))\n"
   ]
  },
  {
   "cell_type": "markdown",
   "id": "79dd9414",
   "metadata": {},
   "source": [
    "# 18. Write a NumPy program to add one polynomial to another, subtract one polynomial from another, multiply one polynomial by another and divide one polynomial by another.\n",
    "Sample output:\n",
    "Add one polynomial to another:\n",
    "[ 40. 60. 80.]\n",
    "Subtract one polynomial from another:\n",
    "[-20. -20. -20.]\n",
    "Multiply one polynomial by another:\n",
    "[ 300. 1000. 2200. 2200. 1500.]\n",
    "Divide one polynomial by another:\n",
    "(array([ 0.6]), array([-8., -4.]))"
   ]
  },
  {
   "cell_type": "code",
   "execution_count": 18,
   "id": "575a2a18",
   "metadata": {},
   "outputs": [
    {
     "name": "stdout",
     "output_type": "stream",
     "text": [
      "Add one polynomial to another:\n",
      "[40. 60. 80.]\n",
      "Subtract one polynomial from another:\n",
      "[-20. -20. -20.]\n",
      "Multiply one polynomial by another:\n",
      "[ 300. 1000. 2200. 2200. 1500.]\n",
      "Divide one polynomial by another:\n",
      "(array([0.6]), array([-8., -4.]))\n"
     ]
    }
   ],
   "source": [
    "from numpy.polynomial import polynomial as P\n",
    "x = (10,20,30)\n",
    "y = (30,40,50)\n",
    "print(\"Add one polynomial to another:\")\n",
    "print(P.polyadd(x,y))\n",
    "print(\"Subtract one polynomial from another:\")\n",
    "print(P.polysub(x,y))\n",
    "print(\"Multiply one polynomial by another:\")\n",
    "print(P.polymul(x,y))\n",
    "print(\"Divide one polynomial by another:\")\n",
    "print(P.polydiv(x,y))\n"
   ]
  },
  {
   "cell_type": "markdown",
   "id": "4e539a0c",
   "metadata": {},
   "source": [
    "# 19. Write a NumPy program to calculate mean across dimension, in a 2D numpy array.\n",
    "Sample output:\n",
    "Original array:\n",
    "[[10 30]\n",
    "[20 60]]\n",
    "Mean of each column:\n",
    "[ 15. 45.]\n",
    "Mean of each row:\n",
    "[ 20. 40.]"
   ]
  },
  {
   "cell_type": "code",
   "execution_count": 19,
   "id": "c4e322ca",
   "metadata": {},
   "outputs": [
    {
     "name": "stdout",
     "output_type": "stream",
     "text": [
      "Original array:\n",
      "[[10 30]\n",
      " [20 60]]\n",
      "Mean of each column:\n",
      "[15. 45.]\n",
      "Mean of each row:\n",
      "[20. 40.]\n"
     ]
    }
   ],
   "source": [
    "import numpy as np\n",
    "x = np.array([[10, 30], [20, 60]])\n",
    "print(\"Original array:\")\n",
    "print(x)\n",
    "print(\"Mean of each column:\")\n",
    "print(x.mean(axis=0))\n",
    "print(\"Mean of each row:\")\n",
    "print(x.mean(axis=1))\n"
   ]
  },
  {
   "cell_type": "markdown",
   "id": "c4a40e51",
   "metadata": {},
   "source": [
    "# 20. Write a NumPy program to create a random array with 1000 elements and compute the average, variance, standard deviation of the array elements.\n",
    "Sample output:\n",
    "Average of the array elements:\n",
    "-0.0255137240796\n",
    "Standard deviation of the array elements:\n",
    "0.984398282476\n",
    "Variance of the array elements:\n",
    "0.969039978542"
   ]
  },
  {
   "cell_type": "code",
   "execution_count": 20,
   "id": "e3f77fff",
   "metadata": {},
   "outputs": [
    {
     "name": "stdout",
     "output_type": "stream",
     "text": [
      "Average of the array elements:\n",
      "-0.006025592881094063\n",
      "Standard deviation of the array elements:\n",
      "1.0138833407478522\n",
      "Variance of the array elements:\n",
      "1.0279594286460256\n"
     ]
    }
   ],
   "source": [
    "import numpy as np\n",
    "x = np.random.randn(1000)\n",
    "print(\"Average of the array elements:\")\n",
    "mean = x.mean()\n",
    "print(mean)\n",
    "print(\"Standard deviation of the array elements:\")\n",
    "std = x.std()\n",
    "print(std)\n",
    "print(\"Variance of the array elements:\")\n",
    "var = x.var()\n",
    "print(var)\n"
   ]
  },
  {
   "cell_type": "markdown",
   "id": "4418c453",
   "metadata": {},
   "source": [
    "# 21. Write a NumPy program to compute the trigonometric sine, cosine and tangent array of angles given in degrees.\n",
    "Sample output:\n",
    "sine: array of angles given in degrees\n",
    "[ 0. 0.5 0.70710678 0.8660254 1. ]\n",
    "cosine: array of angles given in degrees\n",
    "[ 1.00000000e+00 8.66025404e-01 7.07106781e-01 5.00000000e-01\n",
    "6.12323400e-17]\n",
    "tangent: array of angles given in degrees\n",
    "[ 0.00000000e+00 5.77350269e-01 1.00000000e+00 1.73205081e+00\n",
    "1.63312394e+16]"
   ]
  },
  {
   "cell_type": "code",
   "execution_count": 21,
   "id": "c6b1bf83",
   "metadata": {},
   "outputs": [
    {
     "name": "stdout",
     "output_type": "stream",
     "text": [
      "sine: array of angles given in degrees\n",
      "[0.         0.5        0.70710678 0.8660254  1.        ]\n",
      "cosine: array of angles given in degrees\n",
      "[1.00000000e+00 8.66025404e-01 7.07106781e-01 5.00000000e-01\n",
      " 6.12323400e-17]\n",
      "tangent: array of angles given in degrees\n",
      "[0.00000000e+00 5.77350269e-01 1.00000000e+00 1.73205081e+00\n",
      " 1.63312394e+16]\n"
     ]
    }
   ],
   "source": [
    "import numpy as np\n",
    "print(\"sine: array of angles given in degrees\")\n",
    "print(np.sin(np.array((0., 30., 45., 60., 90.)) * np.pi / 180.))\n",
    "print(\"cosine: array of angles given in degrees\")\n",
    "print(np.cos(np.array((0., 30., 45., 60., 90.)) * np.pi / 180.))\n",
    "print(\"tangent: array of angles given in degrees\")\n",
    "print(np.tan(np.array((0., 30., 45., 60., 90.)) * np.pi / 180.))\n"
   ]
  },
  {
   "cell_type": "markdown",
   "id": "3a9e881b",
   "metadata": {},
   "source": [
    "# 22. Write a NumPy program to calculate inverse sine, inverse cosine, and inverse tangent for all elements in a given array.\n",
    "Sample output:\n",
    "Inverse sine: [-1.57079633 0. 1.57079633]\n",
    "Inverse cosine: [3.14159265 1.57079633 0. ]\n",
    "Inverse tangent: [-0.78539816 0. 0.78539816]"
   ]
  },
  {
   "cell_type": "code",
   "execution_count": 22,
   "id": "03216686",
   "metadata": {},
   "outputs": [
    {
     "name": "stdout",
     "output_type": "stream",
     "text": [
      "Inverse sine: [-1.57079633  0.          1.57079633]\n",
      "Inverse cosine: [3.14159265 1.57079633 0.        ]\n",
      "Inverse tangent: [-0.78539816  0.          0.78539816]\n"
     ]
    }
   ],
   "source": [
    "import numpy as np\n",
    "x = np.array([-1., 0, 1.])\n",
    "print(\"Inverse sine:\", np.arcsin(x))\n",
    "print(\"Inverse cosine:\", np.arccos(x))\n",
    "print(\"Inverse tangent:\", np.arctan(x))\n"
   ]
  },
  {
   "cell_type": "markdown",
   "id": "b7766aa9",
   "metadata": {},
   "source": [
    "# 23. Write a NumPy program to convert angles from radians to degrees for all elements in a given array.\n",
    "Input: [-np.pi, -np.pi/2, np.pi/2, np.pi]\n",
    "Sample output:\n",
    "[-180. -90. 90. 180.]"
   ]
  },
  {
   "cell_type": "code",
   "execution_count": 23,
   "id": "2abb57a3",
   "metadata": {},
   "outputs": [
    {
     "name": "stdout",
     "output_type": "stream",
     "text": [
      "[-180.  -90.   90.  180.]\n"
     ]
    }
   ],
   "source": [
    "import numpy as np\n",
    "x = np.array([-np.pi, -np.pi/2, np.pi/2, np.pi])\n",
    "r1 = np.degrees(x)\n",
    "r2 = np.rad2deg(x)\n",
    "assert np.array_equiv(r1, r2)\n",
    "print(r1)\n"
   ]
  },
  {
   "cell_type": "markdown",
   "id": "79ce05cf",
   "metadata": {},
   "source": [
    "# 24. Write a NumPy program to convert angles from degrees to radians for all elements in a given array.\n",
    "Input: Input: [-180., -90., 90., 180.]\n",
    "Sample output:\n",
    "[-3.14159265 -1.57079633 1.57079633 3.14159265]"
   ]
  },
  {
   "cell_type": "code",
   "execution_count": 24,
   "id": "69e92091",
   "metadata": {},
   "outputs": [
    {
     "name": "stdout",
     "output_type": "stream",
     "text": [
      "[-3.14159265 -1.57079633  1.57079633  3.14159265]\n"
     ]
    }
   ],
   "source": [
    "import numpy as np\n",
    "x = np.array([-180.,  -90.,   90.,  180.])\n",
    "r1 = np.radians(x)\n",
    "r2 = np.deg2rad(x)\n",
    "assert np.array_equiv(r1, r2)\n",
    "print(r1)\n"
   ]
  },
  {
   "cell_type": "markdown",
   "id": "daa56023",
   "metadata": {},
   "source": [
    "# 25. Write a NumPy program to calculate hyperbolic sine, hyperbolic cosine, and hyperbolic tangent for all elements in a given array.\n",
    "Input: Input: Input: [-1., 0, 1.]\n",
    "Sample output:\n",
    "[-1.17520119 0. 1.17520119]\n",
    "[1.54308063 1. 1.54308063]\n",
    "[-0.76159416 0. 0.76159416]"
   ]
  },
  {
   "cell_type": "code",
   "execution_count": 25,
   "id": "789afa0c",
   "metadata": {},
   "outputs": [
    {
     "name": "stdout",
     "output_type": "stream",
     "text": [
      "[-1.17520119  0.          1.17520119]\n",
      "[1.54308063 1.         1.54308063]\n",
      "[-0.76159416  0.          0.76159416]\n"
     ]
    }
   ],
   "source": [
    "import numpy as np\n",
    "x = np.array([-1., 0, 1.])\n",
    "print(np.sinh(x))\n",
    "print(np.cosh(x))\n",
    "print(np.tanh(x))\n"
   ]
  },
  {
   "cell_type": "markdown",
   "id": "21c5c607",
   "metadata": {},
   "source": [
    "# 26. Write a NumPy program to calculate round, floor, ceiling, truncated and round (to the given number of decimals) of the input, element-wise of a given array.\n",
    "Sample output:\n",
    "Original array:\n",
    "[ 3.1 3.5 4.5 2.9 -3.1 -3.5 -5.9]\n",
    "around: [ 3. 4. 4. 3. -3. -4. -6.]\n",
    "floor: [ 3. 3. 4. 2. -4. -4. -6.]\n",
    "ceil: [ 4. 4. 5. 3. -3. -3. -5.]\n",
    "trunc: [ 3. 3. 4. 2. -3. -3. -5.]\n",
    "round: [3.0, 4.0, 4.0, 3.0, -3.0, -4.0, -6.0]"
   ]
  },
  {
   "cell_type": "code",
   "execution_count": 26,
   "id": "c026377f",
   "metadata": {},
   "outputs": [
    {
     "name": "stdout",
     "output_type": "stream",
     "text": [
      "Original array: \n",
      "[ 3.1  3.5  4.5  2.9 -3.1 -3.5 -5.9]\n",
      "\n",
      "around:    [ 3.  4.  4.  3. -3. -4. -6.]\n",
      "floor:     [ 3.  3.  4.  2. -4. -4. -6.]\n",
      "ceil:      [ 4.  4.  5.  3. -3. -3. -5.]\n",
      "trunc:     [ 3.  3.  4.  2. -3. -3. -5.]\n",
      "round:     [3, 4, 4, 3, -3, -4, -6]\n"
     ]
    }
   ],
   "source": [
    "import numpy as np\n",
    "x = np.array([3.1, 3.5, 4.5, 2.9, -3.1, -3.5, -5.9])\n",
    "print(\"Original array: \")\n",
    "print(x)\n",
    "r1 = np.around(x)\n",
    "r2 = np.floor(x)\n",
    "r3 = np.ceil(x)\n",
    "r4 = np.trunc(x)\n",
    "r5 = [round(elem) for elem in x]\n",
    "\n",
    "print(\"\\naround:   \", r1)\n",
    "print(\"floor:    \",r2)\n",
    "print(\"ceil:     \",r3)\n",
    "print(\"trunc:    \",r4)\n",
    "print(\"round:    \",r5)\n"
   ]
  },
  {
   "cell_type": "markdown",
   "id": "c033f265",
   "metadata": {},
   "source": [
    "# 27. Write a NumPy program to calculate cumulative sum of the elements along a given axis, sum over rows for each of the 3 columns and sum over columns for each of the 2 rows of a given 3x3 array.\n",
    "Sample output:\n",
    "Original array:\n",
    "[[1 2 3]\n",
    "[4 5 6]]\n",
    "Cumulative sum of the elements along a given axis:\n",
    "[ 1 3 6 10 15 21]\n",
    "Sum over rows for each of the 3 columns:\n",
    "[[1 2 3]\n",
    "[5 7 9]]\n",
    "Sum over columns for each of the 2 rows:\n",
    "[[ 1 3 6]\n",
    "[ 4 9 15]]"
   ]
  },
  {
   "cell_type": "code",
   "execution_count": 27,
   "id": "e5c38bee",
   "metadata": {},
   "outputs": [
    {
     "name": "stdout",
     "output_type": "stream",
     "text": [
      "Original array: \n",
      "[1 3 5 7 0]\n",
      "Difference between neighboring elements, element-wise, and prepend [0, 0] and append[200] to the said array:\n",
      "[  0   0   2   2   2  -7 200]\n"
     ]
    }
   ],
   "source": [
    "import numpy as np\n",
    "x = np.array([1, 3, 5, 7, 0])\n",
    "print(\"Original array: \")\n",
    "print(x)\n",
    "r1 = np.ediff1d(x, to_begin=[0, 0], to_end=[200])\n",
    "r2 = np.insert(np.append(np.diff(x), 200), 0, [0, 0])\n",
    "assert np.array_equiv(r1, r2)\n",
    "print(\"Difference between neighboring elements, element-wise, and prepend [0, 0] and append[200] to the said array:\")\n",
    "print(r2)\n"
   ]
  },
  {
   "cell_type": "markdown",
   "id": "7c59389f",
   "metadata": {},
   "source": [
    "# 28. Write a NumPy program to calculate cumulative product of the elements along a given axis, sum over rows for each of the 3 columns and product over columns for each of the 2 rows of a given 3x3 array.\n",
    "Sample output:\n",
    "Original array:\n",
    "[[1 2 3]\n",
    "[4 5 6]]\n",
    "Cumulative product of the elements along a given axis:\n",
    "[ 1 2 6 24 120 720]\n",
    "Product over rows for each of the 3 columns:\n",
    "[[ 1 2 3]\n",
    "[ 4 10 18]]\n",
    "Product over columns for each of the 2 rows:\n",
    "[[ 1 2 6]\n",
    "[ 4 20 120]]"
   ]
  },
  {
   "cell_type": "code",
   "execution_count": 28,
   "id": "b66daaf9",
   "metadata": {},
   "outputs": [
    {
     "name": "stdout",
     "output_type": "stream",
     "text": [
      "Original array: \n",
      "[[1 2 3]\n",
      " [4 5 6]]\n",
      "Cumulative product  of the elements along a given axis:\n",
      "[  1   2   6  24 120 720]\n",
      "\n",
      "Product over rows for each of the 3 columns:\n",
      "[[ 1  2  3]\n",
      " [ 4 10 18]]\n",
      "\n",
      "Product  over columns for each of the 2 rows:\n",
      "[[  1   2   6]\n",
      " [  4  20 120]]\n"
     ]
    }
   ],
   "source": [
    "import numpy as np\n",
    "x = np.array([[1,2,3], [4,5,6]])\n",
    "print(\"Original array: \")\n",
    "print(x)\n",
    "print(\"Cumulative product  of the elements along a given axis:\")\n",
    "r = np.cumprod(x)\n",
    "print(r)\n",
    "print(\"\\nProduct over rows for each of the 3 columns:\")\n",
    "r = np.cumprod(x,axis=0) \n",
    "print(r)\n",
    "print(\"\\nProduct  over columns for each of the 2 rows:\")\n",
    "r = np.cumprod(x,axis=1) \n",
    "print(r)\n"
   ]
  },
  {
   "cell_type": "markdown",
   "id": "edacc4d7",
   "metadata": {},
   "source": [
    "# 29. Write a NumPy program to calculate the difference between neighboring elements, element-wise of a given array.\n",
    "Sample output:\n",
    "Original array:\n",
    "[1 3 5 7 0]\n",
    "Difference between neighboring elements, element-wise of the said array.\n",
    "[ 2 2 2 -7]"
   ]
  },
  {
   "cell_type": "code",
   "execution_count": 29,
   "id": "7660a80c",
   "metadata": {},
   "outputs": [
    {
     "name": "stdout",
     "output_type": "stream",
     "text": [
      "Original array: \n",
      "[1 3 5 7 0]\n",
      "Difference between neighboring elements, element-wise of the said array.\n",
      "[ 2  2  2 -7]\n"
     ]
    }
   ],
   "source": [
    "import numpy as np\n",
    "x = np.array([1, 3, 5, 7, 0])\n",
    "print(\"Original array: \")\n",
    "print(x)\n",
    "print(\"Difference between neighboring elements, element-wise of the said array.\")\n",
    "print(np.diff(x))\n"
   ]
  },
  {
   "cell_type": "markdown",
   "id": "edfa142f",
   "metadata": {},
   "source": [
    "# 30. Write a NumPy program to calculate the difference between neighboring elements, element-wise, and prepend [0, 0] and append[200] to a given array.\n",
    "Sample output:\n",
    "Original array:\n",
    "[1 3 5 7 0]\n",
    "Difference between neighboring elements, element-wise, and prepend [0, 0] and append[200] to the said array:\n",
    "[ 0 0 2 2 2 -7 200]"
   ]
  },
  {
   "cell_type": "code",
   "execution_count": 30,
   "id": "70ae7f36",
   "metadata": {},
   "outputs": [
    {
     "name": "stdout",
     "output_type": "stream",
     "text": [
      "Original array: \n",
      "[1 3 5 7 0]\n",
      "Difference between neighboring elements, element-wise, and prepend [0, 0] and append[200] to the said array:\n",
      "[  0   0   2   2   2  -7 200]\n"
     ]
    }
   ],
   "source": [
    "import numpy as np\n",
    "x = np.array([1, 3, 5, 7, 0])\n",
    "print(\"Original array: \")\n",
    "print(x)\n",
    "r1 = np.ediff1d(x, to_begin=[0, 0], to_end=[200])\n",
    "r2 = np.insert(np.append(np.diff(x), 200), 0, [0, 0])\n",
    "assert np.array_equiv(r1, r2)\n",
    "print(\"Difference between neighboring elements, element-wise, and prepend [0, 0] and append[200] to the said array:\")\n",
    "print(r2)\n"
   ]
  },
  {
   "cell_type": "markdown",
   "id": "f6fec5ef",
   "metadata": {},
   "source": [
    "# 31. Write a NumPy program to compute ex, element-wise of a given array.\n",
    "Sample output:\n",
    "Original array:\n",
    "[1. 2. 3. 4.]\n",
    "e^x, element-wise of the said:\n",
    "[ 2.7182817 7.389056 20.085537 54.59815 ]"
   ]
  },
  {
   "cell_type": "code",
   "execution_count": 31,
   "id": "cf348315",
   "metadata": {},
   "outputs": [
    {
     "name": "stdout",
     "output_type": "stream",
     "text": [
      "Original array: \n",
      "[1. 2. 3. 4.]\n",
      "\n",
      "e^x, element-wise of the said:\n",
      "[ 2.718282   7.3890557 20.085537  54.59815  ]\n"
     ]
    }
   ],
   "source": [
    "import numpy as np\n",
    "x = np.array([1., 2., 3., 4.], np.float32)\n",
    "print(\"Original array: \")\n",
    "print(x)\n",
    "print(\"\\ne^x, element-wise of the said:\")\n",
    "r = np.exp(x)\n",
    "print(r)\n"
   ]
  },
  {
   "cell_type": "markdown",
   "id": "0855e868",
   "metadata": {},
   "source": [
    "# 32. Write a NumPy program to calculate exp(x) - 1 for all elements in a given array.\n",
    "Sample output:\n",
    "Original array: [1. 2. 3. 4.] exp(x)-1 for all elements of the said array: [ 1.7182817 6.389056 19.085537 53.59815 ]"
   ]
  },
  {
   "cell_type": "code",
   "execution_count": 32,
   "id": "10a84c3d",
   "metadata": {},
   "outputs": [
    {
     "name": "stdout",
     "output_type": "stream",
     "text": [
      "Original array: \n",
      "[1. 2. 3. 4.]\n",
      "\n",
      "exp(x)-1 for all elements of the said array:\n",
      "[ 1.7182817  6.389056  19.085537  53.59815  ]\n"
     ]
    }
   ],
   "source": [
    "import numpy as np\n",
    "x = np.array([1., 2., 3., 4.], np.float32)\n",
    "print(\"Original array: \")\n",
    "print(x)\n",
    "print(\"\\nexp(x)-1 for all elements of the said array:\")\n",
    "r1 = np.expm1(x)\n",
    "r2 = np.exp(x) - 1.\n",
    "assert np.allclose(r1, r2)\n",
    "print(r1)\n"
   ]
  },
  {
   "cell_type": "markdown",
   "id": "6ab2e26d",
   "metadata": {},
   "source": [
    "# 33. Write a NumPy program to calculate 2p for all elements in a given array.\n",
    "Sample output:\n",
    "Original array:\n",
    "[1. 2. 3. 4.]\n",
    "2^p for all the elements of the said array:\n",
    "[ 2. 4. 8. 16.]"
   ]
  },
  {
   "cell_type": "code",
   "execution_count": 33,
   "id": "a5f107f6",
   "metadata": {},
   "outputs": [
    {
     "name": "stdout",
     "output_type": "stream",
     "text": [
      "Original array: \n",
      "[1. 2. 3. 4.]\n",
      "\n",
      "2^p for all the elements of the said array:\n",
      "[ 2.  4.  8. 16.]\n"
     ]
    }
   ],
   "source": [
    "import numpy as np\n",
    "x = np.array([1., 2., 3., 4.], np.float32)\n",
    "print(\"Original array: \")\n",
    "print(x)\n",
    "print(\"\\n2^p for all the elements of the said array:\")\n",
    "r1 = np.exp2(x)\n",
    "r2 = 2 ** x\n",
    "assert np.allclose(r1, r2)\n",
    "print(r1)\n"
   ]
  },
  {
   "cell_type": "markdown",
   "id": "9f7b9b7c",
   "metadata": {},
   "source": [
    "# 34. Write a NumPy program to compute natural, base 10, and base 2 logarithms for all elements in a given array.\n",
    "Sample output:\n",
    "Original array:\n",
    "Original array:\n",
    "[1. 2.71828183 7.3890561 ]\n",
    "Natural log = [0. 1. 2.]\n",
    "Common log = [0. 0.43429448 0.86858896]\n",
    "Base 2 log = [0. 1.44269504 2.88539008]"
   ]
  },
  {
   "cell_type": "code",
   "execution_count": 34,
   "id": "27e6bd70",
   "metadata": {},
   "outputs": [
    {
     "name": "stdout",
     "output_type": "stream",
     "text": [
      "Original array: \n",
      "[1.         2.71828183 7.3890561 ]\n",
      "\n",
      "Natural log = [0. 1. 2.]\n",
      "Common log = [0.         0.43429448 0.86858896]\n",
      "Base 2 log = [0.         1.44269504 2.88539008]\n"
     ]
    }
   ],
   "source": [
    "import numpy as np\n",
    "x = np.array([1, np.e, np.e**2])\n",
    "print(\"Original array: \")\n",
    "print(x)\n",
    "print(\"\\nNatural log =\", np.log(x))\n",
    "print(\"Common log =\", np.log10(x))\n",
    "print(\"Base 2 log =\", np.log2(x))\n"
   ]
  },
  {
   "cell_type": "markdown",
   "id": "370655b5",
   "metadata": {},
   "source": [
    "# 35. Write a NumPy program to compute the natural logarithm of one plus each element of a given array in floating-point accuracy.\n",
    "Sample output:\n",
    "Original array:\n",
    "[1.e-099 1.e-100]\n",
    "Natural logarithm of one plus each element:\n",
    "[1.e-099 1.e-100]"
   ]
  },
  {
   "cell_type": "code",
   "execution_count": 35,
   "id": "0da962d7",
   "metadata": {},
   "outputs": [
    {
     "name": "stdout",
     "output_type": "stream",
     "text": [
      "Original array: \n",
      "[1.e-099 1.e-100]\n",
      "\n",
      "Natural logarithm of one plus each element:\n",
      "[1.e-099 1.e-100]\n"
     ]
    }
   ],
   "source": [
    "import numpy as np\n",
    "x = np.array([1e-99, 1e-100])\n",
    "print(\"Original array: \")\n",
    "print(x)\n",
    "print(\"\\nNatural logarithm of one plus each element:\")\n",
    "print(np.log1p(x))\n"
   ]
  },
  {
   "cell_type": "markdown",
   "id": "2a5949a4",
   "metadata": {},
   "source": [
    "# 36. Write a NumPy program to check element-wise True/False of a given array where signbit is set.\n",
    "Sample array: [-4, -3, -2, -1, 0, 1, 2, 3, 4]\n",
    "Sample output:\n",
    "Original array:\n",
    "[-4 -3 -2 -1 0 1 2 3 4]\n",
    "[ True True True True False False False False False]"
   ]
  },
  {
   "cell_type": "code",
   "execution_count": 36,
   "id": "4a256ba7",
   "metadata": {},
   "outputs": [
    {
     "name": "stdout",
     "output_type": "stream",
     "text": [
      "Original array: \n",
      "[-4 -3 -2 -1  0  1  2  3  4]\n",
      "[ True  True  True  True False False False False False]\n"
     ]
    }
   ],
   "source": [
    "import numpy as np\n",
    "x = np.array([-4, -3, -2, -1, 0, 1, 2, 3, 4])\n",
    "print(\"Original array: \")\n",
    "print(x)\n",
    "r1 = np.signbit(x)\n",
    "r2 = x < 0\n",
    "assert np.array_equiv(r1, r2)\n",
    "print(r1)\n"
   ]
  },
  {
   "cell_type": "markdown",
   "id": "294f1b30",
   "metadata": {},
   "source": [
    "# 37. Write a NumPy program to change the sign of a given array to that of a given array, element-wise.\n",
    "Sample output:\n",
    "Original array:\n",
    "[-1 0 1 2]\n",
    "Sign of x1 to that of x2, element-wise:\n",
    "[-1. 0. 1. 2.]"
   ]
  },
  {
   "cell_type": "code",
   "execution_count": 37,
   "id": "f9bfe9e7",
   "metadata": {},
   "outputs": [
    {
     "name": "stdout",
     "output_type": "stream",
     "text": [
      "Original array: \n",
      "[-1  0  1  2]\n",
      "\n",
      "Sign of x1 to that of x2, element-wise:\n",
      "[-1. -0. -1. -2.]\n"
     ]
    }
   ],
   "source": [
    "import numpy as np\n",
    "x1 = np.array([-1, 0, 1, 2])\n",
    "print(\"Original array: \")\n",
    "print(x1)\n",
    "x2 = -2.1\n",
    "print(\"\\nSign of x1 to that of x2, element-wise:\")\n",
    "print(np.copysign(x1, x2))\n"
   ]
  },
  {
   "cell_type": "markdown",
   "id": "354221b5",
   "metadata": {},
   "source": [
    "# 38. Write a NumPy program to compute numerical negative value for all elements in a given array.\n",
    "Sample output:\n",
    "Original array:\n",
    "[ 0 1 -1]\n",
    "Numerical negative value for all elements of the said array:\n",
    "[ 0 -1 1]"
   ]
  },
  {
   "cell_type": "code",
   "execution_count": 38,
   "id": "0c078eef",
   "metadata": {},
   "outputs": [
    {
     "name": "stdout",
     "output_type": "stream",
     "text": [
      "Original array: \n",
      "[ 0  1 -1]\n",
      "Numerical negative value for all elements of the said array:\n",
      "[ 0 -1  1]\n"
     ]
    }
   ],
   "source": [
    "import numpy as np\n",
    "x = np.array([0, 1, -1])\n",
    "print(\"Original array: \")\n",
    "print(x)\n",
    "r1 = np.negative(x)\n",
    "r2 = -x\n",
    "assert np.array_equal(r1, r2)\n",
    "print(\"Numerical negative value for all elements of the said array:\")\n",
    "print(r1)\n"
   ]
  },
  {
   "cell_type": "markdown",
   "id": "0d0ed128",
   "metadata": {},
   "source": [
    "# 39. Write a NumPy program to compute the reciprocal for all elements in a given array.\n",
    "Sample output:\n",
    "Original array:\n",
    "[1. 2. 0.2 0.3]\n",
    "Reciprocal for all elements of the said array:\n",
    "[1. 0.5 5. 3.33333333]"
   ]
  },
  {
   "cell_type": "code",
   "execution_count": 39,
   "id": "ea43e93a",
   "metadata": {},
   "outputs": [
    {
     "name": "stdout",
     "output_type": "stream",
     "text": [
      "Original array: \n",
      "[1.  2.  0.2 0.3]\n",
      "Reciprocal for all elements of the said array:\n",
      "[1.         0.5        5.         3.33333333]\n"
     ]
    }
   ],
   "source": [
    "import numpy as np\n",
    "x = np.array([1., 2., .2, .3])\n",
    "print(\"Original array: \")\n",
    "print(x)\n",
    "r1 = np.reciprocal(x)\n",
    "r2 = 1/x\n",
    "assert np.array_equal(r1, r2)\n",
    "print(\"Reciprocal for all elements of the said array:\")\n",
    "print(r1)\n"
   ]
  },
  {
   "cell_type": "markdown",
   "id": "f4c4b93a",
   "metadata": {},
   "source": [
    "# 40. Write a NumPy program to compute xy, element-wise where x, y are two given arrays.\n",
    "Sample output:\n",
    "Array1:\n",
    "[[1 2]\n",
    "[3 4]]\n",
    "Array1:\n",
    "[[1 2]\n",
    "[1 2]]\n",
    "Result- x^y:\n",
    "[[ 1 4]\n",
    "[ 3 16]]"
   ]
  },
  {
   "cell_type": "code",
   "execution_count": 40,
   "id": "9af43c39",
   "metadata": {},
   "outputs": [
    {
     "name": "stdout",
     "output_type": "stream",
     "text": [
      "Array1: \n",
      "[[1 2]\n",
      " [3 4]]\n",
      "Array1: \n",
      "[[1 2]\n",
      " [1 2]]\n",
      "Result- x^y:\n",
      "[[ 1  4]\n",
      " [ 3 16]]\n"
     ]
    }
   ],
   "source": [
    "import numpy as np\n",
    "x = np.array([[1, 2], [3, 4]])\n",
    "y = np.array([[1, 2], [1, 2]])\n",
    "print(\"Array1: \")\n",
    "print(x)\n",
    "print(\"Array1: \")\n",
    "print(y)\n",
    "print(\"Result- x^y:\")\n",
    "r1 = np.power(x, y)\n",
    "print(r1)\n"
   ]
  },
  {
   "cell_type": "markdown",
   "id": "3d9fc763",
   "metadata": {},
   "source": [
    "# 41. Write a NumPy program to compute an element-wise indication of the sign for all elements in a given array.\n",
    "Sample output:\n",
    "Original array;\n",
    "[ 1 3 5 0 -1 -7 0 5]\n",
    "Element-wise indication of the sign for all elements of the said array:\n",
    "[ 1 1 1 0 -1 -1 0 1]"
   ]
  },
  {
   "cell_type": "code",
   "execution_count": 41,
   "id": "40702502",
   "metadata": {},
   "outputs": [
    {
     "name": "stdout",
     "output_type": "stream",
     "text": [
      "Original array;\n",
      "[ 1  3  5  0 -1 -7  0  5]\n",
      "Element-wise indication of the sign for all elements of the said array:\n",
      "[ 1  1  1  0 -1 -1  0  1]\n"
     ]
    }
   ],
   "source": [
    "import numpy as np\n",
    "x = np.array([1, 3, 5, 0, -1, -7, 0, 5])\n",
    "print(\"Original array;\")\n",
    "print(x)\n",
    "r1 = np.sign(x)\n",
    "r2 = np.copy(x)\n",
    "r2[r2 > 0] = 1\n",
    "r2[r2 < 0] = -1\n",
    "assert np.array_equal(r1, r2)\n",
    "print(\"Element-wise indication of the sign for all elements of the said array:\")\n",
    "print(r1)\n"
   ]
  },
  {
   "cell_type": "markdown",
   "id": "ba11bb24",
   "metadata": {},
   "source": [
    "# NumPy: Mathematics Exercises is Completed."
   ]
  }
 ],
 "metadata": {
  "kernelspec": {
   "display_name": "Python 3 (ipykernel)",
   "language": "python",
   "name": "python3"
  },
  "language_info": {
   "codemirror_mode": {
    "name": "ipython",
    "version": 3
   },
   "file_extension": ".py",
   "mimetype": "text/x-python",
   "name": "python",
   "nbconvert_exporter": "python",
   "pygments_lexer": "ipython3",
   "version": "3.10.9"
  }
 },
 "nbformat": 4,
 "nbformat_minor": 5
}
